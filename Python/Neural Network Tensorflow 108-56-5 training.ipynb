{
 "cells": [
  {
   "cell_type": "code",
   "execution_count": 1,
   "metadata": {},
   "outputs": [],
   "source": [
    "#load packages\n",
    "import numpy as np\n",
    "import tensorflow as tf\n",
    "from tensorflow import keras \n",
    "import pandas as pd\n",
    "import soundfile as sf\n"
   ]
  },
  {
   "cell_type": "code",
   "execution_count": 2,
   "metadata": {},
   "outputs": [],
   "source": [
    "#import data \n",
    "path = 'x:/Steering/Recordings/Processed/'\n",
    "data, fs = sf.read(path + 'ERB=2.wav')\n",
    "classes = pd.read_csv(path + 'Classes_2.csv')\n"
   ]
  },
  {
   "cell_type": "code",
   "execution_count": 3,
   "metadata": {},
   "outputs": [],
   "source": [
    "\n",
    "X = data[:len(data)-1,:data.shape[1]] #775361\n",
    "Y = classes.values[:,0]"
   ]
  },
  {
   "cell_type": "code",
   "execution_count": 4,
   "metadata": {},
   "outputs": [
    {
     "data": {
      "text/plain": [
       "array([1, 1, 1, ..., 5, 5, 5], dtype=int64)"
      ]
     },
     "execution_count": 4,
     "metadata": {},
     "output_type": "execute_result"
    }
   ],
   "source": [
    "Y"
   ]
  },
  {
   "cell_type": "code",
   "execution_count": 5,
   "metadata": {},
   "outputs": [],
   "source": [
    "#split into training and test set\n",
    "from sklearn.model_selection import train_test_split\n",
    "trainX, testX, trainY, testY = train_test_split(X,Y,test_size=0.2,random_state=0)"
   ]
  },
  {
   "cell_type": "code",
   "execution_count": 6,
   "metadata": {},
   "outputs": [],
   "source": [
    "#do one-hot encoding\n",
    "from sklearn.preprocessing import OneHotEncoder \n",
    "from sklearn.preprocessing import LabelEncoder\n",
    "\n",
    "enc = OneHotEncoder(sparse=False)"
   ]
  },
  {
   "cell_type": "code",
   "execution_count": 7,
   "metadata": {},
   "outputs": [],
   "source": [
    "integer_encoded_train = trainY.reshape(len(trainY), 1)\n",
    "onehot_encoded_train = enc.fit_transform(integer_encoded_train)\n",
    "\n",
    "integer_encoded_test = testY.reshape(len(testY), 1)\n",
    "onehot_encoded_test = enc.fit_transform(integer_encoded_test)\n"
   ]
  },
  {
   "cell_type": "code",
   "execution_count": 8,
   "metadata": {},
   "outputs": [
    {
     "data": {
      "text/plain": [
       "array([[0., 1., 0., 0., 0.],\n",
       "       [0., 0., 0., 0., 1.],\n",
       "       [0., 0., 0., 0., 1.],\n",
       "       ...,\n",
       "       [0., 1., 0., 0., 0.],\n",
       "       [0., 0., 1., 0., 0.],\n",
       "       [0., 1., 0., 0., 0.]])"
      ]
     },
     "execution_count": 8,
     "metadata": {},
     "output_type": "execute_result"
    }
   ],
   "source": [
    "onehot_encoded_train \n"
   ]
  },
  {
   "cell_type": "code",
   "execution_count": 9,
   "metadata": {},
   "outputs": [],
   "source": [
    "#DC removal \n",
    "trainX -= (np.mean(trainX, axis=0) + 1e-8)\n",
    "testX -= (np.mean(testX, axis=0) + 1e-8)"
   ]
  },
  {
   "cell_type": "code",
   "execution_count": 10,
   "metadata": {},
   "outputs": [],
   "source": [
    "clf = keras.Sequential()"
   ]
  },
  {
   "cell_type": "code",
   "execution_count": 11,
   "metadata": {},
   "outputs": [
    {
     "data": {
      "text/plain": [
       "(5, 108, array([[0., 1., 0., 0., 0.],\n",
       "        [0., 0., 0., 0., 1.],\n",
       "        [0., 0., 0., 0., 1.],\n",
       "        ...,\n",
       "        [0., 1., 0., 0., 0.],\n",
       "        [0., 0., 1., 0., 0.],\n",
       "        [0., 1., 0., 0., 0.]]))"
      ]
     },
     "execution_count": 11,
     "metadata": {},
     "output_type": "execute_result"
    }
   ],
   "source": [
    "onehot_encoded_train.shape[1], X.shape[1],onehot_encoded_train\n"
   ]
  },
  {
   "cell_type": "code",
   "execution_count": 12,
   "metadata": {},
   "outputs": [],
   "source": [
    "clf.add(keras.layers.Dense(\n",
    "  units = 56,\n",
    "  input_dim = trainX.shape[1],   \n",
    "  activation = 'tanh'\n",
    "))\n",
    "\n",
    "clf.add(keras.layers.Dense(\n",
    "    units = onehot_encoded_train.shape[1],\n",
    "    input_dim = 56,\n",
    "    activation = 'softmax'\n",
    "))\n",
    "\n"
   ]
  },
  {
   "cell_type": "code",
   "execution_count": 13,
   "metadata": {},
   "outputs": [
    {
     "data": {
      "text/plain": [
       "5"
      ]
     },
     "execution_count": 13,
     "metadata": {},
     "output_type": "execute_result"
    }
   ],
   "source": [
    "onehot_encoded_train.shape[1]"
   ]
  },
  {
   "cell_type": "code",
   "execution_count": 14,
   "metadata": {},
   "outputs": [],
   "source": [
    "clf.compile(loss='mean_squared_error',\n",
    "    optimizer='Adam',\n",
    "           metrics=['categorical_accuracy'])"
   ]
  },
  {
   "cell_type": "code",
   "execution_count": 15,
   "metadata": {},
   "outputs": [
    {
     "name": "stdout",
     "output_type": "stream",
     "text": [
      "Train on 698819 samples, validate on 77647 samples\n",
      "Epoch 1/150\n",
      "698819/698819 [==============================] - 17s 24us/step - loss: 0.1486 - categorical_accuracy: 0.3418 - val_loss: 0.1449 - val_categorical_accuracy: 0.3619\n",
      "Epoch 2/150\n",
      "698819/698819 [==============================] - 16s 22us/step - loss: 0.1435 - categorical_accuracy: 0.3880 - val_loss: 0.1420 - val_categorical_accuracy: 0.4086\n",
      "Epoch 3/150\n",
      "698819/698819 [==============================] - 15s 22us/step - loss: 0.1405 - categorical_accuracy: 0.4219 - val_loss: 0.1384 - val_categorical_accuracy: 0.4457\n",
      "Epoch 4/150\n",
      "698819/698819 [==============================] - 14s 20us/step - loss: 0.1373 - categorical_accuracy: 0.4507 - val_loss: 0.1361 - val_categorical_accuracy: 0.4606\n",
      "Epoch 5/150\n",
      "698819/698819 [==============================] - 15s 22us/step - loss: 0.1356 - categorical_accuracy: 0.4687 - val_loss: 0.1345 - val_categorical_accuracy: 0.4781\n",
      "Epoch 6/150\n",
      "698819/698819 [==============================] - 14s 20us/step - loss: 0.1340 - categorical_accuracy: 0.4811 - val_loss: 0.1332 - val_categorical_accuracy: 0.4837\n",
      "Epoch 7/150\n",
      "698819/698819 [==============================] - 16s 23us/step - loss: 0.1328 - categorical_accuracy: 0.4868 - val_loss: 0.1320 - val_categorical_accuracy: 0.4891\n",
      "Epoch 8/150\n",
      "698819/698819 [==============================] - 17s 24us/step - loss: 0.1315 - categorical_accuracy: 0.4910 - val_loss: 0.1306 - val_categorical_accuracy: 0.4919\n",
      "Epoch 9/150\n",
      "698819/698819 [==============================] - 15s 21us/step - loss: 0.1298 - categorical_accuracy: 0.4975 - val_loss: 0.1284 - val_categorical_accuracy: 0.5018\n",
      "Epoch 10/150\n",
      "698819/698819 [==============================] - 14s 21us/step - loss: 0.1270 - categorical_accuracy: 0.5079 - val_loss: 0.1257 - val_categorical_accuracy: 0.5157\n",
      "Epoch 11/150\n",
      "698819/698819 [==============================] - 15s 22us/step - loss: 0.1241 - categorical_accuracy: 0.5190 - val_loss: 0.1231 - val_categorical_accuracy: 0.5196\n",
      "Epoch 12/150\n",
      "698819/698819 [==============================] - 16s 23us/step - loss: 0.1219 - categorical_accuracy: 0.5273 - val_loss: 0.1208 - val_categorical_accuracy: 0.5292\n",
      "Epoch 13/150\n",
      "698819/698819 [==============================] - 14s 20us/step - loss: 0.1200 - categorical_accuracy: 0.5345 - val_loss: 0.1193 - val_categorical_accuracy: 0.5369\n",
      "Epoch 14/150\n",
      "698819/698819 [==============================] - 11s 16us/step - loss: 0.1182 - categorical_accuracy: 0.5418 - val_loss: 0.1175 - val_categorical_accuracy: 0.5467\n",
      "Epoch 15/150\n",
      "698819/698819 [==============================] - 12s 17us/step - loss: 0.1164 - categorical_accuracy: 0.5512 - val_loss: 0.1157 - val_categorical_accuracy: 0.5557\n",
      "Epoch 16/150\n",
      "698819/698819 [==============================] - 15s 22us/step - loss: 0.1149 - categorical_accuracy: 0.5603 - val_loss: 0.1145 - val_categorical_accuracy: 0.5693\n",
      "Epoch 17/150\n",
      "698819/698819 [==============================] - 15s 21us/step - loss: 0.1135 - categorical_accuracy: 0.5674 - val_loss: 0.1130 - val_categorical_accuracy: 0.5655\n",
      "Epoch 18/150\n",
      "698819/698819 [==============================] - 13s 19us/step - loss: 0.1123 - categorical_accuracy: 0.5728 - val_loss: 0.1119 - val_categorical_accuracy: 0.5683\n",
      "Epoch 19/150\n",
      "698819/698819 [==============================] - 13s 19us/step - loss: 0.1112 - categorical_accuracy: 0.5775 - val_loss: 0.1110 - val_categorical_accuracy: 0.5729\n",
      "Epoch 20/150\n",
      "698819/698819 [==============================] - 13s 18us/step - loss: 0.1101 - categorical_accuracy: 0.5816 - val_loss: 0.1099 - val_categorical_accuracy: 0.5786\n",
      "Epoch 21/150\n",
      "698819/698819 [==============================] - 13s 18us/step - loss: 0.1091 - categorical_accuracy: 0.5847 - val_loss: 0.1089 - val_categorical_accuracy: 0.5887\n",
      "Epoch 22/150\n",
      "698819/698819 [==============================] - 18s 26us/step - loss: 0.1082 - categorical_accuracy: 0.5884 - val_loss: 0.1080 - val_categorical_accuracy: 0.5844\n",
      "Epoch 23/150\n",
      "698819/698819 [==============================] - 17s 25us/step - loss: 0.1072 - categorical_accuracy: 0.5912 - val_loss: 0.1069 - val_categorical_accuracy: 0.5905\n",
      "Epoch 24/150\n",
      "698819/698819 [==============================] - 17s 24us/step - loss: 0.1063 - categorical_accuracy: 0.5941 - val_loss: 0.1060 - val_categorical_accuracy: 0.5946\n",
      "Epoch 25/150\n",
      "698819/698819 [==============================] - 20s 29us/step - loss: 0.1054 - categorical_accuracy: 0.5974 - val_loss: 0.1051 - val_categorical_accuracy: 0.5966\n",
      "Epoch 26/150\n",
      "698819/698819 [==============================] - 14s 20us/step - loss: 0.1045 - categorical_accuracy: 0.6005 - val_loss: 0.1042 - val_categorical_accuracy: 0.5983\n",
      "Epoch 27/150\n",
      "698819/698819 [==============================] - 15s 21us/step - loss: 0.1036 - categorical_accuracy: 0.6041 - val_loss: 0.1032 - val_categorical_accuracy: 0.6006\n",
      "Epoch 28/150\n",
      "698819/698819 [==============================] - 13s 19us/step - loss: 0.1027 - categorical_accuracy: 0.6080 - val_loss: 0.1024 - val_categorical_accuracy: 0.6017\n",
      "Epoch 29/150\n",
      "698819/698819 [==============================] - 11s 16us/step - loss: 0.1016 - categorical_accuracy: 0.6127 - val_loss: 0.1011 - val_categorical_accuracy: 0.6394\n",
      "Epoch 30/150\n",
      "698819/698819 [==============================] - 14s 20us/step - loss: 0.0998 - categorical_accuracy: 0.6207 - val_loss: 0.0987 - val_categorical_accuracy: 0.6138\n",
      "Epoch 31/150\n",
      "698819/698819 [==============================] - 14s 20us/step - loss: 0.0974 - categorical_accuracy: 0.6300 - val_loss: 0.0962 - val_categorical_accuracy: 0.6569\n",
      "Epoch 32/150\n",
      "698819/698819 [==============================] - 15s 22us/step - loss: 0.0930 - categorical_accuracy: 0.6471 - val_loss: 0.0905 - val_categorical_accuracy: 0.6648\n",
      "Epoch 33/150\n",
      "698819/698819 [==============================] - 15s 21us/step - loss: 0.0885 - categorical_accuracy: 0.6632 - val_loss: 0.0877 - val_categorical_accuracy: 0.6560\n",
      "Epoch 34/150\n",
      "698819/698819 [==============================] - 31s 44us/step - loss: 0.0863 - categorical_accuracy: 0.6723 - val_loss: 0.0858 - val_categorical_accuracy: 0.6592\n",
      "Epoch 35/150\n",
      "698819/698819 [==============================] - 16s 24us/step - loss: 0.0849 - categorical_accuracy: 0.6779 - val_loss: 0.0843 - val_categorical_accuracy: 0.7007\n",
      "Epoch 36/150\n",
      "698819/698819 [==============================] - 17s 25us/step - loss: 0.0838 - categorical_accuracy: 0.6833 - val_loss: 0.0833 - val_categorical_accuracy: 0.6779\n",
      "Epoch 37/150\n",
      "698819/698819 [==============================] - 13s 18us/step - loss: 0.0828 - categorical_accuracy: 0.6883 - val_loss: 0.0825 - val_categorical_accuracy: 0.7053\n",
      "Epoch 38/150\n",
      "698819/698819 [==============================] - 15s 22us/step - loss: 0.0820 - categorical_accuracy: 0.6926 - val_loss: 0.0815 - val_categorical_accuracy: 0.6785\n",
      "Epoch 39/150\n",
      "698819/698819 [==============================] - 15s 22us/step - loss: 0.0812 - categorical_accuracy: 0.6964 - val_loss: 0.0810 - val_categorical_accuracy: 0.6781\n",
      "Epoch 40/150\n",
      "698819/698819 [==============================] - 20s 28us/step - loss: 0.0804 - categorical_accuracy: 0.7005 - val_loss: 0.0802 - val_categorical_accuracy: 0.7113\n",
      "Epoch 41/150\n",
      "698819/698819 [==============================] - 22s 31us/step - loss: 0.0797 - categorical_accuracy: 0.7039 - val_loss: 0.0792 - val_categorical_accuracy: 0.7152\n",
      "Epoch 42/150\n",
      "698819/698819 [==============================] - 25s 35us/step - loss: 0.0790 - categorical_accuracy: 0.7073 - val_loss: 0.0788 - val_categorical_accuracy: 0.7068\n",
      "Epoch 43/150\n",
      "698819/698819 [==============================] - 20s 28us/step - loss: 0.0784 - categorical_accuracy: 0.7103 - val_loss: 0.0781 - val_categorical_accuracy: 0.7017\n",
      "Epoch 44/150\n",
      "698819/698819 [==============================] - 16s 22us/step - loss: 0.0779 - categorical_accuracy: 0.7130 - val_loss: 0.0776 - val_categorical_accuracy: 0.7170\n",
      "Epoch 45/150\n",
      "698819/698819 [==============================] - 12s 18us/step - loss: 0.0774 - categorical_accuracy: 0.7166 - val_loss: 0.0768 - val_categorical_accuracy: 0.7282\n",
      "Epoch 46/150\n",
      "698819/698819 [==============================] - 13s 18us/step - loss: 0.0769 - categorical_accuracy: 0.7184 - val_loss: 0.0765 - val_categorical_accuracy: 0.7265\n",
      "Epoch 47/150\n"
     ]
    },
    {
     "name": "stdout",
     "output_type": "stream",
     "text": [
      "698819/698819 [==============================] - 15s 22us/step - loss: 0.0764 - categorical_accuracy: 0.7217 - val_loss: 0.0760 - val_categorical_accuracy: 0.7338\n",
      "Epoch 48/150\n",
      "698819/698819 [==============================] - 13s 19us/step - loss: 0.0760 - categorical_accuracy: 0.7238 - val_loss: 0.0756 - val_categorical_accuracy: 0.7330\n",
      "Epoch 49/150\n",
      "698819/698819 [==============================] - 13s 18us/step - loss: 0.0756 - categorical_accuracy: 0.7256 - val_loss: 0.0756 - val_categorical_accuracy: 0.7280\n",
      "Epoch 50/150\n",
      "698819/698819 [==============================] - 15s 21us/step - loss: 0.0752 - categorical_accuracy: 0.7282 - val_loss: 0.0749 - val_categorical_accuracy: 0.7314\n",
      "Epoch 51/150\n",
      "698819/698819 [==============================] - 14s 20us/step - loss: 0.0749 - categorical_accuracy: 0.7294 - val_loss: 0.0750 - val_categorical_accuracy: 0.7125\n",
      "Epoch 52/150\n",
      "698819/698819 [==============================] - 18s 26us/step - loss: 0.0745 - categorical_accuracy: 0.7320 - val_loss: 0.0741 - val_categorical_accuracy: 0.7345\n",
      "Epoch 53/150\n",
      "698819/698819 [==============================] - 14s 20us/step - loss: 0.0742 - categorical_accuracy: 0.7327 - val_loss: 0.0744 - val_categorical_accuracy: 0.7235\n",
      "Epoch 54/150\n",
      "698819/698819 [==============================] - 13s 19us/step - loss: 0.0738 - categorical_accuracy: 0.7351 - val_loss: 0.0735 - val_categorical_accuracy: 0.7403\n",
      "Epoch 55/150\n",
      "698819/698819 [==============================] - 15s 21us/step - loss: 0.0735 - categorical_accuracy: 0.7365 - val_loss: 0.0733 - val_categorical_accuracy: 0.7352\n",
      "Epoch 56/150\n",
      "698819/698819 [==============================] - 20s 28us/step - loss: 0.0731 - categorical_accuracy: 0.7382 - val_loss: 0.0727 - val_categorical_accuracy: 0.7464\n",
      "Epoch 57/150\n",
      "698819/698819 [==============================] - 15s 22us/step - loss: 0.0728 - categorical_accuracy: 0.7400 - val_loss: 0.0725 - val_categorical_accuracy: 0.7465\n",
      "Epoch 58/150\n",
      "698819/698819 [==============================] - 18s 25us/step - loss: 0.0724 - categorical_accuracy: 0.7414 - val_loss: 0.0725 - val_categorical_accuracy: 0.7360\n",
      "Epoch 59/150\n",
      "698819/698819 [==============================] - 14s 20us/step - loss: 0.0720 - categorical_accuracy: 0.7436 - val_loss: 0.0717 - val_categorical_accuracy: 0.7418\n",
      "Epoch 60/150\n",
      "698819/698819 [==============================] - 17s 25us/step - loss: 0.0717 - categorical_accuracy: 0.7447 - val_loss: 0.0718 - val_categorical_accuracy: 0.7445\n",
      "Epoch 61/150\n",
      "698819/698819 [==============================] - 16s 23us/step - loss: 0.0714 - categorical_accuracy: 0.7463 - val_loss: 0.0718 - val_categorical_accuracy: 0.7410\n",
      "Epoch 62/150\n",
      "698819/698819 [==============================] - 17s 24us/step - loss: 0.0710 - categorical_accuracy: 0.7483 - val_loss: 0.0710 - val_categorical_accuracy: 0.7504\n",
      "Epoch 63/150\n",
      "698819/698819 [==============================] - 43s 62us/step - loss: 0.0706 - categorical_accuracy: 0.7499 - val_loss: 0.0708 - val_categorical_accuracy: 0.7432\n",
      "Epoch 64/150\n",
      "698819/698819 [==============================] - 30s 43us/step - loss: 0.0703 - categorical_accuracy: 0.7513 - val_loss: 0.0707 - val_categorical_accuracy: 0.7437\n",
      "Epoch 65/150\n",
      "698819/698819 [==============================] - 14s 20us/step - loss: 0.0699 - categorical_accuracy: 0.7529 - val_loss: 0.0705 - val_categorical_accuracy: 0.7445\n",
      "Epoch 66/150\n",
      "698819/698819 [==============================] - 15s 22us/step - loss: 0.0695 - categorical_accuracy: 0.7550 - val_loss: 0.0692 - val_categorical_accuracy: 0.7600\n",
      "Epoch 67/150\n",
      "698819/698819 [==============================] - 16s 23us/step - loss: 0.0692 - categorical_accuracy: 0.7567 - val_loss: 0.0692 - val_categorical_accuracy: 0.7634\n",
      "Epoch 68/150\n",
      "698819/698819 [==============================] - 23s 33us/step - loss: 0.0688 - categorical_accuracy: 0.7583 - val_loss: 0.0690 - val_categorical_accuracy: 0.7588\n",
      "Epoch 69/150\n",
      "698819/698819 [==============================] - 16s 23us/step - loss: 0.0684 - categorical_accuracy: 0.7598 - val_loss: 0.0684 - val_categorical_accuracy: 0.7658\n",
      "Epoch 70/150\n",
      "698819/698819 [==============================] - 18s 25us/step - loss: 0.0681 - categorical_accuracy: 0.7615 - val_loss: 0.0678 - val_categorical_accuracy: 0.7638\n",
      "Epoch 71/150\n",
      "698819/698819 [==============================] - 21s 30us/step - loss: 0.0676 - categorical_accuracy: 0.7637 - val_loss: 0.0677 - val_categorical_accuracy: 0.7613\n",
      "Epoch 72/150\n",
      "698819/698819 [==============================] - 18s 26us/step - loss: 0.0673 - categorical_accuracy: 0.7653 - val_loss: 0.0678 - val_categorical_accuracy: 0.7551\n",
      "Epoch 73/150\n",
      "698819/698819 [==============================] - 16s 22us/step - loss: 0.0669 - categorical_accuracy: 0.7669 - val_loss: 0.0668 - val_categorical_accuracy: 0.7696\n",
      "Epoch 74/150\n",
      "698819/698819 [==============================] - 21s 30us/step - loss: 0.0665 - categorical_accuracy: 0.7685 - val_loss: 0.0670 - val_categorical_accuracy: 0.7616\n",
      "Epoch 75/150\n",
      "698819/698819 [==============================] - 19s 28us/step - loss: 0.0662 - categorical_accuracy: 0.7705 - val_loss: 0.0676 - val_categorical_accuracy: 0.7479\n",
      "Epoch 76/150\n",
      "698819/698819 [==============================] - 16s 23us/step - loss: 0.0658 - categorical_accuracy: 0.7718 - val_loss: 0.0656 - val_categorical_accuracy: 0.7773\n",
      "Epoch 77/150\n",
      "698819/698819 [==============================] - 15s 22us/step - loss: 0.0654 - categorical_accuracy: 0.7736 - val_loss: 0.0654 - val_categorical_accuracy: 0.7708\n",
      "Epoch 78/150\n",
      "698819/698819 [==============================] - 17s 25us/step - loss: 0.0650 - categorical_accuracy: 0.7748 - val_loss: 0.0652 - val_categorical_accuracy: 0.7789\n",
      "Epoch 79/150\n",
      "698819/698819 [==============================] - 17s 24us/step - loss: 0.0647 - categorical_accuracy: 0.7766 - val_loss: 0.0644 - val_categorical_accuracy: 0.7816\n",
      "Epoch 80/150\n",
      "698819/698819 [==============================] - 18s 26us/step - loss: 0.0644 - categorical_accuracy: 0.7778 - val_loss: 0.0643 - val_categorical_accuracy: 0.7807\n",
      "Epoch 81/150\n",
      "698819/698819 [==============================] - 19s 28us/step - loss: 0.0640 - categorical_accuracy: 0.7794 - val_loss: 0.0640 - val_categorical_accuracy: 0.7843\n",
      "Epoch 82/150\n",
      "698819/698819 [==============================] - 15s 22us/step - loss: 0.0637 - categorical_accuracy: 0.7803 - val_loss: 0.0640 - val_categorical_accuracy: 0.7808\n",
      "Epoch 83/150\n",
      "698819/698819 [==============================] - 16s 22us/step - loss: 0.0634 - categorical_accuracy: 0.7819 - val_loss: 0.0638 - val_categorical_accuracy: 0.7754\n",
      "Epoch 84/150\n",
      "698819/698819 [==============================] - 16s 23us/step - loss: 0.0631 - categorical_accuracy: 0.7828 - val_loss: 0.0631 - val_categorical_accuracy: 0.7876\n",
      "Epoch 85/150\n",
      "698819/698819 [==============================] - 19s 27us/step - loss: 0.0629 - categorical_accuracy: 0.7842 - val_loss: 0.0634 - val_categorical_accuracy: 0.7804\n",
      "Epoch 86/150\n",
      "698819/698819 [==============================] - 21s 29us/step - loss: 0.0626 - categorical_accuracy: 0.7850 - val_loss: 0.0627 - val_categorical_accuracy: 0.7900\n",
      "Epoch 87/150\n",
      "698819/698819 [==============================] - 18s 26us/step - loss: 0.0623 - categorical_accuracy: 0.7860 - val_loss: 0.0623 - val_categorical_accuracy: 0.7846\n",
      "Epoch 88/150\n",
      "698819/698819 [==============================] - 26s 38us/step - loss: 0.0621 - categorical_accuracy: 0.7873 - val_loss: 0.0622 - val_categorical_accuracy: 0.7835\n",
      "Epoch 89/150\n",
      "698819/698819 [==============================] - 20s 28us/step - loss: 0.0618 - categorical_accuracy: 0.7878 - val_loss: 0.0621 - val_categorical_accuracy: 0.7938\n",
      "Epoch 90/150\n",
      "698819/698819 [==============================] - 19s 28us/step - loss: 0.0616 - categorical_accuracy: 0.7891 - val_loss: 0.0625 - val_categorical_accuracy: 0.7868\n",
      "Epoch 91/150\n",
      "698819/698819 [==============================] - 14s 19us/step - loss: 0.0614 - categorical_accuracy: 0.7897 - val_loss: 0.0618 - val_categorical_accuracy: 0.7826\n",
      "Epoch 92/150\n",
      "698819/698819 [==============================] - 13s 18us/step - loss: 0.0611 - categorical_accuracy: 0.7905 - val_loss: 0.0614 - val_categorical_accuracy: 0.7946\n",
      "Epoch 93/150\n"
     ]
    },
    {
     "name": "stdout",
     "output_type": "stream",
     "text": [
      "698819/698819 [==============================] - 12s 17us/step - loss: 0.0609 - categorical_accuracy: 0.7916 - val_loss: 0.0611 - val_categorical_accuracy: 0.7865\n",
      "Epoch 94/150\n",
      "698819/698819 [==============================] - 12s 17us/step - loss: 0.0607 - categorical_accuracy: 0.7924 - val_loss: 0.0609 - val_categorical_accuracy: 0.7867\n",
      "Epoch 95/150\n",
      "698819/698819 [==============================] - 11s 16us/step - loss: 0.0605 - categorical_accuracy: 0.7931 - val_loss: 0.0606 - val_categorical_accuracy: 0.7934\n",
      "Epoch 96/150\n",
      "698819/698819 [==============================] - 15s 21us/step - loss: 0.0603 - categorical_accuracy: 0.7940 - val_loss: 0.0604 - val_categorical_accuracy: 0.7914\n",
      "Epoch 97/150\n",
      "698819/698819 [==============================] - 12s 17us/step - loss: 0.0601 - categorical_accuracy: 0.7944 - val_loss: 0.0600 - val_categorical_accuracy: 0.7967\n",
      "Epoch 98/150\n",
      "698819/698819 [==============================] - 11s 16us/step - loss: 0.0599 - categorical_accuracy: 0.7955 - val_loss: 0.0599 - val_categorical_accuracy: 0.7949\n",
      "Epoch 99/150\n",
      "698819/698819 [==============================] - 13s 18us/step - loss: 0.0598 - categorical_accuracy: 0.7956 - val_loss: 0.0610 - val_categorical_accuracy: 0.7822\n",
      "Epoch 100/150\n",
      "698819/698819 [==============================] - 11s 15us/step - loss: 0.0596 - categorical_accuracy: 0.7965 - val_loss: 0.0597 - val_categorical_accuracy: 0.7953\n",
      "Epoch 101/150\n",
      "698819/698819 [==============================] - 11s 16us/step - loss: 0.0594 - categorical_accuracy: 0.7971 - val_loss: 0.0594 - val_categorical_accuracy: 0.7946\n",
      "Epoch 102/150\n",
      "698819/698819 [==============================] - 10s 14us/step - loss: 0.0592 - categorical_accuracy: 0.7980 - val_loss: 0.0594 - val_categorical_accuracy: 0.8008\n",
      "Epoch 103/150\n",
      "698819/698819 [==============================] - 11s 16us/step - loss: 0.0590 - categorical_accuracy: 0.7984 - val_loss: 0.0595 - val_categorical_accuracy: 0.7935\n",
      "Epoch 104/150\n",
      "698819/698819 [==============================] - 12s 18us/step - loss: 0.0589 - categorical_accuracy: 0.7992 - val_loss: 0.0592 - val_categorical_accuracy: 0.8028\n",
      "Epoch 105/150\n",
      "698819/698819 [==============================] - 12s 17us/step - loss: 0.0587 - categorical_accuracy: 0.7999 - val_loss: 0.0594 - val_categorical_accuracy: 0.7910\n",
      "Epoch 106/150\n",
      "698819/698819 [==============================] - 20s 29us/step - loss: 0.0585 - categorical_accuracy: 0.8005 - val_loss: 0.0587 - val_categorical_accuracy: 0.8019\n",
      "Epoch 107/150\n",
      "698819/698819 [==============================] - 39s 56us/step - loss: 0.0584 - categorical_accuracy: 0.8009 - val_loss: 0.0584 - val_categorical_accuracy: 0.8019\n",
      "Epoch 108/150\n",
      "698819/698819 [==============================] - 13s 18us/step - loss: 0.0582 - categorical_accuracy: 0.8016 - val_loss: 0.0582 - val_categorical_accuracy: 0.8001\n",
      "Epoch 109/150\n",
      "698819/698819 [==============================] - 12s 18us/step - loss: 0.0581 - categorical_accuracy: 0.8022 - val_loss: 0.0581 - val_categorical_accuracy: 0.8017\n",
      "Epoch 110/150\n",
      "698819/698819 [==============================] - 12s 18us/step - loss: 0.0579 - categorical_accuracy: 0.8026 - val_loss: 0.0582 - val_categorical_accuracy: 0.8030\n",
      "Epoch 111/150\n",
      "698819/698819 [==============================] - 13s 19us/step - loss: 0.0578 - categorical_accuracy: 0.8033 - val_loss: 0.0579 - val_categorical_accuracy: 0.8030\n",
      "Epoch 112/150\n",
      "698819/698819 [==============================] - 12s 17us/step - loss: 0.0577 - categorical_accuracy: 0.8037 - val_loss: 0.0579 - val_categorical_accuracy: 0.7995\n",
      "Epoch 113/150\n",
      "698819/698819 [==============================] - 11s 16us/step - loss: 0.0575 - categorical_accuracy: 0.8041 - val_loss: 0.0578 - val_categorical_accuracy: 0.8063\n",
      "Epoch 114/150\n",
      "698819/698819 [==============================] - 12s 18us/step - loss: 0.0574 - categorical_accuracy: 0.8049 - val_loss: 0.0577 - val_categorical_accuracy: 0.8042\n",
      "Epoch 115/150\n",
      "698819/698819 [==============================] - 12s 17us/step - loss: 0.0573 - categorical_accuracy: 0.8054 - val_loss: 0.0575 - val_categorical_accuracy: 0.8059\n",
      "Epoch 116/150\n",
      "698819/698819 [==============================] - 12s 17us/step - loss: 0.0571 - categorical_accuracy: 0.8058 - val_loss: 0.0580 - val_categorical_accuracy: 0.8066\n",
      "Epoch 117/150\n",
      "698819/698819 [==============================] - 12s 17us/step - loss: 0.0570 - categorical_accuracy: 0.8060 - val_loss: 0.0580 - val_categorical_accuracy: 0.7979\n",
      "Epoch 118/150\n",
      "698819/698819 [==============================] - 12s 17us/step - loss: 0.0568 - categorical_accuracy: 0.8069 - val_loss: 0.0571 - val_categorical_accuracy: 0.8035\n",
      "Epoch 119/150\n",
      "698819/698819 [==============================] - 12s 17us/step - loss: 0.0567 - categorical_accuracy: 0.8071 - val_loss: 0.0569 - val_categorical_accuracy: 0.8096\n",
      "Epoch 120/150\n",
      "698819/698819 [==============================] - 12s 17us/step - loss: 0.0566 - categorical_accuracy: 0.8077 - val_loss: 0.0576 - val_categorical_accuracy: 0.8079\n",
      "Epoch 121/150\n",
      "698819/698819 [==============================] - 11s 16us/step - loss: 0.0565 - categorical_accuracy: 0.8083 - val_loss: 0.0566 - val_categorical_accuracy: 0.8100\n",
      "Epoch 122/150\n",
      "698819/698819 [==============================] - 12s 18us/step - loss: 0.0564 - categorical_accuracy: 0.8086 - val_loss: 0.0564 - val_categorical_accuracy: 0.8096\n",
      "Epoch 123/150\n",
      "698819/698819 [==============================] - 12s 18us/step - loss: 0.0562 - categorical_accuracy: 0.8091 - val_loss: 0.0566 - val_categorical_accuracy: 0.8067\n",
      "Epoch 124/150\n",
      "698819/698819 [==============================] - 11s 16us/step - loss: 0.0561 - categorical_accuracy: 0.8094 - val_loss: 0.0564 - val_categorical_accuracy: 0.8070\n",
      "Epoch 125/150\n",
      "698819/698819 [==============================] - 12s 17us/step - loss: 0.0560 - categorical_accuracy: 0.8100 - val_loss: 0.0565 - val_categorical_accuracy: 0.8106\n",
      "Epoch 126/150\n",
      "698819/698819 [==============================] - 12s 18us/step - loss: 0.0559 - categorical_accuracy: 0.8104 - val_loss: 0.0560 - val_categorical_accuracy: 0.8104\n",
      "Epoch 127/150\n",
      "698819/698819 [==============================] - 16s 23us/step - loss: 0.0558 - categorical_accuracy: 0.8111 - val_loss: 0.0559 - val_categorical_accuracy: 0.8121\n",
      "Epoch 128/150\n",
      "698819/698819 [==============================] - 17s 25us/step - loss: 0.0556 - categorical_accuracy: 0.8114 - val_loss: 0.0566 - val_categorical_accuracy: 0.8024\n",
      "Epoch 129/150\n",
      "698819/698819 [==============================] - 13s 18us/step - loss: 0.0555 - categorical_accuracy: 0.8119 - val_loss: 0.0564 - val_categorical_accuracy: 0.8035\n",
      "Epoch 130/150\n",
      "698819/698819 [==============================] - 13s 18us/step - loss: 0.0554 - categorical_accuracy: 0.8122 - val_loss: 0.0565 - val_categorical_accuracy: 0.8018\n",
      "Epoch 131/150\n",
      "698819/698819 [==============================] - 12s 17us/step - loss: 0.0553 - categorical_accuracy: 0.8126 - val_loss: 0.0554 - val_categorical_accuracy: 0.8117\n",
      "Epoch 132/150\n",
      "698819/698819 [==============================] - 12s 17us/step - loss: 0.0552 - categorical_accuracy: 0.8130 - val_loss: 0.0555 - val_categorical_accuracy: 0.8084\n",
      "Epoch 133/150\n",
      "698819/698819 [==============================] - 11s 16us/step - loss: 0.0551 - categorical_accuracy: 0.8134 - val_loss: 0.0555 - val_categorical_accuracy: 0.8162\n",
      "Epoch 134/150\n",
      "698819/698819 [==============================] - 12s 18us/step - loss: 0.0550 - categorical_accuracy: 0.8138 - val_loss: 0.0560 - val_categorical_accuracy: 0.8065\n",
      "Epoch 135/150\n",
      "698819/698819 [==============================] - 14s 19us/step - loss: 0.0549 - categorical_accuracy: 0.8143 - val_loss: 0.0553 - val_categorical_accuracy: 0.8187\n",
      "Epoch 136/150\n",
      "698819/698819 [==============================] - 12s 17us/step - loss: 0.0548 - categorical_accuracy: 0.8147 - val_loss: 0.0550 - val_categorical_accuracy: 0.8144\n",
      "Epoch 137/150\n",
      "698819/698819 [==============================] - 13s 18us/step - loss: 0.0547 - categorical_accuracy: 0.8151 - val_loss: 0.0553 - val_categorical_accuracy: 0.8109\n",
      "Epoch 138/150\n",
      "698819/698819 [==============================] - 13s 18us/step - loss: 0.0546 - categorical_accuracy: 0.8155 - val_loss: 0.0549 - val_categorical_accuracy: 0.8176\n",
      "Epoch 139/150\n"
     ]
    },
    {
     "name": "stdout",
     "output_type": "stream",
     "text": [
      "698819/698819 [==============================] - 13s 18us/step - loss: 0.0545 - categorical_accuracy: 0.8159 - val_loss: 0.0548 - val_categorical_accuracy: 0.8177\n",
      "Epoch 140/150\n",
      "698819/698819 [==============================] - 13s 18us/step - loss: 0.0544 - categorical_accuracy: 0.8163 - val_loss: 0.0548 - val_categorical_accuracy: 0.8100\n",
      "Epoch 141/150\n",
      "698819/698819 [==============================] - 14s 19us/step - loss: 0.0543 - categorical_accuracy: 0.8166 - val_loss: 0.0545 - val_categorical_accuracy: 0.8187\n",
      "Epoch 142/150\n",
      "698819/698819 [==============================] - 11s 16us/step - loss: 0.0542 - categorical_accuracy: 0.8167 - val_loss: 0.0542 - val_categorical_accuracy: 0.8173\n",
      "Epoch 143/150\n",
      "698819/698819 [==============================] - 11s 16us/step - loss: 0.0541 - categorical_accuracy: 0.8172 - val_loss: 0.0541 - val_categorical_accuracy: 0.8168\n",
      "Epoch 144/150\n",
      "698819/698819 [==============================] - 11s 16us/step - loss: 0.0540 - categorical_accuracy: 0.8176 - val_loss: 0.0543 - val_categorical_accuracy: 0.8131\n",
      "Epoch 145/150\n",
      "698819/698819 [==============================] - 11s 16us/step - loss: 0.0539 - categorical_accuracy: 0.8181 - val_loss: 0.0541 - val_categorical_accuracy: 0.8156\n",
      "Epoch 146/150\n",
      "698819/698819 [==============================] - 13s 19us/step - loss: 0.0537 - categorical_accuracy: 0.8187 - val_loss: 0.0546 - val_categorical_accuracy: 0.8139\n",
      "Epoch 147/150\n",
      "698819/698819 [==============================] - 12s 17us/step - loss: 0.0537 - categorical_accuracy: 0.8189 - val_loss: 0.0544 - val_categorical_accuracy: 0.8125\n",
      "Epoch 148/150\n",
      "698819/698819 [==============================] - 12s 17us/step - loss: 0.0536 - categorical_accuracy: 0.8192 - val_loss: 0.0540 - val_categorical_accuracy: 0.8145\n",
      "Epoch 149/150\n",
      "698819/698819 [==============================] - 12s 18us/step - loss: 0.0535 - categorical_accuracy: 0.8197 - val_loss: 0.0536 - val_categorical_accuracy: 0.8188\n",
      "Epoch 150/150\n",
      "698819/698819 [==============================] - 13s 18us/step - loss: 0.0534 - categorical_accuracy: 0.8198 - val_loss: 0.0536 - val_categorical_accuracy: 0.8181\n"
     ]
    }
   ],
   "source": [
    "history = clf.fit(trainX,onehot_encoded_train,\n",
    "                 batch_size = 64, epochs = 150,\n",
    "                 verbose = 1,\n",
    "                 validation_split = 0.1)"
   ]
  },
  {
   "cell_type": "code",
   "execution_count": 17,
   "metadata": {},
   "outputs": [
    {
     "data": {
      "text/plain": [
       "(array([2, 4, 1, 5, 2, 4, 4, 2, 4, 1, 3, 2, 3, 1, 3, 3, 2, 4, 3, 4, 2, 4,\n",
       "        5, 2, 5, 4, 2, 2, 2, 2, 5, 2, 4, 1, 4, 4, 2, 2, 5, 2, 4, 2, 5, 3,\n",
       "        1, 3, 5, 4, 3, 2, 2, 5, 1, 5, 5, 2, 5, 4, 2, 2, 2, 4, 5, 2, 2, 1,\n",
       "        2, 2, 1, 2, 2, 1, 1, 2, 1, 5, 3, 4, 5, 2, 3, 5, 2, 5, 2, 2, 2, 2,\n",
       "        5, 4, 5, 4, 4, 2, 4, 4, 2, 1, 1], dtype=int64),\n",
       " array([2, 5, 1, 5, 2, 4, 4, 2, 4, 4, 3, 2, 3, 1, 3, 3, 2, 4, 3, 4, 2, 4,\n",
       "        4, 2, 5, 5, 4, 5, 2, 4, 5, 4, 4, 1, 5, 4, 2, 2, 5, 2, 4, 4, 5, 3,\n",
       "        1, 3, 5, 5, 3, 2, 4, 5, 1, 5, 5, 4, 5, 4, 4, 2, 2, 2, 1, 4, 2, 1,\n",
       "        2, 2, 1, 4, 2, 1, 4, 2, 1, 5, 3, 4, 5, 4, 3, 5, 2, 5, 4, 2, 2, 2,\n",
       "        4, 5, 5, 4, 4, 2, 4, 5, 2, 1, 1], dtype=int64))"
      ]
     },
     "execution_count": 17,
     "metadata": {},
     "output_type": "execute_result"
    }
   ],
   "source": [
    "clf.predict_classes(testX[1:100,:]) + 1,testY[1:100]"
   ]
  },
  {
   "cell_type": "code",
   "execution_count": 18,
   "metadata": {},
   "outputs": [
    {
     "name": "stdout",
     "output_type": "stream",
     "text": [
      "194117/194117 [==============================] - 3s 16us/step\n"
     ]
    },
    {
     "data": {
      "text/plain": [
       "[0.053336052134293536, 0.8198612177195176]"
      ]
     },
     "execution_count": 18,
     "metadata": {},
     "output_type": "execute_result"
    }
   ],
   "source": [
    "clf.evaluate(testX,onehot_encoded_test,verbose=1)"
   ]
  },
  {
   "cell_type": "code",
   "execution_count": 19,
   "metadata": {},
   "outputs": [],
   "source": [
    "# saving the model \n",
    "# save model and weights\n",
    "clf_json = clf.to_json()\n",
    "with open(\"NN_108-56-5.json\", \"w\") as json_file:\n",
    "    json_file.write(clf_json)\n",
    "    \n",
    "clf.save_weights(\"NN_108-56-5_weights.h5\")"
   ]
  },
  {
   "cell_type": "code",
   "execution_count": 20,
   "metadata": {},
   "outputs": [],
   "source": [
    "np.save('TestX_NN_108-56-5',testX), np.save('TestY_NN_108-56-5',testY),\n",
    "np.save('OneHot_testY_108-56-5',onehot_encoded_test)"
   ]
  },
  {
   "cell_type": "code",
   "execution_count": null,
   "metadata": {},
   "outputs": [],
   "source": []
  }
 ],
 "metadata": {
  "kernelspec": {
   "display_name": "Python 3",
   "language": "python",
   "name": "python3"
  },
  "language_info": {
   "codemirror_mode": {
    "name": "ipython",
    "version": 3
   },
   "file_extension": ".py",
   "mimetype": "text/x-python",
   "name": "python",
   "nbconvert_exporter": "python",
   "pygments_lexer": "ipython3",
   "version": "3.6.5"
  }
 },
 "nbformat": 4,
 "nbformat_minor": 2
}
