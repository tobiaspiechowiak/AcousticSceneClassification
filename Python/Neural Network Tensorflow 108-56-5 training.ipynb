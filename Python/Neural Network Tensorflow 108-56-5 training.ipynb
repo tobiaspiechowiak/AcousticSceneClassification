{
 "cells": [
  {
   "cell_type": "code",
   "execution_count": 1,
   "metadata": {},
   "outputs": [],
   "source": [
    "#load packages\n",
    "import numpy as np\n",
    "import tensorflow as tf\n",
    "from tensorflow import keras \n",
    "import pandas as pd\n",
    "import soundfile as sf\n"
   ]
  },
  {
   "cell_type": "code",
   "execution_count": 2,
   "metadata": {},
   "outputs": [],
   "source": [
    "#import data \n",
    "path = 'x:/Steering/Recordings/Processed/'\n",
    "data, fs = sf.read(path + 'ERB=2.wav')\n",
    "classes = pd.read_csv(path + 'Classes_2.csv')\n"
   ]
  },
  {
   "cell_type": "code",
   "execution_count": 3,
   "metadata": {},
   "outputs": [],
   "source": [
    "\n",
    "X = data[:len(data)-1,:data.shape[1]] #775361\n",
    "Y = classes.values[:,0]"
   ]
  },
  {
   "cell_type": "code",
   "execution_count": 8,
   "metadata": {},
   "outputs": [
    {
     "data": {
      "text/plain": [
       "array([1, 1, 1, ..., 5, 5, 5], dtype=int64)"
      ]
     },
     "execution_count": 8,
     "metadata": {},
     "output_type": "execute_result"
    }
   ],
   "source": [
    "Y"
   ]
  },
  {
   "cell_type": "code",
   "execution_count": 9,
   "metadata": {},
   "outputs": [],
   "source": [
    "#split into training and test set\n",
    "from sklearn.model_selection import train_test_split\n",
    "trainX, testX, trainY, testY = train_test_split(X,Y,test_size=0.2,random_state=0)"
   ]
  },
  {
   "cell_type": "code",
   "execution_count": 10,
   "metadata": {},
   "outputs": [],
   "source": [
    "#do one-hot encoding\n",
    "from sklearn.preprocessing import OneHotEncoder \n",
    "from sklearn.preprocessing import LabelEncoder\n",
    "\n",
    "enc = OneHotEncoder(sparse=False)"
   ]
  },
  {
   "cell_type": "code",
   "execution_count": 11,
   "metadata": {},
   "outputs": [],
   "source": [
    "integer_encoded_train = trainY.reshape(len(trainY), 1)\n",
    "onehot_encoded_train = enc.fit_transform(integer_encoded_train)\n",
    "\n",
    "integer_encoded_test = testY.reshape(len(testY), 1)\n",
    "onehot_encoded_test = enc.fit_transform(integer_encoded_test)\n"
   ]
  },
  {
   "cell_type": "code",
   "execution_count": 12,
   "metadata": {},
   "outputs": [
    {
     "data": {
      "text/plain": [
       "array([[0., 0., 0., 1., 0.],\n",
       "       [0., 0., 0., 0., 1.],\n",
       "       [0., 0., 0., 0., 1.],\n",
       "       ...,\n",
       "       [0., 0., 0., 0., 1.],\n",
       "       [0., 1., 0., 0., 0.],\n",
       "       [0., 1., 0., 0., 0.]])"
      ]
     },
     "execution_count": 12,
     "metadata": {},
     "output_type": "execute_result"
    }
   ],
   "source": [
    "onehot_encoded_train \n"
   ]
  },
  {
   "cell_type": "code",
   "execution_count": 13,
   "metadata": {},
   "outputs": [],
   "source": [
    "#DC removal \n",
    "trainX -= (np.mean(trainX, axis=0) + 1e-8)\n",
    "testX -= (np.mean(testX, axis=0) + 1e-8)"
   ]
  },
  {
   "cell_type": "code",
   "execution_count": 14,
   "metadata": {},
   "outputs": [],
   "source": [
    "clf = keras.Sequential()"
   ]
  },
  {
   "cell_type": "code",
   "execution_count": 15,
   "metadata": {},
   "outputs": [
    {
     "data": {
      "text/plain": [
       "(5, 108, array([[0., 0., 0., 1., 0.],\n",
       "        [0., 0., 0., 0., 1.],\n",
       "        [0., 0., 0., 0., 1.],\n",
       "        ...,\n",
       "        [0., 0., 0., 0., 1.],\n",
       "        [0., 1., 0., 0., 0.],\n",
       "        [0., 1., 0., 0., 0.]]))"
      ]
     },
     "execution_count": 15,
     "metadata": {},
     "output_type": "execute_result"
    }
   ],
   "source": [
    "onehot_encoded_train.shape[1], X.shape[1],onehot_encoded_train\n"
   ]
  },
  {
   "cell_type": "code",
   "execution_count": 16,
   "metadata": {},
   "outputs": [],
   "source": [
    "clf.add(keras.layers.Dense(\n",
    "  units = 56,\n",
    "  input_dim = trainX.shape[1],   \n",
    "  activation = 'tanh'\n",
    "))\n",
    "\n",
    "clf.add(keras.layers.Dense(\n",
    "    units = onehot_encoded_train.shape[1],\n",
    "    input_dim = 56,\n",
    "    activation = 'softmax'\n",
    "))\n",
    "\n"
   ]
  },
  {
   "cell_type": "code",
   "execution_count": 17,
   "metadata": {},
   "outputs": [
    {
     "data": {
      "text/plain": [
       "5"
      ]
     },
     "execution_count": 17,
     "metadata": {},
     "output_type": "execute_result"
    }
   ],
   "source": [
    "onehot_encoded_train.shape[1]"
   ]
  },
  {
   "cell_type": "code",
   "execution_count": 18,
   "metadata": {},
   "outputs": [],
   "source": [
    "clf.compile(loss='mean_squared_error',\n",
    "    optimizer='Adam',\n",
    "           metrics=['categorical_accuracy'])"
   ]
  },
  {
   "cell_type": "code",
   "execution_count": 19,
   "metadata": {},
   "outputs": [
    {
     "name": "stdout",
     "output_type": "stream",
     "text": [
      "Train on 763214 samples, validate on 84802 samples\n",
      "Epoch 1/150\n",
      "763214/763214 [==============================] - 12s 16us/step - loss: 0.1460 - categorical_accuracy: 0.3961 - val_loss: 0.1407 - val_categorical_accuracy: 0.4363\n",
      "Epoch 2/150\n",
      "763214/763214 [==============================] - 10s 13us/step - loss: 0.1388 - categorical_accuracy: 0.4522 - val_loss: 0.1378 - val_categorical_accuracy: 0.4608\n",
      "Epoch 3/150\n",
      "763214/763214 [==============================] - 11s 14us/step - loss: 0.1376 - categorical_accuracy: 0.4612 - val_loss: 0.1376 - val_categorical_accuracy: 0.4674\n",
      "Epoch 4/150\n",
      "763214/763214 [==============================] - 14s 18us/step - loss: 0.1374 - categorical_accuracy: 0.4631 - val_loss: 0.1373 - val_categorical_accuracy: 0.4622\n",
      "Epoch 5/150\n",
      "763214/763214 [==============================] - 13s 16us/step - loss: 0.1370 - categorical_accuracy: 0.4646 - val_loss: 0.1366 - val_categorical_accuracy: 0.4743\n",
      "Epoch 6/150\n",
      "763214/763214 [==============================] - 12s 15us/step - loss: 0.1351 - categorical_accuracy: 0.4740 - val_loss: 0.1342 - val_categorical_accuracy: 0.4902\n",
      "Epoch 7/150\n",
      "763214/763214 [==============================] - 15s 19us/step - loss: 0.1334 - categorical_accuracy: 0.4800 - val_loss: 0.1328 - val_categorical_accuracy: 0.4822\n",
      "Epoch 8/150\n",
      "763214/763214 [==============================] - 14s 18us/step - loss: 0.1325 - categorical_accuracy: 0.4747 - val_loss: 0.1319 - val_categorical_accuracy: 0.4901\n",
      "Epoch 9/150\n",
      "763214/763214 [==============================] - 14s 19us/step - loss: 0.1316 - categorical_accuracy: 0.4718 - val_loss: 0.1311 - val_categorical_accuracy: 0.4925\n",
      "Epoch 10/150\n",
      "763214/763214 [==============================] - 14s 18us/step - loss: 0.1306 - categorical_accuracy: 0.4706 - val_loss: 0.1298 - val_categorical_accuracy: 0.4376\n",
      "Epoch 11/150\n",
      "763214/763214 [==============================] - 14s 19us/step - loss: 0.1292 - categorical_accuracy: 0.4713 - val_loss: 0.1282 - val_categorical_accuracy: 0.4376\n",
      "Epoch 12/150\n",
      "763214/763214 [==============================] - 16s 21us/step - loss: 0.1269 - categorical_accuracy: 0.4752 - val_loss: 0.1253 - val_categorical_accuracy: 0.4981\n",
      "Epoch 13/150\n",
      "763214/763214 [==============================] - 14s 19us/step - loss: 0.1237 - categorical_accuracy: 0.4893 - val_loss: 0.1225 - val_categorical_accuracy: 0.5224\n",
      "Epoch 14/150\n",
      "763214/763214 [==============================] - 14s 19us/step - loss: 0.1210 - categorical_accuracy: 0.5121 - val_loss: 0.1199 - val_categorical_accuracy: 0.5108\n",
      "Epoch 15/150\n",
      "763214/763214 [==============================] - 14s 19us/step - loss: 0.1175 - categorical_accuracy: 0.5378 - val_loss: 0.1157 - val_categorical_accuracy: 0.5523\n",
      "Epoch 16/150\n",
      "763214/763214 [==============================] - 14s 18us/step - loss: 0.1142 - categorical_accuracy: 0.5657 - val_loss: 0.1129 - val_categorical_accuracy: 0.6019\n",
      "Epoch 17/150\n",
      "763214/763214 [==============================] - 13s 17us/step - loss: 0.1119 - categorical_accuracy: 0.5834 - val_loss: 0.1114 - val_categorical_accuracy: 0.5716\n",
      "Epoch 18/150\n",
      "763214/763214 [==============================] - 14s 19us/step - loss: 0.1100 - categorical_accuracy: 0.5947 - val_loss: 0.1091 - val_categorical_accuracy: 0.6045\n",
      "Epoch 19/150\n",
      "763214/763214 [==============================] - 15s 19us/step - loss: 0.1083 - categorical_accuracy: 0.6021 - val_loss: 0.1074 - val_categorical_accuracy: 0.6190\n",
      "Epoch 20/150\n",
      "763214/763214 [==============================] - 17s 23us/step - loss: 0.1066 - categorical_accuracy: 0.6086 - val_loss: 0.1064 - val_categorical_accuracy: 0.6276\n",
      "Epoch 21/150\n",
      "763214/763214 [==============================] - 18s 24us/step - loss: 0.1050 - categorical_accuracy: 0.6147 - val_loss: 0.1045 - val_categorical_accuracy: 0.6063\n",
      "Epoch 22/150\n",
      "763214/763214 [==============================] - 15s 20us/step - loss: 0.1036 - categorical_accuracy: 0.6197 - val_loss: 0.1033 - val_categorical_accuracy: 0.6221\n",
      "Epoch 23/150\n",
      "763214/763214 [==============================] - 15s 20us/step - loss: 0.1022 - categorical_accuracy: 0.6255 - val_loss: 0.1014 - val_categorical_accuracy: 0.6239\n",
      "Epoch 24/150\n",
      "763214/763214 [==============================] - 16s 21us/step - loss: 0.1007 - categorical_accuracy: 0.6311 - val_loss: 0.0999 - val_categorical_accuracy: 0.6367\n",
      "Epoch 25/150\n",
      "763214/763214 [==============================] - 16s 21us/step - loss: 0.0991 - categorical_accuracy: 0.6373 - val_loss: 0.0983 - val_categorical_accuracy: 0.6468\n",
      "Epoch 26/150\n",
      "763214/763214 [==============================] - 15s 20us/step - loss: 0.0964 - categorical_accuracy: 0.6469 - val_loss: 0.0927 - val_categorical_accuracy: 0.6627\n",
      "Epoch 27/150\n",
      "763214/763214 [==============================] - 15s 20us/step - loss: 0.0899 - categorical_accuracy: 0.6705 - val_loss: 0.0877 - val_categorical_accuracy: 0.6894\n",
      "Epoch 28/150\n",
      "763214/763214 [==============================] - 15s 20us/step - loss: 0.0864 - categorical_accuracy: 0.6841 - val_loss: 0.0851 - val_categorical_accuracy: 0.6923\n",
      "Epoch 29/150\n",
      "763214/763214 [==============================] - 15s 20us/step - loss: 0.0845 - categorical_accuracy: 0.6919 - val_loss: 0.0835 - val_categorical_accuracy: 0.6974\n",
      "Epoch 30/150\n",
      "763214/763214 [==============================] - 16s 21us/step - loss: 0.0831 - categorical_accuracy: 0.6979 - val_loss: 0.0821 - val_categorical_accuracy: 0.7020\n",
      "Epoch 31/150\n",
      "763214/763214 [==============================] - 15s 20us/step - loss: 0.0819 - categorical_accuracy: 0.7028 - val_loss: 0.0814 - val_categorical_accuracy: 0.6963\n",
      "Epoch 32/150\n",
      "763214/763214 [==============================] - 16s 21us/step - loss: 0.0808 - categorical_accuracy: 0.7070 - val_loss: 0.0799 - val_categorical_accuracy: 0.7063\n",
      "Epoch 33/150\n",
      "763214/763214 [==============================] - 16s 21us/step - loss: 0.0797 - categorical_accuracy: 0.7107 - val_loss: 0.0789 - val_categorical_accuracy: 0.7129\n",
      "Epoch 34/150\n",
      "763214/763214 [==============================] - 15s 20us/step - loss: 0.0786 - categorical_accuracy: 0.7147 - val_loss: 0.0779 - val_categorical_accuracy: 0.7216\n",
      "Epoch 35/150\n",
      "763214/763214 [==============================] - 15s 20us/step - loss: 0.0775 - categorical_accuracy: 0.7186 - val_loss: 0.0766 - val_categorical_accuracy: 0.7173\n",
      "Epoch 36/150\n",
      "763214/763214 [==============================] - 15s 20us/step - loss: 0.0765 - categorical_accuracy: 0.7231 - val_loss: 0.0757 - val_categorical_accuracy: 0.7229\n",
      "Epoch 37/150\n",
      "763214/763214 [==============================] - 16s 21us/step - loss: 0.0756 - categorical_accuracy: 0.7273 - val_loss: 0.0749 - val_categorical_accuracy: 0.7279\n",
      "Epoch 38/150\n",
      "763214/763214 [==============================] - 15s 20us/step - loss: 0.0747 - categorical_accuracy: 0.7313 - val_loss: 0.0742 - val_categorical_accuracy: 0.7270\n",
      "Epoch 39/150\n",
      "763214/763214 [==============================] - 15s 20us/step - loss: 0.0740 - categorical_accuracy: 0.7352 - val_loss: 0.0733 - val_categorical_accuracy: 0.7423\n",
      "Epoch 40/150\n",
      "763214/763214 [==============================] - 15s 20us/step - loss: 0.0733 - categorical_accuracy: 0.7383 - val_loss: 0.0728 - val_categorical_accuracy: 0.7370\n",
      "Epoch 41/150\n",
      "763214/763214 [==============================] - 16s 21us/step - loss: 0.0726 - categorical_accuracy: 0.7414 - val_loss: 0.0718 - val_categorical_accuracy: 0.7461\n",
      "Epoch 42/150\n",
      "763214/763214 [==============================] - 15s 19us/step - loss: 0.0720 - categorical_accuracy: 0.7446 - val_loss: 0.0714 - val_categorical_accuracy: 0.7478\n",
      "Epoch 43/150\n",
      "763214/763214 [==============================] - 15s 20us/step - loss: 0.0714 - categorical_accuracy: 0.7472 - val_loss: 0.0713 - val_categorical_accuracy: 0.7406\n",
      "Epoch 44/150\n",
      "763214/763214 [==============================] - 13s 18us/step - loss: 0.0708 - categorical_accuracy: 0.7496 - val_loss: 0.0705 - val_categorical_accuracy: 0.7441\n",
      "Epoch 45/150\n",
      "763214/763214 [==============================] - 15s 19us/step - loss: 0.0703 - categorical_accuracy: 0.7521 - val_loss: 0.0695 - val_categorical_accuracy: 0.7565\n",
      "Epoch 46/150\n",
      "763214/763214 [==============================] - 14s 18us/step - loss: 0.0697 - categorical_accuracy: 0.7546 - val_loss: 0.0690 - val_categorical_accuracy: 0.7555\n",
      "Epoch 47/150\n"
     ]
    },
    {
     "name": "stdout",
     "output_type": "stream",
     "text": [
      "763214/763214 [==============================] - 12s 16us/step - loss: 0.0692 - categorical_accuracy: 0.7568 - val_loss: 0.0688 - val_categorical_accuracy: 0.7523\n",
      "Epoch 48/150\n",
      "763214/763214 [==============================] - 13s 17us/step - loss: 0.0687 - categorical_accuracy: 0.7592 - val_loss: 0.0681 - val_categorical_accuracy: 0.7665\n",
      "Epoch 49/150\n",
      "763214/763214 [==============================] - 12s 16us/step - loss: 0.0682 - categorical_accuracy: 0.7617 - val_loss: 0.0679 - val_categorical_accuracy: 0.7581\n",
      "Epoch 50/150\n",
      "763214/763214 [==============================] - 14s 19us/step - loss: 0.0677 - categorical_accuracy: 0.7639 - val_loss: 0.0672 - val_categorical_accuracy: 0.7639\n",
      "Epoch 51/150\n",
      "763214/763214 [==============================] - 14s 19us/step - loss: 0.0672 - categorical_accuracy: 0.7659 - val_loss: 0.0666 - val_categorical_accuracy: 0.7634\n",
      "Epoch 52/150\n",
      "763214/763214 [==============================] - 17s 22us/step - loss: 0.0667 - categorical_accuracy: 0.7681 - val_loss: 0.0663 - val_categorical_accuracy: 0.7762\n",
      "Epoch 53/150\n",
      "763214/763214 [==============================] - 13s 18us/step - loss: 0.0663 - categorical_accuracy: 0.7702 - val_loss: 0.0660 - val_categorical_accuracy: 0.7659\n",
      "Epoch 54/150\n",
      "763214/763214 [==============================] - 15s 19us/step - loss: 0.0658 - categorical_accuracy: 0.7722 - val_loss: 0.0654 - val_categorical_accuracy: 0.7797\n",
      "Epoch 55/150\n",
      "763214/763214 [==============================] - 14s 18us/step - loss: 0.0654 - categorical_accuracy: 0.7741 - val_loss: 0.0646 - val_categorical_accuracy: 0.7789\n",
      "Epoch 56/150\n",
      "763214/763214 [==============================] - 14s 19us/step - loss: 0.0649 - categorical_accuracy: 0.7760 - val_loss: 0.0641 - val_categorical_accuracy: 0.7773\n",
      "Epoch 57/150\n",
      "763214/763214 [==============================] - 14s 18us/step - loss: 0.0645 - categorical_accuracy: 0.7780 - val_loss: 0.0641 - val_categorical_accuracy: 0.7756\n",
      "Epoch 58/150\n",
      "763214/763214 [==============================] - 15s 19us/step - loss: 0.0641 - categorical_accuracy: 0.7798 - val_loss: 0.0635 - val_categorical_accuracy: 0.7855\n",
      "Epoch 59/150\n",
      "763214/763214 [==============================] - 18s 23us/step - loss: 0.0637 - categorical_accuracy: 0.7814 - val_loss: 0.0632 - val_categorical_accuracy: 0.7867\n",
      "Epoch 60/150\n",
      "763214/763214 [==============================] - 19s 25us/step - loss: 0.0633 - categorical_accuracy: 0.7831 - val_loss: 0.0629 - val_categorical_accuracy: 0.7802\n",
      "Epoch 61/150\n",
      "763214/763214 [==============================] - 14s 18us/step - loss: 0.0629 - categorical_accuracy: 0.7846 - val_loss: 0.0624 - val_categorical_accuracy: 0.7865\n",
      "Epoch 62/150\n",
      "763214/763214 [==============================] - 15s 19us/step - loss: 0.0625 - categorical_accuracy: 0.7864 - val_loss: 0.0618 - val_categorical_accuracy: 0.7890\n",
      "Epoch 63/150\n",
      "763214/763214 [==============================] - 14s 18us/step - loss: 0.0622 - categorical_accuracy: 0.7876 - val_loss: 0.0616 - val_categorical_accuracy: 0.7906\n",
      "Epoch 64/150\n",
      "763214/763214 [==============================] - 14s 19us/step - loss: 0.0618 - categorical_accuracy: 0.7895 - val_loss: 0.0611 - val_categorical_accuracy: 0.7942\n",
      "Epoch 65/150\n",
      "763214/763214 [==============================] - 14s 18us/step - loss: 0.0615 - categorical_accuracy: 0.7908 - val_loss: 0.0606 - val_categorical_accuracy: 0.7932\n",
      "Epoch 66/150\n",
      "763214/763214 [==============================] - 15s 19us/step - loss: 0.0611 - categorical_accuracy: 0.7921 - val_loss: 0.0603 - val_categorical_accuracy: 0.7976\n",
      "Epoch 67/150\n",
      "763214/763214 [==============================] - 14s 18us/step - loss: 0.0608 - categorical_accuracy: 0.7935 - val_loss: 0.0605 - val_categorical_accuracy: 0.7906\n",
      "Epoch 68/150\n",
      "763214/763214 [==============================] - 15s 19us/step - loss: 0.0605 - categorical_accuracy: 0.7947 - val_loss: 0.0597 - val_categorical_accuracy: 0.7985\n",
      "Epoch 69/150\n",
      "763214/763214 [==============================] - 14s 19us/step - loss: 0.0602 - categorical_accuracy: 0.7961 - val_loss: 0.0594 - val_categorical_accuracy: 0.7982\n",
      "Epoch 70/150\n",
      "763214/763214 [==============================] - 14s 19us/step - loss: 0.0599 - categorical_accuracy: 0.7972 - val_loss: 0.0590 - val_categorical_accuracy: 0.8014\n",
      "Epoch 71/150\n",
      "763214/763214 [==============================] - 14s 19us/step - loss: 0.0596 - categorical_accuracy: 0.7983 - val_loss: 0.0598 - val_categorical_accuracy: 0.7997\n",
      "Epoch 72/150\n",
      "763214/763214 [==============================] - 15s 20us/step - loss: 0.0593 - categorical_accuracy: 0.7998 - val_loss: 0.0588 - val_categorical_accuracy: 0.8033\n",
      "Epoch 73/150\n",
      "763214/763214 [==============================] - 16s 21us/step - loss: 0.0590 - categorical_accuracy: 0.8007 - val_loss: 0.0588 - val_categorical_accuracy: 0.8087\n",
      "Epoch 74/150\n",
      "763214/763214 [==============================] - 16s 21us/step - loss: 0.0588 - categorical_accuracy: 0.8016 - val_loss: 0.0587 - val_categorical_accuracy: 0.8064\n",
      "Epoch 75/150\n",
      "763214/763214 [==============================] - 16s 22us/step - loss: 0.0585 - categorical_accuracy: 0.8026 - val_loss: 0.0584 - val_categorical_accuracy: 0.8107\n",
      "Epoch 76/150\n",
      "763214/763214 [==============================] - 16s 21us/step - loss: 0.0582 - categorical_accuracy: 0.8036 - val_loss: 0.0576 - val_categorical_accuracy: 0.8042\n",
      "Epoch 77/150\n",
      "763214/763214 [==============================] - 15s 19us/step - loss: 0.0580 - categorical_accuracy: 0.8046 - val_loss: 0.0582 - val_categorical_accuracy: 0.8072\n",
      "Epoch 78/150\n",
      "763214/763214 [==============================] - 16s 21us/step - loss: 0.0578 - categorical_accuracy: 0.8054 - val_loss: 0.0571 - val_categorical_accuracy: 0.8115\n",
      "Epoch 79/150\n",
      "763214/763214 [==============================] - 15s 19us/step - loss: 0.0575 - categorical_accuracy: 0.8063 - val_loss: 0.0573 - val_categorical_accuracy: 0.8067\n",
      "Epoch 80/150\n",
      "763214/763214 [==============================] - 17s 23us/step - loss: 0.0573 - categorical_accuracy: 0.8070 - val_loss: 0.0567 - val_categorical_accuracy: 0.8137\n",
      "Epoch 81/150\n",
      "763214/763214 [==============================] - 17s 23us/step - loss: 0.0571 - categorical_accuracy: 0.8078 - val_loss: 0.0575 - val_categorical_accuracy: 0.8167\n",
      "Epoch 82/150\n",
      "763214/763214 [==============================] - 15s 20us/step - loss: 0.0569 - categorical_accuracy: 0.8084 - val_loss: 0.0568 - val_categorical_accuracy: 0.8144\n",
      "Epoch 83/150\n",
      "763214/763214 [==============================] - 16s 21us/step - loss: 0.0567 - categorical_accuracy: 0.8096 - val_loss: 0.0561 - val_categorical_accuracy: 0.8094\n",
      "Epoch 84/150\n",
      "763214/763214 [==============================] - 15s 19us/step - loss: 0.0564 - categorical_accuracy: 0.8104 - val_loss: 0.0560 - val_categorical_accuracy: 0.8158\n",
      "Epoch 85/150\n",
      "763214/763214 [==============================] - 13s 18us/step - loss: 0.0562 - categorical_accuracy: 0.8111 - val_loss: 0.0557 - val_categorical_accuracy: 0.8148\n",
      "Epoch 86/150\n",
      "763214/763214 [==============================] - 16s 21us/step - loss: 0.0560 - categorical_accuracy: 0.8116 - val_loss: 0.0559 - val_categorical_accuracy: 0.8163\n",
      "Epoch 87/150\n",
      "763214/763214 [==============================] - 14s 18us/step - loss: 0.0559 - categorical_accuracy: 0.8125 - val_loss: 0.0550 - val_categorical_accuracy: 0.8160\n",
      "Epoch 88/150\n",
      "763214/763214 [==============================] - 14s 19us/step - loss: 0.0556 - categorical_accuracy: 0.8132 - val_loss: 0.0566 - val_categorical_accuracy: 0.8064\n",
      "Epoch 89/150\n",
      "763214/763214 [==============================] - 16s 22us/step - loss: 0.0555 - categorical_accuracy: 0.8138 - val_loss: 0.0548 - val_categorical_accuracy: 0.8196\n",
      "Epoch 90/150\n",
      "763214/763214 [==============================] - 15s 20us/step - loss: 0.0553 - categorical_accuracy: 0.8147 - val_loss: 0.0546 - val_categorical_accuracy: 0.8186\n",
      "Epoch 91/150\n",
      "763214/763214 [==============================] - 15s 20us/step - loss: 0.0551 - categorical_accuracy: 0.8154 - val_loss: 0.0546 - val_categorical_accuracy: 0.8166\n",
      "Epoch 92/150\n",
      "763214/763214 [==============================] - 14s 18us/step - loss: 0.0549 - categorical_accuracy: 0.8163 - val_loss: 0.0542 - val_categorical_accuracy: 0.8175\n",
      "Epoch 93/150\n"
     ]
    },
    {
     "name": "stdout",
     "output_type": "stream",
     "text": [
      "763214/763214 [==============================] - 14s 18us/step - loss: 0.0547 - categorical_accuracy: 0.8166 - val_loss: 0.0542 - val_categorical_accuracy: 0.8167\n",
      "Epoch 94/150\n",
      "763214/763214 [==============================] - 16s 21us/step - loss: 0.0546 - categorical_accuracy: 0.8173 - val_loss: 0.0546 - val_categorical_accuracy: 0.8255\n",
      "Epoch 95/150\n",
      "763214/763214 [==============================] - 14s 18us/step - loss: 0.0544 - categorical_accuracy: 0.8179 - val_loss: 0.0539 - val_categorical_accuracy: 0.8235\n",
      "Epoch 96/150\n",
      "763214/763214 [==============================] - 15s 20us/step - loss: 0.0542 - categorical_accuracy: 0.8184 - val_loss: 0.0539 - val_categorical_accuracy: 0.8163\n",
      "Epoch 97/150\n",
      "763214/763214 [==============================] - 14s 19us/step - loss: 0.0541 - categorical_accuracy: 0.8190 - val_loss: 0.0537 - val_categorical_accuracy: 0.8231\n",
      "Epoch 98/150\n",
      "763214/763214 [==============================] - 16s 21us/step - loss: 0.0539 - categorical_accuracy: 0.8198 - val_loss: 0.0535 - val_categorical_accuracy: 0.8206\n",
      "Epoch 99/150\n",
      "763214/763214 [==============================] - 14s 18us/step - loss: 0.0537 - categorical_accuracy: 0.8203 - val_loss: 0.0532 - val_categorical_accuracy: 0.8236\n",
      "Epoch 100/150\n",
      "763214/763214 [==============================] - 14s 18us/step - loss: 0.0536 - categorical_accuracy: 0.8208 - val_loss: 0.0530 - val_categorical_accuracy: 0.8244\n",
      "Epoch 101/150\n",
      "763214/763214 [==============================] - 19s 25us/step - loss: 0.0534 - categorical_accuracy: 0.8214 - val_loss: 0.0531 - val_categorical_accuracy: 0.8213\n",
      "Epoch 102/150\n",
      "763214/763214 [==============================] - 12s 16us/step - loss: 0.0533 - categorical_accuracy: 0.8219 - val_loss: 0.0527 - val_categorical_accuracy: 0.8265\n",
      "Epoch 103/150\n",
      "763214/763214 [==============================] - 12s 16us/step - loss: 0.0531 - categorical_accuracy: 0.8225 - val_loss: 0.0530 - val_categorical_accuracy: 0.8203\n",
      "Epoch 104/150\n",
      "763214/763214 [==============================] - 14s 19us/step - loss: 0.0530 - categorical_accuracy: 0.8228 - val_loss: 0.0523 - val_categorical_accuracy: 0.8252\n",
      "Epoch 105/150\n",
      "763214/763214 [==============================] - 12s 16us/step - loss: 0.0528 - categorical_accuracy: 0.8239 - val_loss: 0.0525 - val_categorical_accuracy: 0.8229\n",
      "Epoch 106/150\n",
      "763214/763214 [==============================] - 13s 17us/step - loss: 0.0527 - categorical_accuracy: 0.8242 - val_loss: 0.0520 - val_categorical_accuracy: 0.8284\n",
      "Epoch 107/150\n",
      "763214/763214 [==============================] - 13s 17us/step - loss: 0.0526 - categorical_accuracy: 0.8244 - val_loss: 0.0521 - val_categorical_accuracy: 0.8247\n",
      "Epoch 108/150\n",
      "763214/763214 [==============================] - 13s 17us/step - loss: 0.0524 - categorical_accuracy: 0.8251 - val_loss: 0.0519 - val_categorical_accuracy: 0.8273\n",
      "Epoch 109/150\n",
      "763214/763214 [==============================] - 13s 17us/step - loss: 0.0523 - categorical_accuracy: 0.8254 - val_loss: 0.0519 - val_categorical_accuracy: 0.8260\n",
      "Epoch 110/150\n",
      "763214/763214 [==============================] - 12s 16us/step - loss: 0.0522 - categorical_accuracy: 0.8259 - val_loss: 0.0517 - val_categorical_accuracy: 0.8296\n",
      "Epoch 111/150\n",
      "763214/763214 [==============================] - 14s 18us/step - loss: 0.0520 - categorical_accuracy: 0.8266 - val_loss: 0.0516 - val_categorical_accuracy: 0.8272\n",
      "Epoch 112/150\n",
      "763214/763214 [==============================] - 13s 17us/step - loss: 0.0519 - categorical_accuracy: 0.8268 - val_loss: 0.0518 - val_categorical_accuracy: 0.8241\n",
      "Epoch 113/150\n",
      "763214/763214 [==============================] - 13s 17us/step - loss: 0.0518 - categorical_accuracy: 0.8275 - val_loss: 0.0512 - val_categorical_accuracy: 0.8285\n",
      "Epoch 114/150\n",
      "763214/763214 [==============================] - 15s 19us/step - loss: 0.0517 - categorical_accuracy: 0.8279 - val_loss: 0.0513 - val_categorical_accuracy: 0.8322\n",
      "Epoch 115/150\n",
      "763214/763214 [==============================] - 16s 21us/step - loss: 0.0515 - categorical_accuracy: 0.8283 - val_loss: 0.0513 - val_categorical_accuracy: 0.8284\n",
      "Epoch 116/150\n",
      "763214/763214 [==============================] - 15s 19us/step - loss: 0.0514 - categorical_accuracy: 0.8289 - val_loss: 0.0510 - val_categorical_accuracy: 0.8328\n",
      "Epoch 117/150\n",
      "763214/763214 [==============================] - 15s 19us/step - loss: 0.0513 - categorical_accuracy: 0.8291 - val_loss: 0.0513 - val_categorical_accuracy: 0.8281\n",
      "Epoch 118/150\n",
      "763214/763214 [==============================] - 19s 25us/step - loss: 0.0512 - categorical_accuracy: 0.8297 - val_loss: 0.0505 - val_categorical_accuracy: 0.8334\n",
      "Epoch 119/150\n",
      "763214/763214 [==============================] - 17s 22us/step - loss: 0.0510 - categorical_accuracy: 0.8300 - val_loss: 0.0512 - val_categorical_accuracy: 0.8265\n",
      "Epoch 120/150\n",
      "763214/763214 [==============================] - 17s 22us/step - loss: 0.0509 - categorical_accuracy: 0.8303 - val_loss: 0.0511 - val_categorical_accuracy: 0.8275\n",
      "Epoch 121/150\n",
      "763214/763214 [==============================] - 15s 20us/step - loss: 0.0508 - categorical_accuracy: 0.8310 - val_loss: 0.0503 - val_categorical_accuracy: 0.8352\n",
      "Epoch 122/150\n",
      "763214/763214 [==============================] - 17s 22us/step - loss: 0.0507 - categorical_accuracy: 0.8313 - val_loss: 0.0502 - val_categorical_accuracy: 0.8359\n",
      "Epoch 123/150\n",
      "763214/763214 [==============================] - 20s 26us/step - loss: 0.0506 - categorical_accuracy: 0.8317 - val_loss: 0.0500 - val_categorical_accuracy: 0.8350\n",
      "Epoch 124/150\n",
      "763214/763214 [==============================] - 16s 21us/step - loss: 0.0504 - categorical_accuracy: 0.8322 - val_loss: 0.0498 - val_categorical_accuracy: 0.8337\n",
      "Epoch 125/150\n",
      "763214/763214 [==============================] - 17s 23us/step - loss: 0.0503 - categorical_accuracy: 0.8325 - val_loss: 0.0498 - val_categorical_accuracy: 0.8343\n",
      "Epoch 126/150\n",
      "763214/763214 [==============================] - 17s 22us/step - loss: 0.0502 - categorical_accuracy: 0.8330 - val_loss: 0.0501 - val_categorical_accuracy: 0.8325\n",
      "Epoch 127/150\n",
      "763214/763214 [==============================] - 14s 19us/step - loss: 0.0501 - categorical_accuracy: 0.8335 - val_loss: 0.0501 - val_categorical_accuracy: 0.8318\n",
      "Epoch 128/150\n",
      "763214/763214 [==============================] - 16s 20us/step - loss: 0.0500 - categorical_accuracy: 0.8339 - val_loss: 0.0496 - val_categorical_accuracy: 0.8394\n",
      "Epoch 129/150\n",
      "763214/763214 [==============================] - 15s 20us/step - loss: 0.0499 - categorical_accuracy: 0.8342 - val_loss: 0.0495 - val_categorical_accuracy: 0.8390\n",
      "Epoch 130/150\n",
      "763214/763214 [==============================] - 15s 20us/step - loss: 0.0498 - categorical_accuracy: 0.8348 - val_loss: 0.0499 - val_categorical_accuracy: 0.8403\n",
      "Epoch 131/150\n",
      "763214/763214 [==============================] - 15s 20us/step - loss: 0.0496 - categorical_accuracy: 0.8352 - val_loss: 0.0491 - val_categorical_accuracy: 0.8378\n",
      "Epoch 132/150\n",
      "763214/763214 [==============================] - 17s 23us/step - loss: 0.0495 - categorical_accuracy: 0.8355 - val_loss: 0.0492 - val_categorical_accuracy: 0.8365\n",
      "Epoch 133/150\n",
      "763214/763214 [==============================] - 17s 22us/step - loss: 0.0494 - categorical_accuracy: 0.8361 - val_loss: 0.0495 - val_categorical_accuracy: 0.8367\n",
      "Epoch 134/150\n",
      "763214/763214 [==============================] - 16s 21us/step - loss: 0.0493 - categorical_accuracy: 0.8363 - val_loss: 0.0487 - val_categorical_accuracy: 0.8399\n",
      "Epoch 135/150\n",
      "763214/763214 [==============================] - 17s 23us/step - loss: 0.0492 - categorical_accuracy: 0.8367 - val_loss: 0.0487 - val_categorical_accuracy: 0.8373\n",
      "Epoch 136/150\n",
      "763214/763214 [==============================] - 17s 23us/step - loss: 0.0491 - categorical_accuracy: 0.8372 - val_loss: 0.0489 - val_categorical_accuracy: 0.8425\n",
      "Epoch 137/150\n",
      "763214/763214 [==============================] - 22s 29us/step - loss: 0.0490 - categorical_accuracy: 0.8375 - val_loss: 0.0491 - val_categorical_accuracy: 0.8414\n",
      "Epoch 138/150\n",
      "763214/763214 [==============================] - 15s 19us/step - loss: 0.0488 - categorical_accuracy: 0.8379 - val_loss: 0.0483 - val_categorical_accuracy: 0.8395\n",
      "Epoch 139/150\n"
     ]
    },
    {
     "name": "stdout",
     "output_type": "stream",
     "text": [
      "763214/763214 [==============================] - 13s 17us/step - loss: 0.0487 - categorical_accuracy: 0.8383 - val_loss: 0.0484 - val_categorical_accuracy: 0.8407\n",
      "Epoch 140/150\n",
      "763214/763214 [==============================] - 13s 17us/step - loss: 0.0486 - categorical_accuracy: 0.8387 - val_loss: 0.0483 - val_categorical_accuracy: 0.8431\n",
      "Epoch 141/150\n",
      "763214/763214 [==============================] - 13s 16us/step - loss: 0.0485 - categorical_accuracy: 0.8391 - val_loss: 0.0480 - val_categorical_accuracy: 0.8413\n",
      "Epoch 142/150\n",
      "763214/763214 [==============================] - 12s 16us/step - loss: 0.0484 - categorical_accuracy: 0.8395 - val_loss: 0.0479 - val_categorical_accuracy: 0.8412\n",
      "Epoch 143/150\n",
      "763214/763214 [==============================] - 13s 17us/step - loss: 0.0483 - categorical_accuracy: 0.8398 - val_loss: 0.0486 - val_categorical_accuracy: 0.8374\n",
      "Epoch 144/150\n",
      "763214/763214 [==============================] - 16s 21us/step - loss: 0.0482 - categorical_accuracy: 0.8400 - val_loss: 0.0478 - val_categorical_accuracy: 0.8438\n",
      "Epoch 145/150\n",
      "763214/763214 [==============================] - 13s 17us/step - loss: 0.0481 - categorical_accuracy: 0.8407 - val_loss: 0.0480 - val_categorical_accuracy: 0.8390\n",
      "Epoch 146/150\n",
      "763214/763214 [==============================] - 16s 21us/step - loss: 0.0480 - categorical_accuracy: 0.8408 - val_loss: 0.0476 - val_categorical_accuracy: 0.8415\n",
      "Epoch 147/150\n",
      "763214/763214 [==============================] - 14s 18us/step - loss: 0.0479 - categorical_accuracy: 0.8414 - val_loss: 0.0475 - val_categorical_accuracy: 0.8417\n",
      "Epoch 148/150\n",
      "763214/763214 [==============================] - 13s 17us/step - loss: 0.0478 - categorical_accuracy: 0.8419 - val_loss: 0.0473 - val_categorical_accuracy: 0.8434\n",
      "Epoch 149/150\n",
      "763214/763214 [==============================] - 12s 16us/step - loss: 0.0477 - categorical_accuracy: 0.8422 - val_loss: 0.0473 - val_categorical_accuracy: 0.8461\n",
      "Epoch 150/150\n",
      "763214/763214 [==============================] - 14s 19us/step - loss: 0.0476 - categorical_accuracy: 0.8427 - val_loss: 0.0473 - val_categorical_accuracy: 0.8427\n"
     ]
    }
   ],
   "source": [
    "history = clf.fit(trainX,onehot_encoded_train,\n",
    "                 batch_size = 64, epochs = 150,\n",
    "                 verbose = 1,\n",
    "                 validation_split = 0.1)"
   ]
  },
  {
   "cell_type": "code",
   "execution_count": 20,
   "metadata": {},
   "outputs": [
    {
     "data": {
      "text/plain": [
       "(array([4, 2, 3, 3, 4, 1, 4, 2, 5, 3, 1, 2, 3, 2, 4, 4, 2, 1, 4, 2, 4, 2,\n",
       "        2, 2, 2, 2, 1, 4, 5, 2, 3, 5, 4, 2, 2, 4, 3, 3, 3, 4, 1, 2, 2, 2,\n",
       "        1, 4, 2, 3, 5, 4, 4, 2, 2, 4, 4, 3, 5, 1, 4, 3, 1, 5, 2, 2, 3, 5,\n",
       "        2, 5, 4, 2, 1, 4, 5, 2, 4, 2, 3, 4, 2, 1, 2, 2, 5, 3, 2, 5, 4, 4,\n",
       "        1, 2, 4, 2, 2, 1, 2, 4, 5, 4, 1], dtype=int64),\n",
       " array([4, 4, 3, 3, 2, 1, 4, 2, 5, 3, 4, 2, 3, 2, 5, 4, 2, 1, 5, 2, 4, 2,\n",
       "        2, 2, 2, 4, 1, 4, 5, 4, 3, 5, 4, 4, 2, 4, 3, 3, 3, 4, 1, 2, 2, 2,\n",
       "        1, 4, 2, 3, 5, 5, 4, 2, 2, 4, 2, 3, 5, 1, 4, 3, 1, 5, 2, 5, 3, 4,\n",
       "        2, 4, 4, 2, 1, 4, 4, 4, 4, 2, 3, 4, 2, 1, 2, 2, 5, 3, 4, 5, 2, 4,\n",
       "        1, 2, 4, 4, 2, 1, 4, 4, 5, 4, 4], dtype=int64))"
      ]
     },
     "execution_count": 20,
     "metadata": {},
     "output_type": "execute_result"
    }
   ],
   "source": [
    "clf.predict_classes(testX[1:100,:]) + 1,testY[1:100]"
   ]
  },
  {
   "cell_type": "code",
   "execution_count": 24,
   "metadata": {},
   "outputs": [
    {
     "name": "stdout",
     "output_type": "stream",
     "text": [
      "212005/212005 [==============================] - 2s 10us/step\n"
     ]
    },
    {
     "data": {
      "text/plain": [
       "[0.04782811622189045, 0.8409141293840221]"
      ]
     },
     "execution_count": 24,
     "metadata": {},
     "output_type": "execute_result"
    }
   ],
   "source": [
    "clf.evaluate(testX,onehot_encoded_test,verbose=1)"
   ]
  },
  {
   "cell_type": "code",
   "execution_count": 25,
   "metadata": {},
   "outputs": [],
   "source": [
    "# saving the model \n",
    "# save model and weights\n",
    "clf_json = clf.to_json()\n",
    "with open(\"NN_108-56-5.json\", \"w\") as json_file:\n",
    "    json_file.write(clf_json)\n",
    "    \n",
    "clf.save_weights(\"NN_108-56-5_weights.h5\")"
   ]
  },
  {
   "cell_type": "code",
   "execution_count": 26,
   "metadata": {},
   "outputs": [],
   "source": [
    "np.save('TestX_NN_108-56-5',testX), np.save('TestY_NN_108-56-5',testY),\n",
    "np.save('OneHot_testY_108-56-5',onehot_encoded_test)"
   ]
  },
  {
   "cell_type": "code",
   "execution_count": 27,
   "metadata": {},
   "outputs": [
    {
     "data": {
      "text/plain": [
       "(848016, 108)"
      ]
     },
     "execution_count": 27,
     "metadata": {},
     "output_type": "execute_result"
    }
   ],
   "source": [
    "trainX.shape"
   ]
  },
  {
   "cell_type": "code",
   "execution_count": null,
   "metadata": {},
   "outputs": [],
   "source": []
  }
 ],
 "metadata": {
  "kernelspec": {
   "display_name": "Python 3",
   "language": "python",
   "name": "python3"
  },
  "language_info": {
   "codemirror_mode": {
    "name": "ipython",
    "version": 3
   },
   "file_extension": ".py",
   "mimetype": "text/x-python",
   "name": "python",
   "nbconvert_exporter": "python",
   "pygments_lexer": "ipython3",
   "version": "3.6.5"
  }
 },
 "nbformat": 4,
 "nbformat_minor": 2
}
