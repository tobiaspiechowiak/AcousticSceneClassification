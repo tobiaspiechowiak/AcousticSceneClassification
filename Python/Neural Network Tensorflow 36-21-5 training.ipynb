{
 "cells": [
  {
   "cell_type": "code",
   "execution_count": 1,
   "metadata": {},
   "outputs": [],
   "source": [
    "#load packages\n",
    "import numpy as np\n",
    "import tensorflow as tf\n",
    "from tensorflow import keras \n",
    "import pandas as pd\n",
    "import soundfile as sf\n"
   ]
  },
  {
   "cell_type": "code",
   "execution_count": 2,
   "metadata": {},
   "outputs": [],
   "source": [
    "#import data \n",
    "path = 'x:/Steering/Recordings/Processed/'\n",
    "data, fs = sf.read(path + 'ERB=2.wav')\n",
    "classes = pd.read_csv(path + 'Classes_2.csv')\n"
   ]
  },
  {
   "cell_type": "code",
   "execution_count": 3,
   "metadata": {},
   "outputs": [],
   "source": [
    "# front left and front right as predictors\n",
    "X_1 = data[:len(data)-1,0*18:1*18] \n",
    "X_2 = data[:len(data)-1,3*18:4*18] \n",
    "X = np.hstack([X_1,X_2])\n",
    "Y = classes.values[:,0]"
   ]
  },
  {
   "cell_type": "code",
   "execution_count": 15,
   "metadata": {},
   "outputs": [],
   "source": [
    "a = np.array(range(1,108,1))"
   ]
  },
  {
   "cell_type": "code",
   "execution_count": 18,
   "metadata": {},
   "outputs": [
    {
     "data": {
      "text/plain": [
       "(array([ 1,  2,  3,  4,  5,  6,  7,  8,  9, 10, 11, 12, 13, 14, 15, 16, 17,\n",
       "        18]),\n",
       " array([55, 56, 57, 58, 59, 60, 61, 62, 63, 64, 65, 66, 67, 68, 69, 70, 71,\n",
       "        72]))"
      ]
     },
     "execution_count": 18,
     "metadata": {},
     "output_type": "execute_result"
    }
   ],
   "source": [
    "a[0:18], a[3*18:4*18]"
   ]
  },
  {
   "cell_type": "code",
   "execution_count": 39,
   "metadata": {},
   "outputs": [],
   "source": [
    "#split into training and test set\n",
    "from sklearn.model_selection import train_test_split\n",
    "trainX, testX, trainY, testY = train_test_split(X,Y,test_size=0.2,random_state=0)"
   ]
  },
  {
   "cell_type": "code",
   "execution_count": 40,
   "metadata": {},
   "outputs": [],
   "source": [
    "#do one-hot encoding\n",
    "from sklearn.preprocessing import OneHotEncoder \n",
    "from sklearn.preprocessing import LabelEncoder\n",
    "\n",
    "enc = OneHotEncoder(sparse=False)"
   ]
  },
  {
   "cell_type": "code",
   "execution_count": 41,
   "metadata": {},
   "outputs": [],
   "source": [
    "integer_encoded_train = trainY.reshape(len(trainY), 1)\n",
    "onehot_encoded_train = enc.fit_transform(integer_encoded_train)\n",
    "\n",
    "integer_encoded_test = testY.reshape(len(testY), 1)\n",
    "onehot_encoded_test = enc.fit_transform(integer_encoded_test)\n"
   ]
  },
  {
   "cell_type": "code",
   "execution_count": 42,
   "metadata": {},
   "outputs": [
    {
     "data": {
      "text/plain": [
       "array([[0., 1., 0., 0., 0.],\n",
       "       [0., 0., 0., 0., 1.],\n",
       "       [0., 0., 0., 0., 1.],\n",
       "       ...,\n",
       "       [0., 1., 0., 0., 0.],\n",
       "       [0., 0., 1., 0., 0.],\n",
       "       [0., 1., 0., 0., 0.]])"
      ]
     },
     "execution_count": 42,
     "metadata": {},
     "output_type": "execute_result"
    }
   ],
   "source": [
    "onehot_encoded_train \n"
   ]
  },
  {
   "cell_type": "code",
   "execution_count": 43,
   "metadata": {},
   "outputs": [],
   "source": [
    "#DC removal \n",
    "trainX -= (np.mean(trainX, axis=0) + 1e-8)\n",
    "testX -= (np.mean(testX, axis=0) + 1e-8)"
   ]
  },
  {
   "cell_type": "code",
   "execution_count": 44,
   "metadata": {},
   "outputs": [],
   "source": [
    "clf = keras.Sequential()"
   ]
  },
  {
   "cell_type": "code",
   "execution_count": 45,
   "metadata": {},
   "outputs": [
    {
     "data": {
      "text/plain": [
       "(5, 36, array([[0., 1., 0., 0., 0.],\n",
       "        [0., 0., 0., 0., 1.],\n",
       "        [0., 0., 0., 0., 1.],\n",
       "        ...,\n",
       "        [0., 1., 0., 0., 0.],\n",
       "        [0., 0., 1., 0., 0.],\n",
       "        [0., 1., 0., 0., 0.]]))"
      ]
     },
     "execution_count": 45,
     "metadata": {},
     "output_type": "execute_result"
    }
   ],
   "source": [
    "onehot_encoded_train.shape[1], X.shape[1],onehot_encoded_train\n"
   ]
  },
  {
   "cell_type": "code",
   "execution_count": 46,
   "metadata": {},
   "outputs": [],
   "source": [
    "clf.add(keras.layers.Dense(\n",
    "  units = 21,\n",
    "  input_dim = trainX.shape[1],   \n",
    "  activation = 'tanh'\n",
    "))\n",
    "\n",
    "clf.add(keras.layers.Dense(\n",
    "    units = onehot_encoded_train.shape[1],\n",
    "    input_dim = 21,\n",
    "    activation = 'softmax'\n",
    "))\n",
    "\n"
   ]
  },
  {
   "cell_type": "code",
   "execution_count": 47,
   "metadata": {},
   "outputs": [
    {
     "data": {
      "text/plain": [
       "5"
      ]
     },
     "execution_count": 47,
     "metadata": {},
     "output_type": "execute_result"
    }
   ],
   "source": [
    "onehot_encoded_train.shape[1]"
   ]
  },
  {
   "cell_type": "code",
   "execution_count": 48,
   "metadata": {},
   "outputs": [],
   "source": [
    "clf.compile(loss='mean_squared_error',\n",
    "    optimizer='Adam',\n",
    "           metrics=['categorical_accuracy'])"
   ]
  },
  {
   "cell_type": "code",
   "execution_count": 49,
   "metadata": {},
   "outputs": [
    {
     "name": "stdout",
     "output_type": "stream",
     "text": [
      "Train on 698819 samples, validate on 77647 samples\n",
      "Epoch 1/150\n",
      "698819/698819 [==============================] - 13s 19us/step - loss: 0.1511 - categorical_accuracy: 0.3145 - val_loss: 0.1494 - val_categorical_accuracy: 0.3206\n",
      "Epoch 2/150\n",
      "698819/698819 [==============================] - 13s 18us/step - loss: 0.1492 - categorical_accuracy: 0.3349 - val_loss: 0.1491 - val_categorical_accuracy: 0.3352\n",
      "Epoch 3/150\n",
      "698819/698819 [==============================] - 14s 20us/step - loss: 0.1489 - categorical_accuracy: 0.3436 - val_loss: 0.1488 - val_categorical_accuracy: 0.3469\n",
      "Epoch 4/150\n",
      "698819/698819 [==============================] - 15s 22us/step - loss: 0.1487 - categorical_accuracy: 0.3537 - val_loss: 0.1487 - val_categorical_accuracy: 0.3409\n",
      "Epoch 5/150\n",
      "698819/698819 [==============================] - 12s 17us/step - loss: 0.1485 - categorical_accuracy: 0.3582 - val_loss: 0.1483 - val_categorical_accuracy: 0.3497\n",
      "Epoch 6/150\n",
      "698819/698819 [==============================] - 9s 13us/step - loss: 0.1479 - categorical_accuracy: 0.3689 - val_loss: 0.1473 - val_categorical_accuracy: 0.3763\n",
      "Epoch 7/150\n",
      "698819/698819 [==============================] - 10s 14us/step - loss: 0.1465 - categorical_accuracy: 0.3921 - val_loss: 0.1458 - val_categorical_accuracy: 0.4040\n",
      "Epoch 8/150\n",
      "698819/698819 [==============================] - 10s 14us/step - loss: 0.1451 - categorical_accuracy: 0.4038 - val_loss: 0.1447 - val_categorical_accuracy: 0.4056\n",
      "Epoch 9/150\n",
      "698819/698819 [==============================] - 10s 15us/step - loss: 0.1443 - categorical_accuracy: 0.4077 - val_loss: 0.1441 - val_categorical_accuracy: 0.4133\n",
      "Epoch 10/150\n",
      "698819/698819 [==============================] - 10s 14us/step - loss: 0.1436 - categorical_accuracy: 0.4105 - val_loss: 0.1433 - val_categorical_accuracy: 0.4138\n",
      "Epoch 11/150\n",
      "698819/698819 [==============================] - 12s 18us/step - loss: 0.1427 - categorical_accuracy: 0.4150 - val_loss: 0.1419 - val_categorical_accuracy: 0.4189\n",
      "Epoch 12/150\n",
      "698819/698819 [==============================] - 10s 15us/step - loss: 0.1411 - categorical_accuracy: 0.4227 - val_loss: 0.1398 - val_categorical_accuracy: 0.4285\n",
      "Epoch 13/150\n",
      "698819/698819 [==============================] - 15s 21us/step - loss: 0.1390 - categorical_accuracy: 0.4311 - val_loss: 0.1381 - val_categorical_accuracy: 0.4393\n",
      "Epoch 14/150\n",
      "698819/698819 [==============================] - 9s 13us/step - loss: 0.1374 - categorical_accuracy: 0.4385 - val_loss: 0.1366 - val_categorical_accuracy: 0.4446\n",
      "Epoch 15/150\n",
      "698819/698819 [==============================] - 12s 17us/step - loss: 0.1359 - categorical_accuracy: 0.4448 - val_loss: 0.1350 - val_categorical_accuracy: 0.4501\n",
      "Epoch 16/150\n",
      "698819/698819 [==============================] - 10s 14us/step - loss: 0.1344 - categorical_accuracy: 0.4527 - val_loss: 0.1337 - val_categorical_accuracy: 0.4595\n",
      "Epoch 17/150\n",
      "698819/698819 [==============================] - 9s 13us/step - loss: 0.1326 - categorical_accuracy: 0.4626 - val_loss: 0.1315 - val_categorical_accuracy: 0.4683\n",
      "Epoch 18/150\n",
      "698819/698819 [==============================] - 9s 13us/step - loss: 0.1306 - categorical_accuracy: 0.4727 - val_loss: 0.1296 - val_categorical_accuracy: 0.4782\n",
      "Epoch 19/150\n",
      "698819/698819 [==============================] - 9s 13us/step - loss: 0.1287 - categorical_accuracy: 0.4822 - val_loss: 0.1278 - val_categorical_accuracy: 0.4869\n",
      "Epoch 20/150\n",
      "698819/698819 [==============================] - 9s 13us/step - loss: 0.1270 - categorical_accuracy: 0.4905 - val_loss: 0.1263 - val_categorical_accuracy: 0.4944\n",
      "Epoch 21/150\n",
      "698819/698819 [==============================] - 9s 12us/step - loss: 0.1255 - categorical_accuracy: 0.4984 - val_loss: 0.1250 - val_categorical_accuracy: 0.5039\n",
      "Epoch 22/150\n",
      "698819/698819 [==============================] - 9s 13us/step - loss: 0.1241 - categorical_accuracy: 0.5042 - val_loss: 0.1235 - val_categorical_accuracy: 0.5084\n",
      "Epoch 23/150\n",
      "698819/698819 [==============================] - 10s 14us/step - loss: 0.1228 - categorical_accuracy: 0.5100 - val_loss: 0.1222 - val_categorical_accuracy: 0.5153\n",
      "Epoch 24/150\n",
      "698819/698819 [==============================] - 9s 13us/step - loss: 0.1214 - categorical_accuracy: 0.5159 - val_loss: 0.1206 - val_categorical_accuracy: 0.5219\n",
      "Epoch 25/150\n",
      "698819/698819 [==============================] - 9s 13us/step - loss: 0.1196 - categorical_accuracy: 0.5227 - val_loss: 0.1187 - val_categorical_accuracy: 0.5244\n",
      "Epoch 26/150\n",
      "698819/698819 [==============================] - 9s 12us/step - loss: 0.1178 - categorical_accuracy: 0.5310 - val_loss: 0.1169 - val_categorical_accuracy: 0.5357\n",
      "Epoch 27/150\n",
      "698819/698819 [==============================] - 9s 13us/step - loss: 0.1160 - categorical_accuracy: 0.5374 - val_loss: 0.1152 - val_categorical_accuracy: 0.5436\n",
      "Epoch 28/150\n",
      "698819/698819 [==============================] - 9s 13us/step - loss: 0.1145 - categorical_accuracy: 0.5435 - val_loss: 0.1137 - val_categorical_accuracy: 0.5472\n",
      "Epoch 29/150\n",
      "698819/698819 [==============================] - 9s 13us/step - loss: 0.1130 - categorical_accuracy: 0.5483 - val_loss: 0.1123 - val_categorical_accuracy: 0.5533\n",
      "Epoch 30/150\n",
      "698819/698819 [==============================] - 9s 13us/step - loss: 0.1116 - categorical_accuracy: 0.5532 - val_loss: 0.1113 - val_categorical_accuracy: 0.5604\n",
      "Epoch 31/150\n",
      "698819/698819 [==============================] - 9s 13us/step - loss: 0.1103 - categorical_accuracy: 0.5573 - val_loss: 0.1098 - val_categorical_accuracy: 0.5492\n",
      "Epoch 32/150\n",
      "698819/698819 [==============================] - 9s 13us/step - loss: 0.1091 - categorical_accuracy: 0.5605 - val_loss: 0.1086 - val_categorical_accuracy: 0.5492\n",
      "Epoch 33/150\n",
      "698819/698819 [==============================] - 9s 13us/step - loss: 0.1080 - categorical_accuracy: 0.5637 - val_loss: 0.1077 - val_categorical_accuracy: 0.5682\n",
      "Epoch 34/150\n",
      "698819/698819 [==============================] - 9s 13us/step - loss: 0.1070 - categorical_accuracy: 0.5663 - val_loss: 0.1065 - val_categorical_accuracy: 0.5706\n",
      "Epoch 35/150\n",
      "698819/698819 [==============================] - 9s 13us/step - loss: 0.1061 - categorical_accuracy: 0.5687 - val_loss: 0.1056 - val_categorical_accuracy: 0.5671\n",
      "Epoch 36/150\n",
      "698819/698819 [==============================] - 9s 13us/step - loss: 0.1052 - categorical_accuracy: 0.5712 - val_loss: 0.1047 - val_categorical_accuracy: 0.5679\n",
      "Epoch 37/150\n",
      "698819/698819 [==============================] - 9s 13us/step - loss: 0.1044 - categorical_accuracy: 0.5736 - val_loss: 0.1041 - val_categorical_accuracy: 0.5802\n",
      "Epoch 38/150\n",
      "698819/698819 [==============================] - 9s 13us/step - loss: 0.1036 - categorical_accuracy: 0.5751 - val_loss: 0.1033 - val_categorical_accuracy: 0.5581\n",
      "Epoch 39/150\n",
      "698819/698819 [==============================] - 10s 14us/step - loss: 0.1029 - categorical_accuracy: 0.5777 - val_loss: 0.1030 - val_categorical_accuracy: 0.5845\n",
      "Epoch 40/150\n",
      "698819/698819 [==============================] - 9s 12us/step - loss: 0.1022 - categorical_accuracy: 0.5794 - val_loss: 0.1020 - val_categorical_accuracy: 0.6037\n",
      "Epoch 41/150\n",
      "698819/698819 [==============================] - 9s 13us/step - loss: 0.1016 - categorical_accuracy: 0.5816 - val_loss: 0.1013 - val_categorical_accuracy: 0.5726\n",
      "Epoch 42/150\n",
      "698819/698819 [==============================] - 9s 12us/step - loss: 0.1010 - categorical_accuracy: 0.5841 - val_loss: 0.1013 - val_categorical_accuracy: 0.5899\n",
      "Epoch 43/150\n",
      "698819/698819 [==============================] - 9s 12us/step - loss: 0.1005 - categorical_accuracy: 0.5862 - val_loss: 0.1003 - val_categorical_accuracy: 0.5872\n",
      "Epoch 44/150\n",
      "698819/698819 [==============================] - 8s 12us/step - loss: 0.1001 - categorical_accuracy: 0.5885 - val_loss: 0.0998 - val_categorical_accuracy: 0.5893\n",
      "Epoch 45/150\n",
      "698819/698819 [==============================] - 9s 12us/step - loss: 0.0996 - categorical_accuracy: 0.5915 - val_loss: 0.0993 - val_categorical_accuracy: 0.5904\n",
      "Epoch 46/150\n",
      "698819/698819 [==============================] - 9s 13us/step - loss: 0.0992 - categorical_accuracy: 0.5930 - val_loss: 0.0990 - val_categorical_accuracy: 0.5907\n",
      "Epoch 47/150\n",
      "698819/698819 [==============================] - 8s 11us/step - loss: 0.0988 - categorical_accuracy: 0.5962 - val_loss: 0.0986 - val_categorical_accuracy: 0.6205\n",
      "Epoch 48/150\n",
      "698819/698819 [==============================] - 8s 11us/step - loss: 0.0985 - categorical_accuracy: 0.5993 - val_loss: 0.0985 - val_categorical_accuracy: 0.6179\n",
      "Epoch 49/150\n",
      "698819/698819 [==============================] - 11s 15us/step - loss: 0.0981 - categorical_accuracy: 0.6018 - val_loss: 0.0979 - val_categorical_accuracy: 0.5893\n",
      "Epoch 50/150\n",
      "698819/698819 [==============================] - 10s 14us/step - loss: 0.0978 - categorical_accuracy: 0.6057 - val_loss: 0.0978 - val_categorical_accuracy: 0.6228\n",
      "Epoch 51/150\n",
      "698819/698819 [==============================] - 10s 14us/step - loss: 0.0975 - categorical_accuracy: 0.6080 - val_loss: 0.0972 - val_categorical_accuracy: 0.6179\n",
      "Epoch 52/150\n",
      "698819/698819 [==============================] - 9s 13us/step - loss: 0.0972 - categorical_accuracy: 0.6102 - val_loss: 0.0969 - val_categorical_accuracy: 0.6258\n",
      "Epoch 53/150\n",
      "698819/698819 [==============================] - 11s 15us/step - loss: 0.0969 - categorical_accuracy: 0.6135 - val_loss: 0.0967 - val_categorical_accuracy: 0.6188\n",
      "Epoch 54/150\n",
      "698819/698819 [==============================] - 11s 15us/step - loss: 0.0967 - categorical_accuracy: 0.6155 - val_loss: 0.0966 - val_categorical_accuracy: 0.6279\n",
      "Epoch 55/150\n",
      "698819/698819 [==============================] - 10s 14us/step - loss: 0.0964 - categorical_accuracy: 0.6170 - val_loss: 0.0962 - val_categorical_accuracy: 0.6297\n",
      "Epoch 56/150\n",
      "698819/698819 [==============================] - 9s 13us/step - loss: 0.0962 - categorical_accuracy: 0.6191 - val_loss: 0.0963 - val_categorical_accuracy: 0.5967\n",
      "Epoch 57/150\n",
      "698819/698819 [==============================] - 9s 12us/step - loss: 0.0960 - categorical_accuracy: 0.6220 - val_loss: 0.0958 - val_categorical_accuracy: 0.6292\n",
      "Epoch 58/150\n",
      "698819/698819 [==============================] - 9s 12us/step - loss: 0.0958 - categorical_accuracy: 0.6231 - val_loss: 0.0957 - val_categorical_accuracy: 0.6302\n",
      "Epoch 59/150\n",
      "698819/698819 [==============================] - 9s 12us/step - loss: 0.0956 - categorical_accuracy: 0.6247 - val_loss: 0.0958 - val_categorical_accuracy: 0.6288\n",
      "Epoch 60/150\n",
      "698819/698819 [==============================] - 9s 12us/step - loss: 0.0954 - categorical_accuracy: 0.6258 - val_loss: 0.0952 - val_categorical_accuracy: 0.6324\n",
      "Epoch 61/150\n",
      "698819/698819 [==============================] - 9s 12us/step - loss: 0.0953 - categorical_accuracy: 0.6277 - val_loss: 0.0950 - val_categorical_accuracy: 0.6341\n",
      "Epoch 62/150\n",
      "698819/698819 [==============================] - 9s 13us/step - loss: 0.0951 - categorical_accuracy: 0.6287 - val_loss: 0.0949 - val_categorical_accuracy: 0.6332\n",
      "Epoch 63/150\n",
      "698819/698819 [==============================] - 9s 13us/step - loss: 0.0949 - categorical_accuracy: 0.6301 - val_loss: 0.0947 - val_categorical_accuracy: 0.6351\n",
      "Epoch 64/150\n",
      "698819/698819 [==============================] - 9s 13us/step - loss: 0.0948 - categorical_accuracy: 0.6309 - val_loss: 0.0946 - val_categorical_accuracy: 0.6365\n",
      "Epoch 65/150\n",
      "698819/698819 [==============================] - 9s 13us/step - loss: 0.0947 - categorical_accuracy: 0.6317 - val_loss: 0.0944 - val_categorical_accuracy: 0.6371\n",
      "Epoch 66/150\n",
      "698819/698819 [==============================] - 9s 13us/step - loss: 0.0945 - categorical_accuracy: 0.6327 - val_loss: 0.0944 - val_categorical_accuracy: 0.6382\n",
      "Epoch 67/150\n",
      "698819/698819 [==============================] - 9s 13us/step - loss: 0.0944 - categorical_accuracy: 0.6334 - val_loss: 0.0942 - val_categorical_accuracy: 0.6380\n",
      "Epoch 68/150\n",
      "698819/698819 [==============================] - 9s 12us/step - loss: 0.0943 - categorical_accuracy: 0.6341 - val_loss: 0.0944 - val_categorical_accuracy: 0.6331\n",
      "Epoch 69/150\n",
      "698819/698819 [==============================] - 9s 13us/step - loss: 0.0942 - categorical_accuracy: 0.6351 - val_loss: 0.0940 - val_categorical_accuracy: 0.6405\n",
      "Epoch 70/150\n",
      "698819/698819 [==============================] - 9s 13us/step - loss: 0.0940 - categorical_accuracy: 0.6357 - val_loss: 0.0939 - val_categorical_accuracy: 0.6373\n",
      "Epoch 71/150\n",
      "698819/698819 [==============================] - 9s 13us/step - loss: 0.0939 - categorical_accuracy: 0.6361 - val_loss: 0.0937 - val_categorical_accuracy: 0.6385\n",
      "Epoch 72/150\n",
      "698819/698819 [==============================] - 9s 13us/step - loss: 0.0938 - categorical_accuracy: 0.6371 - val_loss: 0.0936 - val_categorical_accuracy: 0.6399\n",
      "Epoch 73/150\n",
      "698819/698819 [==============================] - 10s 14us/step - loss: 0.0937 - categorical_accuracy: 0.6377 - val_loss: 0.0937 - val_categorical_accuracy: 0.6380\n",
      "Epoch 74/150\n",
      "698819/698819 [==============================] - 10s 14us/step - loss: 0.0936 - categorical_accuracy: 0.6383 - val_loss: 0.0938 - val_categorical_accuracy: 0.6357\n",
      "Epoch 75/150\n",
      "698819/698819 [==============================] - 9s 13us/step - loss: 0.0935 - categorical_accuracy: 0.6388 - val_loss: 0.0933 - val_categorical_accuracy: 0.6418\n",
      "Epoch 76/150\n",
      "698819/698819 [==============================] - 9s 13us/step - loss: 0.0934 - categorical_accuracy: 0.6392 - val_loss: 0.0939 - val_categorical_accuracy: 0.6358\n",
      "Epoch 77/150\n",
      "698819/698819 [==============================] - 9s 13us/step - loss: 0.0933 - categorical_accuracy: 0.6396 - val_loss: 0.0934 - val_categorical_accuracy: 0.6420\n",
      "Epoch 78/150\n",
      "698819/698819 [==============================] - 9s 13us/step - loss: 0.0933 - categorical_accuracy: 0.6403 - val_loss: 0.0932 - val_categorical_accuracy: 0.6402\n",
      "Epoch 79/150\n",
      "698819/698819 [==============================] - 9s 13us/step - loss: 0.0932 - categorical_accuracy: 0.6407 - val_loss: 0.0930 - val_categorical_accuracy: 0.6428\n",
      "Epoch 80/150\n",
      "698819/698819 [==============================] - 9s 12us/step - loss: 0.0931 - categorical_accuracy: 0.6414 - val_loss: 0.0931 - val_categorical_accuracy: 0.6439\n",
      "Epoch 81/150\n",
      "698819/698819 [==============================] - 9s 13us/step - loss: 0.0930 - categorical_accuracy: 0.6419 - val_loss: 0.0933 - val_categorical_accuracy: 0.6370\n",
      "Epoch 82/150\n",
      "698819/698819 [==============================] - 9s 13us/step - loss: 0.0929 - categorical_accuracy: 0.6422 - val_loss: 0.0931 - val_categorical_accuracy: 0.6395\n",
      "Epoch 83/150\n",
      "698819/698819 [==============================] - 9s 13us/step - loss: 0.0928 - categorical_accuracy: 0.6423 - val_loss: 0.0926 - val_categorical_accuracy: 0.6424\n",
      "Epoch 84/150\n",
      "698819/698819 [==============================] - 9s 13us/step - loss: 0.0928 - categorical_accuracy: 0.6431 - val_loss: 0.0928 - val_categorical_accuracy: 0.6414\n",
      "Epoch 85/150\n",
      "698819/698819 [==============================] - 9s 13us/step - loss: 0.0927 - categorical_accuracy: 0.6433 - val_loss: 0.0929 - val_categorical_accuracy: 0.6398\n",
      "Epoch 86/150\n",
      "698819/698819 [==============================] - 9s 13us/step - loss: 0.0926 - categorical_accuracy: 0.6437 - val_loss: 0.0928 - val_categorical_accuracy: 0.6423\n",
      "Epoch 87/150\n",
      "698819/698819 [==============================] - 9s 13us/step - loss: 0.0925 - categorical_accuracy: 0.6442 - val_loss: 0.0924 - val_categorical_accuracy: 0.6473\n",
      "Epoch 88/150\n",
      "698819/698819 [==============================] - 9s 13us/step - loss: 0.0925 - categorical_accuracy: 0.6444 - val_loss: 0.0924 - val_categorical_accuracy: 0.6432\n",
      "Epoch 89/150\n",
      "698819/698819 [==============================] - 9s 13us/step - loss: 0.0924 - categorical_accuracy: 0.6448 - val_loss: 0.0922 - val_categorical_accuracy: 0.6472\n",
      "Epoch 90/150\n",
      "698819/698819 [==============================] - 9s 13us/step - loss: 0.0923 - categorical_accuracy: 0.6456 - val_loss: 0.0921 - val_categorical_accuracy: 0.6454\n",
      "Epoch 91/150\n",
      "698819/698819 [==============================] - 9s 13us/step - loss: 0.0923 - categorical_accuracy: 0.6456 - val_loss: 0.0921 - val_categorical_accuracy: 0.6451\n",
      "Epoch 92/150\n",
      "698819/698819 [==============================] - 9s 13us/step - loss: 0.0922 - categorical_accuracy: 0.6458 - val_loss: 0.0921 - val_categorical_accuracy: 0.6475\n",
      "Epoch 93/150\n"
     ]
    },
    {
     "name": "stdout",
     "output_type": "stream",
     "text": [
      "698819/698819 [==============================] - 9s 13us/step - loss: 0.0921 - categorical_accuracy: 0.6462 - val_loss: 0.0921 - val_categorical_accuracy: 0.6459\n",
      "Epoch 94/150\n",
      "698819/698819 [==============================] - 8s 12us/step - loss: 0.0921 - categorical_accuracy: 0.6464 - val_loss: 0.0922 - val_categorical_accuracy: 0.6446\n",
      "Epoch 95/150\n",
      "698819/698819 [==============================] - 9s 13us/step - loss: 0.0920 - categorical_accuracy: 0.6468 - val_loss: 0.0923 - val_categorical_accuracy: 0.6434\n",
      "Epoch 96/150\n",
      "698819/698819 [==============================] - 9s 12us/step - loss: 0.0919 - categorical_accuracy: 0.6467 - val_loss: 0.0919 - val_categorical_accuracy: 0.6465\n",
      "Epoch 97/150\n",
      "698819/698819 [==============================] - 9s 13us/step - loss: 0.0919 - categorical_accuracy: 0.6473 - val_loss: 0.0917 - val_categorical_accuracy: 0.6493\n",
      "Epoch 98/150\n",
      "698819/698819 [==============================] - 9s 12us/step - loss: 0.0918 - categorical_accuracy: 0.6478 - val_loss: 0.0917 - val_categorical_accuracy: 0.6462\n",
      "Epoch 99/150\n",
      "698819/698819 [==============================] - 9s 12us/step - loss: 0.0918 - categorical_accuracy: 0.6478 - val_loss: 0.0919 - val_categorical_accuracy: 0.6518\n",
      "Epoch 100/150\n",
      "698819/698819 [==============================] - 9s 12us/step - loss: 0.0917 - categorical_accuracy: 0.6480 - val_loss: 0.0921 - val_categorical_accuracy: 0.6495\n",
      "Epoch 101/150\n",
      "698819/698819 [==============================] - 9s 12us/step - loss: 0.0917 - categorical_accuracy: 0.6482 - val_loss: 0.0919 - val_categorical_accuracy: 0.6462\n",
      "Epoch 102/150\n",
      "698819/698819 [==============================] - 9s 12us/step - loss: 0.0916 - categorical_accuracy: 0.6484 - val_loss: 0.0914 - val_categorical_accuracy: 0.6512\n",
      "Epoch 103/150\n",
      "698819/698819 [==============================] - 9s 13us/step - loss: 0.0915 - categorical_accuracy: 0.6491 - val_loss: 0.0915 - val_categorical_accuracy: 0.6497\n",
      "Epoch 104/150\n",
      "698819/698819 [==============================] - 9s 13us/step - loss: 0.0915 - categorical_accuracy: 0.6490 - val_loss: 0.0915 - val_categorical_accuracy: 0.6491\n",
      "Epoch 105/150\n",
      "698819/698819 [==============================] - 9s 13us/step - loss: 0.0914 - categorical_accuracy: 0.6497 - val_loss: 0.0912 - val_categorical_accuracy: 0.6508\n",
      "Epoch 106/150\n",
      "698819/698819 [==============================] - 9s 12us/step - loss: 0.0914 - categorical_accuracy: 0.6499 - val_loss: 0.0913 - val_categorical_accuracy: 0.6491\n",
      "Epoch 107/150\n",
      "698819/698819 [==============================] - 9s 12us/step - loss: 0.0913 - categorical_accuracy: 0.6503 - val_loss: 0.0912 - val_categorical_accuracy: 0.6512\n",
      "Epoch 108/150\n",
      "698819/698819 [==============================] - 9s 13us/step - loss: 0.0913 - categorical_accuracy: 0.6502 - val_loss: 0.0910 - val_categorical_accuracy: 0.6526\n",
      "Epoch 109/150\n",
      "698819/698819 [==============================] - 9s 13us/step - loss: 0.0912 - categorical_accuracy: 0.6505 - val_loss: 0.0915 - val_categorical_accuracy: 0.6506\n",
      "Epoch 110/150\n",
      "698819/698819 [==============================] - 9s 13us/step - loss: 0.0912 - categorical_accuracy: 0.6508 - val_loss: 0.0910 - val_categorical_accuracy: 0.6533\n",
      "Epoch 111/150\n",
      "698819/698819 [==============================] - 9s 13us/step - loss: 0.0911 - categorical_accuracy: 0.6510 - val_loss: 0.0914 - val_categorical_accuracy: 0.6476\n",
      "Epoch 112/150\n",
      "698819/698819 [==============================] - 9s 13us/step - loss: 0.0911 - categorical_accuracy: 0.6514 - val_loss: 0.0909 - val_categorical_accuracy: 0.6530\n",
      "Epoch 113/150\n",
      "698819/698819 [==============================] - 9s 13us/step - loss: 0.0911 - categorical_accuracy: 0.6514 - val_loss: 0.0909 - val_categorical_accuracy: 0.6516\n",
      "Epoch 114/150\n",
      "698819/698819 [==============================] - 12s 17us/step - loss: 0.0910 - categorical_accuracy: 0.6516 - val_loss: 0.0910 - val_categorical_accuracy: 0.6550\n",
      "Epoch 115/150\n",
      "698819/698819 [==============================] - 11s 16us/step - loss: 0.0910 - categorical_accuracy: 0.6521 - val_loss: 0.0910 - val_categorical_accuracy: 0.6513\n",
      "Epoch 116/150\n",
      "698819/698819 [==============================] - 9s 13us/step - loss: 0.0909 - categorical_accuracy: 0.6522 - val_loss: 0.0909 - val_categorical_accuracy: 0.6529\n",
      "Epoch 117/150\n",
      "698819/698819 [==============================] - 9s 14us/step - loss: 0.0909 - categorical_accuracy: 0.6522 - val_loss: 0.0907 - val_categorical_accuracy: 0.6520\n",
      "Epoch 118/150\n",
      "698819/698819 [==============================] - 9s 13us/step - loss: 0.0908 - categorical_accuracy: 0.6525 - val_loss: 0.0913 - val_categorical_accuracy: 0.6484\n",
      "Epoch 119/150\n",
      "698819/698819 [==============================] - 10s 14us/step - loss: 0.0908 - categorical_accuracy: 0.6529 - val_loss: 0.0907 - val_categorical_accuracy: 0.6553\n",
      "Epoch 120/150\n",
      "698819/698819 [==============================] - 11s 15us/step - loss: 0.0907 - categorical_accuracy: 0.6529 - val_loss: 0.0906 - val_categorical_accuracy: 0.6536\n",
      "Epoch 121/150\n",
      "698819/698819 [==============================] - 9s 13us/step - loss: 0.0907 - categorical_accuracy: 0.6529 - val_loss: 0.0907 - val_categorical_accuracy: 0.6544\n",
      "Epoch 122/150\n",
      "698819/698819 [==============================] - 10s 14us/step - loss: 0.0907 - categorical_accuracy: 0.6534 - val_loss: 0.0906 - val_categorical_accuracy: 0.6511\n",
      "Epoch 123/150\n",
      "698819/698819 [==============================] - 11s 16us/step - loss: 0.0906 - categorical_accuracy: 0.6534 - val_loss: 0.0909 - val_categorical_accuracy: 0.6521\n",
      "Epoch 124/150\n",
      "698819/698819 [==============================] - 11s 16us/step - loss: 0.0906 - categorical_accuracy: 0.6540 - val_loss: 0.0911 - val_categorical_accuracy: 0.6483\n",
      "Epoch 125/150\n",
      "698819/698819 [==============================] - 10s 15us/step - loss: 0.0905 - categorical_accuracy: 0.6542 - val_loss: 0.0904 - val_categorical_accuracy: 0.6542\n",
      "Epoch 126/150\n",
      "698819/698819 [==============================] - 9s 13us/step - loss: 0.0905 - categorical_accuracy: 0.6538 - val_loss: 0.0908 - val_categorical_accuracy: 0.6508\n",
      "Epoch 127/150\n",
      "698819/698819 [==============================] - 10s 14us/step - loss: 0.0905 - categorical_accuracy: 0.6543 - val_loss: 0.0903 - val_categorical_accuracy: 0.6559\n",
      "Epoch 128/150\n",
      "698819/698819 [==============================] - 9s 13us/step - loss: 0.0904 - categorical_accuracy: 0.6545 - val_loss: 0.0905 - val_categorical_accuracy: 0.6557\n",
      "Epoch 129/150\n",
      "698819/698819 [==============================] - 9s 13us/step - loss: 0.0904 - categorical_accuracy: 0.6547 - val_loss: 0.0903 - val_categorical_accuracy: 0.6561\n",
      "Epoch 130/150\n",
      "698819/698819 [==============================] - 9s 13us/step - loss: 0.0904 - categorical_accuracy: 0.6552 - val_loss: 0.0902 - val_categorical_accuracy: 0.6552\n",
      "Epoch 131/150\n",
      "698819/698819 [==============================] - 9s 13us/step - loss: 0.0903 - categorical_accuracy: 0.6551 - val_loss: 0.0901 - val_categorical_accuracy: 0.6563\n",
      "Epoch 132/150\n",
      "698819/698819 [==============================] - 9s 13us/step - loss: 0.0903 - categorical_accuracy: 0.6553 - val_loss: 0.0901 - val_categorical_accuracy: 0.6546\n",
      "Epoch 133/150\n",
      "698819/698819 [==============================] - 9s 13us/step - loss: 0.0902 - categorical_accuracy: 0.6554 - val_loss: 0.0902 - val_categorical_accuracy: 0.6533\n",
      "Epoch 134/150\n",
      "698819/698819 [==============================] - 9s 13us/step - loss: 0.0902 - categorical_accuracy: 0.6556 - val_loss: 0.0903 - val_categorical_accuracy: 0.6537\n",
      "Epoch 135/150\n",
      "698819/698819 [==============================] - 9s 13us/step - loss: 0.0902 - categorical_accuracy: 0.6556 - val_loss: 0.0901 - val_categorical_accuracy: 0.6535\n",
      "Epoch 136/150\n",
      "698819/698819 [==============================] - 9s 13us/step - loss: 0.0901 - categorical_accuracy: 0.6557 - val_loss: 0.0903 - val_categorical_accuracy: 0.6544\n",
      "Epoch 137/150\n",
      "698819/698819 [==============================] - 9s 13us/step - loss: 0.0901 - categorical_accuracy: 0.6560 - val_loss: 0.0900 - val_categorical_accuracy: 0.6573\n",
      "Epoch 138/150\n",
      "698819/698819 [==============================] - 9s 13us/step - loss: 0.0900 - categorical_accuracy: 0.6564 - val_loss: 0.0899 - val_categorical_accuracy: 0.6562\n",
      "Epoch 139/150\n",
      "698819/698819 [==============================] - 8s 12us/step - loss: 0.0900 - categorical_accuracy: 0.6565 - val_loss: 0.0898 - val_categorical_accuracy: 0.6588\n",
      "Epoch 140/150\n",
      "698819/698819 [==============================] - 8s 12us/step - loss: 0.0900 - categorical_accuracy: 0.6566 - val_loss: 0.0899 - val_categorical_accuracy: 0.6589\n",
      "Epoch 141/150\n",
      "698819/698819 [==============================] - 8s 12us/step - loss: 0.0899 - categorical_accuracy: 0.6570 - val_loss: 0.0897 - val_categorical_accuracy: 0.6579\n",
      "Epoch 142/150\n",
      "698819/698819 [==============================] - 9s 12us/step - loss: 0.0899 - categorical_accuracy: 0.6571 - val_loss: 0.0900 - val_categorical_accuracy: 0.6587\n",
      "Epoch 143/150\n",
      "698819/698819 [==============================] - 9s 12us/step - loss: 0.0899 - categorical_accuracy: 0.6571 - val_loss: 0.0898 - val_categorical_accuracy: 0.6583\n",
      "Epoch 144/150\n",
      "698819/698819 [==============================] - 8s 12us/step - loss: 0.0898 - categorical_accuracy: 0.6574 - val_loss: 0.0897 - val_categorical_accuracy: 0.6575\n",
      "Epoch 145/150\n",
      "698819/698819 [==============================] - 9s 13us/step - loss: 0.0898 - categorical_accuracy: 0.6574 - val_loss: 0.0896 - val_categorical_accuracy: 0.6585\n",
      "Epoch 146/150\n",
      "698819/698819 [==============================] - 8s 12us/step - loss: 0.0898 - categorical_accuracy: 0.6578 - val_loss: 0.0904 - val_categorical_accuracy: 0.6534\n",
      "Epoch 147/150\n",
      "698819/698819 [==============================] - 8s 12us/step - loss: 0.0897 - categorical_accuracy: 0.6579 - val_loss: 0.0902 - val_categorical_accuracy: 0.6523\n",
      "Epoch 148/150\n",
      "698819/698819 [==============================] - 8s 12us/step - loss: 0.0897 - categorical_accuracy: 0.6582 - val_loss: 0.0898 - val_categorical_accuracy: 0.6544\n",
      "Epoch 149/150\n",
      "698819/698819 [==============================] - 8s 12us/step - loss: 0.0897 - categorical_accuracy: 0.6584 - val_loss: 0.0896 - val_categorical_accuracy: 0.6569\n",
      "Epoch 150/150\n",
      "698819/698819 [==============================] - 9s 13us/step - loss: 0.0896 - categorical_accuracy: 0.6585 - val_loss: 0.0895 - val_categorical_accuracy: 0.6590\n"
     ]
    }
   ],
   "source": [
    "history = clf.fit(trainX,onehot_encoded_train,\n",
    "                 batch_size = 64, epochs = 150,\n",
    "                 verbose = 1,\n",
    "                 validation_split = 0.1)"
   ]
  },
  {
   "cell_type": "code",
   "execution_count": 50,
   "metadata": {},
   "outputs": [
    {
     "data": {
      "text/plain": [
       "(array([2, 4, 2, 5, 2, 1, 1, 2, 4, 2, 3, 2, 3, 4, 3, 3, 2, 2, 3, 4, 2, 4,\n",
       "        5, 2, 5, 4, 2, 2, 2, 2, 5, 2, 2, 1, 4, 4, 2, 2, 1, 2, 4, 2, 5, 3,\n",
       "        2, 3, 5, 4, 3, 2, 2, 5, 4, 5, 2, 4, 4, 2, 2, 2, 2, 4, 3, 4, 2, 2,\n",
       "        2, 2, 1, 2, 2, 1, 1, 2, 4, 5, 3, 4, 5, 2, 5, 5, 2, 5, 2, 2, 2, 2,\n",
       "        5, 5, 2, 4, 4, 2, 4, 4, 2, 1, 1], dtype=int64),\n",
       " array([2, 5, 1, 5, 2, 4, 4, 2, 4, 4, 3, 2, 3, 1, 3, 3, 2, 4, 3, 4, 2, 4,\n",
       "        4, 2, 5, 5, 4, 5, 2, 4, 5, 4, 4, 1, 5, 4, 2, 2, 5, 2, 4, 4, 5, 3,\n",
       "        1, 3, 5, 5, 3, 2, 4, 5, 1, 5, 5, 4, 5, 4, 4, 2, 2, 2, 1, 4, 2, 1,\n",
       "        2, 2, 1, 4, 2, 1, 4, 2, 1, 5, 3, 4, 5, 4, 3, 5, 2, 5, 4, 2, 2, 2,\n",
       "        4, 5, 5, 4, 4, 2, 4, 5, 2, 1, 1], dtype=int64))"
      ]
     },
     "execution_count": 50,
     "metadata": {},
     "output_type": "execute_result"
    }
   ],
   "source": [
    "clf.predict_classes(testX[1:100,:]) + 1,testY[1:100]"
   ]
  },
  {
   "cell_type": "code",
   "execution_count": 51,
   "metadata": {},
   "outputs": [
    {
     "name": "stdout",
     "output_type": "stream",
     "text": [
      "194117/194117 [==============================] - 2s 10us/step\n"
     ]
    },
    {
     "data": {
      "text/plain": [
       "[0.08945091667563816, 0.6597206839180454]"
      ]
     },
     "execution_count": 51,
     "metadata": {},
     "output_type": "execute_result"
    }
   ],
   "source": [
    "clf.evaluate(testX,onehot_encoded_test,verbose=1)"
   ]
  },
  {
   "cell_type": "code",
   "execution_count": 52,
   "metadata": {},
   "outputs": [],
   "source": [
    "# saving the model \n",
    "# save model and weights\n",
    "clf_json = clf.to_json()\n",
    "with open(\"NN_36-21-5.json\", \"w\") as json_file:\n",
    "    json_file.write(clf_json)\n",
    "    \n",
    "clf.save_weights(\"NN_36-21-5_weights.h5\")"
   ]
  },
  {
   "cell_type": "code",
   "execution_count": 53,
   "metadata": {},
   "outputs": [],
   "source": [
    "np.save('TestX_NN_36-21-5',testX), np.save('TestY_NN_36-21-5',testY),\n",
    "np.save('OneHot_testY_36-21-5',onehot_encoded_test)"
   ]
  },
  {
   "cell_type": "code",
   "execution_count": null,
   "metadata": {},
   "outputs": [],
   "source": []
  }
 ],
 "metadata": {
  "kernelspec": {
   "display_name": "Python 3",
   "language": "python",
   "name": "python3"
  },
  "language_info": {
   "codemirror_mode": {
    "name": "ipython",
    "version": 3
   },
   "file_extension": ".py",
   "mimetype": "text/x-python",
   "name": "python",
   "nbconvert_exporter": "python",
   "pygments_lexer": "ipython3",
   "version": "3.6.5"
  }
 },
 "nbformat": 4,
 "nbformat_minor": 2
}
