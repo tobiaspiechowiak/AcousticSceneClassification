{
 "cells": [
  {
   "cell_type": "code",
   "execution_count": 1,
   "metadata": {},
   "outputs": [],
   "source": [
    "#load packages\n",
    "import numpy as np\n",
    "import tensorflow as tf\n",
    "from tensorflow import keras \n",
    "import pandas as pd\n",
    "import soundfile as sf\n",
    "import os\n",
    "import h5py"
   ]
  },
  {
   "cell_type": "code",
   "execution_count": 5,
   "metadata": {},
   "outputs": [],
   "source": [
    "#import data \n",
    "path = 'e:/Processed/'     \n",
    "#'x:/Steering/Recordings/Processed/'\n",
    "data, fs = sf.read(path + 'ERB=2_MF_uniBF.wav')\n",
    "classes = pd.read_csv(path + 'Classes_MF_uniBF.csv')"
   ]
  },
  {
   "cell_type": "code",
   "execution_count": 6,
   "metadata": {},
   "outputs": [],
   "source": [
    "X = data[:len(data)-1,:data.shape[1]] \n",
    "Y = classes.values[:,0]"
   ]
  },
  {
   "cell_type": "code",
   "execution_count": 7,
   "metadata": {},
   "outputs": [
    {
     "name": "stdout",
     "output_type": "stream",
     "text": [
      "979352 979352 (979352, 180)\n"
     ]
    }
   ],
   "source": [
    "print(len(Y),len(X),X.shape)"
   ]
  },
  {
   "cell_type": "code",
   "execution_count": 8,
   "metadata": {},
   "outputs": [],
   "source": [
    "#split into training and test set\n",
    "from sklearn.model_selection import train_test_split\n",
    "trainX, testX, trainY, testY = train_test_split(X,Y,test_size=0.2,random_state=0,stratify=classes)"
   ]
  },
  {
   "cell_type": "code",
   "execution_count": 9,
   "metadata": {},
   "outputs": [],
   "source": [
    "#do one-hot encoding\n",
    "from sklearn.preprocessing import OneHotEncoder \n",
    "from sklearn.preprocessing import LabelEncoder\n",
    "\n",
    "enc = OneHotEncoder(sparse=False)"
   ]
  },
  {
   "cell_type": "code",
   "execution_count": 10,
   "metadata": {},
   "outputs": [],
   "source": [
    "integer_encoded_train = trainY.reshape(len(trainY), 1)\n",
    "onehot_encoded_train = enc.fit_transform(integer_encoded_train)\n",
    "\n",
    "integer_encoded_test = testY.reshape(len(testY), 1)\n",
    "onehot_encoded_test = enc.fit_transform(integer_encoded_test)"
   ]
  },
  {
   "cell_type": "code",
   "execution_count": 11,
   "metadata": {},
   "outputs": [
    {
     "data": {
      "text/plain": [
       "array([[1., 0.],\n",
       "       [1., 0.],\n",
       "       [1., 0.],\n",
       "       [0., 1.],\n",
       "       [1., 0.],\n",
       "       [0., 1.],\n",
       "       [1., 0.],\n",
       "       [0., 1.],\n",
       "       [1., 0.],\n",
       "       [1., 0.]])"
      ]
     },
     "execution_count": 11,
     "metadata": {},
     "output_type": "execute_result"
    }
   ],
   "source": [
    "onehot_encoded_train[:10,:]"
   ]
  },
  {
   "cell_type": "code",
   "execution_count": 12,
   "metadata": {},
   "outputs": [],
   "source": [
    "#DC removal \n",
    "trainX -= (np.mean(trainX, axis=0) + 1e-8)\n",
    "testX -= (np.mean(testX, axis=0) + 1e-8)"
   ]
  },
  {
   "cell_type": "code",
   "execution_count": 13,
   "metadata": {},
   "outputs": [],
   "source": [
    "clf = keras.Sequential()\n",
    "opt = keras.optimizers.Adam(lr=0.01)"
   ]
  },
  {
   "cell_type": "code",
   "execution_count": 14,
   "metadata": {},
   "outputs": [],
   "source": [
    "\n",
    "clf.add(keras.layers.Dense(\n",
    "  units = 91,\n",
    "  input_dim = trainX.shape[1],      \n",
    "  activation = 'tanh'\n",
    "))\n",
    "clf.add(keras.layers.Dropout(0.5))\n",
    "\n",
    "clf.add(keras.layers.Dense(\n",
    "    units = onehot_encoded_train.shape[1],  \n",
    "    input_dim = 91,\n",
    "    activation = 'softmax'\n",
    "))\n"
   ]
  },
  {
   "cell_type": "code",
   "execution_count": 15,
   "metadata": {},
   "outputs": [],
   "source": [
    "clf.compile(loss='mean_squared_error',\n",
    "    optimizer=opt,\n",
    "           metrics=['categorical_accuracy'])"
   ]
  },
  {
   "cell_type": "code",
   "execution_count": 16,
   "metadata": {},
   "outputs": [
    {
     "name": "stdout",
     "output_type": "stream",
     "text": [
      "Train on 626784 samples, validate on 156697 samples\n",
      "Epoch 1/20\n",
      "626784/626784 [==============================] - 11s 18us/step - loss: 0.0826 - categorical_accuracy: 0.8875 - val_loss: 0.0641 - val_categorical_accuracy: 0.9129\n",
      "Epoch 2/20\n",
      "626784/626784 [==============================] - 12s 18us/step - loss: 0.0673 - categorical_accuracy: 0.9088 - val_loss: 0.0520 - val_categorical_accuracy: 0.9304\n",
      "Epoch 3/20\n",
      "626784/626784 [==============================] - 12s 18us/step - loss: 0.0597 - categorical_accuracy: 0.9196 - val_loss: 0.0454 - val_categorical_accuracy: 0.9391\n",
      "Epoch 4/20\n",
      "626784/626784 [==============================] - 12s 19us/step - loss: 0.0558 - categorical_accuracy: 0.9259 - val_loss: 0.0426 - val_categorical_accuracy: 0.9434\n",
      "Epoch 5/20\n",
      "626784/626784 [==============================] - 12s 18us/step - loss: 0.0532 - categorical_accuracy: 0.9296 - val_loss: 0.0408 - val_categorical_accuracy: 0.9463\n",
      "Epoch 6/20\n",
      "626784/626784 [==============================] - 11s 18us/step - loss: 0.0514 - categorical_accuracy: 0.9321 - val_loss: 0.0423 - val_categorical_accuracy: 0.9441\n",
      "Epoch 7/20\n",
      "626784/626784 [==============================] - 12s 19us/step - loss: 0.0500 - categorical_accuracy: 0.9343 - val_loss: 0.0380 - val_categorical_accuracy: 0.9502\n",
      "Epoch 8/20\n",
      "626784/626784 [==============================] - 12s 18us/step - loss: 0.0493 - categorical_accuracy: 0.9353 - val_loss: 0.0376 - val_categorical_accuracy: 0.9508\n",
      "Epoch 9/20\n",
      "626784/626784 [==============================] - 11s 18us/step - loss: 0.0481 - categorical_accuracy: 0.9372 - val_loss: 0.0359 - val_categorical_accuracy: 0.9532\n",
      "Epoch 10/20\n",
      "626784/626784 [==============================] - 12s 18us/step - loss: 0.0476 - categorical_accuracy: 0.9378 - val_loss: 0.0345 - val_categorical_accuracy: 0.9550\n",
      "Epoch 11/20\n",
      "626784/626784 [==============================] - 12s 18us/step - loss: 0.0467 - categorical_accuracy: 0.9393 - val_loss: 0.0348 - val_categorical_accuracy: 0.9546\n",
      "Epoch 12/20\n",
      "626784/626784 [==============================] - 12s 19us/step - loss: 0.0462 - categorical_accuracy: 0.9402 - val_loss: 0.0338 - val_categorical_accuracy: 0.9563\n",
      "Epoch 13/20\n",
      "626784/626784 [==============================] - 12s 18us/step - loss: 0.0460 - categorical_accuracy: 0.9407 - val_loss: 0.0355 - val_categorical_accuracy: 0.9537\n",
      "Epoch 14/20\n",
      "626784/626784 [==============================] - 11s 18us/step - loss: 0.0454 - categorical_accuracy: 0.9415 - val_loss: 0.0324 - val_categorical_accuracy: 0.9577\n",
      "Epoch 15/20\n",
      "626784/626784 [==============================] - 12s 19us/step - loss: 0.0448 - categorical_accuracy: 0.9423 - val_loss: 0.0337 - val_categorical_accuracy: 0.9564\n",
      "Epoch 16/20\n",
      "626784/626784 [==============================] - 12s 19us/step - loss: 0.0447 - categorical_accuracy: 0.9424 - val_loss: 0.0313 - val_categorical_accuracy: 0.9594\n",
      "Epoch 17/20\n",
      "626784/626784 [==============================] - 12s 19us/step - loss: 0.0442 - categorical_accuracy: 0.9431 - val_loss: 0.0320 - val_categorical_accuracy: 0.9590\n",
      "Epoch 18/20\n",
      "626784/626784 [==============================] - 12s 19us/step - loss: 0.0441 - categorical_accuracy: 0.9433 - val_loss: 0.0363 - val_categorical_accuracy: 0.9538\n",
      "Epoch 19/20\n",
      "626784/626784 [==============================] - 11s 18us/step - loss: 0.0439 - categorical_accuracy: 0.9434 - val_loss: 0.0322 - val_categorical_accuracy: 0.9586\n",
      "Epoch 20/20\n",
      "626784/626784 [==============================] - 12s 19us/step - loss: 0.0435 - categorical_accuracy: 0.9440 - val_loss: 0.0310 - val_categorical_accuracy: 0.9602\n"
     ]
    }
   ],
   "source": [
    "history = clf.fit(trainX,onehot_encoded_train,\n",
    "                 batch_size = 100, epochs = 20,\n",
    "                 verbose = 1,\n",
    "                 validation_split = 0.2)"
   ]
  },
  {
   "cell_type": "code",
   "execution_count": 17,
   "metadata": {},
   "outputs": [
    {
     "data": {
      "text/plain": [
       "(array([1, 1, 1, 0, 1, 0, 0, 0, 0, 1, 0, 0, 1, 1, 0, 0, 1, 0, 0, 1, 1, 1,\n",
       "        1, 0, 0, 0, 1, 1, 0, 1, 1, 1, 0, 0, 1, 1, 1, 1, 1, 1, 1, 0, 0, 0,\n",
       "        0, 0, 0, 0, 1, 1, 0, 1, 0, 0, 0, 0, 0, 0, 0, 0, 1, 0, 0, 0, 0, 1,\n",
       "        0, 0, 0, 0, 0, 0, 0, 0, 0, 0, 1, 0, 0, 1, 0, 0, 0, 0, 0, 1, 0, 1,\n",
       "        0, 0, 1, 1, 0, 0, 0, 1, 0, 0, 0], dtype=int64),\n",
       " array([1, 1, 1, 0, 1, 0, 0, 1, 0, 0, 0, 0, 1, 1, 0, 0, 1, 0, 0, 1, 1, 1,\n",
       "        0, 0, 0, 0, 1, 1, 0, 1, 0, 1, 0, 0, 1, 1, 1, 1, 1, 1, 1, 0, 0, 0,\n",
       "        0, 0, 0, 0, 1, 1, 0, 1, 0, 0, 0, 0, 0, 0, 0, 0, 1, 0, 0, 0, 0, 1,\n",
       "        0, 0, 0, 0, 0, 0, 0, 0, 0, 0, 1, 0, 0, 0, 0, 1, 0, 0, 0, 1, 0, 1,\n",
       "        0, 0, 1, 1, 0, 0, 0, 1, 0, 0, 0], dtype=int64))"
      ]
     },
     "execution_count": 17,
     "metadata": {},
     "output_type": "execute_result"
    }
   ],
   "source": [
    "\n",
    "testY[1:100], clf.predict_classes(testX[1:100,:])"
   ]
  },
  {
   "cell_type": "code",
   "execution_count": 17,
   "metadata": {},
   "outputs": [
    {
     "name": "stdout",
     "output_type": "stream",
     "text": [
      "195871/195871 [==============================] - 4s 19us/step\n"
     ]
    },
    {
     "data": {
      "text/plain": [
       "[0.03268172402412567, 0.9578089661006781]"
      ]
     },
     "execution_count": 17,
     "metadata": {},
     "output_type": "execute_result"
    }
   ],
   "source": [
    "clf.evaluate(testX,onehot_encoded_test,verbose=1)"
   ]
  },
  {
   "cell_type": "code",
   "execution_count": 18,
   "metadata": {},
   "outputs": [],
   "source": [
    "# save model and weights\n",
    "#clf_json = clf.to_json()\n",
    "#with open(\"NN_OwnVoice_180-91-2_inputs_uniBF.json\", \"w\") as json_file:\n",
    "#    json_file.write(clf_json)\n",
    "    \n",
    "#clf.save_weights(\"NN_OwnVoice_180-91-2_inputs_uniBF_weights.h5\")"
   ]
  },
  {
   "cell_type": "code",
   "execution_count": 19,
   "metadata": {},
   "outputs": [],
   "source": [
    "#np.save('TestX_NN_OwnVoice_uniBF',testX), np.save('TestY_NN_OwnVoice_uniBF',testY),\n",
    "#np.save('OneHot_testY_uniBF',onehot_encoded_test)"
   ]
  },
  {
   "cell_type": "code",
   "execution_count": 18,
   "metadata": {},
   "outputs": [],
   "source": [
    "import matplotlib.pyplot as plt"
   ]
  },
  {
   "cell_type": "code",
   "execution_count": 19,
   "metadata": {},
   "outputs": [
    {
     "data": {
      "image/png": "[encoded data removed]",
      "text/plain": [
       "<Figure size 432x288 with 1 Axes>"
      ]
     },
     "metadata": {},
     "output_type": "display_data"
    }
   ],
   "source": [
    "plt.plot(history.history['val_categorical_accuracy'])\n",
    "plt.plot(history.history['categorical_accuracy'])\n",
    "plt.title('Model accuracy')\n",
    "plt.ylabel('Accuracy')\n",
    "plt.xlabel('Epochs')\n",
    "plt.axis([0, 20, 0.5, 1])\n",
    "plt.legend(['Validation', 'Training'], loc='lower right')\n",
    "plt.savefig('Accuracy_MF_uniBF.png',dpi=150)"
   ]
  },
  {
   "cell_type": "code",
   "execution_count": 24,
   "metadata": {},
   "outputs": [
    {
     "data": {
      "text/plain": [
       "[<tensorflow.python.keras.layers.core.Dense at 0x680dc668>,\n",
       " <tensorflow.python.keras.layers.core.Dropout at 0x680dc5c0>,\n",
       " <tensorflow.python.keras.layers.core.Dense at 0x680dca58>]"
      ]
     },
     "execution_count": 24,
     "metadata": {},
     "output_type": "execute_result"
    }
   ],
   "source": [
    "clf.layers\n"
   ]
  },
  {
   "cell_type": "code",
   "execution_count": 25,
   "metadata": {},
   "outputs": [],
   "source": [
    "#saving weights\n",
    "weights_first_layer = clf.layers[0].get_weights()[0]\n",
    "biases_first_layer = clf.layers[0].get_weights()[1]\n",
    "\n",
    "weights_second_layer = clf.layers[2].get_weights()[0]\n",
    "biases_second_layer = clf.layers[2].get_weights()[1]\n",
    "\n",
    "\n",
    "weights_first_layer = np.vstack([biases_first_layer, weights_first_layer])\n",
    "weights_second_layer = np.vstack([biases_second_layer, weights_second_layer])\n",
    "\n",
    "\n",
    "weights_first_layer_norm = weights_first_layer / abs(weights_first_layer).max()\n",
    "#biases_first_layer_norm = biases_first_layer / abs(biases_first_layer).max()\n",
    "\n",
    "weights_second_layer_norm = weights_second_layer / abs(weights_second_layer).max()\n",
    "#biases_second_layer_norm = biases_second_layer / abs(biases_second_layer).max()\n",
    "\n",
    "\n",
    "weights_first_layer_norm.shape, weights_second_layer_norm.shape\n",
    "\n",
    "abs(weights_first_layer).max(), abs(weights_second_layer).max()\n",
    "\n",
    "np.savetxt('weights_first_layer_norm_NN_180-91-2_ownVoice.txt',\n",
    "           weights_first_layer_norm,delimiter= ',')\n",
    "np.savetxt('weights_second_layer_norm_NN_180-91-2_ownVoice.txt',\n",
    "           weights_second_layer_norm,delimiter= ',')\n"
   ]
  },
  {
   "cell_type": "code",
   "execution_count": 31,
   "metadata": {},
   "outputs": [],
   "source": [
    "#confusion matrix \n",
    "from sklearn.metrics import confusion_matrix\n",
    "import matplotlib.pyplot as plt\n",
    "\n",
    "cfm = confusion_matrix(testY,clf.predict_classes(testX)) \n",
    "\n",
    "a = [0 for x in range(2)]\n",
    "cfm_norm = np.zeros((2,2))#[[0 for x in range(5)] for y in range(5)]\n",
    "\n",
    "for idx in range(2):\n",
    "    cfm_norm[idx,:] = cfm[idx,:] / sum(cfm[idx,:]) #len(testY[testY == idx + 1])      \n",
    "\n",
    "cfm_norm = np.around(cfm_norm,decimals=3)\n",
    "\n",
    "#nicer confusion matrix\n",
    "fig, ax = plt.subplots(figsize = (6, 6))\n",
    "ax.matshow(cfm_norm,cmap=plt.cm.Blues,alpha=0.7)\n",
    "\n",
    "for i in range(cfm_norm.shape[0]):\n",
    "    for j in range(cfm_norm.shape[1]):\n",
    "        ax.text(x=j,y=i, s=cfm_norm[i,j],va='center', ha= 'center',fontsize=15)\n",
    "  \n",
    "ax.set_xticks([0,1])\n",
    "ax.set_yticks([0,1])\n",
    "ax.set_xticklabels(['Other','Own-voice'])\n",
    "ax.set_yticklabels(['Other','Own-voice'])\n",
    "ax.yaxis.set_label_coords(1.1,0.5)\n",
    "ax.xaxis.set_label_coords(0.51,-0.07)\n",
    "ax.set_xlabel('Predicted Class',fontsize=13)\n",
    "ax.set_ylabel('True Class',fontsize=13)\n",
    "fig.savefig('Conf_Matrix_OwnVoice_uni.png',dpi=80)\n"
   ]
  },
  {
   "cell_type": "code",
   "execution_count": 1,
   "metadata": {},
   "outputs": [
    {
     "ename": "NameError",
     "evalue": "name 'cfm_norm' is not defined",
     "output_type": "error",
     "traceback": [
      "\u001b[1;31m---------------------------------------------------------------------------\u001b[0m",
      "\u001b[1;31mNameError\u001b[0m                                 Traceback (most recent call last)",
      "\u001b[1;32m<ipython-input-1-f3fad7308015>\u001b[0m in \u001b[0;36m<module>\u001b[1;34m()\u001b[0m\n\u001b[1;32m----> 1\u001b[1;33m \u001b[0mFP\u001b[0m \u001b[1;33m=\u001b[0m \u001b[0mcfm_norm\u001b[0m\u001b[1;33m.\u001b[0m\u001b[0msum\u001b[0m\u001b[1;33m(\u001b[0m\u001b[0maxis\u001b[0m\u001b[1;33m=\u001b[0m\u001b[1;36m0\u001b[0m\u001b[1;33m)\u001b[0m \u001b[1;33m-\u001b[0m \u001b[0mnp\u001b[0m\u001b[1;33m.\u001b[0m\u001b[0mdiag\u001b[0m\u001b[1;33m(\u001b[0m\u001b[0mcfm_norm\u001b[0m\u001b[1;33m)\u001b[0m\u001b[1;33m\u001b[0m\u001b[0m\n\u001b[0m\u001b[0;32m      2\u001b[0m \u001b[0mFN\u001b[0m \u001b[1;33m=\u001b[0m \u001b[0mcfm_norm\u001b[0m\u001b[1;33m.\u001b[0m\u001b[0msum\u001b[0m\u001b[1;33m(\u001b[0m\u001b[0maxis\u001b[0m\u001b[1;33m=\u001b[0m\u001b[1;36m1\u001b[0m\u001b[1;33m)\u001b[0m \u001b[1;33m-\u001b[0m \u001b[0mnp\u001b[0m\u001b[1;33m.\u001b[0m\u001b[0mdiag\u001b[0m\u001b[1;33m(\u001b[0m\u001b[0mcfm_norm\u001b[0m\u001b[1;33m)\u001b[0m\u001b[1;33m\u001b[0m\u001b[0m\n\u001b[0;32m      3\u001b[0m \u001b[0mTP\u001b[0m \u001b[1;33m=\u001b[0m \u001b[0mnp\u001b[0m\u001b[1;33m.\u001b[0m\u001b[0mdiag\u001b[0m\u001b[1;33m(\u001b[0m\u001b[0mcfm_norm\u001b[0m\u001b[1;33m)\u001b[0m\u001b[1;33m\u001b[0m\u001b[0m\n\u001b[0;32m      4\u001b[0m \u001b[0mTN\u001b[0m \u001b[1;33m=\u001b[0m \u001b[0mcfm_norm\u001b[0m\u001b[1;33m.\u001b[0m\u001b[0msum\u001b[0m\u001b[1;33m(\u001b[0m\u001b[1;33m)\u001b[0m \u001b[1;33m-\u001b[0m \u001b[1;33m(\u001b[0m\u001b[0mFP\u001b[0m \u001b[1;33m+\u001b[0m \u001b[0mFN\u001b[0m \u001b[1;33m+\u001b[0m \u001b[0mTP\u001b[0m\u001b[1;33m)\u001b[0m\u001b[1;33m\u001b[0m\u001b[0m\n\u001b[0;32m      5\u001b[0m \u001b[1;33m\u001b[0m\u001b[0m\n",
      "\u001b[1;31mNameError\u001b[0m: name 'cfm_norm' is not defined"
     ]
    }
   ],
   "source": [
    "FP = cfm_norm.sum(axis=0) - np.diag(cfm_norm)  \n",
    "FN = cfm_norm.sum(axis=1) - np.diag(cfm_norm)\n",
    "TP = np.diag(cfm_norm)\n",
    "TN = cfm_norm.sum() - (FP + FN + TP)\n",
    "\n",
    "# Sensitivity, hit rate, recall, or true positive rate\n",
    "TPR = TP/(TP+FN)\n",
    "# Fall out or false positive rate\n",
    "FPR = FP/(FP+TN)\n",
    "\n",
    "# Overall accuracy\n",
    "ACC = (TP+TN)/(TP+FP+FN+TN)\n",
    "\n",
    "ACC.mean(),TPR.mean(), FPR.mean()"
   ]
  },
  {
   "cell_type": "code",
   "execution_count": null,
   "metadata": {},
   "outputs": [],
   "source": []
  }
 ],
 "metadata": {
  "kernelspec": {
   "display_name": "Python 3",
   "language": "python",
   "name": "python3"
  },
  "language_info": {
   "codemirror_mode": {
    "name": "ipython",
    "version": 3
   },
   "file_extension": ".py",
   "mimetype": "text/x-python",
   "name": "python",
   "nbconvert_exporter": "python",
   "pygments_lexer": "ipython3",
   "version": "3.6.5"
  }
 },
 "nbformat": 4,
 "nbformat_minor": 2
}
