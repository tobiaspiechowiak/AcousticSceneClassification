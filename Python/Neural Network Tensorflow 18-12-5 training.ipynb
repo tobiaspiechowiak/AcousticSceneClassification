{
 "cells": [
  {
   "cell_type": "code",
   "execution_count": 1,
   "metadata": {},
   "outputs": [],
   "source": [
    "#load packages\n",
    "import numpy as np\n",
    "import tensorflow as tf\n",
    "from tensorflow import keras \n",
    "import pandas as pd\n",
    "import soundfile as sf\n"
   ]
  },
  {
   "cell_type": "code",
   "execution_count": 2,
   "metadata": {},
   "outputs": [],
   "source": [
    "#import data \n",
    "path = 'x:/Steering/Recordings/Processed/'\n",
    "data, fs = sf.read(path + 'ERB=2.wav')\n",
    "classes = pd.read_csv(path + 'Classes_2.csv')\n"
   ]
  },
  {
   "cell_type": "code",
   "execution_count": 3,
   "metadata": {},
   "outputs": [],
   "source": [
    "# front left and front right as predictors\n",
    "X = data[:len(data)-1,0*18:1*18] \n",
    "Y = classes.values[:,0] - 1"
   ]
  },
  {
   "cell_type": "code",
   "execution_count": 4,
   "metadata": {},
   "outputs": [],
   "source": [
    "#split into training and test set\n",
    "from sklearn.model_selection import train_test_split\n",
    "trainX, testX, trainY, testY = train_test_split(X,Y,test_size=0.2,random_state=0)"
   ]
  },
  {
   "cell_type": "code",
   "execution_count": 5,
   "metadata": {},
   "outputs": [],
   "source": [
    "onehot_encoded_train = keras.utils.to_categorical(trainY)\n",
    "onehot_encoded_test = keras.utils.to_categorical(testY)"
   ]
  },
  {
   "cell_type": "code",
   "execution_count": 6,
   "metadata": {},
   "outputs": [
    {
     "data": {
      "text/plain": [
       "array([[0., 0., 0., 1., 0.],\n",
       "       [0., 0., 0., 1., 0.],\n",
       "       [0., 0., 0., 1., 0.],\n",
       "       ...,\n",
       "       [0., 1., 0., 0., 0.],\n",
       "       [0., 0., 0., 1., 0.],\n",
       "       [0., 1., 0., 0., 0.]], dtype=float32)"
      ]
     },
     "execution_count": 6,
     "metadata": {},
     "output_type": "execute_result"
    }
   ],
   "source": [
    "onehot_encoded_test"
   ]
  },
  {
   "cell_type": "code",
   "execution_count": 7,
   "metadata": {},
   "outputs": [
    {
     "data": {
      "text/plain": [
       "array([[0., 0., 0., 1., 0.],\n",
       "       [0., 0., 0., 0., 1.],\n",
       "       [0., 0., 0., 0., 1.],\n",
       "       ...,\n",
       "       [0., 0., 0., 0., 1.],\n",
       "       [0., 1., 0., 0., 0.],\n",
       "       [0., 1., 0., 0., 0.]], dtype=float32)"
      ]
     },
     "execution_count": 7,
     "metadata": {},
     "output_type": "execute_result"
    }
   ],
   "source": [
    "onehot_encoded_train \n"
   ]
  },
  {
   "cell_type": "code",
   "execution_count": 8,
   "metadata": {},
   "outputs": [],
   "source": [
    "#DC removal \n",
    "trainX -= (np.mean(trainX, axis=0) + 1e-8)\n",
    "testX -= (np.mean(testX, axis=0) + 1e-8)"
   ]
  },
  {
   "cell_type": "code",
   "execution_count": 9,
   "metadata": {},
   "outputs": [],
   "source": [
    "clf = keras.Sequential()\n",
    "opt = keras.optimizers.Adam(lr=0.05)"
   ]
  },
  {
   "cell_type": "code",
   "execution_count": 10,
   "metadata": {},
   "outputs": [
    {
     "data": {
      "text/plain": [
       "(5, 18, array([[0., 0., 0., 1., 0.],\n",
       "        [0., 0., 0., 0., 1.],\n",
       "        [0., 0., 0., 0., 1.],\n",
       "        ...,\n",
       "        [0., 0., 0., 0., 1.],\n",
       "        [0., 1., 0., 0., 0.],\n",
       "        [0., 1., 0., 0., 0.]], dtype=float32))"
      ]
     },
     "execution_count": 10,
     "metadata": {},
     "output_type": "execute_result"
    }
   ],
   "source": [
    "onehot_encoded_train.shape[1], X.shape[1],onehot_encoded_train\n"
   ]
  },
  {
   "cell_type": "code",
   "execution_count": 11,
   "metadata": {},
   "outputs": [],
   "source": [
    "\n",
    "clf.add(keras.layers.Dense(\n",
    "  units = 12,\n",
    "  input_dim = trainX.shape[1], \n",
    "  activation = 'tanh'\n",
    "))\n",
    "\n",
    "clf.add(keras.layers.Dropout(0.2))\n",
    "\n",
    "clf.add(keras.layers.Dense(\n",
    "    units = onehot_encoded_train.shape[1],      \n",
    "    input_dim = 12,\n",
    "    activation = 'softmax'\n",
    "))\n",
    "\n",
    "#kernel_regularizer = keras.regularizers.l2(0.001),\n"
   ]
  },
  {
   "cell_type": "code",
   "execution_count": 12,
   "metadata": {},
   "outputs": [
    {
     "data": {
      "text/plain": [
       "(5, (848016, 18))"
      ]
     },
     "execution_count": 12,
     "metadata": {},
     "output_type": "execute_result"
    }
   ],
   "source": [
    "onehot_encoded_train.shape[1], trainX.shape"
   ]
  },
  {
   "cell_type": "code",
   "execution_count": 13,
   "metadata": {},
   "outputs": [],
   "source": [
    "clf.compile(loss='mean_squared_error',\n",
    "    optimizer=opt,\n",
    "           metrics=['categorical_accuracy'])"
   ]
  },
  {
   "cell_type": "code",
   "execution_count": 14,
   "metadata": {},
   "outputs": [
    {
     "name": "stdout",
     "output_type": "stream",
     "text": [
      "Train on 678412 samples, validate on 169604 samples\n",
      "Epoch 1/20\n",
      "678412/678412 [==============================] - 9s 13us/step - loss: 0.1484 - categorical_accuracy: 0.3877 - val_loss: 0.1471 - val_categorical_accuracy: 0.3972\n",
      "Epoch 2/20\n",
      "678412/678412 [==============================] - 8s 12us/step - loss: 0.1473 - categorical_accuracy: 0.4058 - val_loss: 0.1464 - val_categorical_accuracy: 0.4091\n",
      "Epoch 3/20\n",
      "678412/678412 [==============================] - 7s 11us/step - loss: 0.1469 - categorical_accuracy: 0.4091 - val_loss: 0.1463 - val_categorical_accuracy: 0.4273\n",
      "Epoch 4/20\n",
      "678412/678412 [==============================] - 7s 11us/step - loss: 0.1459 - categorical_accuracy: 0.4016 - val_loss: 0.1388 - val_categorical_accuracy: 0.4269\n",
      "Epoch 5/20\n",
      "678412/678412 [==============================] - 7s 11us/step - loss: 0.1403 - categorical_accuracy: 0.4037 - val_loss: 0.1339 - val_categorical_accuracy: 0.4664\n",
      "Epoch 6/20\n",
      "678412/678412 [==============================] - 7s 11us/step - loss: 0.1379 - categorical_accuracy: 0.4196 - val_loss: 0.1323 - val_categorical_accuracy: 0.4679\n",
      "Epoch 7/20\n",
      "678412/678412 [==============================] - 7s 10us/step - loss: 0.1370 - categorical_accuracy: 0.4259 - val_loss: 0.1325 - val_categorical_accuracy: 0.4463\n",
      "Epoch 8/20\n",
      "678412/678412 [==============================] - 6s 9us/step - loss: 0.1367 - categorical_accuracy: 0.4284 - val_loss: 0.1312 - val_categorical_accuracy: 0.4525\n",
      "Epoch 9/20\n",
      "678412/678412 [==============================] - 7s 10us/step - loss: 0.1364 - categorical_accuracy: 0.4304 - val_loss: 0.1317 - val_categorical_accuracy: 0.4488\n",
      "Epoch 10/20\n",
      "678412/678412 [==============================] - 6s 9us/step - loss: 0.1363 - categorical_accuracy: 0.4312 - val_loss: 0.1306 - val_categorical_accuracy: 0.4695\n",
      "Epoch 11/20\n",
      "678412/678412 [==============================] - 6s 9us/step - loss: 0.1363 - categorical_accuracy: 0.4321 - val_loss: 0.1346 - val_categorical_accuracy: 0.4687\n",
      "Epoch 12/20\n",
      "678412/678412 [==============================] - 6s 9us/step - loss: 0.1361 - categorical_accuracy: 0.4319 - val_loss: 0.1294 - val_categorical_accuracy: 0.4792\n",
      "Epoch 13/20\n",
      "678412/678412 [==============================] - 6s 9us/step - loss: 0.1361 - categorical_accuracy: 0.4320 - val_loss: 0.1346 - val_categorical_accuracy: 0.3917\n",
      "Epoch 14/20\n",
      "678412/678412 [==============================] - 7s 10us/step - loss: 0.1360 - categorical_accuracy: 0.4329 - val_loss: 0.1308 - val_categorical_accuracy: 0.4680\n",
      "Epoch 15/20\n",
      "678412/678412 [==============================] - 6s 9us/step - loss: 0.1359 - categorical_accuracy: 0.4337 - val_loss: 0.1315 - val_categorical_accuracy: 0.4655\n",
      "Epoch 16/20\n",
      "678412/678412 [==============================] - 6s 9us/step - loss: 0.1360 - categorical_accuracy: 0.4326 - val_loss: 0.1302 - val_categorical_accuracy: 0.4703\n",
      "Epoch 17/20\n",
      "678412/678412 [==============================] - 6s 9us/step - loss: 0.1358 - categorical_accuracy: 0.4337 - val_loss: 0.1304 - val_categorical_accuracy: 0.4728\n",
      "Epoch 18/20\n",
      "678412/678412 [==============================] - 6s 9us/step - loss: 0.1358 - categorical_accuracy: 0.4338 - val_loss: 0.1297 - val_categorical_accuracy: 0.4712\n",
      "Epoch 19/20\n",
      "678412/678412 [==============================] - 6s 8us/step - loss: 0.1357 - categorical_accuracy: 0.4346 - val_loss: 0.1304 - val_categorical_accuracy: 0.4617\n",
      "Epoch 20/20\n",
      "678412/678412 [==============================] - 6s 9us/step - loss: 0.1356 - categorical_accuracy: 0.4335 - val_loss: 0.1309 - val_categorical_accuracy: 0.4656\n"
     ]
    }
   ],
   "source": [
    "history = clf.fit(trainX,onehot_encoded_train,\n",
    "                 batch_size = 100, epochs = 20,\n",
    "                 verbose = 1,\n",
    "                 validation_split = 0.2)"
   ]
  },
  {
   "cell_type": "code",
   "execution_count": 15,
   "metadata": {},
   "outputs": [
    {
     "data": {
      "text/plain": [
       "(array([2, 2, 3, 3, 2, 2, 2, 2, 2, 3, 5, 2, 2, 2, 2, 2, 2, 2, 2, 2, 2, 2,\n",
       "        2, 2, 2, 2, 2, 2, 2, 2, 3, 3, 2, 2, 2, 2, 3, 3, 5, 4, 2, 2, 2, 2,\n",
       "        2, 2, 2, 2, 2, 2, 2, 2, 2, 2, 2, 5, 3, 2, 2, 3, 2, 5, 2, 2, 3, 2,\n",
       "        2, 2, 2, 2, 2, 2, 2, 2, 4, 2, 5, 2, 2, 2, 2, 2, 3, 5, 2, 5, 2, 2,\n",
       "        2, 2, 2, 2, 2, 2, 2, 2, 2, 2, 5], dtype=int64),\n",
       " array([3, 3, 2, 2, 1, 0, 3, 1, 4, 2, 3, 1, 2, 1, 4, 3, 1, 0, 4, 1, 3, 1,\n",
       "        1, 1, 1, 3, 0, 3, 4, 3, 2, 4, 3, 3, 1, 3, 2, 2, 2, 3, 0, 1, 1, 1,\n",
       "        0, 3, 1, 2, 4, 4, 3, 1, 1, 3, 1, 2, 4, 0, 3, 2, 0, 4, 1, 4, 2, 3,\n",
       "        1, 3, 3, 1, 0, 3, 3, 3, 3, 1, 2, 3, 1, 0, 1, 1, 4, 2, 3, 4, 1, 3,\n",
       "        0, 1, 3, 3, 1, 0, 3, 3, 4, 3, 3], dtype=int64))"
      ]
     },
     "execution_count": 15,
     "metadata": {},
     "output_type": "execute_result"
    }
   ],
   "source": [
    "clf.predict_classes(testX[1:100,:]) + 1,testY[1:100]"
   ]
  },
  {
   "cell_type": "code",
   "execution_count": 16,
   "metadata": {},
   "outputs": [
    {
     "name": "stdout",
     "output_type": "stream",
     "text": [
      "212005/212005 [==============================] - 2s 8us/step\n"
     ]
    },
    {
     "data": {
      "text/plain": [
       "[0.13109747550971992, 0.46541355156746117]"
      ]
     },
     "execution_count": 16,
     "metadata": {},
     "output_type": "execute_result"
    }
   ],
   "source": [
    "clf.evaluate(testX,onehot_encoded_test,verbose=1)"
   ]
  },
  {
   "cell_type": "code",
   "execution_count": 17,
   "metadata": {},
   "outputs": [],
   "source": [
    "# saving the model \n",
    "# save model and weights\n",
    "#clf_json = clf.to_json()\n",
    "#with open(\"NN_18-12-5.json\", \"w\") as json_file:\n",
    " #   json_file.write(clf_json)\n",
    "    \n",
    "#clf.save_weights(\"NN_18-12-5_weights.h5\")"
   ]
  },
  {
   "cell_type": "code",
   "execution_count": 18,
   "metadata": {},
   "outputs": [],
   "source": [
    "#np.save('TestX_NN_18-12-5',testX), np.save('TestY_NN_18-12-5',testY),\n",
    "#np.save('OneHot_testY_18-12-5',onehot_encoded_test)"
   ]
  },
  {
   "cell_type": "code",
   "execution_count": 19,
   "metadata": {},
   "outputs": [],
   "source": [
    "import matplotlib.pyplot as plt\n",
    "\n",
    "plt.plot(history.history['val_categorical_accuracy'])\n",
    "plt.plot(history.history['categorical_accuracy'])\n",
    "plt.title('Model accuracy')\n",
    "plt.ylabel('Accuracy')\n",
    "plt.xlabel('Epochs')\n",
    "plt.axis([0, 20, 0.3, 1])\n",
    "plt.legend(['Validation', 'Training'], loc='upper left')\n",
    "plt.savefig('Accuracy_left_ERB=2.png',dpi=100)"
   ]
  },
  {
   "cell_type": "code",
   "execution_count": 20,
   "metadata": {},
   "outputs": [],
   "source": [
    "#saving weights\n",
    "weights_first_layer = clf.layers[0].get_weights()[0]\n",
    "biases_first_layer = clf.layers[0].get_weights()[1]\n",
    "\n",
    "weights_second_layer = clf.layers[2].get_weights()[0]\n",
    "biases_second_layer = clf.layers[2].get_weights()[1]\n",
    "\n",
    "\n",
    "weights_first_layer = np.vstack([biases_first_layer, weights_first_layer])\n",
    "weights_second_layer = np.vstack([biases_second_layer, weights_second_layer])\n",
    "\n",
    "\n",
    "weights_first_layer_norm = weights_first_layer / abs(weights_first_layer).max()\n",
    "#biases_first_layer_norm = biases_first_layer / abs(biases_first_layer).max()\n",
    "\n",
    "weights_second_layer_norm = weights_second_layer / abs(weights_second_layer).max()\n",
    "#biases_second_layer_norm = biases_second_layer / abs(biases_second_layer).max()\n",
    "\n",
    "\n",
    "weights_first_layer_norm.shape, weights_second_layer_norm.shape\n",
    "\n",
    "abs(weights_first_layer).max(), abs(weights_second_layer).max()\n",
    "\n",
    "np.savetxt('weights_first_layer_norm_NN_18-12-5.txt',weights_first_layer_norm,delimiter= ',')\n",
    "np.savetxt('weights_second_layer_norm_NN_18-12-5.txt',weights_second_layer_norm,delimiter= ',')\n"
   ]
  },
  {
   "cell_type": "code",
   "execution_count": 21,
   "metadata": {},
   "outputs": [
    {
     "data": {
      "image/png": "[encoded data removed]",
      "text/plain": [
       "<Figure size 432x432 with 1 Axes>"
      ]
     },
     "metadata": {},
     "output_type": "display_data"
    }
   ],
   "source": [
    "#confusion matrix \n",
    "from sklearn.metrics import confusion_matrix\n",
    "import matplotlib.pyplot as plt\n",
    "\n",
    "cfm = confusion_matrix(testY,clf.predict_classes(testX)) \n",
    "\n",
    "a = [0 for x in range(5)]\n",
    "cfm_norm = np.zeros((5,5))#[[0 for x in range(5)] for y in range(5)]\n",
    "\n",
    "for idx in range(5):\n",
    "    cfm_norm[idx,:] = cfm[idx,:] / sum(cfm[idx,:]) #len(testY[testY == idx + 1])      \n",
    "\n",
    "cfm_norm = np.around(cfm_norm,decimals=3)\n",
    "\n",
    "#nicer confusion matrix\n",
    "fig, ax = plt.subplots(figsize = (6, 6))\n",
    "ax.matshow(cfm_norm,cmap=plt.cm.Blues,alpha=0.7)\n",
    "\n",
    "for i in range(cfm_norm.shape[0]):\n",
    "    for j in range(cfm_norm.shape[1]):\n",
    "        ax.text(x=j,y=i, s=cfm_norm[i,j],va='center', ha= 'center')\n",
    "\n",
    "ax.set_xticks([0,1,2,3,4])\n",
    "ax.set_yticks([0,1,2,3,4])\n",
    "ax.set_xticklabels(['Babble','Own-voice','Car','Speech','Traffic'])\n",
    "ax.set_yticklabels(['Babble','Own-voice','Car','Speech','Traffic'])\n",
    "ax.yaxis.set_label_coords(1.08,0.5)\n",
    "ax.xaxis.set_label_coords(0.51,-0.04)\n",
    "ax.set_xlabel('Predicted Class',fontsize=15)\n",
    "ax.set_ylabel('True Class',fontsize=15)\n",
    "fig.savefig('Conf_Matrix_left_ERB=2.png',dpi=100)\n"
   ]
  },
  {
   "cell_type": "code",
   "execution_count": 22,
   "metadata": {},
   "outputs": [
    {
     "data": {
      "text/plain": [
       "(0.7516606642657063, 0.3790076076076076, 0.15522668811274856)"
      ]
     },
     "execution_count": 22,
     "metadata": {},
     "output_type": "execute_result"
    }
   ],
   "source": [
    "FP = cfm_norm.sum(axis=0) - np.diag(cfm_norm)  \n",
    "FN = cfm_norm.sum(axis=1) - np.diag(cfm_norm)\n",
    "TP = np.diag(cfm_norm)\n",
    "TN = cfm_norm.sum() - (FP + FN + TP)\n",
    "\n",
    "# Sensitivity, hit rate, recall, or true positive rate\n",
    "TPR = TP/(TP+FN)\n",
    "# Fall out or false positive rate\n",
    "FPR = FP/(FP+TN)\n",
    "\n",
    "# Overall accuracy\n",
    "ACC = (TP+TN)/(TP+FP+FN+TN)\n",
    "\n",
    "ACC.mean(),TPR.mean(), FPR.mean()"
   ]
  },
  {
   "cell_type": "code",
   "execution_count": null,
   "metadata": {},
   "outputs": [],
   "source": []
  }
 ],
 "metadata": {
  "kernelspec": {
   "display_name": "Python 3",
   "language": "python",
   "name": "python3"
  },
  "language_info": {
   "codemirror_mode": {
    "name": "ipython",
    "version": 3
   },
   "file_extension": ".py",
   "mimetype": "text/x-python",
   "name": "python",
   "nbconvert_exporter": "python",
   "pygments_lexer": "ipython3",
   "version": "3.6.5"
  }
 },
 "nbformat": 4,
 "nbformat_minor": 2
}
