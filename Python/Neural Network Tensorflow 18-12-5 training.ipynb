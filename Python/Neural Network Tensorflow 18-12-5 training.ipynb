{
 "cells": [
  {
   "cell_type": "code",
   "execution_count": 1,
   "metadata": {},
   "outputs": [],
   "source": [
    "#load packages\n",
    "import numpy as np\n",
    "import tensorflow as tf\n",
    "from tensorflow import keras \n",
    "import pandas as pd\n",
    "import soundfile as sf\n"
   ]
  },
  {
   "cell_type": "code",
   "execution_count": 2,
   "metadata": {},
   "outputs": [],
   "source": [
    "#import data \n",
    "path = 'x:/Steering/Recordings/Processed/'\n",
    "data, fs = sf.read(path + 'ERB=2.wav')\n",
    "classes = pd.read_csv(path + 'Classes_2.csv')\n"
   ]
  },
  {
   "cell_type": "code",
   "execution_count": 3,
   "metadata": {},
   "outputs": [],
   "source": [
    "# front left and front right as predictors\n",
    "X = data[:len(data)-1,0*18:1*18] \n",
    "Y = classes.values[:,0]"
   ]
  },
  {
   "cell_type": "code",
   "execution_count": 4,
   "metadata": {},
   "outputs": [],
   "source": [
    "#split into training and test set\n",
    "from sklearn.model_selection import train_test_split\n",
    "trainX, testX, trainY, testY = train_test_split(X,Y,test_size=0.2,random_state=0)"
   ]
  },
  {
   "cell_type": "code",
   "execution_count": 5,
   "metadata": {},
   "outputs": [],
   "source": [
    "#do one-hot encoding\n",
    "from sklearn.preprocessing import OneHotEncoder \n",
    "from sklearn.preprocessing import LabelEncoder\n",
    "\n",
    "enc = OneHotEncoder(sparse=False)"
   ]
  },
  {
   "cell_type": "code",
   "execution_count": 6,
   "metadata": {},
   "outputs": [],
   "source": [
    "integer_encoded_train = trainY.reshape(len(trainY), 1)\n",
    "onehot_encoded_train = enc.fit_transform(integer_encoded_train)\n",
    "\n",
    "integer_encoded_test = testY.reshape(len(testY), 1)\n",
    "onehot_encoded_test = enc.fit_transform(integer_encoded_test)\n"
   ]
  },
  {
   "cell_type": "code",
   "execution_count": 7,
   "metadata": {},
   "outputs": [
    {
     "data": {
      "text/plain": [
       "array([[0., 1., 0., 0., 0.],\n",
       "       [0., 0., 0., 0., 1.],\n",
       "       [0., 0., 0., 0., 1.],\n",
       "       ...,\n",
       "       [0., 1., 0., 0., 0.],\n",
       "       [0., 0., 1., 0., 0.],\n",
       "       [0., 1., 0., 0., 0.]])"
      ]
     },
     "execution_count": 7,
     "metadata": {},
     "output_type": "execute_result"
    }
   ],
   "source": [
    "onehot_encoded_train \n"
   ]
  },
  {
   "cell_type": "code",
   "execution_count": 8,
   "metadata": {},
   "outputs": [],
   "source": [
    "#DC removal \n",
    "trainX -= (np.mean(trainX, axis=0) + 1e-8)\n",
    "testX -= (np.mean(testX, axis=0) + 1e-8)"
   ]
  },
  {
   "cell_type": "code",
   "execution_count": 9,
   "metadata": {},
   "outputs": [],
   "source": [
    "clf = keras.Sequential()"
   ]
  },
  {
   "cell_type": "code",
   "execution_count": 10,
   "metadata": {},
   "outputs": [
    {
     "data": {
      "text/plain": [
       "(5, 18, array([[0., 1., 0., 0., 0.],\n",
       "        [0., 0., 0., 0., 1.],\n",
       "        [0., 0., 0., 0., 1.],\n",
       "        ...,\n",
       "        [0., 1., 0., 0., 0.],\n",
       "        [0., 0., 1., 0., 0.],\n",
       "        [0., 1., 0., 0., 0.]]))"
      ]
     },
     "execution_count": 10,
     "metadata": {},
     "output_type": "execute_result"
    }
   ],
   "source": [
    "onehot_encoded_train.shape[1], X.shape[1],onehot_encoded_train\n"
   ]
  },
  {
   "cell_type": "code",
   "execution_count": 11,
   "metadata": {},
   "outputs": [],
   "source": [
    "clf.add(keras.layers.Dense(\n",
    "  units = 12,\n",
    "  input_dim = trainX.shape[1],   \n",
    "  activation = 'tanh'\n",
    "))\n",
    "\n",
    "clf.add(keras.layers.Dense(\n",
    "    units = onehot_encoded_train.shape[1],\n",
    "    input_dim = 12,\n",
    "    activation = 'softmax'\n",
    "))\n",
    "\n"
   ]
  },
  {
   "cell_type": "code",
   "execution_count": 12,
   "metadata": {},
   "outputs": [
    {
     "data": {
      "text/plain": [
       "5"
      ]
     },
     "execution_count": 12,
     "metadata": {},
     "output_type": "execute_result"
    }
   ],
   "source": [
    "onehot_encoded_train.shape[1]"
   ]
  },
  {
   "cell_type": "code",
   "execution_count": 13,
   "metadata": {},
   "outputs": [],
   "source": [
    "clf.compile(loss='mean_squared_error',\n",
    "    optimizer='Adam',\n",
    "           metrics=['categorical_accuracy'])"
   ]
  },
  {
   "cell_type": "code",
   "execution_count": 14,
   "metadata": {},
   "outputs": [
    {
     "name": "stdout",
     "output_type": "stream",
     "text": [
      "Train on 698819 samples, validate on 77647 samples\n",
      "Epoch 1/150\n",
      "698819/698819 [==============================] - 8s 12us/step - loss: 0.1542 - categorical_accuracy: 0.2856 - val_loss: 0.1541 - val_categorical_accuracy: 0.2780\n",
      "Epoch 2/150\n",
      "698819/698819 [==============================] - 8s 11us/step - loss: 0.1533 - categorical_accuracy: 0.3016 - val_loss: 0.1511 - val_categorical_accuracy: 0.3296\n",
      "Epoch 3/150\n",
      "698819/698819 [==============================] - 8s 11us/step - loss: 0.1515 - categorical_accuracy: 0.3295 - val_loss: 0.1509 - val_categorical_accuracy: 0.3338\n",
      "Epoch 4/150\n",
      "698819/698819 [==============================] - 8s 11us/step - loss: 0.1513 - categorical_accuracy: 0.3335 - val_loss: 0.1507 - val_categorical_accuracy: 0.3401\n",
      "Epoch 5/150\n",
      "698819/698819 [==============================] - 8s 11us/step - loss: 0.1510 - categorical_accuracy: 0.3401 - val_loss: 0.1503 - val_categorical_accuracy: 0.3336\n",
      "Epoch 6/150\n",
      "698819/698819 [==============================] - 8s 12us/step - loss: 0.1504 - categorical_accuracy: 0.3522 - val_loss: 0.1497 - val_categorical_accuracy: 0.3551\n",
      "Epoch 7/150\n",
      "698819/698819 [==============================] - 8s 12us/step - loss: 0.1495 - categorical_accuracy: 0.3664 - val_loss: 0.1487 - val_categorical_accuracy: 0.3549\n",
      "Epoch 8/150\n",
      "698819/698819 [==============================] - 8s 11us/step - loss: 0.1486 - categorical_accuracy: 0.3727 - val_loss: 0.1479 - val_categorical_accuracy: 0.3725\n",
      "Epoch 9/150\n",
      "698819/698819 [==============================] - 7s 10us/step - loss: 0.1480 - categorical_accuracy: 0.3765 - val_loss: 0.1474 - val_categorical_accuracy: 0.3819\n",
      "Epoch 10/150\n",
      "698819/698819 [==============================] - 8s 12us/step - loss: 0.1477 - categorical_accuracy: 0.3788 - val_loss: 0.1472 - val_categorical_accuracy: 0.3753\n",
      "Epoch 11/150\n",
      "698819/698819 [==============================] - 7s 10us/step - loss: 0.1475 - categorical_accuracy: 0.3800 - val_loss: 0.1471 - val_categorical_accuracy: 0.3814\n",
      "Epoch 12/150\n",
      "698819/698819 [==============================] - 7s 10us/step - loss: 0.1473 - categorical_accuracy: 0.3805 - val_loss: 0.1469 - val_categorical_accuracy: 0.3778\n",
      "Epoch 13/150\n",
      "698819/698819 [==============================] - 8s 11us/step - loss: 0.1471 - categorical_accuracy: 0.3820 - val_loss: 0.1465 - val_categorical_accuracy: 0.3854\n",
      "Epoch 14/150\n",
      "698819/698819 [==============================] - 7s 10us/step - loss: 0.1466 - categorical_accuracy: 0.3856 - val_loss: 0.1460 - val_categorical_accuracy: 0.3880\n",
      "Epoch 15/150\n",
      "698819/698819 [==============================] - 7s 10us/step - loss: 0.1457 - categorical_accuracy: 0.3918 - val_loss: 0.1448 - val_categorical_accuracy: 0.3985\n",
      "Epoch 16/150\n",
      "698819/698819 [==============================] - 7s 10us/step - loss: 0.1442 - categorical_accuracy: 0.3984 - val_loss: 0.1431 - val_categorical_accuracy: 0.4007\n",
      "Epoch 17/150\n",
      "698819/698819 [==============================] - 7s 11us/step - loss: 0.1426 - categorical_accuracy: 0.4045 - val_loss: 0.1417 - val_categorical_accuracy: 0.4087\n",
      "Epoch 18/150\n",
      "698819/698819 [==============================] - 7s 10us/step - loss: 0.1415 - categorical_accuracy: 0.4074 - val_loss: 0.1410 - val_categorical_accuracy: 0.4088\n",
      "Epoch 19/150\n",
      "698819/698819 [==============================] - 7s 11us/step - loss: 0.1409 - categorical_accuracy: 0.4094 - val_loss: 0.1405 - val_categorical_accuracy: 0.4118\n",
      "Epoch 20/150\n",
      "698819/698819 [==============================] - 7s 11us/step - loss: 0.1405 - categorical_accuracy: 0.4115 - val_loss: 0.1401 - val_categorical_accuracy: 0.4136\n",
      "Epoch 21/150\n",
      "698819/698819 [==============================] - 8s 11us/step - loss: 0.1401 - categorical_accuracy: 0.4127 - val_loss: 0.1397 - val_categorical_accuracy: 0.4146\n",
      "Epoch 22/150\n",
      "698819/698819 [==============================] - 8s 12us/step - loss: 0.1398 - categorical_accuracy: 0.4147 - val_loss: 0.1394 - val_categorical_accuracy: 0.4170\n",
      "Epoch 23/150\n",
      "698819/698819 [==============================] - 9s 13us/step - loss: 0.1394 - categorical_accuracy: 0.4159 - val_loss: 0.1391 - val_categorical_accuracy: 0.4164\n",
      "Epoch 24/150\n",
      "698819/698819 [==============================] - 7s 10us/step - loss: 0.1391 - categorical_accuracy: 0.4175 - val_loss: 0.1388 - val_categorical_accuracy: 0.4179\n",
      "Epoch 25/150\n",
      "698819/698819 [==============================] - 8s 11us/step - loss: 0.1388 - categorical_accuracy: 0.4186 - val_loss: 0.1386 - val_categorical_accuracy: 0.4190\n",
      "Epoch 26/150\n",
      "698819/698819 [==============================] - 9s 13us/step - loss: 0.1385 - categorical_accuracy: 0.4193 - val_loss: 0.1381 - val_categorical_accuracy: 0.4205\n",
      "Epoch 27/150\n",
      "698819/698819 [==============================] - 8s 12us/step - loss: 0.1381 - categorical_accuracy: 0.4203 - val_loss: 0.1380 - val_categorical_accuracy: 0.4211\n",
      "Epoch 28/150\n",
      "698819/698819 [==============================] - 8s 12us/step - loss: 0.1378 - categorical_accuracy: 0.4214 - val_loss: 0.1377 - val_categorical_accuracy: 0.4228\n",
      "Epoch 29/150\n",
      "698819/698819 [==============================] - 9s 13us/step - loss: 0.1375 - categorical_accuracy: 0.4232 - val_loss: 0.1371 - val_categorical_accuracy: 0.4251\n",
      "Epoch 30/150\n",
      "698819/698819 [==============================] - 10s 14us/step - loss: 0.1371 - categorical_accuracy: 0.4252 - val_loss: 0.1368 - val_categorical_accuracy: 0.4280\n",
      "Epoch 31/150\n",
      "698819/698819 [==============================] - 10s 14us/step - loss: 0.1366 - categorical_accuracy: 0.4284 - val_loss: 0.1361 - val_categorical_accuracy: 0.4312\n",
      "Epoch 32/150\n",
      "698819/698819 [==============================] - 9s 13us/step - loss: 0.1358 - categorical_accuracy: 0.4326 - val_loss: 0.1352 - val_categorical_accuracy: 0.4366\n",
      "Epoch 33/150\n",
      "698819/698819 [==============================] - 9s 13us/step - loss: 0.1348 - categorical_accuracy: 0.4386 - val_loss: 0.1342 - val_categorical_accuracy: 0.4433\n",
      "Epoch 34/150\n",
      "698819/698819 [==============================] - 12s 17us/step - loss: 0.1338 - categorical_accuracy: 0.4454 - val_loss: 0.1331 - val_categorical_accuracy: 0.4502\n",
      "Epoch 35/150\n",
      "698819/698819 [==============================] - 9s 13us/step - loss: 0.1328 - categorical_accuracy: 0.4529 - val_loss: 0.1324 - val_categorical_accuracy: 0.4558\n",
      "Epoch 36/150\n",
      "698819/698819 [==============================] - 8s 11us/step - loss: 0.1318 - categorical_accuracy: 0.4596 - val_loss: 0.1313 - val_categorical_accuracy: 0.4637\n",
      "Epoch 37/150\n",
      "698819/698819 [==============================] - 8s 12us/step - loss: 0.1309 - categorical_accuracy: 0.4659 - val_loss: 0.1304 - val_categorical_accuracy: 0.4673\n",
      "Epoch 38/150\n",
      "698819/698819 [==============================] - 9s 13us/step - loss: 0.1301 - categorical_accuracy: 0.4708 - val_loss: 0.1296 - val_categorical_accuracy: 0.4737\n",
      "Epoch 39/150\n",
      "698819/698819 [==============================] - 10s 14us/step - loss: 0.1293 - categorical_accuracy: 0.4754 - val_loss: 0.1288 - val_categorical_accuracy: 0.4780\n",
      "Epoch 40/150\n",
      "698819/698819 [==============================] - 8s 12us/step - loss: 0.1286 - categorical_accuracy: 0.4799 - val_loss: 0.1282 - val_categorical_accuracy: 0.4820\n",
      "Epoch 41/150\n",
      "698819/698819 [==============================] - 9s 12us/step - loss: 0.1279 - categorical_accuracy: 0.4843 - val_loss: 0.1274 - val_categorical_accuracy: 0.4870\n",
      "Epoch 42/150\n",
      "698819/698819 [==============================] - 8s 12us/step - loss: 0.1273 - categorical_accuracy: 0.4883 - val_loss: 0.1268 - val_categorical_accuracy: 0.4905\n",
      "Epoch 43/150\n",
      "698819/698819 [==============================] - 8s 11us/step - loss: 0.1266 - categorical_accuracy: 0.4918 - val_loss: 0.1262 - val_categorical_accuracy: 0.4915\n",
      "Epoch 44/150\n",
      "698819/698819 [==============================] - 8s 11us/step - loss: 0.1261 - categorical_accuracy: 0.4948 - val_loss: 0.1256 - val_categorical_accuracy: 0.4961\n",
      "Epoch 45/150\n",
      "698819/698819 [==============================] - 8s 12us/step - loss: 0.1255 - categorical_accuracy: 0.4970 - val_loss: 0.1251 - val_categorical_accuracy: 0.5003\n",
      "Epoch 46/150\n",
      "698819/698819 [==============================] - 7s 10us/step - loss: 0.1251 - categorical_accuracy: 0.4988 - val_loss: 0.1248 - val_categorical_accuracy: 0.4995\n",
      "Epoch 47/150\n"
     ]
    },
    {
     "name": "stdout",
     "output_type": "stream",
     "text": [
      "698819/698819 [==============================] - 7s 10us/step - loss: 0.1247 - categorical_accuracy: 0.5007 - val_loss: 0.1243 - val_categorical_accuracy: 0.5036\n",
      "Epoch 48/150\n",
      "698819/698819 [==============================] - 7s 11us/step - loss: 0.1243 - categorical_accuracy: 0.5021 - val_loss: 0.1241 - val_categorical_accuracy: 0.5068\n",
      "Epoch 49/150\n",
      "698819/698819 [==============================] - 7s 10us/step - loss: 0.1239 - categorical_accuracy: 0.5034 - val_loss: 0.1236 - val_categorical_accuracy: 0.5030\n",
      "Epoch 50/150\n",
      "698819/698819 [==============================] - 7s 10us/step - loss: 0.1236 - categorical_accuracy: 0.5042 - val_loss: 0.1236 - val_categorical_accuracy: 0.5095\n",
      "Epoch 51/150\n",
      "698819/698819 [==============================] - 7s 10us/step - loss: 0.1234 - categorical_accuracy: 0.5051 - val_loss: 0.1232 - val_categorical_accuracy: 0.4983\n",
      "Epoch 52/150\n",
      "698819/698819 [==============================] - 7s 10us/step - loss: 0.1231 - categorical_accuracy: 0.5056 - val_loss: 0.1228 - val_categorical_accuracy: 0.5081\n",
      "Epoch 53/150\n",
      "698819/698819 [==============================] - 7s 10us/step - loss: 0.1229 - categorical_accuracy: 0.5060 - val_loss: 0.1226 - val_categorical_accuracy: 0.5075\n",
      "Epoch 54/150\n",
      "698819/698819 [==============================] - 7s 10us/step - loss: 0.1227 - categorical_accuracy: 0.5064 - val_loss: 0.1224 - val_categorical_accuracy: 0.5035\n",
      "Epoch 55/150\n",
      "698819/698819 [==============================] - 7s 10us/step - loss: 0.1225 - categorical_accuracy: 0.5070 - val_loss: 0.1223 - val_categorical_accuracy: 0.4998\n",
      "Epoch 56/150\n",
      "698819/698819 [==============================] - 7s 10us/step - loss: 0.1223 - categorical_accuracy: 0.5072 - val_loss: 0.1225 - val_categorical_accuracy: 0.5124\n",
      "Epoch 57/150\n",
      "698819/698819 [==============================] - 7s 10us/step - loss: 0.1221 - categorical_accuracy: 0.5073 - val_loss: 0.1219 - val_categorical_accuracy: 0.5048\n",
      "Epoch 58/150\n",
      "698819/698819 [==============================] - 7s 10us/step - loss: 0.1219 - categorical_accuracy: 0.5074 - val_loss: 0.1217 - val_categorical_accuracy: 0.5074\n",
      "Epoch 59/150\n",
      "698819/698819 [==============================] - 7s 10us/step - loss: 0.1218 - categorical_accuracy: 0.5075 - val_loss: 0.1217 - val_categorical_accuracy: 0.4966\n",
      "Epoch 60/150\n",
      "698819/698819 [==============================] - 7s 10us/step - loss: 0.1216 - categorical_accuracy: 0.5079 - val_loss: 0.1213 - val_categorical_accuracy: 0.5087\n",
      "Epoch 61/150\n",
      "698819/698819 [==============================] - 7s 10us/step - loss: 0.1215 - categorical_accuracy: 0.5077 - val_loss: 0.1211 - val_categorical_accuracy: 0.5090\n",
      "Epoch 62/150\n",
      "698819/698819 [==============================] - 7s 10us/step - loss: 0.1213 - categorical_accuracy: 0.5083 - val_loss: 0.1210 - val_categorical_accuracy: 0.5048\n",
      "Epoch 63/150\n",
      "698819/698819 [==============================] - 7s 10us/step - loss: 0.1212 - categorical_accuracy: 0.5082 - val_loss: 0.1210 - val_categorical_accuracy: 0.5133\n",
      "Epoch 64/150\n",
      "698819/698819 [==============================] - 7s 10us/step - loss: 0.1211 - categorical_accuracy: 0.5079 - val_loss: 0.1208 - val_categorical_accuracy: 0.5065\n",
      "Epoch 65/150\n",
      "698819/698819 [==============================] - 7s 10us/step - loss: 0.1210 - categorical_accuracy: 0.5079 - val_loss: 0.1208 - val_categorical_accuracy: 0.5125\n",
      "Epoch 66/150\n",
      "698819/698819 [==============================] - 7s 11us/step - loss: 0.1209 - categorical_accuracy: 0.5080 - val_loss: 0.1208 - val_categorical_accuracy: 0.4982\n",
      "Epoch 67/150\n",
      "698819/698819 [==============================] - 7s 11us/step - loss: 0.1208 - categorical_accuracy: 0.5080 - val_loss: 0.1206 - val_categorical_accuracy: 0.5035\n",
      "Epoch 68/150\n",
      "698819/698819 [==============================] - 7s 11us/step - loss: 0.1207 - categorical_accuracy: 0.5076 - val_loss: 0.1205 - val_categorical_accuracy: 0.5107\n",
      "Epoch 69/150\n",
      "698819/698819 [==============================] - 7s 10us/step - loss: 0.1206 - categorical_accuracy: 0.5074 - val_loss: 0.1204 - val_categorical_accuracy: 0.5067\n",
      "Epoch 70/150\n",
      "698819/698819 [==============================] - 7s 10us/step - loss: 0.1206 - categorical_accuracy: 0.5078 - val_loss: 0.1204 - val_categorical_accuracy: 0.5128\n",
      "Epoch 71/150\n",
      "698819/698819 [==============================] - 7s 10us/step - loss: 0.1205 - categorical_accuracy: 0.5072 - val_loss: 0.1203 - val_categorical_accuracy: 0.5103\n",
      "Epoch 72/150\n",
      "698819/698819 [==============================] - 7s 10us/step - loss: 0.1204 - categorical_accuracy: 0.5074 - val_loss: 0.1203 - val_categorical_accuracy: 0.5118\n",
      "Epoch 73/150\n",
      "698819/698819 [==============================] - 7s 10us/step - loss: 0.1204 - categorical_accuracy: 0.5069 - val_loss: 0.1202 - val_categorical_accuracy: 0.5073\n",
      "Epoch 74/150\n",
      "698819/698819 [==============================] - 7s 10us/step - loss: 0.1203 - categorical_accuracy: 0.5066 - val_loss: 0.1201 - val_categorical_accuracy: 0.5092\n",
      "Epoch 75/150\n",
      "698819/698819 [==============================] - 7s 10us/step - loss: 0.1203 - categorical_accuracy: 0.5071 - val_loss: 0.1200 - val_categorical_accuracy: 0.5087\n",
      "Epoch 76/150\n",
      "698819/698819 [==============================] - 7s 10us/step - loss: 0.1202 - categorical_accuracy: 0.5065 - val_loss: 0.1201 - val_categorical_accuracy: 0.4954\n",
      "Epoch 77/150\n",
      "698819/698819 [==============================] - 7s 10us/step - loss: 0.1202 - categorical_accuracy: 0.5062 - val_loss: 0.1199 - val_categorical_accuracy: 0.5074\n",
      "Epoch 78/150\n",
      "698819/698819 [==============================] - 7s 10us/step - loss: 0.1201 - categorical_accuracy: 0.5062 - val_loss: 0.1201 - val_categorical_accuracy: 0.4977\n",
      "Epoch 79/150\n",
      "698819/698819 [==============================] - 7s 10us/step - loss: 0.1201 - categorical_accuracy: 0.5063 - val_loss: 0.1199 - val_categorical_accuracy: 0.5014\n",
      "Epoch 80/150\n",
      "698819/698819 [==============================] - 7s 10us/step - loss: 0.1200 - categorical_accuracy: 0.5060 - val_loss: 0.1199 - val_categorical_accuracy: 0.5008\n",
      "Epoch 81/150\n",
      "698819/698819 [==============================] - 8s 11us/step - loss: 0.1200 - categorical_accuracy: 0.5060 - val_loss: 0.1199 - val_categorical_accuracy: 0.4938\n",
      "Epoch 82/150\n",
      "698819/698819 [==============================] - 7s 10us/step - loss: 0.1200 - categorical_accuracy: 0.5056 - val_loss: 0.1199 - val_categorical_accuracy: 0.5128\n",
      "Epoch 83/150\n",
      "698819/698819 [==============================] - 7s 10us/step - loss: 0.1199 - categorical_accuracy: 0.5055 - val_loss: 0.1199 - val_categorical_accuracy: 0.5128\n",
      "Epoch 84/150\n",
      "698819/698819 [==============================] - 7s 10us/step - loss: 0.1199 - categorical_accuracy: 0.5052 - val_loss: 0.1197 - val_categorical_accuracy: 0.5058\n",
      "Epoch 85/150\n",
      "698819/698819 [==============================] - 7s 11us/step - loss: 0.1198 - categorical_accuracy: 0.5053 - val_loss: 0.1196 - val_categorical_accuracy: 0.5066\n",
      "Epoch 86/150\n",
      "698819/698819 [==============================] - 7s 10us/step - loss: 0.1198 - categorical_accuracy: 0.5051 - val_loss: 0.1196 - val_categorical_accuracy: 0.5022\n",
      "Epoch 87/150\n",
      "698819/698819 [==============================] - 7s 10us/step - loss: 0.1198 - categorical_accuracy: 0.5049 - val_loss: 0.1198 - val_categorical_accuracy: 0.5135\n",
      "Epoch 88/150\n",
      "698819/698819 [==============================] - 7s 10us/step - loss: 0.1197 - categorical_accuracy: 0.5049 - val_loss: 0.1197 - val_categorical_accuracy: 0.5104\n",
      "Epoch 89/150\n",
      "698819/698819 [==============================] - 7s 10us/step - loss: 0.1197 - categorical_accuracy: 0.5044 - val_loss: 0.1196 - val_categorical_accuracy: 0.5124\n",
      "Epoch 90/150\n",
      "698819/698819 [==============================] - 7s 10us/step - loss: 0.1197 - categorical_accuracy: 0.5044 - val_loss: 0.1197 - val_categorical_accuracy: 0.4900\n",
      "Epoch 91/150\n",
      "698819/698819 [==============================] - 8s 11us/step - loss: 0.1197 - categorical_accuracy: 0.5044 - val_loss: 0.1196 - val_categorical_accuracy: 0.4904\n",
      "Epoch 92/150\n",
      "698819/698819 [==============================] - 7s 11us/step - loss: 0.1196 - categorical_accuracy: 0.5044 - val_loss: 0.1197 - val_categorical_accuracy: 0.4751\n",
      "Epoch 93/150\n",
      "698819/698819 [==============================] - 7s 10us/step - loss: 0.1196 - categorical_accuracy: 0.5040 - val_loss: 0.1194 - val_categorical_accuracy: 0.5006\n"
     ]
    },
    {
     "name": "stdout",
     "output_type": "stream",
     "text": [
      "Epoch 94/150\n",
      "698819/698819 [==============================] - 7s 10us/step - loss: 0.1196 - categorical_accuracy: 0.5040 - val_loss: 0.1197 - val_categorical_accuracy: 0.4759\n",
      "Epoch 95/150\n",
      "698819/698819 [==============================] - 7s 10us/step - loss: 0.1195 - categorical_accuracy: 0.5038 - val_loss: 0.1194 - val_categorical_accuracy: 0.5004\n",
      "Epoch 96/150\n",
      "698819/698819 [==============================] - 7s 10us/step - loss: 0.1195 - categorical_accuracy: 0.5037 - val_loss: 0.1194 - val_categorical_accuracy: 0.5056\n",
      "Epoch 97/150\n",
      "698819/698819 [==============================] - 7s 10us/step - loss: 0.1195 - categorical_accuracy: 0.5038 - val_loss: 0.1195 - val_categorical_accuracy: 0.5128\n",
      "Epoch 98/150\n",
      "698819/698819 [==============================] - 7s 10us/step - loss: 0.1194 - categorical_accuracy: 0.5035 - val_loss: 0.1193 - val_categorical_accuracy: 0.4963\n",
      "Epoch 99/150\n",
      "698819/698819 [==============================] - 7s 10us/step - loss: 0.1194 - categorical_accuracy: 0.5038 - val_loss: 0.1193 - val_categorical_accuracy: 0.4931\n",
      "Epoch 100/150\n",
      "698819/698819 [==============================] - 7s 10us/step - loss: 0.1194 - categorical_accuracy: 0.5034 - val_loss: 0.1192 - val_categorical_accuracy: 0.5060\n",
      "Epoch 101/150\n",
      "698819/698819 [==============================] - 8s 11us/step - loss: 0.1193 - categorical_accuracy: 0.5035 - val_loss: 0.1192 - val_categorical_accuracy: 0.4979\n",
      "Epoch 102/150\n",
      "698819/698819 [==============================] - 7s 10us/step - loss: 0.1193 - categorical_accuracy: 0.5032 - val_loss: 0.1193 - val_categorical_accuracy: 0.4803\n",
      "Epoch 103/150\n",
      "698819/698819 [==============================] - 9s 13us/step - loss: 0.1193 - categorical_accuracy: 0.5033 - val_loss: 0.1191 - val_categorical_accuracy: 0.5011\n",
      "Epoch 104/150\n",
      "698819/698819 [==============================] - 9s 13us/step - loss: 0.1193 - categorical_accuracy: 0.5033 - val_loss: 0.1191 - val_categorical_accuracy: 0.5063\n",
      "Epoch 105/150\n",
      "698819/698819 [==============================] - 8s 11us/step - loss: 0.1192 - categorical_accuracy: 0.5033 - val_loss: 0.1192 - val_categorical_accuracy: 0.4772\n",
      "Epoch 106/150\n",
      "698819/698819 [==============================] - 8s 11us/step - loss: 0.1192 - categorical_accuracy: 0.5031 - val_loss: 0.1191 - val_categorical_accuracy: 0.5104\n",
      "Epoch 107/150\n",
      "698819/698819 [==============================] - 8s 11us/step - loss: 0.1192 - categorical_accuracy: 0.5029 - val_loss: 0.1190 - val_categorical_accuracy: 0.4933\n",
      "Epoch 108/150\n",
      "698819/698819 [==============================] - 8s 11us/step - loss: 0.1192 - categorical_accuracy: 0.5027 - val_loss: 0.1190 - val_categorical_accuracy: 0.4873\n",
      "Epoch 109/150\n",
      "698819/698819 [==============================] - 8s 11us/step - loss: 0.1191 - categorical_accuracy: 0.5027 - val_loss: 0.1189 - val_categorical_accuracy: 0.5044\n",
      "Epoch 110/150\n",
      "698819/698819 [==============================] - 8s 11us/step - loss: 0.1191 - categorical_accuracy: 0.5030 - val_loss: 0.1192 - val_categorical_accuracy: 0.5132\n",
      "Epoch 111/150\n",
      "698819/698819 [==============================] - 8s 11us/step - loss: 0.1191 - categorical_accuracy: 0.5029 - val_loss: 0.1190 - val_categorical_accuracy: 0.4816\n",
      "Epoch 112/150\n",
      "698819/698819 [==============================] - 8s 11us/step - loss: 0.1191 - categorical_accuracy: 0.5026 - val_loss: 0.1190 - val_categorical_accuracy: 0.5089\n",
      "Epoch 113/150\n",
      "698819/698819 [==============================] - 8s 11us/step - loss: 0.1190 - categorical_accuracy: 0.5027 - val_loss: 0.1188 - val_categorical_accuracy: 0.5045\n",
      "Epoch 114/150\n",
      "698819/698819 [==============================] - 8s 11us/step - loss: 0.1190 - categorical_accuracy: 0.5025 - val_loss: 0.1188 - val_categorical_accuracy: 0.5033\n",
      "Epoch 115/150\n",
      "698819/698819 [==============================] - 7s 11us/step - loss: 0.1190 - categorical_accuracy: 0.5023 - val_loss: 0.1189 - val_categorical_accuracy: 0.5061\n",
      "Epoch 116/150\n",
      "698819/698819 [==============================] - 7s 11us/step - loss: 0.1189 - categorical_accuracy: 0.5026 - val_loss: 0.1187 - val_categorical_accuracy: 0.4937\n",
      "Epoch 117/150\n",
      "698819/698819 [==============================] - 9s 12us/step - loss: 0.1189 - categorical_accuracy: 0.5025 - val_loss: 0.1187 - val_categorical_accuracy: 0.5032\n",
      "Epoch 118/150\n",
      "698819/698819 [==============================] - 9s 13us/step - loss: 0.1189 - categorical_accuracy: 0.5024 - val_loss: 0.1189 - val_categorical_accuracy: 0.5100\n",
      "Epoch 119/150\n",
      "698819/698819 [==============================] - 9s 13us/step - loss: 0.1189 - categorical_accuracy: 0.5023 - val_loss: 0.1187 - val_categorical_accuracy: 0.5101\n",
      "Epoch 120/150\n",
      "698819/698819 [==============================] - 9s 12us/step - loss: 0.1188 - categorical_accuracy: 0.5020 - val_loss: 0.1188 - val_categorical_accuracy: 0.4931\n",
      "Epoch 121/150\n",
      "698819/698819 [==============================] - 9s 13us/step - loss: 0.1188 - categorical_accuracy: 0.5023 - val_loss: 0.1187 - val_categorical_accuracy: 0.4936\n",
      "Epoch 122/150\n",
      "698819/698819 [==============================] - 9s 13us/step - loss: 0.1188 - categorical_accuracy: 0.5018 - val_loss: 0.1186 - val_categorical_accuracy: 0.4988\n",
      "Epoch 123/150\n",
      "698819/698819 [==============================] - 9s 13us/step - loss: 0.1188 - categorical_accuracy: 0.5020 - val_loss: 0.1186 - val_categorical_accuracy: 0.5037\n",
      "Epoch 124/150\n",
      "698819/698819 [==============================] - 9s 13us/step - loss: 0.1187 - categorical_accuracy: 0.5024 - val_loss: 0.1186 - val_categorical_accuracy: 0.5052\n",
      "Epoch 125/150\n",
      "698819/698819 [==============================] - 9s 13us/step - loss: 0.1187 - categorical_accuracy: 0.5018 - val_loss: 0.1186 - val_categorical_accuracy: 0.5075\n",
      "Epoch 126/150\n",
      "698819/698819 [==============================] - 9s 13us/step - loss: 0.1187 - categorical_accuracy: 0.5018 - val_loss: 0.1186 - val_categorical_accuracy: 0.5047\n",
      "Epoch 127/150\n",
      "698819/698819 [==============================] - 9s 13us/step - loss: 0.1187 - categorical_accuracy: 0.5016 - val_loss: 0.1184 - val_categorical_accuracy: 0.5051\n",
      "Epoch 128/150\n",
      "698819/698819 [==============================] - 9s 13us/step - loss: 0.1186 - categorical_accuracy: 0.5020 - val_loss: 0.1184 - val_categorical_accuracy: 0.5034\n",
      "Epoch 129/150\n",
      "698819/698819 [==============================] - 9s 14us/step - loss: 0.1186 - categorical_accuracy: 0.5017 - val_loss: 0.1184 - val_categorical_accuracy: 0.5039\n",
      "Epoch 130/150\n",
      "698819/698819 [==============================] - 11s 16us/step - loss: 0.1186 - categorical_accuracy: 0.5015 - val_loss: 0.1183 - val_categorical_accuracy: 0.4986\n",
      "Epoch 131/150\n",
      "698819/698819 [==============================] - 10s 14us/step - loss: 0.1186 - categorical_accuracy: 0.5015 - val_loss: 0.1184 - val_categorical_accuracy: 0.4972\n",
      "Epoch 132/150\n",
      "698819/698819 [==============================] - 9s 13us/step - loss: 0.1185 - categorical_accuracy: 0.5016 - val_loss: 0.1185 - val_categorical_accuracy: 0.5098\n",
      "Epoch 133/150\n",
      "698819/698819 [==============================] - 9s 12us/step - loss: 0.1185 - categorical_accuracy: 0.5012 - val_loss: 0.1184 - val_categorical_accuracy: 0.5065\n",
      "Epoch 134/150\n",
      "698819/698819 [==============================] - 9s 13us/step - loss: 0.1185 - categorical_accuracy: 0.5016 - val_loss: 0.1186 - val_categorical_accuracy: 0.4891\n",
      "Epoch 135/150\n",
      "698819/698819 [==============================] - 9s 13us/step - loss: 0.1185 - categorical_accuracy: 0.5018 - val_loss: 0.1184 - val_categorical_accuracy: 0.5047\n",
      "Epoch 136/150\n",
      "698819/698819 [==============================] - 9s 14us/step - loss: 0.1184 - categorical_accuracy: 0.5016 - val_loss: 0.1182 - val_categorical_accuracy: 0.4982\n",
      "Epoch 137/150\n",
      "698819/698819 [==============================] - 10s 14us/step - loss: 0.1184 - categorical_accuracy: 0.5015 - val_loss: 0.1182 - val_categorical_accuracy: 0.4957\n",
      "Epoch 138/150\n",
      "698819/698819 [==============================] - 9s 13us/step - loss: 0.1183 - categorical_accuracy: 0.5016 - val_loss: 0.1183 - val_categorical_accuracy: 0.4802\n",
      "Epoch 139/150\n",
      "698819/698819 [==============================] - 9s 13us/step - loss: 0.1183 - categorical_accuracy: 0.5015 - val_loss: 0.1183 - val_categorical_accuracy: 0.5114\n",
      "Epoch 140/150\n"
     ]
    },
    {
     "name": "stdout",
     "output_type": "stream",
     "text": [
      "698819/698819 [==============================] - 11s 15us/step - loss: 0.1183 - categorical_accuracy: 0.5015 - val_loss: 0.1182 - val_categorical_accuracy: 0.5110\n",
      "Epoch 141/150\n",
      "698819/698819 [==============================] - 8s 12us/step - loss: 0.1183 - categorical_accuracy: 0.5012 - val_loss: 0.1182 - val_categorical_accuracy: 0.5095\n",
      "Epoch 142/150\n",
      "698819/698819 [==============================] - 8s 12us/step - loss: 0.1182 - categorical_accuracy: 0.5013 - val_loss: 0.1180 - val_categorical_accuracy: 0.4966\n",
      "Epoch 143/150\n",
      "698819/698819 [==============================] - 8s 12us/step - loss: 0.1182 - categorical_accuracy: 0.5015 - val_loss: 0.1179 - val_categorical_accuracy: 0.4998\n",
      "Epoch 144/150\n",
      "698819/698819 [==============================] - 9s 12us/step - loss: 0.1181 - categorical_accuracy: 0.5019 - val_loss: 0.1182 - val_categorical_accuracy: 0.4930\n",
      "Epoch 145/150\n",
      "698819/698819 [==============================] - 8s 12us/step - loss: 0.1181 - categorical_accuracy: 0.5016 - val_loss: 0.1182 - val_categorical_accuracy: 0.5094\n",
      "Epoch 146/150\n",
      "698819/698819 [==============================] - 8s 12us/step - loss: 0.1181 - categorical_accuracy: 0.5017 - val_loss: 0.1178 - val_categorical_accuracy: 0.4956\n",
      "Epoch 147/150\n",
      "698819/698819 [==============================] - 8s 12us/step - loss: 0.1180 - categorical_accuracy: 0.5013 - val_loss: 0.1178 - val_categorical_accuracy: 0.4981\n",
      "Epoch 148/150\n",
      "698819/698819 [==============================] - 8s 12us/step - loss: 0.1180 - categorical_accuracy: 0.5012 - val_loss: 0.1182 - val_categorical_accuracy: 0.5127\n",
      "Epoch 149/150\n",
      "698819/698819 [==============================] - 8s 12us/step - loss: 0.1180 - categorical_accuracy: 0.5016 - val_loss: 0.1178 - val_categorical_accuracy: 0.5060\n",
      "Epoch 150/150\n",
      "698819/698819 [==============================] - 8s 12us/step - loss: 0.1179 - categorical_accuracy: 0.5013 - val_loss: 0.1182 - val_categorical_accuracy: 0.5111\n"
     ]
    }
   ],
   "source": [
    "history = clf.fit(trainX,onehot_encoded_train,\n",
    "                 batch_size = 64, epochs = 150,\n",
    "                 verbose = 1,\n",
    "                 validation_split = 0.1)"
   ]
  },
  {
   "cell_type": "code",
   "execution_count": 50,
   "metadata": {},
   "outputs": [
    {
     "data": {
      "text/plain": [
       "(array([2, 4, 2, 5, 2, 1, 1, 2, 4, 2, 3, 2, 3, 4, 3, 3, 2, 2, 3, 4, 2, 4,\n",
       "        5, 2, 5, 4, 2, 2, 2, 2, 5, 2, 2, 1, 4, 4, 2, 2, 1, 2, 4, 2, 5, 3,\n",
       "        2, 3, 5, 4, 3, 2, 2, 5, 4, 5, 2, 4, 4, 2, 2, 2, 2, 4, 3, 4, 2, 2,\n",
       "        2, 2, 1, 2, 2, 1, 1, 2, 4, 5, 3, 4, 5, 2, 5, 5, 2, 5, 2, 2, 2, 2,\n",
       "        5, 5, 2, 4, 4, 2, 4, 4, 2, 1, 1], dtype=int64),\n",
       " array([2, 5, 1, 5, 2, 4, 4, 2, 4, 4, 3, 2, 3, 1, 3, 3, 2, 4, 3, 4, 2, 4,\n",
       "        4, 2, 5, 5, 4, 5, 2, 4, 5, 4, 4, 1, 5, 4, 2, 2, 5, 2, 4, 4, 5, 3,\n",
       "        1, 3, 5, 5, 3, 2, 4, 5, 1, 5, 5, 4, 5, 4, 4, 2, 2, 2, 1, 4, 2, 1,\n",
       "        2, 2, 1, 4, 2, 1, 4, 2, 1, 5, 3, 4, 5, 4, 3, 5, 2, 5, 4, 2, 2, 2,\n",
       "        4, 5, 5, 4, 4, 2, 4, 5, 2, 1, 1], dtype=int64))"
      ]
     },
     "execution_count": 50,
     "metadata": {},
     "output_type": "execute_result"
    }
   ],
   "source": [
    "clf.predict_classes(testX[1:100,:]) + 1,testY[1:100]"
   ]
  },
  {
   "cell_type": "code",
   "execution_count": 51,
   "metadata": {},
   "outputs": [
    {
     "name": "stdout",
     "output_type": "stream",
     "text": [
      "194117/194117 [==============================] - 2s 10us/step\n"
     ]
    },
    {
     "data": {
      "text/plain": [
       "[0.08945091667563816, 0.6597206839180454]"
      ]
     },
     "execution_count": 51,
     "metadata": {},
     "output_type": "execute_result"
    }
   ],
   "source": [
    "clf.evaluate(testX,onehot_encoded_test,verbose=1)"
   ]
  },
  {
   "cell_type": "code",
   "execution_count": 52,
   "metadata": {},
   "outputs": [],
   "source": [
    "# saving the model \n",
    "# save model and weights\n",
    "clf_json = clf.to_json()\n",
    "with open(\"NN_18-12-5.json\", \"w\") as json_file:\n",
    "    json_file.write(clf_json)\n",
    "    \n",
    "clf.save_weights(\"NN_18-12-5_weights.h5\")"
   ]
  },
  {
   "cell_type": "code",
   "execution_count": 53,
   "metadata": {},
   "outputs": [],
   "source": [
    "np.save('TestX_NN_18-12-5',testX), np.save('TestY_NN_18-12-5',testY),\n",
    "np.save('OneHot_testY_18-12-5',onehot_encoded_test)"
   ]
  },
  {
   "cell_type": "code",
   "execution_count": null,
   "metadata": {},
   "outputs": [],
   "source": []
  }
 ],
 "metadata": {
  "kernelspec": {
   "display_name": "Python 3",
   "language": "python",
   "name": "python3"
  },
  "language_info": {
   "codemirror_mode": {
    "name": "ipython",
    "version": 3
   },
   "file_extension": ".py",
   "mimetype": "text/x-python",
   "name": "python",
   "nbconvert_exporter": "python",
   "pygments_lexer": "ipython3",
   "version": "3.6.5"
  }
 },
 "nbformat": 4,
 "nbformat_minor": 2
}
