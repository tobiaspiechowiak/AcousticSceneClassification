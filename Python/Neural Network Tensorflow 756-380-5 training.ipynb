{
 "cells": [
  {
   "cell_type": "code",
   "execution_count": 1,
   "metadata": {},
   "outputs": [],
   "source": [
    "#load packages\n",
    "import numpy as np\n",
    "import tensorflow as tf\n",
    "from tensorflow import keras \n",
    "import pandas as pd\n",
    "import soundfile as sf\n"
   ]
  },
  {
   "cell_type": "code",
   "execution_count": 3,
   "metadata": {},
   "outputs": [],
   "source": [
    "#import data \n",
    "path = 'x:/Steering/Recordings/Processed/'\n",
    "data1,_ = sf.read(path + 'ERB=2_MF_01.wav')\n",
    "data2,_ = sf.read(path + 'ERB=2_MF_02.wav')\n",
    "data3,_ = sf.read(path + 'ERB=2_MF_03.wav')\n",
    "\n",
    "classes = pd.read_csv(path + 'Classes_2_MF.csv')\n",
    "\n",
    "data = np.hstack([data1, data2, data3])"
   ]
  },
  {
   "cell_type": "code",
   "execution_count": 4,
   "metadata": {},
   "outputs": [
    {
     "data": {
      "text/plain": [
       "(970584, 756)"
      ]
     },
     "execution_count": 4,
     "metadata": {},
     "output_type": "execute_result"
    }
   ],
   "source": [
    "data.shape"
   ]
  },
  {
   "cell_type": "code",
   "execution_count": 5,
   "metadata": {},
   "outputs": [],
   "source": [
    "X = data[:len(data)-1,:data.shape[1]] #775361\n",
    "Y = classes.values[:,0]"
   ]
  },
  {
   "cell_type": "code",
   "execution_count": 6,
   "metadata": {},
   "outputs": [
    {
     "data": {
      "text/plain": [
       "((970583, 756), (970583,))"
      ]
     },
     "execution_count": 6,
     "metadata": {},
     "output_type": "execute_result"
    }
   ],
   "source": [
    "X.shape, Y.shape"
   ]
  },
  {
   "cell_type": "code",
   "execution_count": 7,
   "metadata": {},
   "outputs": [],
   "source": [
    "#split into training and test set\n",
    "from sklearn.model_selection import train_test_split\n",
    "trainX, testX, trainY, testY = train_test_split(X,Y,test_size=0.2,random_state=0)"
   ]
  },
  {
   "cell_type": "code",
   "execution_count": 8,
   "metadata": {},
   "outputs": [],
   "source": [
    "#do one-hot encoding\n",
    "from sklearn.preprocessing import OneHotEncoder \n",
    "from sklearn.preprocessing import LabelEncoder\n",
    "\n",
    "enc = OneHotEncoder(sparse=False)"
   ]
  },
  {
   "cell_type": "code",
   "execution_count": 9,
   "metadata": {},
   "outputs": [],
   "source": [
    "integer_encoded_train = trainY.reshape(len(trainY), 1)\n",
    "onehot_encoded_train = enc.fit_transform(integer_encoded_train)\n",
    "\n",
    "integer_encoded_test = testY.reshape(len(testY), 1)\n",
    "onehot_encoded_test = enc.fit_transform(integer_encoded_test)"
   ]
  },
  {
   "cell_type": "code",
   "execution_count": 10,
   "metadata": {},
   "outputs": [
    {
     "data": {
      "text/plain": [
       "array([[0., 1., 0., 0., 0.],\n",
       "       [0., 0., 0., 0., 1.],\n",
       "       [0., 0., 0., 0., 1.],\n",
       "       ...,\n",
       "       [0., 1., 0., 0., 0.],\n",
       "       [0., 0., 1., 0., 0.],\n",
       "       [0., 1., 0., 0., 0.]])"
      ]
     },
     "execution_count": 10,
     "metadata": {},
     "output_type": "execute_result"
    }
   ],
   "source": [
    "onehot_encoded_train \n"
   ]
  },
  {
   "cell_type": "code",
   "execution_count": 11,
   "metadata": {},
   "outputs": [],
   "source": [
    "#DC removal \n",
    "trainX -= (np.mean(trainX, axis=0) + 1e-8)\n",
    "testX -= (np.mean(testX, axis=0) + 1e-8)"
   ]
  },
  {
   "cell_type": "code",
   "execution_count": 12,
   "metadata": {},
   "outputs": [],
   "source": [
    "clf = keras.Sequential()"
   ]
  },
  {
   "cell_type": "code",
   "execution_count": 13,
   "metadata": {},
   "outputs": [
    {
     "data": {
      "text/plain": [
       "((776466, 756), (776466, 5))"
      ]
     },
     "execution_count": 13,
     "metadata": {},
     "output_type": "execute_result"
    }
   ],
   "source": [
    "trainX.shape, onehot_encoded_train.shape"
   ]
  },
  {
   "cell_type": "code",
   "execution_count": 14,
   "metadata": {},
   "outputs": [],
   "source": [
    "clf.add(keras.layers.Dense(\n",
    "  units = 380,\n",
    "  input_dim = trainX.shape[1],   \n",
    "  activation = 'tanh'\n",
    "))\n",
    "\n",
    "clf.add(keras.layers.Dense(\n",
    "    units = onehot_encoded_train.shape[1],\n",
    "    input_dim = 380,\n",
    "    activation = 'softmax'\n",
    "))\n"
   ]
  },
  {
   "cell_type": "code",
   "execution_count": 15,
   "metadata": {},
   "outputs": [
    {
     "data": {
      "text/plain": [
       "5"
      ]
     },
     "execution_count": 15,
     "metadata": {},
     "output_type": "execute_result"
    }
   ],
   "source": [
    "onehot_encoded_train.shape[1]"
   ]
  },
  {
   "cell_type": "code",
   "execution_count": 16,
   "metadata": {},
   "outputs": [],
   "source": [
    "clf.compile(loss='mean_squared_error',\n",
    "    optimizer='Adam',\n",
    "           metrics=['categorical_accuracy'])"
   ]
  },
  {
   "cell_type": "code",
   "execution_count": 17,
   "metadata": {},
   "outputs": [
    {
     "name": "stdout",
     "output_type": "stream",
     "text": [
      "Train on 698819 samples, validate on 77647 samples\n",
      "Epoch 1/30\n",
      "698819/698819 [==============================] - 188s 269us/step - loss: 0.0452 - categorical_accuracy: 0.8451 - val_loss: 0.0345 - val_categorical_accuracy: 0.8829\n",
      "Epoch 2/30\n",
      "698819/698819 [==============================] - 118s 169us/step - loss: 0.0319 - categorical_accuracy: 0.8929 - val_loss: 0.0300 - val_categorical_accuracy: 0.8997\n",
      "Epoch 3/30\n",
      "698819/698819 [==============================] - 106s 152us/step - loss: 0.0278 - categorical_accuracy: 0.9075 - val_loss: 0.0265 - val_categorical_accuracy: 0.9123\n",
      "Epoch 4/30\n",
      "698819/698819 [==============================] - 105s 150us/step - loss: 0.0250 - categorical_accuracy: 0.9174 - val_loss: 0.0237 - val_categorical_accuracy: 0.9223\n",
      "Epoch 5/30\n",
      "698819/698819 [==============================] - 115s 164us/step - loss: 0.0230 - categorical_accuracy: 0.9243 - val_loss: 0.0223 - val_categorical_accuracy: 0.9263\n",
      "Epoch 6/30\n",
      "698819/698819 [==============================] - 107s 153us/step - loss: 0.0213 - categorical_accuracy: 0.9305 - val_loss: 0.0209 - val_categorical_accuracy: 0.9312\n",
      "Epoch 7/30\n",
      "698819/698819 [==============================] - 100s 143us/step - loss: 0.0199 - categorical_accuracy: 0.9354 - val_loss: 0.0201 - val_categorical_accuracy: 0.9339\n",
      "Epoch 8/30\n",
      "698819/698819 [==============================] - 112s 161us/step - loss: 0.0186 - categorical_accuracy: 0.9398 - val_loss: 0.0188 - val_categorical_accuracy: 0.9390\n",
      "Epoch 9/30\n",
      "698819/698819 [==============================] - 113s 162us/step - loss: 0.0174 - categorical_accuracy: 0.9437 - val_loss: 0.0184 - val_categorical_accuracy: 0.9396\n",
      "Epoch 10/30\n",
      "698819/698819 [==============================] - 113s 161us/step - loss: 0.0164 - categorical_accuracy: 0.9472 - val_loss: 0.0171 - val_categorical_accuracy: 0.9435\n",
      "Epoch 11/30\n",
      "698819/698819 [==============================] - 123s 176us/step - loss: 0.0154 - categorical_accuracy: 0.9505 - val_loss: 0.0173 - val_categorical_accuracy: 0.9428\n",
      "Epoch 12/30\n",
      "698819/698819 [==============================] - 112s 161us/step - loss: 0.0146 - categorical_accuracy: 0.9533 - val_loss: 0.0163 - val_categorical_accuracy: 0.9461\n",
      "Epoch 13/30\n",
      "698819/698819 [==============================] - 113s 162us/step - loss: 0.0138 - categorical_accuracy: 0.9562 - val_loss: 0.0154 - val_categorical_accuracy: 0.9496\n",
      "Epoch 14/30\n",
      "698819/698819 [==============================] - 121s 173us/step - loss: 0.0131 - categorical_accuracy: 0.9586 - val_loss: 0.0151 - val_categorical_accuracy: 0.9507\n",
      "Epoch 15/30\n",
      "698819/698819 [==============================] - 139s 199us/step - loss: 0.0124 - categorical_accuracy: 0.9610 - val_loss: 0.0149 - val_categorical_accuracy: 0.9514\n",
      "Epoch 16/30\n",
      "698819/698819 [==============================] - 141s 202us/step - loss: 0.0117 - categorical_accuracy: 0.9634 - val_loss: 0.0141 - val_categorical_accuracy: 0.9543\n",
      "Epoch 17/30\n",
      "698819/698819 [==============================] - 135s 193us/step - loss: 0.0111 - categorical_accuracy: 0.9654 - val_loss: 0.0137 - val_categorical_accuracy: 0.9555\n",
      "Epoch 18/30\n",
      "698819/698819 [==============================] - 148s 212us/step - loss: 0.0106 - categorical_accuracy: 0.9674 - val_loss: 0.0136 - val_categorical_accuracy: 0.9554\n",
      "Epoch 19/30\n",
      "698819/698819 [==============================] - 179s 256us/step - loss: 0.0101 - categorical_accuracy: 0.9692 - val_loss: 0.0138 - val_categorical_accuracy: 0.9555\n",
      "Epoch 20/30\n",
      "698819/698819 [==============================] - 191s 273us/step - loss: 0.0095 - categorical_accuracy: 0.9708 - val_loss: 0.0132 - val_categorical_accuracy: 0.9574\n",
      "Epoch 21/30\n",
      "698819/698819 [==============================] - 158s 226us/step - loss: 0.0090 - categorical_accuracy: 0.9724 - val_loss: 0.0129 - val_categorical_accuracy: 0.9580\n",
      "Epoch 22/30\n",
      "698819/698819 [==============================] - 145s 208us/step - loss: 0.0086 - categorical_accuracy: 0.9740 - val_loss: 0.0125 - val_categorical_accuracy: 0.9595\n",
      "Epoch 23/30\n",
      "698819/698819 [==============================] - 143s 205us/step - loss: 0.0082 - categorical_accuracy: 0.9753 - val_loss: 0.0124 - val_categorical_accuracy: 0.9603\n",
      "Epoch 24/30\n",
      "698819/698819 [==============================] - 149s 214us/step - loss: 0.0078 - categorical_accuracy: 0.9767 - val_loss: 0.0123 - val_categorical_accuracy: 0.9602\n",
      "Epoch 25/30\n",
      "698819/698819 [==============================] - 152s 218us/step - loss: 0.0074 - categorical_accuracy: 0.9780 - val_loss: 0.0119 - val_categorical_accuracy: 0.9620\n",
      "Epoch 26/30\n",
      "698819/698819 [==============================] - 149s 213us/step - loss: 0.0071 - categorical_accuracy: 0.9789 - val_loss: 0.0123 - val_categorical_accuracy: 0.9606\n",
      "Epoch 27/30\n",
      "698819/698819 [==============================] - 162s 231us/step - loss: 0.0068 - categorical_accuracy: 0.9800 - val_loss: 0.0119 - val_categorical_accuracy: 0.9617\n",
      "Epoch 28/30\n",
      "698819/698819 [==============================] - 160s 229us/step - loss: 0.0065 - categorical_accuracy: 0.9811 - val_loss: 0.0120 - val_categorical_accuracy: 0.9618\n",
      "Epoch 29/30\n",
      "698819/698819 [==============================] - 160s 229us/step - loss: 0.0062 - categorical_accuracy: 0.9818 - val_loss: 0.0116 - val_categorical_accuracy: 0.9630\n",
      "Epoch 30/30\n",
      "698819/698819 [==============================] - 149s 214us/step - loss: 0.0060 - categorical_accuracy: 0.9828 - val_loss: 0.0112 - val_categorical_accuracy: 0.9641\n"
     ]
    }
   ],
   "source": [
    "history = clf.fit(trainX,onehot_encoded_train,\n",
    "                 batch_size = 64, epochs = 30,\n",
    "                 verbose = 1,\n",
    "                 validation_split = 0.1)"
   ]
  },
  {
   "cell_type": "code",
   "execution_count": 18,
   "metadata": {},
   "outputs": [
    {
     "data": {
      "text/plain": [
       "756"
      ]
     },
     "execution_count": 18,
     "metadata": {},
     "output_type": "execute_result"
    }
   ],
   "source": [
    "data.shape[1]"
   ]
  },
  {
   "cell_type": "code",
   "execution_count": 19,
   "metadata": {},
   "outputs": [
    {
     "data": {
      "text/plain": [
       "(array([2, 5, 1, 5, 2, 4, 4, 2, 4, 4, 3, 2, 3, 1, 3, 3, 2, 4, 3, 4, 2, 4,\n",
       "        4, 2, 5, 5, 4, 5, 2, 4, 5, 4, 4, 1, 5, 4, 2, 2, 5, 2, 4, 4, 5, 3,\n",
       "        1, 3, 5, 5, 3, 2, 4, 4, 1, 5, 5, 4, 5, 4, 4, 2, 2, 2, 1, 4, 2, 1,\n",
       "        2, 2, 1, 4, 2, 1, 4, 2, 1, 5, 3, 4, 5, 4, 3, 5, 2, 5, 4, 2, 2, 2,\n",
       "        5, 5, 5, 4, 4, 2, 4, 5, 2, 1, 1], dtype=int64),\n",
       " array([2, 2, 5, 1, 5, 2, 4, 4, 2, 4, 4, 3, 2, 3, 1, 3, 3, 2, 4, 3, 4, 2,\n",
       "        4, 4, 2, 5, 5, 4, 5, 2, 4, 5, 4, 4, 1, 5, 4, 2, 2, 5, 2, 4, 4, 5,\n",
       "        3, 1, 3, 5, 5, 3, 2, 4, 5, 1, 5, 5, 4, 5, 4, 4, 2, 2, 2, 1, 4, 2,\n",
       "        1, 2, 2, 1, 4, 2, 1, 4, 2, 1, 5, 3, 4, 5, 4, 3, 5, 2, 5, 4, 2, 2,\n",
       "        2, 4, 5, 5, 4, 4, 2, 4, 5, 2, 1, 1], dtype=int64))"
      ]
     },
     "execution_count": 19,
     "metadata": {},
     "output_type": "execute_result"
    }
   ],
   "source": [
    "clf.predict_classes(testX[1:100,:]) + 1,testY[:100]"
   ]
  },
  {
   "cell_type": "code",
   "execution_count": 20,
   "metadata": {},
   "outputs": [],
   "source": [
    "# saving the model \n",
    "# save model and weights\n",
    "clf_json = clf.to_json()\n",
    "with open(\"NN_756-380-5.json\", \"w\") as json_file:\n",
    "    json_file.write(clf_json)\n",
    "    \n",
    "clf.save_weights(\"NN_756-380-5_weights.h5\")"
   ]
  },
  {
   "cell_type": "code",
   "execution_count": 21,
   "metadata": {},
   "outputs": [],
   "source": [
    "np.save('TestX_NN_756-380-5',testX), np.save('TestY_NN_756-380-5',testY),\n",
    "np.save('OneHot_testY_756-380-5',onehot_encoded_test)"
   ]
  },
  {
   "cell_type": "code",
   "execution_count": 22,
   "metadata": {},
   "outputs": [
    {
     "name": "stdout",
     "output_type": "stream",
     "text": [
      "194117/194117 [==============================] - 10s 50us/step\n"
     ]
    },
    {
     "data": {
      "text/plain": [
       "[0.011338381001418589, 0.9633829082460578]"
      ]
     },
     "execution_count": 22,
     "metadata": {},
     "output_type": "execute_result"
    }
   ],
   "source": [
    "clf.evaluate(testX,onehot_encoded_test)"
   ]
  },
  {
   "cell_type": "code",
   "execution_count": null,
   "metadata": {},
   "outputs": [],
   "source": []
  }
 ],
 "metadata": {
  "kernelspec": {
   "display_name": "Python 3",
   "language": "python",
   "name": "python3"
  },
  "language_info": {
   "codemirror_mode": {
    "name": "ipython",
    "version": 3
   },
   "file_extension": ".py",
   "mimetype": "text/x-python",
   "name": "python",
   "nbconvert_exporter": "python",
   "pygments_lexer": "ipython3",
   "version": "3.6.5"
  }
 },
 "nbformat": 4,
 "nbformat_minor": 2
}
