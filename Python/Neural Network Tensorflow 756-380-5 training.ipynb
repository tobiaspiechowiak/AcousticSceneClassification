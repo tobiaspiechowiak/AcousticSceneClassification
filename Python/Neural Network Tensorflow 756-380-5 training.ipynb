{
 "cells": [
  {
   "cell_type": "code",
   "execution_count": 1,
   "metadata": {},
   "outputs": [],
   "source": [
    "#load packages\n",
    "import numpy as np\n",
    "import tensorflow as tf\n",
    "from tensorflow import keras \n",
    "import pandas as pd\n",
    "import soundfile as sf\n"
   ]
  },
  {
   "cell_type": "code",
   "execution_count": 2,
   "metadata": {},
   "outputs": [],
   "source": [
    "#import data \n",
    "path = 'x:/Steering/Recordings/Processed/'\n",
    "data1,_ = sf.read(path + 'ERB=2_MF_01.wav')\n",
    "data2,_ = sf.read(path + 'ERB=2_MF_02.wav')\n",
    "data3,_ = sf.read(path + 'ERB=2_MF_03.wav')\n",
    "\n",
    "classes = pd.read_csv(path + 'Classes_2_MF.csv')\n",
    "\n",
    "data = np.hstack([data1, data2, data3])"
   ]
  },
  {
   "cell_type": "code",
   "execution_count": 3,
   "metadata": {},
   "outputs": [
    {
     "data": {
      "text/plain": [
       "(970584, 756)"
      ]
     },
     "execution_count": 3,
     "metadata": {},
     "output_type": "execute_result"
    }
   ],
   "source": [
    "data.shape"
   ]
  },
  {
   "cell_type": "code",
   "execution_count": 4,
   "metadata": {},
   "outputs": [],
   "source": [
    "X = data[:len(data)-1,:data.shape[1]] #775361\n",
    "Y = classes.values[:,0]"
   ]
  },
  {
   "cell_type": "code",
   "execution_count": 5,
   "metadata": {},
   "outputs": [
    {
     "data": {
      "text/plain": [
       "((970583, 756), (970583,))"
      ]
     },
     "execution_count": 5,
     "metadata": {},
     "output_type": "execute_result"
    }
   ],
   "source": [
    "X.shape, Y.shape"
   ]
  },
  {
   "cell_type": "code",
   "execution_count": 6,
   "metadata": {},
   "outputs": [],
   "source": [
    "#split into training and test set\n",
    "from sklearn.model_selection import train_test_split\n",
    "trainX, testX, trainY, testY = train_test_split(X,Y,test_size=0.2,random_state=0)"
   ]
  },
  {
   "cell_type": "code",
   "execution_count": 11,
   "metadata": {},
   "outputs": [],
   "source": [
    "#do one-hot encoding\n",
    "from sklearn.preprocessing import OneHotEncoder \n",
    "from sklearn.preprocessing import LabelEncoder\n",
    "\n",
    "enc = OneHotEncoder(sparse=False)"
   ]
  },
  {
   "cell_type": "code",
   "execution_count": 12,
   "metadata": {},
   "outputs": [],
   "source": [
    "integer_encoded_train = trainY.reshape(len(trainY), 1)\n",
    "onehot_encoded_train = enc.fit_transform(integer_encoded_train)\n",
    "\n",
    "integer_encoded_test = testY.reshape(len(testY), 1)\n",
    "onehot_encoded_test = enc.fit_transform(integer_encoded_test)"
   ]
  },
  {
   "cell_type": "code",
   "execution_count": 13,
   "metadata": {},
   "outputs": [
    {
     "data": {
      "text/plain": [
       "array([[0., 1., 0., 0., 0.],\n",
       "       [0., 0., 0., 0., 1.],\n",
       "       [0., 0., 0., 0., 1.],\n",
       "       ...,\n",
       "       [0., 1., 0., 0., 0.],\n",
       "       [0., 0., 1., 0., 0.],\n",
       "       [0., 1., 0., 0., 0.]])"
      ]
     },
     "execution_count": 13,
     "metadata": {},
     "output_type": "execute_result"
    }
   ],
   "source": [
    "onehot_encoded_train \n"
   ]
  },
  {
   "cell_type": "code",
   "execution_count": 14,
   "metadata": {},
   "outputs": [],
   "source": [
    "#DC removal \n",
    "trainX -= (np.mean(trainX, axis=0) + 1e-8)\n",
    "testX -= (np.mean(testX, axis=0) + 1e-8)"
   ]
  },
  {
   "cell_type": "code",
   "execution_count": 15,
   "metadata": {},
   "outputs": [],
   "source": [
    "clf = keras.Sequential()"
   ]
  },
  {
   "cell_type": "code",
   "execution_count": 16,
   "metadata": {},
   "outputs": [
    {
     "data": {
      "text/plain": [
       "((776466, 756), (776466, 5))"
      ]
     },
     "execution_count": 16,
     "metadata": {},
     "output_type": "execute_result"
    }
   ],
   "source": [
    "trainX.shape, onehot_encoded_train.shape"
   ]
  },
  {
   "cell_type": "code",
   "execution_count": 17,
   "metadata": {},
   "outputs": [],
   "source": [
    "clf.add(keras.layers.Dense(\n",
    "  units = 380,\n",
    "  input_dim = trainX.shape[1],   \n",
    "  activation = 'tanh'\n",
    "))\n",
    "\n",
    "clf.add(keras.layers.Dense(\n",
    "    units = onehot_encoded_train.shape[1],\n",
    "    input_dim = 380,\n",
    "    activation = 'softmax'\n",
    "))\n"
   ]
  },
  {
   "cell_type": "code",
   "execution_count": 18,
   "metadata": {},
   "outputs": [
    {
     "data": {
      "text/plain": [
       "5"
      ]
     },
     "execution_count": 18,
     "metadata": {},
     "output_type": "execute_result"
    }
   ],
   "source": [
    "onehot_encoded_train.shape[1]"
   ]
  },
  {
   "cell_type": "code",
   "execution_count": 19,
   "metadata": {},
   "outputs": [],
   "source": [
    "clf.compile(loss='mean_squared_error',\n",
    "    optimizer='Adam',\n",
    "           metrics=['categorical_accuracy'])"
   ]
  },
  {
   "cell_type": "code",
   "execution_count": 20,
   "metadata": {},
   "outputs": [
    {
     "name": "stdout",
     "output_type": "stream",
     "text": [
      "Train on 698819 samples, validate on 77647 samples\n",
      "Epoch 1/30\n",
      "698819/698819 [==============================] - 238s 340us/step - loss: 0.0467 - categorical_accuracy: 0.8402 - val_loss: 0.0353 - val_categorical_accuracy: 0.8799\n",
      "Epoch 2/30\n",
      "698819/698819 [==============================] - 81s 116us/step - loss: 0.0329 - categorical_accuracy: 0.8897 - val_loss: 0.0311 - val_categorical_accuracy: 0.8956\n",
      "Epoch 3/30\n",
      "698819/698819 [==============================] - 86s 123us/step - loss: 0.0291 - categorical_accuracy: 0.9033 - val_loss: 0.0278 - val_categorical_accuracy: 0.9076\n",
      "Epoch 4/30\n",
      "698819/698819 [==============================] - 81s 117us/step - loss: 0.0266 - categorical_accuracy: 0.9120 - val_loss: 0.0256 - val_categorical_accuracy: 0.9148\n",
      "Epoch 5/30\n",
      "698819/698819 [==============================] - 79s 114us/step - loss: 0.0246 - categorical_accuracy: 0.9192 - val_loss: 0.0237 - val_categorical_accuracy: 0.9218\n",
      "Epoch 6/30\n",
      "698819/698819 [==============================] - 88s 125us/step - loss: 0.0231 - categorical_accuracy: 0.9244 - val_loss: 0.0226 - val_categorical_accuracy: 0.9258\n",
      "Epoch 7/30\n",
      "698819/698819 [==============================] - 79s 113us/step - loss: 0.0218 - categorical_accuracy: 0.9287 - val_loss: 0.0213 - val_categorical_accuracy: 0.9299\n",
      "Epoch 8/30\n",
      "698819/698819 [==============================] - 78s 112us/step - loss: 0.0206 - categorical_accuracy: 0.9328 - val_loss: 0.0206 - val_categorical_accuracy: 0.9323\n",
      "Epoch 9/30\n",
      "698819/698819 [==============================] - 99s 142us/step - loss: 0.0196 - categorical_accuracy: 0.9362 - val_loss: 0.0198 - val_categorical_accuracy: 0.9345\n",
      "Epoch 10/30\n",
      "698819/698819 [==============================] - 129s 185us/step - loss: 0.0185 - categorical_accuracy: 0.9399 - val_loss: 0.0187 - val_categorical_accuracy: 0.9389\n",
      "Epoch 11/30\n",
      "698819/698819 [==============================] - 117s 168us/step - loss: 0.0176 - categorical_accuracy: 0.9434 - val_loss: 0.0187 - val_categorical_accuracy: 0.9383\n",
      "Epoch 12/30\n",
      "698819/698819 [==============================] - 72s 103us/step - loss: 0.0167 - categorical_accuracy: 0.9463 - val_loss: 0.0181 - val_categorical_accuracy: 0.9405\n",
      "Epoch 13/30\n",
      "698819/698819 [==============================] - 73s 105us/step - loss: 0.0159 - categorical_accuracy: 0.9492 - val_loss: 0.0170 - val_categorical_accuracy: 0.9441\n",
      "Epoch 14/30\n",
      "698819/698819 [==============================] - 72s 103us/step - loss: 0.0151 - categorical_accuracy: 0.9517 - val_loss: 0.0166 - val_categorical_accuracy: 0.9456\n",
      "Epoch 15/30\n",
      "698819/698819 [==============================] - 72s 103us/step - loss: 0.0144 - categorical_accuracy: 0.9542 - val_loss: 0.0158 - val_categorical_accuracy: 0.9484\n",
      "Epoch 16/30\n",
      "698819/698819 [==============================] - 73s 104us/step - loss: 0.0138 - categorical_accuracy: 0.9566 - val_loss: 0.0156 - val_categorical_accuracy: 0.9490\n",
      "Epoch 17/30\n",
      "698819/698819 [==============================] - 72s 102us/step - loss: 0.0131 - categorical_accuracy: 0.9588 - val_loss: 0.0149 - val_categorical_accuracy: 0.9511\n",
      "Epoch 18/30\n",
      "698819/698819 [==============================] - 71s 102us/step - loss: 0.0126 - categorical_accuracy: 0.9607 - val_loss: 0.0145 - val_categorical_accuracy: 0.9522\n",
      "Epoch 19/30\n",
      "698819/698819 [==============================] - 73s 105us/step - loss: 0.0120 - categorical_accuracy: 0.9626 - val_loss: 0.0144 - val_categorical_accuracy: 0.9528\n",
      "Epoch 20/30\n",
      "698819/698819 [==============================] - 75s 107us/step - loss: 0.0115 - categorical_accuracy: 0.9647 - val_loss: 0.0140 - val_categorical_accuracy: 0.9544\n",
      "Epoch 21/30\n",
      "698819/698819 [==============================] - 72s 103us/step - loss: 0.0110 - categorical_accuracy: 0.9664 - val_loss: 0.0137 - val_categorical_accuracy: 0.9557\n",
      "Epoch 22/30\n",
      "698819/698819 [==============================] - 74s 105us/step - loss: 0.0105 - categorical_accuracy: 0.9680 - val_loss: 0.0135 - val_categorical_accuracy: 0.9563\n",
      "Epoch 23/30\n",
      "698819/698819 [==============================] - 71s 102us/step - loss: 0.0101 - categorical_accuracy: 0.9694 - val_loss: 0.0132 - val_categorical_accuracy: 0.9573\n",
      "Epoch 24/30\n",
      "698819/698819 [==============================] - 83s 119us/step - loss: 0.0096 - categorical_accuracy: 0.9706 - val_loss: 0.0128 - val_categorical_accuracy: 0.9588\n",
      "Epoch 25/30\n",
      "698819/698819 [==============================] - 87s 124us/step - loss: 0.0093 - categorical_accuracy: 0.9722 - val_loss: 0.0129 - val_categorical_accuracy: 0.9581\n",
      "Epoch 26/30\n",
      "698819/698819 [==============================] - 113s 161us/step - loss: 0.0089 - categorical_accuracy: 0.9732 - val_loss: 0.0127 - val_categorical_accuracy: 0.9591\n",
      "Epoch 27/30\n",
      "698819/698819 [==============================] - 102s 145us/step - loss: 0.0085 - categorical_accuracy: 0.9745 - val_loss: 0.0126 - val_categorical_accuracy: 0.9596\n",
      "Epoch 28/30\n",
      "698819/698819 [==============================] - 104s 149us/step - loss: 0.0082 - categorical_accuracy: 0.9757 - val_loss: 0.0127 - val_categorical_accuracy: 0.9590\n",
      "Epoch 29/30\n",
      "698819/698819 [==============================] - 98s 140us/step - loss: 0.0079 - categorical_accuracy: 0.9769 - val_loss: 0.0120 - val_categorical_accuracy: 0.9613\n",
      "Epoch 30/30\n",
      "698819/698819 [==============================] - 83s 118us/step - loss: 0.0075 - categorical_accuracy: 0.9779 - val_loss: 0.0118 - val_categorical_accuracy: 0.9613\n"
     ]
    }
   ],
   "source": [
    "history = clf.fit(trainX,onehot_encoded_train,\n",
    "                 batch_size = 100, epochs = 30,\n",
    "                 verbose = 1,\n",
    "                 validation_split = 0.1)"
   ]
  },
  {
   "cell_type": "code",
   "execution_count": 21,
   "metadata": {},
   "outputs": [
    {
     "data": {
      "text/plain": [
       "756"
      ]
     },
     "execution_count": 21,
     "metadata": {},
     "output_type": "execute_result"
    }
   ],
   "source": [
    "data.shape[1]"
   ]
  },
  {
   "cell_type": "code",
   "execution_count": 22,
   "metadata": {},
   "outputs": [
    {
     "data": {
      "text/plain": [
       "(array([2, 5, 1, 5, 2, 4, 4, 2, 4, 4, 3, 2, 3, 1, 3, 3, 2, 4, 3, 4, 2, 4,\n",
       "        4, 2, 5, 5, 4, 5, 2, 4, 5, 4, 4, 1, 5, 4, 2, 2, 5, 2, 4, 4, 5, 3,\n",
       "        1, 3, 5, 5, 3, 2, 4, 5, 1, 5, 5, 4, 5, 4, 4, 2, 2, 2, 1, 4, 2, 1,\n",
       "        2, 2, 1, 4, 2, 1, 4, 2, 1, 5, 3, 4, 5, 4, 3, 5, 2, 5, 2, 2, 2, 2,\n",
       "        5, 5, 5, 4, 4, 2, 4, 5, 2, 1, 1], dtype=int64),\n",
       " array([2, 2, 5, 1, 5, 2, 4, 4, 2, 4, 4, 3, 2, 3, 1, 3, 3, 2, 4, 3, 4, 2,\n",
       "        4, 4, 2, 5, 5, 4, 5, 2, 4, 5, 4, 4, 1, 5, 4, 2, 2, 5, 2, 4, 4, 5,\n",
       "        3, 1, 3, 5, 5, 3, 2, 4, 5, 1, 5, 5, 4, 5, 4, 4, 2, 2, 2, 1, 4, 2,\n",
       "        1, 2, 2, 1, 4, 2, 1, 4, 2, 1, 5, 3, 4, 5, 4, 3, 5, 2, 5, 4, 2, 2,\n",
       "        2, 4, 5, 5, 4, 4, 2, 4, 5, 2, 1, 1], dtype=int64))"
      ]
     },
     "execution_count": 22,
     "metadata": {},
     "output_type": "execute_result"
    }
   ],
   "source": [
    "clf.predict_classes(testX[1:100,:]) + 1,testY[:100]"
   ]
  },
  {
   "cell_type": "code",
   "execution_count": 23,
   "metadata": {},
   "outputs": [],
   "source": [
    "# saving the model \n",
    "# save model and weights\n",
    "clf_json = clf.to_json()\n",
    "with open(\"NN_756-380-5.json\", \"w\") as json_file:\n",
    "    json_file.write(clf_json)\n",
    "    \n",
    "clf.save_weights(\"NN_756-380-5_weights.h5\")"
   ]
  },
  {
   "cell_type": "code",
   "execution_count": 24,
   "metadata": {},
   "outputs": [],
   "source": [
    "np.save('TestX_NN_756-380-5',testX), np.save('TestY_NN_756-380-5',testY),\n",
    "np.save('OneHot_testY_756-380-5',onehot_encoded_test)"
   ]
  },
  {
   "cell_type": "code",
   "execution_count": 25,
   "metadata": {},
   "outputs": [
    {
     "name": "stdout",
     "output_type": "stream",
     "text": [
      "194117/194117 [==============================] - 9s 46us/step\n"
     ]
    },
    {
     "data": {
      "text/plain": [
       "[0.012003329167382861, 0.9613635075753283]"
      ]
     },
     "execution_count": 25,
     "metadata": {},
     "output_type": "execute_result"
    }
   ],
   "source": [
    "clf.evaluate(testX,onehot_encoded_test)"
   ]
  },
  {
   "cell_type": "code",
   "execution_count": null,
   "metadata": {},
   "outputs": [],
   "source": []
  }
 ],
 "metadata": {
  "kernelspec": {
   "display_name": "Python 3",
   "language": "python",
   "name": "python3"
  },
  "language_info": {
   "codemirror_mode": {
    "name": "ipython",
    "version": 3
   },
   "file_extension": ".py",
   "mimetype": "text/x-python",
   "name": "python",
   "nbconvert_exporter": "python",
   "pygments_lexer": "ipython3",
   "version": "3.6.5"
  }
 },
 "nbformat": 4,
 "nbformat_minor": 2
}
