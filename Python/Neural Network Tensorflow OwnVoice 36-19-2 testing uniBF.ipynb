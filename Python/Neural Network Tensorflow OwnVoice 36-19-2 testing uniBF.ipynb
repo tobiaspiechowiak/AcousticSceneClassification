{
 "cells": [
  {
   "cell_type": "code",
   "execution_count": 1,
   "metadata": {},
   "outputs": [],
   "source": [
    "#load packages\n",
    "import numpy as np\n",
    "import tensorflow as tf\n",
    "from tensorflow import keras \n",
    "import pandas as pd\n",
    "import soundfile as sf"
   ]
  },
  {
   "cell_type": "code",
   "execution_count": 2,
   "metadata": {},
   "outputs": [],
   "source": [
    "#load the saved model \n",
    "json_file = open('NN_OwnVoice_36-19-2_inputs_uniBF.json', 'r')\n",
    "loaded_model_json = json_file.read()\n",
    "loaded_model = keras.models.model_from_json(loaded_model_json)\n",
    "\n",
    "#load weights\n",
    "loaded_model.load_weights(\"NN_OwnVoice_36-19-2_inputs_uniBF_weights.h5\")"
   ]
  },
  {
   "cell_type": "code",
   "execution_count": 3,
   "metadata": {},
   "outputs": [],
   "source": [
    "#load test data\n",
    "path = 'x:/Steering/Recordings/Processed/'\n",
    "testX = np.load(path + 'TestX_NN_OwnVoice_uniBF.npy')\n",
    "testY = np.load(path + 'TestY_NN_OwnVoice_uniBF.npy')\n",
    "one_hot_test = np.load(path + 'OneHot_testY_uniBF.npy')"
   ]
  },
  {
   "cell_type": "code",
   "execution_count": 4,
   "metadata": {},
   "outputs": [
    {
     "data": {
      "text/plain": [
       "array([0, 1, 1, ..., 1, 0, 0], dtype=int64)"
      ]
     },
     "execution_count": 4,
     "metadata": {},
     "output_type": "execute_result"
    }
   ],
   "source": [
    "testY"
   ]
  },
  {
   "cell_type": "code",
   "execution_count": 5,
   "metadata": {},
   "outputs": [],
   "source": [
    "loaded_model.compile(loss='mean_squared_error',\n",
    "    optimizer='Adam',\n",
    "           metrics=['categorical_accuracy'])"
   ]
  },
  {
   "cell_type": "code",
   "execution_count": 6,
   "metadata": {},
   "outputs": [
    {
     "name": "stdout",
     "output_type": "stream",
     "text": [
      "177983/177983 [==============================] - 2s 14us/step\n"
     ]
    },
    {
     "data": {
      "text/plain": [
       "[0.0904881519544169, 0.8744936314155758]"
      ]
     },
     "execution_count": 6,
     "metadata": {},
     "output_type": "execute_result"
    }
   ],
   "source": [
    "loaded_model.evaluate(testX,one_hot_test,verbose=1)"
   ]
  },
  {
   "cell_type": "code",
   "execution_count": 7,
   "metadata": {},
   "outputs": [],
   "source": [
    "#process weights\n",
    "weights_first_layer = loaded_model.layers[0].get_weights()[0]\n",
    "biases_first_layer = loaded_model.layers[0].get_weights()[1]\n",
    "\n",
    "weights_second_layer = loaded_model.layers[1].get_weights()[0]\n",
    "biases_second_layer = loaded_model.layers[1].get_weights()[1]"
   ]
  },
  {
   "cell_type": "code",
   "execution_count": 8,
   "metadata": {},
   "outputs": [],
   "source": [
    "weights_first_layer = np.vstack([biases_first_layer, weights_first_layer])\n",
    "weights_second_layer = np.vstack([biases_second_layer, weights_second_layer])\n",
    "\n",
    "#tmp1 = abs(np.vstack([weights_first_layer, biases_first_layer])).max()\n",
    "#tmp2 = abs(np.vstack([weights_second_layer, biases_second_layer])).max()"
   ]
  },
  {
   "cell_type": "code",
   "execution_count": 9,
   "metadata": {},
   "outputs": [],
   "source": [
    "weights_first_layer_norm = weights_first_layer / abs(weights_first_layer).max()\n",
    "#biases_first_layer_norm = biases_first_layer / abs(biases_first_layer).max()\n",
    "\n",
    "weights_second_layer_norm = weights_second_layer / abs(weights_second_layer).max()\n",
    "#biases_second_layer_norm = biases_second_layer / tmp2 #abs(biases_second_layer).max()"
   ]
  },
  {
   "cell_type": "code",
   "execution_count": 10,
   "metadata": {},
   "outputs": [
    {
     "data": {
      "text/plain": [
       "(91.23582, 14.140567)"
      ]
     },
     "execution_count": 10,
     "metadata": {},
     "output_type": "execute_result"
    }
   ],
   "source": [
    "abs(weights_first_layer).max(), abs(weights_second_layer).max()"
   ]
  },
  {
   "cell_type": "code",
   "execution_count": 11,
   "metadata": {},
   "outputs": [
    {
     "data": {
      "text/plain": [
       "((37, 19), (20, 2))"
      ]
     },
     "execution_count": 11,
     "metadata": {},
     "output_type": "execute_result"
    }
   ],
   "source": [
    "weights_first_layer.shape, weights_second_layer.shape"
   ]
  },
  {
   "cell_type": "code",
   "execution_count": 12,
   "metadata": {},
   "outputs": [],
   "source": [
    "np.savetxt('weights_first_layer_norm_NN_36-19-2_ownVoice.txt',\n",
    "           weights_first_layer_norm,delimiter= ',')\n",
    "np.savetxt('weights_second_layer_norm_NN_36-19-2_ownVoice.txt',\n",
    "           weights_second_layer_norm,delimiter= ',')\n"
   ]
  },
  {
   "cell_type": "code",
   "execution_count": 13,
   "metadata": {},
   "outputs": [
    {
     "data": {
      "text/plain": [
       "((177983, 36), (177983, 2))"
      ]
     },
     "execution_count": 13,
     "metadata": {},
     "output_type": "execute_result"
    }
   ],
   "source": [
    "# calculate confusion matrix\n",
    "testX.shape,one_hot_test.shape"
   ]
  },
  {
   "cell_type": "code",
   "execution_count": 7,
   "metadata": {},
   "outputs": [
    {
     "data": {
      "text/plain": [
       "array([ 0,  0,  0, ..., -1,  0,  0], dtype=int64)"
      ]
     },
     "execution_count": 7,
     "metadata": {},
     "output_type": "execute_result"
    }
   ],
   "source": [
    "loaded_model.predict_classes(testX) - testY"
   ]
  },
  {
   "cell_type": "code",
   "execution_count": 58,
   "metadata": {},
   "outputs": [],
   "source": [
    "from sklearn.metrics import confusion_matrix\n",
    "import matplotlib.pyplot as plt"
   ]
  },
  {
   "cell_type": "code",
   "execution_count": 59,
   "metadata": {},
   "outputs": [],
   "source": [
    "cfm = confusion_matrix(testY,loaded_model.predict_classes(testX)) "
   ]
  },
  {
   "cell_type": "code",
   "execution_count": 60,
   "metadata": {
    "scrolled": true
   },
   "outputs": [
    {
     "data": {
      "text/plain": [
       "array([[106245,  16215],\n",
       "       [  6123,  49400]], dtype=int64)"
      ]
     },
     "execution_count": 60,
     "metadata": {},
     "output_type": "execute_result"
    }
   ],
   "source": [
    "cfm"
   ]
  },
  {
   "cell_type": "code",
   "execution_count": 67,
   "metadata": {},
   "outputs": [],
   "source": [
    "cfm_norm = np.zeros((2,2))"
   ]
  },
  {
   "cell_type": "code",
   "execution_count": 68,
   "metadata": {},
   "outputs": [
    {
     "data": {
      "text/plain": [
       "array([[0., 0.],\n",
       "       [0., 0.]])"
      ]
     },
     "execution_count": 68,
     "metadata": {},
     "output_type": "execute_result"
    }
   ],
   "source": [
    "cfm_norm"
   ]
  },
  {
   "cell_type": "code",
   "execution_count": 71,
   "metadata": {},
   "outputs": [],
   "source": [
    "for idx in range(2):\n",
    "    cfm_norm[idx,:] = cfm[idx,:] / sum(cfm[idx,:]) #len(testY[testY == idx])  \n",
    "    "
   ]
  },
  {
   "cell_type": "code",
   "execution_count": 73,
   "metadata": {},
   "outputs": [],
   "source": [
    "cfm_norm = np.around(cfm_norm,decimals=3)"
   ]
  },
  {
   "cell_type": "code",
   "execution_count": 107,
   "metadata": {},
   "outputs": [
    {
     "data": {
      "image/png": "[encoded data removed]",
      "text/plain": [
       "<Figure size 432x432 with 1 Axes>"
      ]
     },
     "metadata": {},
     "output_type": "display_data"
    }
   ],
   "source": [
    "#nicer confusion matrix\n",
    "fig, ax = plt.subplots(figsize = (6, 6))\n",
    "ax.matshow(cfm_norm,cmap=plt.cm.Blues,alpha=0.7)\n",
    "\n",
    "for i in range(cfm_norm.shape[0]):\n",
    "    for j in range(cfm_norm.shape[1]):\n",
    "        ax.text(x=j,y=i, s=cfm_norm[i,j],va='center', ha= 'center',fontsize=15)\n",
    "  \n",
    "ax.set_xticks([0,1])\n",
    "ax.set_yticks([0,1])\n",
    "ax.set_xticklabels(['Other','Own-voice'])\n",
    "ax.set_yticklabels(['Other','Own-voice'])\n",
    "ax.yaxis.set_label_coords(1.1,0.5)\n",
    "ax.xaxis.set_label_coords(0.51,-0.07)\n",
    "ax.set_xlabel('Predicted Class',fontsize=13)\n",
    "ax.set_ylabel('True Class',fontsize=13)\n",
    "plt.show()\n"
   ]
  },
  {
   "cell_type": "code",
   "execution_count": 108,
   "metadata": {},
   "outputs": [],
   "source": [
    "fig.savefig('Conf_Matrix_OwnVoice.png',dpi=80)"
   ]
  },
  {
   "cell_type": "code",
   "execution_count": null,
   "metadata": {},
   "outputs": [],
   "source": []
  }
 ],
 "metadata": {
  "kernelspec": {
   "display_name": "Python 3",
   "language": "python",
   "name": "python3"
  },
  "language_info": {
   "codemirror_mode": {
    "name": "ipython",
    "version": 3
   },
   "file_extension": ".py",
   "mimetype": "text/x-python",
   "name": "python",
   "nbconvert_exporter": "python",
   "pygments_lexer": "ipython3",
   "version": "3.6.5"
  }
 },
 "nbformat": 4,
 "nbformat_minor": 2
}
