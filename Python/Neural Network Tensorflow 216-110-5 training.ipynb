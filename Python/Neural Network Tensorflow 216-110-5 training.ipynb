{
 "cells": [
  {
   "cell_type": "code",
   "execution_count": 1,
   "metadata": {},
   "outputs": [],
   "source": [
    "#load packages\n",
    "import numpy as np\n",
    "import tensorflow as tf\n",
    "from tensorflow import keras \n",
    "import pandas as pd\n",
    "import soundfile as sf\n"
   ]
  },
  {
   "cell_type": "code",
   "execution_count": 2,
   "metadata": {},
   "outputs": [],
   "source": [
    "#import data \n",
    "path = 'x:/Steering/Recordings/Processed/'\n",
    "data, fs = sf.read(path + 'ERB=1.wav')\n",
    "classes = pd.read_csv(path + 'Classes_1.csv')"
   ]
  },
  {
   "cell_type": "code",
   "execution_count": 3,
   "metadata": {},
   "outputs": [],
   "source": [
    "X = data[:len(data)-1,:data.shape[1]] #775361\n",
    "Y = classes.values[:,0]"
   ]
  },
  {
   "cell_type": "code",
   "execution_count": 4,
   "metadata": {},
   "outputs": [],
   "source": [
    "#split into training and test set\n",
    "from sklearn.model_selection import train_test_split\n",
    "trainX, testX, trainY, testY = train_test_split(X,Y,test_size=0.2,random_state=0)"
   ]
  },
  {
   "cell_type": "code",
   "execution_count": 5,
   "metadata": {},
   "outputs": [],
   "source": [
    "#do one-hot encoding\n",
    "from sklearn.preprocessing import OneHotEncoder \n",
    "from sklearn.preprocessing import LabelEncoder\n",
    "\n",
    "enc = OneHotEncoder(sparse=False)"
   ]
  },
  {
   "cell_type": "code",
   "execution_count": 6,
   "metadata": {},
   "outputs": [],
   "source": [
    "integer_encoded_train = trainY.reshape(len(trainY), 1)\n",
    "onehot_encoded_train = enc.fit_transform(integer_encoded_train)\n",
    "\n",
    "integer_encoded_test = testY.reshape(len(testY), 1)\n",
    "onehot_encoded_test = enc.fit_transform(integer_encoded_test)"
   ]
  },
  {
   "cell_type": "code",
   "execution_count": 7,
   "metadata": {},
   "outputs": [
    {
     "data": {
      "text/plain": [
       "array([[0., 0., 0., 1., 0.],\n",
       "       [0., 0., 0., 0., 1.],\n",
       "       [0., 0., 0., 0., 1.],\n",
       "       ...,\n",
       "       [0., 0., 0., 0., 1.],\n",
       "       [0., 1., 0., 0., 0.],\n",
       "       [0., 1., 0., 0., 0.]])"
      ]
     },
     "execution_count": 7,
     "metadata": {},
     "output_type": "execute_result"
    }
   ],
   "source": [
    "onehot_encoded_train \n"
   ]
  },
  {
   "cell_type": "code",
   "execution_count": 8,
   "metadata": {},
   "outputs": [],
   "source": [
    "#DC removal \n",
    "trainX -= (np.mean(trainX, axis=0) + 1e-8)\n",
    "testX -= (np.mean(testX, axis=0) + 1e-8)"
   ]
  },
  {
   "cell_type": "code",
   "execution_count": 9,
   "metadata": {},
   "outputs": [],
   "source": [
    "clf = keras.Sequential()"
   ]
  },
  {
   "cell_type": "code",
   "execution_count": 10,
   "metadata": {},
   "outputs": [
    {
     "data": {
      "text/plain": [
       "(5, 216, array([[0., 0., 0., 1., 0.],\n",
       "        [0., 0., 0., 0., 1.],\n",
       "        [0., 0., 0., 0., 1.],\n",
       "        ...,\n",
       "        [0., 0., 0., 0., 1.],\n",
       "        [0., 1., 0., 0., 0.],\n",
       "        [0., 1., 0., 0., 0.]]))"
      ]
     },
     "execution_count": 10,
     "metadata": {},
     "output_type": "execute_result"
    }
   ],
   "source": [
    "onehot_encoded_train.shape[1], X.shape[1],onehot_encoded_train"
   ]
  },
  {
   "cell_type": "code",
   "execution_count": 11,
   "metadata": {},
   "outputs": [],
   "source": [
    "clf.add(keras.layers.Dense(\n",
    "  units = 110,\n",
    "  input_dim = trainX.shape[1],   \n",
    "  activation = 'tanh'\n",
    "))\n",
    "\n",
    "clf.add(keras.layers.Dense(\n",
    "    units = onehot_encoded_train.shape[1],\n",
    "    input_dim = 110,\n",
    "    activation = 'softmax'\n",
    "))\n"
   ]
  },
  {
   "cell_type": "code",
   "execution_count": 12,
   "metadata": {},
   "outputs": [
    {
     "data": {
      "text/plain": [
       "5"
      ]
     },
     "execution_count": 12,
     "metadata": {},
     "output_type": "execute_result"
    }
   ],
   "source": [
    "onehot_encoded_train.shape[1]"
   ]
  },
  {
   "cell_type": "code",
   "execution_count": 13,
   "metadata": {},
   "outputs": [],
   "source": [
    "clf.compile(loss='mean_squared_error',\n",
    "    optimizer='Adam',\n",
    "           metrics=['categorical_accuracy'])"
   ]
  },
  {
   "cell_type": "code",
   "execution_count": 14,
   "metadata": {},
   "outputs": [
    {
     "name": "stdout",
     "output_type": "stream",
     "text": [
      "Train on 763214 samples, validate on 84802 samples\n",
      "Epoch 1/150\n",
      "763214/763214 [==============================] - 14s 18us/step - loss: 0.1411 - categorical_accuracy: 0.4344 - val_loss: 0.1368 - val_categorical_accuracy: 0.4594\n",
      "Epoch 2/150\n",
      "763214/763214 [==============================] - 13s 16us/step - loss: 0.1359 - categorical_accuracy: 0.4659 - val_loss: 0.1352 - val_categorical_accuracy: 0.4682\n",
      "Epoch 3/150\n",
      "763214/763214 [==============================] - 11s 15us/step - loss: 0.1345 - categorical_accuracy: 0.4709 - val_loss: 0.1340 - val_categorical_accuracy: 0.4724\n",
      "Epoch 4/150\n",
      "763214/763214 [==============================] - 12s 16us/step - loss: 0.1333 - categorical_accuracy: 0.4720 - val_loss: 0.1332 - val_categorical_accuracy: 0.4738\n",
      "Epoch 5/150\n",
      "763214/763214 [==============================] - 13s 17us/step - loss: 0.1306 - categorical_accuracy: 0.4772 - val_loss: 0.1286 - val_categorical_accuracy: 0.4730\n",
      "Epoch 6/150\n",
      "763214/763214 [==============================] - 12s 16us/step - loss: 0.1273 - categorical_accuracy: 0.4895 - val_loss: 0.1274 - val_categorical_accuracy: 0.4838\n",
      "Epoch 7/150\n",
      "763214/763214 [==============================] - 12s 16us/step - loss: 0.1252 - categorical_accuracy: 0.4943 - val_loss: 0.1240 - val_categorical_accuracy: 0.4639\n",
      "Epoch 8/150\n",
      "763214/763214 [==============================] - 13s 16us/step - loss: 0.1215 - categorical_accuracy: 0.5164 - val_loss: 0.1191 - val_categorical_accuracy: 0.5503\n",
      "Epoch 9/150\n",
      "763214/763214 [==============================] - 16s 21us/step - loss: 0.1169 - categorical_accuracy: 0.5528 - val_loss: 0.1151 - val_categorical_accuracy: 0.5756\n",
      "Epoch 10/150\n",
      "763214/763214 [==============================] - 13s 17us/step - loss: 0.1133 - categorical_accuracy: 0.5846 - val_loss: 0.1119 - val_categorical_accuracy: 0.6088\n",
      "Epoch 11/150\n",
      "763214/763214 [==============================] - 14s 18us/step - loss: 0.1108 - categorical_accuracy: 0.6032 - val_loss: 0.1097 - val_categorical_accuracy: 0.6102\n",
      "Epoch 12/150\n",
      "763214/763214 [==============================] - 14s 18us/step - loss: 0.1090 - categorical_accuracy: 0.6124 - val_loss: 0.1081 - val_categorical_accuracy: 0.6227\n",
      "Epoch 13/150\n",
      "763214/763214 [==============================] - 12s 16us/step - loss: 0.1074 - categorical_accuracy: 0.6186 - val_loss: 0.1063 - val_categorical_accuracy: 0.6237\n",
      "Epoch 14/150\n",
      "763214/763214 [==============================] - 12s 16us/step - loss: 0.1060 - categorical_accuracy: 0.6231 - val_loss: 0.1052 - val_categorical_accuracy: 0.6198\n",
      "Epoch 15/150\n",
      "763214/763214 [==============================] - 12s 16us/step - loss: 0.1047 - categorical_accuracy: 0.6268 - val_loss: 0.1041 - val_categorical_accuracy: 0.6316\n",
      "Epoch 16/150\n",
      "763214/763214 [==============================] - 12s 16us/step - loss: 0.1037 - categorical_accuracy: 0.6301 - val_loss: 0.1032 - val_categorical_accuracy: 0.6330\n",
      "Epoch 17/150\n",
      "763214/763214 [==============================] - 12s 16us/step - loss: 0.1027 - categorical_accuracy: 0.6336 - val_loss: 0.1030 - val_categorical_accuracy: 0.6164\n",
      "Epoch 18/150\n",
      "763214/763214 [==============================] - 12s 16us/step - loss: 0.1018 - categorical_accuracy: 0.6366 - val_loss: 0.1013 - val_categorical_accuracy: 0.6383\n",
      "Epoch 19/150\n",
      "763214/763214 [==============================] - 13s 17us/step - loss: 0.1009 - categorical_accuracy: 0.6398 - val_loss: 0.1004 - val_categorical_accuracy: 0.6435\n",
      "Epoch 20/150\n",
      "763214/763214 [==============================] - 14s 18us/step - loss: 0.1001 - categorical_accuracy: 0.6430 - val_loss: 0.0999 - val_categorical_accuracy: 0.6465\n",
      "Epoch 21/150\n",
      "763214/763214 [==============================] - 12s 16us/step - loss: 0.0994 - categorical_accuracy: 0.6460 - val_loss: 0.0991 - val_categorical_accuracy: 0.6546\n",
      "Epoch 22/150\n",
      "763214/763214 [==============================] - 14s 18us/step - loss: 0.0986 - categorical_accuracy: 0.6496 - val_loss: 0.0985 - val_categorical_accuracy: 0.6514\n",
      "Epoch 23/150\n",
      "763214/763214 [==============================] - 12s 15us/step - loss: 0.0979 - categorical_accuracy: 0.6529 - val_loss: 0.0975 - val_categorical_accuracy: 0.6551\n",
      "Epoch 24/150\n",
      "763214/763214 [==============================] - 12s 16us/step - loss: 0.0971 - categorical_accuracy: 0.6561 - val_loss: 0.0968 - val_categorical_accuracy: 0.6588\n",
      "Epoch 25/150\n",
      "763214/763214 [==============================] - 12s 15us/step - loss: 0.0964 - categorical_accuracy: 0.6593 - val_loss: 0.0959 - val_categorical_accuracy: 0.6594\n",
      "Epoch 26/150\n",
      "763214/763214 [==============================] - 12s 16us/step - loss: 0.0956 - categorical_accuracy: 0.6626 - val_loss: 0.0955 - val_categorical_accuracy: 0.6688\n",
      "Epoch 27/150\n",
      "763214/763214 [==============================] - 14s 18us/step - loss: 0.0949 - categorical_accuracy: 0.6659 - val_loss: 0.0951 - val_categorical_accuracy: 0.6595\n",
      "Epoch 28/150\n",
      "763214/763214 [==============================] - 15s 20us/step - loss: 0.0941 - categorical_accuracy: 0.6692 - val_loss: 0.0938 - val_categorical_accuracy: 0.6695\n",
      "Epoch 29/150\n",
      "763214/763214 [==============================] - 14s 19us/step - loss: 0.0933 - categorical_accuracy: 0.6727 - val_loss: 0.0931 - val_categorical_accuracy: 0.6674\n",
      "Epoch 30/150\n",
      "763214/763214 [==============================] - 16s 21us/step - loss: 0.0924 - categorical_accuracy: 0.6763 - val_loss: 0.0922 - val_categorical_accuracy: 0.6854\n",
      "Epoch 31/150\n",
      "763214/763214 [==============================] - 18s 23us/step - loss: 0.0914 - categorical_accuracy: 0.6805 - val_loss: 0.0906 - val_categorical_accuracy: 0.6854\n",
      "Epoch 32/150\n",
      "763214/763214 [==============================] - 15s 20us/step - loss: 0.0898 - categorical_accuracy: 0.6857 - val_loss: 0.0884 - val_categorical_accuracy: 0.6861\n",
      "Epoch 33/150\n",
      "763214/763214 [==============================] - 15s 20us/step - loss: 0.0828 - categorical_accuracy: 0.7100 - val_loss: 0.0781 - val_categorical_accuracy: 0.7245\n",
      "Epoch 34/150\n",
      "763214/763214 [==============================] - 12s 16us/step - loss: 0.0769 - categorical_accuracy: 0.7321 - val_loss: 0.0760 - val_categorical_accuracy: 0.7344\n",
      "Epoch 35/150\n",
      "763214/763214 [==============================] - 14s 18us/step - loss: 0.0752 - categorical_accuracy: 0.7388 - val_loss: 0.0743 - val_categorical_accuracy: 0.7409\n",
      "Epoch 36/150\n",
      "763214/763214 [==============================] - 16s 22us/step - loss: 0.0739 - categorical_accuracy: 0.7435 - val_loss: 0.0732 - val_categorical_accuracy: 0.7469\n",
      "Epoch 37/150\n",
      "763214/763214 [==============================] - 14s 18us/step - loss: 0.0727 - categorical_accuracy: 0.7479 - val_loss: 0.0720 - val_categorical_accuracy: 0.7537\n",
      "Epoch 38/150\n",
      "763214/763214 [==============================] - 12s 16us/step - loss: 0.0717 - categorical_accuracy: 0.7517 - val_loss: 0.0711 - val_categorical_accuracy: 0.7589\n",
      "Epoch 39/150\n",
      "763214/763214 [==============================] - 12s 16us/step - loss: 0.0707 - categorical_accuracy: 0.7554 - val_loss: 0.0705 - val_categorical_accuracy: 0.7506\n",
      "Epoch 40/150\n",
      "763214/763214 [==============================] - 13s 17us/step - loss: 0.0697 - categorical_accuracy: 0.7588 - val_loss: 0.0689 - val_categorical_accuracy: 0.7628\n",
      "Epoch 41/150\n",
      "763214/763214 [==============================] - 12s 16us/step - loss: 0.0686 - categorical_accuracy: 0.7623 - val_loss: 0.0688 - val_categorical_accuracy: 0.7553\n",
      "Epoch 42/150\n",
      "763214/763214 [==============================] - 12s 16us/step - loss: 0.0674 - categorical_accuracy: 0.7662 - val_loss: 0.0669 - val_categorical_accuracy: 0.7693\n",
      "Epoch 43/150\n",
      "763214/763214 [==============================] - 20s 26us/step - loss: 0.0662 - categorical_accuracy: 0.7704 - val_loss: 0.0654 - val_categorical_accuracy: 0.7703\n",
      "Epoch 44/150\n",
      "763214/763214 [==============================] - 12s 16us/step - loss: 0.0650 - categorical_accuracy: 0.7742 - val_loss: 0.0643 - val_categorical_accuracy: 0.7829\n",
      "Epoch 45/150\n",
      "763214/763214 [==============================] - 13s 17us/step - loss: 0.0640 - categorical_accuracy: 0.7784 - val_loss: 0.0635 - val_categorical_accuracy: 0.7845\n",
      "Epoch 46/150\n",
      "763214/763214 [==============================] - 15s 20us/step - loss: 0.0631 - categorical_accuracy: 0.7820 - val_loss: 0.0625 - val_categorical_accuracy: 0.7863\n",
      "Epoch 47/150\n"
     ]
    },
    {
     "name": "stdout",
     "output_type": "stream",
     "text": [
      "763214/763214 [==============================] - 12s 16us/step - loss: 0.0623 - categorical_accuracy: 0.7852 - val_loss: 0.0622 - val_categorical_accuracy: 0.7832\n",
      "Epoch 48/150\n",
      "763214/763214 [==============================] - 15s 20us/step - loss: 0.0616 - categorical_accuracy: 0.7885 - val_loss: 0.0609 - val_categorical_accuracy: 0.7895\n",
      "Epoch 49/150\n",
      "763214/763214 [==============================] - 13s 17us/step - loss: 0.0609 - categorical_accuracy: 0.7913 - val_loss: 0.0605 - val_categorical_accuracy: 0.7974\n",
      "Epoch 50/150\n",
      "763214/763214 [==============================] - 14s 18us/step - loss: 0.0602 - categorical_accuracy: 0.7941 - val_loss: 0.0599 - val_categorical_accuracy: 0.7944\n",
      "Epoch 51/150\n",
      "763214/763214 [==============================] - 13s 17us/step - loss: 0.0596 - categorical_accuracy: 0.7969 - val_loss: 0.0596 - val_categorical_accuracy: 0.7943\n",
      "Epoch 52/150\n",
      "763214/763214 [==============================] - 13s 17us/step - loss: 0.0589 - categorical_accuracy: 0.7993 - val_loss: 0.0584 - val_categorical_accuracy: 0.8001\n",
      "Epoch 53/150\n",
      "763214/763214 [==============================] - 12s 16us/step - loss: 0.0583 - categorical_accuracy: 0.8021 - val_loss: 0.0575 - val_categorical_accuracy: 0.8043\n",
      "Epoch 54/150\n",
      "763214/763214 [==============================] - 12s 16us/step - loss: 0.0576 - categorical_accuracy: 0.8047 - val_loss: 0.0568 - val_categorical_accuracy: 0.8077\n",
      "Epoch 55/150\n",
      "763214/763214 [==============================] - 13s 18us/step - loss: 0.0570 - categorical_accuracy: 0.8069 - val_loss: 0.0564 - val_categorical_accuracy: 0.8116\n",
      "Epoch 56/150\n",
      "763214/763214 [==============================] - 15s 20us/step - loss: 0.0563 - categorical_accuracy: 0.8097 - val_loss: 0.0563 - val_categorical_accuracy: 0.8073\n",
      "Epoch 57/150\n",
      "763214/763214 [==============================] - 13s 17us/step - loss: 0.0557 - categorical_accuracy: 0.8122 - val_loss: 0.0555 - val_categorical_accuracy: 0.8142\n",
      "Epoch 58/150\n",
      "763214/763214 [==============================] - 13s 17us/step - loss: 0.0550 - categorical_accuracy: 0.8148 - val_loss: 0.0549 - val_categorical_accuracy: 0.8113\n",
      "Epoch 59/150\n",
      "763214/763214 [==============================] - 14s 18us/step - loss: 0.0544 - categorical_accuracy: 0.8171 - val_loss: 0.0539 - val_categorical_accuracy: 0.8185\n",
      "Epoch 60/150\n",
      "763214/763214 [==============================] - 14s 19us/step - loss: 0.0538 - categorical_accuracy: 0.8194 - val_loss: 0.0543 - val_categorical_accuracy: 0.8219\n",
      "Epoch 61/150\n",
      "763214/763214 [==============================] - 16s 21us/step - loss: 0.0532 - categorical_accuracy: 0.8218 - val_loss: 0.0527 - val_categorical_accuracy: 0.8231\n",
      "Epoch 62/150\n",
      "763214/763214 [==============================] - 14s 18us/step - loss: 0.0526 - categorical_accuracy: 0.8239 - val_loss: 0.0522 - val_categorical_accuracy: 0.8257\n",
      "Epoch 63/150\n",
      "763214/763214 [==============================] - 14s 18us/step - loss: 0.0521 - categorical_accuracy: 0.8260 - val_loss: 0.0518 - val_categorical_accuracy: 0.8302\n",
      "Epoch 64/150\n",
      "763214/763214 [==============================] - 14s 18us/step - loss: 0.0516 - categorical_accuracy: 0.8280 - val_loss: 0.0511 - val_categorical_accuracy: 0.8316\n",
      "Epoch 65/150\n",
      "763214/763214 [==============================] - 15s 19us/step - loss: 0.0511 - categorical_accuracy: 0.8299 - val_loss: 0.0509 - val_categorical_accuracy: 0.8277\n",
      "Epoch 66/150\n",
      "763214/763214 [==============================] - 14s 18us/step - loss: 0.0506 - categorical_accuracy: 0.8315 - val_loss: 0.0504 - val_categorical_accuracy: 0.8323\n",
      "Epoch 67/150\n",
      "763214/763214 [==============================] - 14s 18us/step - loss: 0.0502 - categorical_accuracy: 0.8333 - val_loss: 0.0500 - val_categorical_accuracy: 0.8369\n",
      "Epoch 68/150\n",
      "763214/763214 [==============================] - 15s 20us/step - loss: 0.0498 - categorical_accuracy: 0.8349 - val_loss: 0.0492 - val_categorical_accuracy: 0.8374\n",
      "Epoch 69/150\n",
      "763214/763214 [==============================] - 16s 21us/step - loss: 0.0494 - categorical_accuracy: 0.8364 - val_loss: 0.0491 - val_categorical_accuracy: 0.8376\n",
      "Epoch 70/150\n",
      "763214/763214 [==============================] - 14s 19us/step - loss: 0.0490 - categorical_accuracy: 0.8379 - val_loss: 0.0492 - val_categorical_accuracy: 0.8384\n",
      "Epoch 71/150\n",
      "763214/763214 [==============================] - 16s 21us/step - loss: 0.0486 - categorical_accuracy: 0.8392 - val_loss: 0.0484 - val_categorical_accuracy: 0.8383\n",
      "Epoch 72/150\n",
      "763214/763214 [==============================] - 16s 22us/step - loss: 0.0483 - categorical_accuracy: 0.8404 - val_loss: 0.0482 - val_categorical_accuracy: 0.8402\n",
      "Epoch 73/150\n",
      "763214/763214 [==============================] - 16s 21us/step - loss: 0.0479 - categorical_accuracy: 0.8417 - val_loss: 0.0490 - val_categorical_accuracy: 0.8362\n",
      "Epoch 74/150\n",
      "763214/763214 [==============================] - 16s 21us/step - loss: 0.0476 - categorical_accuracy: 0.8428 - val_loss: 0.0472 - val_categorical_accuracy: 0.8427\n",
      "Epoch 75/150\n",
      "763214/763214 [==============================] - 16s 21us/step - loss: 0.0473 - categorical_accuracy: 0.8440 - val_loss: 0.0472 - val_categorical_accuracy: 0.8442\n",
      "Epoch 76/150\n",
      "763214/763214 [==============================] - 16s 21us/step - loss: 0.0470 - categorical_accuracy: 0.8450 - val_loss: 0.0475 - val_categorical_accuracy: 0.8444\n",
      "Epoch 77/150\n",
      "763214/763214 [==============================] - 14s 19us/step - loss: 0.0467 - categorical_accuracy: 0.8464 - val_loss: 0.0469 - val_categorical_accuracy: 0.8438\n",
      "Epoch 78/150\n",
      "763214/763214 [==============================] - 15s 19us/step - loss: 0.0464 - categorical_accuracy: 0.8475 - val_loss: 0.0467 - val_categorical_accuracy: 0.8442\n",
      "Epoch 79/150\n",
      "763214/763214 [==============================] - 14s 18us/step - loss: 0.0461 - categorical_accuracy: 0.8483 - val_loss: 0.0462 - val_categorical_accuracy: 0.8498\n",
      "Epoch 80/150\n",
      "763214/763214 [==============================] - 16s 21us/step - loss: 0.0459 - categorical_accuracy: 0.8492 - val_loss: 0.0460 - val_categorical_accuracy: 0.8465\n",
      "Epoch 81/150\n",
      "763214/763214 [==============================] - 15s 20us/step - loss: 0.0456 - categorical_accuracy: 0.8503 - val_loss: 0.0454 - val_categorical_accuracy: 0.8499\n",
      "Epoch 82/150\n",
      "763214/763214 [==============================] - 15s 20us/step - loss: 0.0454 - categorical_accuracy: 0.8514 - val_loss: 0.0453 - val_categorical_accuracy: 0.8527\n",
      "Epoch 83/150\n",
      "763214/763214 [==============================] - 14s 19us/step - loss: 0.0451 - categorical_accuracy: 0.8522 - val_loss: 0.0451 - val_categorical_accuracy: 0.8511\n",
      "Epoch 84/150\n",
      "763214/763214 [==============================] - 14s 19us/step - loss: 0.0449 - categorical_accuracy: 0.8531 - val_loss: 0.0451 - val_categorical_accuracy: 0.8538\n",
      "Epoch 85/150\n",
      "763214/763214 [==============================] - 16s 21us/step - loss: 0.0446 - categorical_accuracy: 0.8539 - val_loss: 0.0451 - val_categorical_accuracy: 0.8506\n",
      "Epoch 86/150\n",
      "763214/763214 [==============================] - 14s 18us/step - loss: 0.0444 - categorical_accuracy: 0.8545 - val_loss: 0.0443 - val_categorical_accuracy: 0.8558\n",
      "Epoch 87/150\n",
      "763214/763214 [==============================] - 15s 19us/step - loss: 0.0442 - categorical_accuracy: 0.8554 - val_loss: 0.0443 - val_categorical_accuracy: 0.8548\n",
      "Epoch 88/150\n",
      "763214/763214 [==============================] - 16s 21us/step - loss: 0.0440 - categorical_accuracy: 0.8560 - val_loss: 0.0443 - val_categorical_accuracy: 0.8531\n",
      "Epoch 89/150\n",
      "763214/763214 [==============================] - 17s 22us/step - loss: 0.0438 - categorical_accuracy: 0.8570 - val_loss: 0.0439 - val_categorical_accuracy: 0.8577\n",
      "Epoch 90/150\n",
      "763214/763214 [==============================] - 15s 19us/step - loss: 0.0436 - categorical_accuracy: 0.8580 - val_loss: 0.0436 - val_categorical_accuracy: 0.8561\n",
      "Epoch 91/150\n",
      "763214/763214 [==============================] - 15s 20us/step - loss: 0.0434 - categorical_accuracy: 0.8584 - val_loss: 0.0432 - val_categorical_accuracy: 0.8590\n",
      "Epoch 92/150\n",
      "763214/763214 [==============================] - 16s 22us/step - loss: 0.0432 - categorical_accuracy: 0.8593 - val_loss: 0.0433 - val_categorical_accuracy: 0.8574\n",
      "Epoch 93/150\n"
     ]
    },
    {
     "name": "stdout",
     "output_type": "stream",
     "text": [
      "763214/763214 [==============================] - 15s 20us/step - loss: 0.0430 - categorical_accuracy: 0.8598 - val_loss: 0.0432 - val_categorical_accuracy: 0.8609\n",
      "Epoch 94/150\n",
      "763214/763214 [==============================] - 13s 16us/step - loss: 0.0428 - categorical_accuracy: 0.8604 - val_loss: 0.0427 - val_categorical_accuracy: 0.8596\n",
      "Epoch 95/150\n",
      "763214/763214 [==============================] - 13s 17us/step - loss: 0.0426 - categorical_accuracy: 0.8610 - val_loss: 0.0428 - val_categorical_accuracy: 0.8608\n",
      "Epoch 96/150\n",
      "763214/763214 [==============================] - 14s 18us/step - loss: 0.0424 - categorical_accuracy: 0.8618 - val_loss: 0.0427 - val_categorical_accuracy: 0.8609\n",
      "Epoch 97/150\n",
      "763214/763214 [==============================] - 19s 25us/step - loss: 0.0423 - categorical_accuracy: 0.8622 - val_loss: 0.0423 - val_categorical_accuracy: 0.8621\n",
      "Epoch 98/150\n",
      "763214/763214 [==============================] - 18s 23us/step - loss: 0.0421 - categorical_accuracy: 0.8631 - val_loss: 0.0423 - val_categorical_accuracy: 0.8595\n",
      "Epoch 99/150\n",
      "763214/763214 [==============================] - 14s 18us/step - loss: 0.0419 - categorical_accuracy: 0.8635 - val_loss: 0.0420 - val_categorical_accuracy: 0.8624\n",
      "Epoch 100/150\n",
      "763214/763214 [==============================] - 12s 16us/step - loss: 0.0418 - categorical_accuracy: 0.8641 - val_loss: 0.0430 - val_categorical_accuracy: 0.8610\n",
      "Epoch 101/150\n",
      "763214/763214 [==============================] - 15s 19us/step - loss: 0.0416 - categorical_accuracy: 0.8645 - val_loss: 0.0419 - val_categorical_accuracy: 0.8620\n",
      "Epoch 102/150\n",
      "763214/763214 [==============================] - 15s 20us/step - loss: 0.0415 - categorical_accuracy: 0.8652 - val_loss: 0.0414 - val_categorical_accuracy: 0.8650\n",
      "Epoch 103/150\n",
      "763214/763214 [==============================] - 14s 18us/step - loss: 0.0413 - categorical_accuracy: 0.8656 - val_loss: 0.0413 - val_categorical_accuracy: 0.8640\n",
      "Epoch 104/150\n",
      "763214/763214 [==============================] - 14s 18us/step - loss: 0.0412 - categorical_accuracy: 0.8661 - val_loss: 0.0415 - val_categorical_accuracy: 0.8645\n",
      "Epoch 105/150\n",
      "763214/763214 [==============================] - 15s 20us/step - loss: 0.0410 - categorical_accuracy: 0.8666 - val_loss: 0.0415 - val_categorical_accuracy: 0.8670\n",
      "Epoch 106/150\n",
      "763214/763214 [==============================] - 14s 18us/step - loss: 0.0409 - categorical_accuracy: 0.8671 - val_loss: 0.0412 - val_categorical_accuracy: 0.8680\n",
      "Epoch 107/150\n",
      "763214/763214 [==============================] - 19s 25us/step - loss: 0.0408 - categorical_accuracy: 0.8678 - val_loss: 0.0409 - val_categorical_accuracy: 0.8655\n",
      "Epoch 108/150\n",
      "763214/763214 [==============================] - 13s 17us/step - loss: 0.0406 - categorical_accuracy: 0.8681 - val_loss: 0.0405 - val_categorical_accuracy: 0.8680\n",
      "Epoch 109/150\n",
      "763214/763214 [==============================] - 13s 17us/step - loss: 0.0405 - categorical_accuracy: 0.8685 - val_loss: 0.0406 - val_categorical_accuracy: 0.8667\n",
      "Epoch 110/150\n",
      "763214/763214 [==============================] - 13s 17us/step - loss: 0.0404 - categorical_accuracy: 0.8690 - val_loss: 0.0402 - val_categorical_accuracy: 0.8679\n",
      "Epoch 111/150\n",
      "763214/763214 [==============================] - 14s 19us/step - loss: 0.0402 - categorical_accuracy: 0.8694 - val_loss: 0.0402 - val_categorical_accuracy: 0.8680\n",
      "Epoch 112/150\n",
      "763214/763214 [==============================] - 14s 18us/step - loss: 0.0401 - categorical_accuracy: 0.8699 - val_loss: 0.0404 - val_categorical_accuracy: 0.8661\n",
      "Epoch 113/150\n",
      "763214/763214 [==============================] - 13s 17us/step - loss: 0.0400 - categorical_accuracy: 0.8702 - val_loss: 0.0406 - val_categorical_accuracy: 0.8693\n",
      "Epoch 114/150\n",
      "763214/763214 [==============================] - 14s 18us/step - loss: 0.0399 - categorical_accuracy: 0.8707 - val_loss: 0.0403 - val_categorical_accuracy: 0.8671\n",
      "Epoch 115/150\n",
      "763214/763214 [==============================] - 13s 17us/step - loss: 0.0397 - categorical_accuracy: 0.8713 - val_loss: 0.0400 - val_categorical_accuracy: 0.8680\n",
      "Epoch 116/150\n",
      "763214/763214 [==============================] - 14s 18us/step - loss: 0.0396 - categorical_accuracy: 0.8715 - val_loss: 0.0396 - val_categorical_accuracy: 0.8717\n",
      "Epoch 117/150\n",
      "763214/763214 [==============================] - 13s 17us/step - loss: 0.0395 - categorical_accuracy: 0.8721 - val_loss: 0.0395 - val_categorical_accuracy: 0.8711\n",
      "Epoch 118/150\n",
      "763214/763214 [==============================] - 13s 17us/step - loss: 0.0393 - categorical_accuracy: 0.8725 - val_loss: 0.0403 - val_categorical_accuracy: 0.8695\n",
      "Epoch 119/150\n",
      "763214/763214 [==============================] - 13s 17us/step - loss: 0.0393 - categorical_accuracy: 0.8727 - val_loss: 0.0399 - val_categorical_accuracy: 0.8731\n",
      "Epoch 120/150\n",
      "763214/763214 [==============================] - 15s 19us/step - loss: 0.0391 - categorical_accuracy: 0.8733 - val_loss: 0.0397 - val_categorical_accuracy: 0.8714\n",
      "Epoch 121/150\n",
      "763214/763214 [==============================] - 13s 17us/step - loss: 0.0390 - categorical_accuracy: 0.8736 - val_loss: 0.0398 - val_categorical_accuracy: 0.8687\n",
      "Epoch 122/150\n",
      "763214/763214 [==============================] - 14s 18us/step - loss: 0.0389 - categorical_accuracy: 0.8739 - val_loss: 0.0390 - val_categorical_accuracy: 0.8720\n",
      "Epoch 123/150\n",
      "763214/763214 [==============================] - 13s 17us/step - loss: 0.0388 - categorical_accuracy: 0.8741 - val_loss: 0.0389 - val_categorical_accuracy: 0.8730\n",
      "Epoch 124/150\n",
      "763214/763214 [==============================] - 13s 17us/step - loss: 0.0387 - categorical_accuracy: 0.8744 - val_loss: 0.0389 - val_categorical_accuracy: 0.8730\n",
      "Epoch 125/150\n",
      "763214/763214 [==============================] - 14s 18us/step - loss: 0.0386 - categorical_accuracy: 0.8749 - val_loss: 0.0395 - val_categorical_accuracy: 0.8695\n",
      "Epoch 126/150\n",
      "763214/763214 [==============================] - 13s 18us/step - loss: 0.0385 - categorical_accuracy: 0.8755 - val_loss: 0.0386 - val_categorical_accuracy: 0.8738\n",
      "Epoch 127/150\n",
      "763214/763214 [==============================] - 14s 18us/step - loss: 0.0384 - categorical_accuracy: 0.8759 - val_loss: 0.0386 - val_categorical_accuracy: 0.8753\n",
      "Epoch 128/150\n",
      "763214/763214 [==============================] - 14s 18us/step - loss: 0.0383 - categorical_accuracy: 0.8762 - val_loss: 0.0384 - val_categorical_accuracy: 0.8744\n",
      "Epoch 129/150\n",
      "763214/763214 [==============================] - 15s 20us/step - loss: 0.0382 - categorical_accuracy: 0.8766 - val_loss: 0.0384 - val_categorical_accuracy: 0.8745\n",
      "Epoch 130/150\n",
      "763214/763214 [==============================] - 14s 18us/step - loss: 0.0381 - categorical_accuracy: 0.8769 - val_loss: 0.0384 - val_categorical_accuracy: 0.8751\n",
      "Epoch 131/150\n",
      "763214/763214 [==============================] - 13s 18us/step - loss: 0.0380 - categorical_accuracy: 0.8774 - val_loss: 0.0386 - val_categorical_accuracy: 0.8747\n",
      "Epoch 132/150\n",
      "763214/763214 [==============================] - 16s 21us/step - loss: 0.0379 - categorical_accuracy: 0.8775 - val_loss: 0.0382 - val_categorical_accuracy: 0.8752\n",
      "Epoch 133/150\n",
      "763214/763214 [==============================] - 113s 148us/step - loss: 0.0378 - categorical_accuracy: 0.8778 - val_loss: 0.0381 - val_categorical_accuracy: 0.8766\n",
      "Epoch 134/150\n",
      "763214/763214 [==============================] - 39s 51us/step - loss: 0.0377 - categorical_accuracy: 0.8783 - val_loss: 0.0379 - val_categorical_accuracy: 0.8778\n",
      "Epoch 135/150\n",
      "763214/763214 [==============================] - 78s 103us/step - loss: 0.0376 - categorical_accuracy: 0.8783 - val_loss: 0.0377 - val_categorical_accuracy: 0.8777\n",
      "Epoch 136/150\n",
      "763214/763214 [==============================] - 43s 56us/step - loss: 0.0375 - categorical_accuracy: 0.8786 - val_loss: 0.0380 - val_categorical_accuracy: 0.8774\n",
      "Epoch 137/150\n",
      "763214/763214 [==============================] - 82s 108us/step - loss: 0.0374 - categorical_accuracy: 0.8792 - val_loss: 0.0376 - val_categorical_accuracy: 0.8770\n",
      "Epoch 138/150\n",
      "763214/763214 [==============================] - 65s 85us/step - loss: 0.0373 - categorical_accuracy: 0.8797 - val_loss: 0.0376 - val_categorical_accuracy: 0.8796\n",
      "Epoch 139/150\n"
     ]
    },
    {
     "name": "stdout",
     "output_type": "stream",
     "text": [
      "763214/763214 [==============================] - 37s 48us/step - loss: 0.0372 - categorical_accuracy: 0.8799 - val_loss: 0.0375 - val_categorical_accuracy: 0.8796\n",
      "Epoch 140/150\n",
      "763214/763214 [==============================] - 19s 24us/step - loss: 0.0371 - categorical_accuracy: 0.8800 - val_loss: 0.0376 - val_categorical_accuracy: 0.8787\n",
      "Epoch 141/150\n",
      "763214/763214 [==============================] - 18s 24us/step - loss: 0.0370 - categorical_accuracy: 0.8805 - val_loss: 0.0377 - val_categorical_accuracy: 0.8794\n",
      "Epoch 142/150\n",
      "763214/763214 [==============================] - 36s 47us/step - loss: 0.0369 - categorical_accuracy: 0.8807 - val_loss: 0.0372 - val_categorical_accuracy: 0.8798\n",
      "Epoch 143/150\n",
      "763214/763214 [==============================] - 22s 29us/step - loss: 0.0368 - categorical_accuracy: 0.8810 - val_loss: 0.0369 - val_categorical_accuracy: 0.8798\n",
      "Epoch 144/150\n",
      "763214/763214 [==============================] - 19s 24us/step - loss: 0.0367 - categorical_accuracy: 0.8813 - val_loss: 0.0372 - val_categorical_accuracy: 0.8794\n",
      "Epoch 145/150\n",
      "763214/763214 [==============================] - 18s 24us/step - loss: 0.0367 - categorical_accuracy: 0.8817 - val_loss: 0.0369 - val_categorical_accuracy: 0.8820\n",
      "Epoch 146/150\n",
      "763214/763214 [==============================] - 19s 25us/step - loss: 0.0366 - categorical_accuracy: 0.8819 - val_loss: 0.0369 - val_categorical_accuracy: 0.8825\n",
      "Epoch 147/150\n",
      "763214/763214 [==============================] - 18s 24us/step - loss: 0.0364 - categorical_accuracy: 0.8824 - val_loss: 0.0367 - val_categorical_accuracy: 0.8795\n",
      "Epoch 148/150\n",
      "763214/763214 [==============================] - 19s 25us/step - loss: 0.0364 - categorical_accuracy: 0.8824 - val_loss: 0.0366 - val_categorical_accuracy: 0.8832\n",
      "Epoch 149/150\n",
      "763214/763214 [==============================] - 32s 41us/step - loss: 0.0363 - categorical_accuracy: 0.8830 - val_loss: 0.0366 - val_categorical_accuracy: 0.8808\n",
      "Epoch 150/150\n",
      "763214/763214 [==============================] - 30s 39us/step - loss: 0.0362 - categorical_accuracy: 0.8830 - val_loss: 0.0363 - val_categorical_accuracy: 0.8828\n"
     ]
    }
   ],
   "source": [
    "history = clf.fit(trainX,onehot_encoded_train,\n",
    "                 batch_size = 100, epochs = 150,\n",
    "                 verbose = 1,\n",
    "                 validation_split = 0.1)"
   ]
  },
  {
   "cell_type": "code",
   "execution_count": 15,
   "metadata": {},
   "outputs": [
    {
     "data": {
      "text/plain": [
       "216"
      ]
     },
     "execution_count": 15,
     "metadata": {},
     "output_type": "execute_result"
    }
   ],
   "source": [
    "data.shape[1]    "
   ]
  },
  {
   "cell_type": "code",
   "execution_count": 16,
   "metadata": {},
   "outputs": [
    {
     "data": {
      "text/plain": [
       "(array([4, 4, 2, 3, 3, 2, 1, 4, 2, 5, 3, 1, 2, 3, 2, 4, 4, 2, 1, 4, 2, 4,\n",
       "        2, 2, 2, 2, 2, 1, 4, 5, 2, 3, 5, 4, 2, 2, 4, 3, 3, 3, 4, 1, 2, 2,\n",
       "        2, 1, 4, 2, 3, 4, 4, 4, 2, 2, 4, 4, 3, 5, 1, 4, 3, 1, 5, 2, 4, 3,\n",
       "        5, 2, 5, 4, 2, 1, 4, 5, 2, 4, 2, 3, 4, 2, 1, 2, 2, 5, 3, 2, 5, 4,\n",
       "        4, 1, 2, 4, 2, 2, 1, 4, 4, 5, 4, 1], dtype=int64),\n",
       " array([4, 4, 4, 3, 3, 2, 1, 4, 2, 5, 3, 4, 2, 3, 2, 5, 4, 2, 1, 5, 2, 4,\n",
       "        2, 2, 2, 2, 4, 1, 4, 5, 4, 3, 5, 4, 4, 2, 4, 3, 3, 3, 4, 1, 2, 2,\n",
       "        2, 1, 4, 2, 3, 5, 5, 4, 2, 2, 4, 2, 3, 5, 1, 4, 3, 1, 5, 2, 5, 3,\n",
       "        4, 2, 4, 4, 2, 1, 4, 4, 4, 4, 2, 3, 4, 2, 1, 2, 2, 5, 3, 4, 5, 2,\n",
       "        4, 1, 2, 4, 4, 2, 1, 4, 4, 5, 4, 4], dtype=int64))"
      ]
     },
     "execution_count": 16,
     "metadata": {},
     "output_type": "execute_result"
    }
   ],
   "source": [
    "clf.predict_classes(testX[:100,:]) + 1,testY[:100]"
   ]
  },
  {
   "cell_type": "code",
   "execution_count": null,
   "metadata": {},
   "outputs": [],
   "source": []
  },
  {
   "cell_type": "code",
   "execution_count": 17,
   "metadata": {},
   "outputs": [
    {
     "data": {
      "text/plain": [
       "array([4, 4, 4, 3, 3, 2, 1, 4, 2, 5, 3, 4, 2, 3, 2, 5, 4, 2, 1, 5, 2, 4,\n",
       "       2, 2, 2, 2, 4, 1, 4, 5, 4, 3, 5, 4, 4, 2, 4, 3, 3, 3, 4, 1, 2, 2,\n",
       "       2, 1, 4, 2, 3, 5, 5, 4, 2, 2, 4, 2, 3, 5, 1, 4, 3, 1, 5, 2, 5, 3,\n",
       "       4, 2, 4, 4, 2, 1, 4, 4, 4, 4, 2, 3, 4, 2, 1, 2, 2, 5, 3, 4, 5, 2,\n",
       "       4, 1, 2, 4, 4, 2, 1, 4, 4, 5, 4, 4], dtype=int64)"
      ]
     },
     "execution_count": 17,
     "metadata": {},
     "output_type": "execute_result"
    }
   ],
   "source": [
    "testY[:100]"
   ]
  },
  {
   "cell_type": "code",
   "execution_count": 18,
   "metadata": {},
   "outputs": [],
   "source": [
    "# saving the model \n",
    "# save model and weights\n",
    "clf_json = clf.to_json()\n",
    "with open(\"NN_216-110-5.json\", \"w\") as json_file:\n",
    "    json_file.write(clf_json)\n",
    "    \n",
    "clf.save_weights(\"NN_216-110-5_weights.h5\")"
   ]
  },
  {
   "cell_type": "code",
   "execution_count": 19,
   "metadata": {},
   "outputs": [],
   "source": [
    "np.save('TestX_NN_216-110-5',testX), np.save('TestY_NN_216-110-5',testY),\n",
    "np.save('OneHot_testY_216-110-5',onehot_encoded_test)"
   ]
  },
  {
   "cell_type": "code",
   "execution_count": null,
   "metadata": {},
   "outputs": [],
   "source": []
  }
 ],
 "metadata": {
  "kernelspec": {
   "display_name": "Python 3",
   "language": "python",
   "name": "python3"
  },
  "language_info": {
   "codemirror_mode": {
    "name": "ipython",
    "version": 3
   },
   "file_extension": ".py",
   "mimetype": "text/x-python",
   "name": "python",
   "nbconvert_exporter": "python",
   "pygments_lexer": "ipython3",
   "version": "3.6.5"
  }
 },
 "nbformat": 4,
 "nbformat_minor": 2
}
