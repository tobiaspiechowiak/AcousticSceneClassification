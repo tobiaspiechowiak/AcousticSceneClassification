{
 "cells": [
  {
   "cell_type": "code",
   "execution_count": 1,
   "metadata": {},
   "outputs": [],
   "source": [
    "#load packages\n",
    "import numpy as np\n",
    "import tensorflow as tf\n",
    "from tensorflow import keras \n",
    "import pandas as pd\n",
    "import soundfile as sf\n"
   ]
  },
  {
   "cell_type": "code",
   "execution_count": 2,
   "metadata": {},
   "outputs": [],
   "source": [
    "#import data \n",
    "path = 'x:/Steering/Recordings/Processed/'\n",
    "data, fs = sf.read(path + 'ERB=1.wav')\n",
    "classes = pd.read_csv(path + 'Classes_1.csv')"
   ]
  },
  {
   "cell_type": "code",
   "execution_count": 3,
   "metadata": {},
   "outputs": [],
   "source": [
    "X = data[:len(data)-1,:data.shape[1]] #775361\n",
    "Y = classes.values[:,0]"
   ]
  },
  {
   "cell_type": "code",
   "execution_count": 4,
   "metadata": {},
   "outputs": [],
   "source": [
    "#split into training and test set\n",
    "from sklearn.model_selection import train_test_split\n",
    "trainX, testX, trainY, testY = train_test_split(X,Y,test_size=0.2,random_state=0,stratify=classes)"
   ]
  },
  {
   "cell_type": "code",
   "execution_count": 5,
   "metadata": {},
   "outputs": [],
   "source": [
    "#do one-hot encoding\n",
    "from sklearn.preprocessing import OneHotEncoder \n",
    "from sklearn.preprocessing import LabelEncoder\n",
    "\n",
    "enc = OneHotEncoder(sparse=False)"
   ]
  },
  {
   "cell_type": "code",
   "execution_count": 6,
   "metadata": {},
   "outputs": [],
   "source": [
    "integer_encoded_train = trainY.reshape(len(trainY), 1)\n",
    "onehot_encoded_train = enc.fit_transform(integer_encoded_train)\n",
    "\n",
    "integer_encoded_test = testY.reshape(len(testY), 1)\n",
    "onehot_encoded_test = enc.fit_transform(integer_encoded_test)"
   ]
  },
  {
   "cell_type": "code",
   "execution_count": 7,
   "metadata": {},
   "outputs": [
    {
     "data": {
      "text/plain": [
       "array([[0., 0., 1., 0., 0.],\n",
       "       [1., 0., 0., 0., 0.],\n",
       "       [0., 1., 0., 0., 0.],\n",
       "       ...,\n",
       "       [0., 1., 0., 0., 0.],\n",
       "       [0., 0., 0., 0., 1.],\n",
       "       [0., 0., 0., 0., 1.]])"
      ]
     },
     "execution_count": 7,
     "metadata": {},
     "output_type": "execute_result"
    }
   ],
   "source": [
    "onehot_encoded_train \n"
   ]
  },
  {
   "cell_type": "code",
   "execution_count": 8,
   "metadata": {},
   "outputs": [],
   "source": [
    "#DC removal \n",
    "trainX -= (np.mean(trainX, axis=0) + 1e-8)\n",
    "testX -= (np.mean(testX, axis=0) + 1e-8)"
   ]
  },
  {
   "cell_type": "code",
   "execution_count": 9,
   "metadata": {},
   "outputs": [
    {
     "data": {
      "text/plain": [
       "(848016, 216)"
      ]
     },
     "execution_count": 9,
     "metadata": {},
     "output_type": "execute_result"
    }
   ],
   "source": [
    "trainX.shape"
   ]
  },
  {
   "cell_type": "code",
   "execution_count": 10,
   "metadata": {},
   "outputs": [],
   "source": [
    "clf = keras.Sequential()\n",
    "opt = keras.optimizers.Adam(lr=0.05)"
   ]
  },
  {
   "cell_type": "code",
   "execution_count": 11,
   "metadata": {},
   "outputs": [
    {
     "data": {
      "text/plain": [
       "(5, 216, array([[0., 0., 1., 0., 0.],\n",
       "        [1., 0., 0., 0., 0.],\n",
       "        [0., 1., 0., 0., 0.],\n",
       "        ...,\n",
       "        [0., 1., 0., 0., 0.],\n",
       "        [0., 0., 0., 0., 1.],\n",
       "        [0., 0., 0., 0., 1.]]))"
      ]
     },
     "execution_count": 11,
     "metadata": {},
     "output_type": "execute_result"
    }
   ],
   "source": [
    "onehot_encoded_train.shape[1], X.shape[1],onehot_encoded_train"
   ]
  },
  {
   "cell_type": "code",
   "execution_count": 12,
   "metadata": {},
   "outputs": [],
   "source": [
    "\n",
    "clf.add(keras.layers.Dense(\n",
    "  units = 110,\n",
    "  input_dim = trainX.shape[1],   \n",
    "  activation = 'tanh'\n",
    "))\n",
    "\n",
    "clf.add(keras.layers.Dropout(0.2))\n",
    "\n",
    "clf.add(keras.layers.Dense(\n",
    "    units = onehot_encoded_train.shape[1],    \n",
    "    input_dim = 110,\n",
    "    activation = 'softmax'\n",
    "))\n"
   ]
  },
  {
   "cell_type": "code",
   "execution_count": 13,
   "metadata": {},
   "outputs": [
    {
     "data": {
      "text/plain": [
       "5"
      ]
     },
     "execution_count": 13,
     "metadata": {},
     "output_type": "execute_result"
    }
   ],
   "source": [
    "onehot_encoded_train.shape[1]"
   ]
  },
  {
   "cell_type": "code",
   "execution_count": 14,
   "metadata": {},
   "outputs": [],
   "source": [
    "clf.compile(loss='mean_squared_error',\n",
    "    optimizer=opt,\n",
    "           metrics=['categorical_accuracy'])"
   ]
  },
  {
   "cell_type": "code",
   "execution_count": 15,
   "metadata": {},
   "outputs": [
    {
     "name": "stdout",
     "output_type": "stream",
     "text": [
      "Train on 678412 samples, validate on 169604 samples\n",
      "Epoch 1/20\n",
      "678412/678412 [==============================] - 26s 38us/step - loss: 0.1380 - categorical_accuracy: 0.4502 - val_loss: 0.1273 - val_categorical_accuracy: 0.5012\n",
      "Epoch 2/20\n",
      "678412/678412 [==============================] - 26s 39us/step - loss: 0.1264 - categorical_accuracy: 0.5161 - val_loss: 0.1085 - val_categorical_accuracy: 0.6079\n",
      "Epoch 3/20\n",
      "678412/678412 [==============================] - 29s 42us/step - loss: 0.1187 - categorical_accuracy: 0.5568 - val_loss: 0.1034 - val_categorical_accuracy: 0.6298\n",
      "Epoch 4/20\n",
      "678412/678412 [==============================] - 27s 40us/step - loss: 0.1137 - categorical_accuracy: 0.5796 - val_loss: 0.1081 - val_categorical_accuracy: 0.6004\n",
      "Epoch 5/20\n",
      "678412/678412 [==============================] - 26s 39us/step - loss: 0.1088 - categorical_accuracy: 0.6041 - val_loss: 0.0873 - val_categorical_accuracy: 0.7029\n",
      "Epoch 6/20\n",
      "678412/678412 [==============================] - 28s 41us/step - loss: 0.1057 - categorical_accuracy: 0.6222 - val_loss: 0.0850 - val_categorical_accuracy: 0.7035\n",
      "Epoch 7/20\n",
      "678412/678412 [==============================] - 29s 42us/step - loss: 0.1035 - categorical_accuracy: 0.6339 - val_loss: 0.0854 - val_categorical_accuracy: 0.7005\n",
      "Epoch 8/20\n",
      "678412/678412 [==============================] - 30s 44us/step - loss: 0.1020 - categorical_accuracy: 0.6426 - val_loss: 0.0830 - val_categorical_accuracy: 0.7178\n",
      "Epoch 9/20\n",
      "678412/678412 [==============================] - 28s 42us/step - loss: 0.1011 - categorical_accuracy: 0.6484 - val_loss: 0.0885 - val_categorical_accuracy: 0.6525\n",
      "Epoch 10/20\n",
      "678412/678412 [==============================] - 26s 38us/step - loss: 0.1001 - categorical_accuracy: 0.6532 - val_loss: 0.0809 - val_categorical_accuracy: 0.7242\n",
      "Epoch 11/20\n",
      "678412/678412 [==============================] - 29s 43us/step - loss: 0.0992 - categorical_accuracy: 0.6577 - val_loss: 0.0828 - val_categorical_accuracy: 0.7142\n",
      "Epoch 12/20\n",
      "678412/678412 [==============================] - 27s 39us/step - loss: 0.0987 - categorical_accuracy: 0.6611 - val_loss: 0.0833 - val_categorical_accuracy: 0.7180\n",
      "Epoch 13/20\n",
      "678412/678412 [==============================] - 27s 40us/step - loss: 0.0983 - categorical_accuracy: 0.6643 - val_loss: 0.0744 - val_categorical_accuracy: 0.7515\n",
      "Epoch 14/20\n",
      "678412/678412 [==============================] - 24s 35us/step - loss: 0.0978 - categorical_accuracy: 0.6664 - val_loss: 0.0782 - val_categorical_accuracy: 0.7318\n",
      "Epoch 15/20\n",
      "678412/678412 [==============================] - 24s 35us/step - loss: 0.0973 - categorical_accuracy: 0.6694 - val_loss: 0.0774 - val_categorical_accuracy: 0.7408\n",
      "Epoch 16/20\n",
      "678412/678412 [==============================] - 23s 34us/step - loss: 0.0969 - categorical_accuracy: 0.6722 - val_loss: 0.0749 - val_categorical_accuracy: 0.7489\n",
      "Epoch 17/20\n",
      "678412/678412 [==============================] - 23s 35us/step - loss: 0.0963 - categorical_accuracy: 0.6752 - val_loss: 0.0764 - val_categorical_accuracy: 0.7560\n",
      "Epoch 18/20\n",
      "678412/678412 [==============================] - 23s 33us/step - loss: 0.0958 - categorical_accuracy: 0.6775 - val_loss: 0.0935 - val_categorical_accuracy: 0.6922\n",
      "Epoch 19/20\n",
      "678412/678412 [==============================] - 23s 34us/step - loss: 0.0935 - categorical_accuracy: 0.6894 - val_loss: 0.0564 - val_categorical_accuracy: 0.8154\n",
      "Epoch 20/20\n",
      "678412/678412 [==============================] - 24s 36us/step - loss: 0.0866 - categorical_accuracy: 0.7199 - val_loss: 0.0569 - val_categorical_accuracy: 0.8154\n"
     ]
    }
   ],
   "source": [
    "history = clf.fit(trainX,onehot_encoded_train,\n",
    "                 batch_size = 100, epochs = 20,\n",
    "                 verbose = 1,\n",
    "                 validation_split = 0.2)"
   ]
  },
  {
   "cell_type": "code",
   "execution_count": 16,
   "metadata": {},
   "outputs": [
    {
     "data": {
      "text/plain": [
       "216"
      ]
     },
     "execution_count": 16,
     "metadata": {},
     "output_type": "execute_result"
    }
   ],
   "source": [
    "data.shape[1]    "
   ]
  },
  {
   "cell_type": "code",
   "execution_count": 17,
   "metadata": {},
   "outputs": [
    {
     "data": {
      "text/plain": [
       "(array([2, 5, 2, 5, 3, 3, 3, 2, 2, 2, 1, 5, 1, 5, 2, 3, 4, 2, 2, 2, 4, 5,\n",
       "        3, 5, 2, 4, 5, 4, 1, 5, 2, 5, 3, 2, 1, 1, 2, 2, 2, 2, 2, 4, 2, 2,\n",
       "        4, 2, 5, 5, 1, 5, 5, 1, 5, 1, 1, 3, 2, 4, 2, 2, 1, 3, 1, 4, 4, 4,\n",
       "        2, 3, 2, 2, 1, 2, 2, 2, 2, 1, 3, 5, 1, 5, 2, 2, 1, 2, 4, 3, 2, 5,\n",
       "        2, 5, 5, 2, 4, 4, 2, 2, 5, 5, 5, 4], dtype=int64),\n",
       " array([4, 4, 4, 5, 3, 3, 3, 2, 2, 2, 5, 5, 1, 5, 2, 3, 4, 2, 4, 2, 4, 5,\n",
       "        3, 5, 2, 4, 1, 1, 3, 5, 2, 5, 3, 2, 1, 1, 2, 2, 2, 2, 4, 4, 2, 2,\n",
       "        3, 4, 4, 4, 1, 3, 4, 1, 5, 1, 4, 3, 2, 4, 2, 2, 1, 3, 5, 4, 4, 5,\n",
       "        2, 3, 2, 2, 1, 2, 4, 2, 2, 1, 3, 5, 1, 5, 4, 2, 1, 4, 4, 3, 2, 5,\n",
       "        2, 5, 4, 2, 4, 4, 4, 2, 5, 5, 4, 1], dtype=int64))"
      ]
     },
     "execution_count": 17,
     "metadata": {},
     "output_type": "execute_result"
    }
   ],
   "source": [
    "clf.predict_classes(testX[:100,:]) + 1,testY[:100]"
   ]
  },
  {
   "cell_type": "code",
   "execution_count": 18,
   "metadata": {},
   "outputs": [],
   "source": [
    "# saving the model \n",
    "# save model and weights\n",
    "#clf_json = clf.to_json()\n",
    "#with open(\"NN_216-110-5.json\", \"w\") as json_file:\n",
    " #   json_file.write(clf_json)\n",
    "    \n",
    "#clf.save_weights(\"NN_216-110-5_weights.h5\")"
   ]
  },
  {
   "cell_type": "code",
   "execution_count": 19,
   "metadata": {},
   "outputs": [],
   "source": [
    "#np.save('TestX_NN_216-110-5',testX), np.save('TestY_NN_216-110-5',testY),\n",
    "#np.save('OneHot_testY_216-110-5',onehot_encoded_test)"
   ]
  },
  {
   "cell_type": "code",
   "execution_count": 20,
   "metadata": {},
   "outputs": [],
   "source": [
    "import matplotlib.pyplot as plt\n",
    "\n",
    "plt.plot(history.history['val_categorical_accuracy'])\n",
    "plt.plot(history.history['categorical_accuracy'])\n",
    "plt.title('Model accuracy')\n",
    "plt.ylabel('Accuracy')\n",
    "plt.xlabel('Epochs')\n",
    "plt.axis([0, 20, 0.5, 1])\n",
    "plt.legend(['Validation', 'Training'], loc='upper left')\n",
    "plt.savefig('Accuracy_ERB=1.png',dpi=100)"
   ]
  },
  {
   "cell_type": "code",
   "execution_count": 21,
   "metadata": {},
   "outputs": [],
   "source": [
    "#saving weights\n",
    "weights_first_layer = clf.layers[0].get_weights()[0]\n",
    "biases_first_layer = clf.layers[0].get_weights()[1]\n",
    "\n",
    "weights_second_layer = clf.layers[2].get_weights()[0]\n",
    "biases_second_layer = clf.layers[2].get_weights()[1]\n",
    "\n",
    "\n",
    "weights_first_layer = np.vstack([biases_first_layer, weights_first_layer])\n",
    "weights_second_layer = np.vstack([biases_second_layer, weights_second_layer])\n",
    "\n",
    "\n",
    "weights_first_layer_norm = weights_first_layer / abs(weights_first_layer).max()\n",
    "#biases_first_layer_norm = biases_first_layer / abs(biases_first_layer).max()\n",
    "\n",
    "weights_second_layer_norm = weights_second_layer / abs(weights_second_layer).max()\n",
    "#biases_second_layer_norm = biases_second_layer / abs(biases_second_layer).max()\n",
    "\n",
    "\n",
    "weights_first_layer_norm.shape, weights_second_layer_norm.shape\n",
    "\n",
    "abs(weights_first_layer).max(), abs(weights_second_layer).max()\n",
    "\n",
    "np.savetxt('weights_first_layer_norm_NN_216-110-5.txt',weights_first_layer_norm,delimiter= ',')\n",
    "np.savetxt('weights_second_layer_norm_NN_216-110-5.txt',weights_second_layer_norm,delimiter= ',')\n"
   ]
  },
  {
   "cell_type": "code",
   "execution_count": 22,
   "metadata": {},
   "outputs": [
    {
     "data": {
      "image/png": "[encoded data removed]",
      "text/plain": [
       "<Figure size 432x432 with 1 Axes>"
      ]
     },
     "metadata": {},
     "output_type": "display_data"
    }
   ],
   "source": [
    "#confusion matrix \n",
    "from sklearn.metrics import confusion_matrix\n",
    "import matplotlib.pyplot as plt\n",
    "\n",
    "cfm = confusion_matrix(testY,clf.predict_classes(testX)) \n",
    "\n",
    "a = [0 for x in range(5)]\n",
    "cfm_norm = np.zeros((5,5))#[[0 for x in range(5)] for y in range(5)]\n",
    "\n",
    "for idx in range(5):\n",
    "    cfm_norm[idx,:] = cfm[idx+1,:-1] / sum(cfm[idx+1,:-1]) #len(testY[testY == idx + 1])      \n",
    "\n",
    "cfm_norm = np.around(cfm_norm,decimals=3)\n",
    "\n",
    "#nicer confusion matrix\n",
    "fig, ax = plt.subplots(figsize = (6, 6))\n",
    "ax.matshow(cfm_norm,cmap=plt.cm.Blues,alpha=0.7)\n",
    "\n",
    "for i in range(cfm_norm.shape[0]):\n",
    "    for j in range(cfm_norm.shape[1]):\n",
    "        ax.text(x=j,y=i, s=cfm_norm[i,j],va='center', ha= 'center')\n",
    "\n",
    "ax.set_xticks([0,1,2,3,4])\n",
    "ax.set_yticks([0,1,2,3,4])\n",
    "ax.set_xticklabels(['Babble','Own-voice','Car','Speech','Traffic'])\n",
    "ax.set_yticklabels(['Babble','Own-voice','Car','Speech','Traffic'])\n",
    "ax.yaxis.set_label_coords(1.08,0.5)\n",
    "ax.xaxis.set_label_coords(0.51,-0.04)\n",
    "ax.set_xlabel('Predicted Class',fontsize=15)\n",
    "ax.set_ylabel('True Class',fontsize=15)\n",
    "fig.savefig('Conf_Matrix_ERB=1.png',dpi=100)\n"
   ]
  },
  {
   "cell_type": "code",
   "execution_count": 23,
   "metadata": {},
   "outputs": [
    {
     "data": {
      "text/plain": [
       "(0.9303060612122425, 0.8257169169169168, 0.04355705176294076)"
      ]
     },
     "execution_count": 23,
     "metadata": {},
     "output_type": "execute_result"
    }
   ],
   "source": [
    "FP = cfm_norm.sum(axis=0) - np.diag(cfm_norm)  \n",
    "FN = cfm_norm.sum(axis=1) - np.diag(cfm_norm)\n",
    "TP = np.diag(cfm_norm)\n",
    "TN = cfm_norm.sum() - (FP + FN + TP)\n",
    "\n",
    "# Sensitivity, hit rate, recall, or true positive rate\n",
    "TPR = TP/(TP+FN)\n",
    "# Fall out or false positive rate\n",
    "FPR = FP/(FP+TN)\n",
    "\n",
    "# Overall accuracy\n",
    "ACC = (TP+TN)/(TP+FP+FN+TN)\n",
    "\n",
    "ACC.mean(),TPR.mean(), FPR.mean()"
   ]
  },
  {
   "cell_type": "code",
   "execution_count": null,
   "metadata": {},
   "outputs": [],
   "source": []
  }
 ],
 "metadata": {
  "kernelspec": {
   "display_name": "Python 3",
   "language": "python",
   "name": "python3"
  },
  "language_info": {
   "codemirror_mode": {
    "name": "ipython",
    "version": 3
   },
   "file_extension": ".py",
   "mimetype": "text/x-python",
   "name": "python",
   "nbconvert_exporter": "python",
   "pygments_lexer": "ipython3",
   "version": "3.6.5"
  }
 },
 "nbformat": 4,
 "nbformat_minor": 2
}
