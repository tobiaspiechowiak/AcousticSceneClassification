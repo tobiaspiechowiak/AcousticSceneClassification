{
 "cells": [
  {
   "cell_type": "code",
   "execution_count": 1,
   "metadata": {},
   "outputs": [],
   "source": [
    "#load packages\n",
    "import numpy as np\n",
    "import tensorflow as tf\n",
    "from tensorflow import keras \n",
    "import pandas as pd\n",
    "import soundfile as sf\n",
    "import os\n",
    "import h5py"
   ]
  },
  {
   "cell_type": "code",
   "execution_count": 2,
   "metadata": {},
   "outputs": [],
   "source": [
    "#import data \n",
    "path = 'e:/Processed/'    \n",
    "#'x:/Steering/Recordings/Processed/'\n",
    "data, fs = sf.read(path + 'ERB=2_MF_bilBF.wav')\n",
    "classes = pd.read_csv(path + 'Classes_MF_bilBF.csv')"
   ]
  },
  {
   "cell_type": "code",
   "execution_count": 3,
   "metadata": {},
   "outputs": [],
   "source": [
    "X = data[:len(data)-1,:data.shape[1]] \n",
    "Y = classes.values[:,0]"
   ]
  },
  {
   "cell_type": "code",
   "execution_count": 4,
   "metadata": {},
   "outputs": [
    {
     "name": "stdout",
     "output_type": "stream",
     "text": [
      "979352 979352 (979352, 90)\n"
     ]
    }
   ],
   "source": [
    "print(len(Y),len(X),X.shape)"
   ]
  },
  {
   "cell_type": "code",
   "execution_count": 5,
   "metadata": {},
   "outputs": [],
   "source": [
    "#split into training and test set\n",
    "from sklearn.model_selection import train_test_split\n",
    "trainX, testX, trainY, testY = train_test_split(X,Y,test_size=0.2,random_state=0,stratify=classes)"
   ]
  },
  {
   "cell_type": "code",
   "execution_count": 6,
   "metadata": {},
   "outputs": [],
   "source": [
    "#do one-hot encoding\n",
    "from sklearn.preprocessing import OneHotEncoder \n",
    "from sklearn.preprocessing import LabelEncoder\n",
    "\n",
    "enc = OneHotEncoder(sparse=False)"
   ]
  },
  {
   "cell_type": "code",
   "execution_count": 7,
   "metadata": {},
   "outputs": [],
   "source": [
    "integer_encoded_train = trainY.reshape(len(trainY), 1)\n",
    "onehot_encoded_train = enc.fit_transform(integer_encoded_train)\n",
    "\n",
    "integer_encoded_test = testY.reshape(len(testY), 1)\n",
    "onehot_encoded_test = enc.fit_transform(integer_encoded_test)"
   ]
  },
  {
   "cell_type": "code",
   "execution_count": 8,
   "metadata": {},
   "outputs": [
    {
     "data": {
      "text/plain": [
       "array([[1., 0.],\n",
       "       [1., 0.],\n",
       "       [1., 0.],\n",
       "       [0., 1.],\n",
       "       [1., 0.],\n",
       "       [0., 1.],\n",
       "       [1., 0.],\n",
       "       [0., 1.],\n",
       "       [1., 0.],\n",
       "       [1., 0.]])"
      ]
     },
     "execution_count": 8,
     "metadata": {},
     "output_type": "execute_result"
    }
   ],
   "source": [
    "onehot_encoded_train[:10,:]"
   ]
  },
  {
   "cell_type": "code",
   "execution_count": 9,
   "metadata": {},
   "outputs": [],
   "source": [
    "#DC removal \n",
    "trainX -= (np.mean(trainX, axis=0) + 1e-8)\n",
    "testX -= (np.mean(testX, axis=0) + 1e-8)"
   ]
  },
  {
   "cell_type": "code",
   "execution_count": 10,
   "metadata": {},
   "outputs": [],
   "source": [
    "clf = keras.Sequential()\n",
    "opt = keras.optimizers.Adam(lr=0.01)"
   ]
  },
  {
   "cell_type": "code",
   "execution_count": 11,
   "metadata": {},
   "outputs": [],
   "source": [
    "\n",
    "clf.add(keras.layers.Dense(\n",
    "  units = 46,\n",
    "  input_dim = trainX.shape[1],    \n",
    "  activation = 'tanh'\n",
    "))\n",
    "clf.add(keras.layers.Dropout(0.5))\n",
    "\n",
    "clf.add(keras.layers.Dense(\n",
    "    units = onehot_encoded_train.shape[1],  \n",
    "    input_dim = 46,\n",
    "    activation = 'softmax'\n",
    "))\n"
   ]
  },
  {
   "cell_type": "code",
   "execution_count": 12,
   "metadata": {},
   "outputs": [
    {
     "data": {
      "text/plain": [
       "(2, 90)"
      ]
     },
     "execution_count": 12,
     "metadata": {},
     "output_type": "execute_result"
    }
   ],
   "source": [
    "onehot_encoded_train.shape[1],trainX.shape[1]"
   ]
  },
  {
   "cell_type": "code",
   "execution_count": 14,
   "metadata": {},
   "outputs": [],
   "source": [
    "clf.compile(loss='mean_squared_error',\n",
    "    optimizer=opt,\n",
    "           metrics=['categorical_accuracy'])"
   ]
  },
  {
   "cell_type": "code",
   "execution_count": 15,
   "metadata": {},
   "outputs": [
    {
     "name": "stdout",
     "output_type": "stream",
     "text": [
      "Train on 626784 samples, validate on 156697 samples\n",
      "Epoch 1/20\n",
      "626784/626784 [==============================] - 8s 12us/step - loss: 0.1180 - categorical_accuracy: 0.8378 - val_loss: 0.1149 - val_categorical_accuracy: 0.8419\n",
      "Epoch 2/20\n",
      "626784/626784 [==============================] - 7s 11us/step - loss: 0.1143 - categorical_accuracy: 0.8428 - val_loss: 0.1012 - val_categorical_accuracy: 0.8597\n",
      "Epoch 3/20\n",
      "626784/626784 [==============================] - 6s 10us/step - loss: 0.1039 - categorical_accuracy: 0.8567 - val_loss: 0.0866 - val_categorical_accuracy: 0.8805\n",
      "Epoch 4/20\n",
      "626784/626784 [==============================] - 9s 15us/step - loss: 0.0954 - categorical_accuracy: 0.8695 - val_loss: 0.0774 - val_categorical_accuracy: 0.8943\n",
      "Epoch 5/20\n",
      "626784/626784 [==============================] - 7s 11us/step - loss: 0.0905 - categorical_accuracy: 0.8767 - val_loss: 0.0744 - val_categorical_accuracy: 0.8975\n",
      "Epoch 6/20\n",
      "626784/626784 [==============================] - 7s 11us/step - loss: 0.0875 - categorical_accuracy: 0.8812 - val_loss: 0.0731 - val_categorical_accuracy: 0.9000\n",
      "Epoch 7/20\n",
      "626784/626784 [==============================] - 6s 10us/step - loss: 0.0853 - categorical_accuracy: 0.8846 - val_loss: 0.0683 - val_categorical_accuracy: 0.9069\n",
      "Epoch 8/20\n",
      "626784/626784 [==============================] - 7s 12us/step - loss: 0.0839 - categorical_accuracy: 0.8866 - val_loss: 0.0668 - val_categorical_accuracy: 0.9090\n",
      "Epoch 9/20\n",
      "626784/626784 [==============================] - 6s 10us/step - loss: 0.0828 - categorical_accuracy: 0.8881 - val_loss: 0.0693 - val_categorical_accuracy: 0.9063\n",
      "Epoch 10/20\n",
      "626784/626784 [==============================] - 7s 11us/step - loss: 0.0815 - categorical_accuracy: 0.8899 - val_loss: 0.0644 - val_categorical_accuracy: 0.9127\n",
      "Epoch 11/20\n",
      "626784/626784 [==============================] - 6s 10us/step - loss: 0.0803 - categorical_accuracy: 0.8919 - val_loss: 0.0632 - val_categorical_accuracy: 0.9144\n",
      "Epoch 12/20\n",
      "626784/626784 [==============================] - 8s 13us/step - loss: 0.0794 - categorical_accuracy: 0.8932 - val_loss: 0.0631 - val_categorical_accuracy: 0.9142\n",
      "Epoch 13/20\n",
      "626784/626784 [==============================] - 9s 14us/step - loss: 0.0785 - categorical_accuracy: 0.8948 - val_loss: 0.0619 - val_categorical_accuracy: 0.9166\n",
      "Epoch 14/20\n",
      "626784/626784 [==============================] - 7s 12us/step - loss: 0.0780 - categorical_accuracy: 0.8952 - val_loss: 0.0623 - val_categorical_accuracy: 0.9151\n",
      "Epoch 15/20\n",
      "626784/626784 [==============================] - 8s 12us/step - loss: 0.0774 - categorical_accuracy: 0.8962 - val_loss: 0.0611 - val_categorical_accuracy: 0.9172\n",
      "Epoch 16/20\n",
      "626784/626784 [==============================] - 9s 14us/step - loss: 0.0772 - categorical_accuracy: 0.8966 - val_loss: 0.0616 - val_categorical_accuracy: 0.9160\n",
      "Epoch 17/20\n",
      "626784/626784 [==============================] - 6s 10us/step - loss: 0.0764 - categorical_accuracy: 0.8977 - val_loss: 0.0599 - val_categorical_accuracy: 0.9191\n",
      "Epoch 18/20\n",
      "626784/626784 [==============================] - 8s 12us/step - loss: 0.0762 - categorical_accuracy: 0.8981 - val_loss: 0.0585 - val_categorical_accuracy: 0.9218\n",
      "Epoch 19/20\n",
      "626784/626784 [==============================] - 8s 12us/step - loss: 0.0758 - categorical_accuracy: 0.8985 - val_loss: 0.0590 - val_categorical_accuracy: 0.9201\n",
      "Epoch 20/20\n",
      "626784/626784 [==============================] - 7s 12us/step - loss: 0.0753 - categorical_accuracy: 0.8994 - val_loss: 0.0584 - val_categorical_accuracy: 0.9217\n"
     ]
    }
   ],
   "source": [
    "history = clf.fit(trainX,onehot_encoded_train,\n",
    "                 batch_size = 100, epochs = 20,\n",
    "                 verbose = 1,\n",
    "                 validation_split = 0.2)"
   ]
  },
  {
   "cell_type": "code",
   "execution_count": 16,
   "metadata": {},
   "outputs": [
    {
     "data": {
      "text/plain": [
       "(array([1, 1, 1, 0, 1, 0, 0, 0, 0, 1, 0, 0, 1, 1, 0, 0, 1, 0, 0, 1, 1, 1,\n",
       "        1, 0, 0, 0, 1, 1, 0, 1, 1, 1, 0, 0, 1, 1, 1, 1, 1, 1, 1, 0, 0, 0,\n",
       "        0, 0, 0, 0, 1, 1, 0, 1, 0, 0, 0, 0, 0, 0, 0, 0, 1, 0, 0, 0, 0, 1,\n",
       "        0, 0, 0, 0, 0, 0, 0, 0, 0, 0, 1, 0, 0, 1, 0, 0, 0, 0, 0, 1, 0, 1,\n",
       "        0, 0, 1, 1, 0, 0, 0, 1, 0, 0, 0], dtype=int64),\n",
       " array([1, 1, 1, 0, 1, 0, 0, 0, 0, 0, 0, 0, 1, 1, 0, 0, 1, 0, 0, 1, 1, 1,\n",
       "        0, 1, 0, 0, 1, 1, 0, 1, 0, 1, 0, 0, 1, 1, 1, 1, 1, 1, 1, 0, 0, 0,\n",
       "        0, 0, 0, 0, 1, 1, 0, 1, 0, 0, 0, 0, 0, 0, 0, 0, 1, 0, 0, 0, 0, 1,\n",
       "        0, 0, 0, 0, 0, 0, 0, 0, 0, 0, 1, 0, 0, 1, 0, 1, 1, 1, 0, 1, 0, 1,\n",
       "        0, 0, 1, 0, 0, 0, 0, 1, 0, 0, 0], dtype=int64))"
      ]
     },
     "execution_count": 16,
     "metadata": {},
     "output_type": "execute_result"
    }
   ],
   "source": [
    "\n",
    "testY[1:100], clf.predict_classes(testX[1:100,:])"
   ]
  },
  {
   "cell_type": "code",
   "execution_count": 17,
   "metadata": {},
   "outputs": [
    {
     "name": "stdout",
     "output_type": "stream",
     "text": [
      "195871/195871 [==============================] - 2s 11us/step\n"
     ]
    },
    {
     "data": {
      "text/plain": [
       "[0.05862274196545954, 0.9216218837911666]"
      ]
     },
     "execution_count": 17,
     "metadata": {},
     "output_type": "execute_result"
    }
   ],
   "source": [
    "clf.evaluate(testX,onehot_encoded_test,verbose=1)"
   ]
  },
  {
   "cell_type": "code",
   "execution_count": 18,
   "metadata": {},
   "outputs": [],
   "source": [
    "# save model and weights\n",
    "#clf_json = clf.to_json()\n",
    "#with open(\"NN_OwnVoice_90-46-2_inputs_bilBF.json\", \"w\") as json_file:\n",
    "   # json_file.write(clf_json)\n",
    "    \n",
    "#clf.save_weights(\"NN_OwnVoice_90-46-2_inputs_bilBF_weights.h5\")"
   ]
  },
  {
   "cell_type": "code",
   "execution_count": 19,
   "metadata": {},
   "outputs": [],
   "source": [
    "#np.save('TestX_NN_OwnVoice_bilBF',testX), np.save('TestY_NN_OwnVoice_bilBF',testY),\n",
    "#np.save('OneHot_testY_bilBF',onehot_encoded_test)"
   ]
  },
  {
   "cell_type": "code",
   "execution_count": 20,
   "metadata": {},
   "outputs": [],
   "source": [
    "import matplotlib.pyplot as plt"
   ]
  },
  {
   "cell_type": "code",
   "execution_count": 21,
   "metadata": {},
   "outputs": [
    {
     "data": {
      "image/png": "[encoded data removed]",
      "text/plain": [
       "<Figure size 432x288 with 1 Axes>"
      ]
     },
     "metadata": {},
     "output_type": "display_data"
    }
   ],
   "source": [
    "plt.plot(history.history['val_categorical_accuracy'])\n",
    "plt.plot(history.history['categorical_accuracy'])\n",
    "plt.title('Model accuracy')\n",
    "plt.ylabel('Accuracy')\n",
    "plt.xlabel('Epochs')\n",
    "plt.axis([0, 20, 0.5, 1])\n",
    "plt.legend(['Validation', 'Training'], loc='upper left')\n",
    "plt.savefig('Accuracy_MF_bilBF.png',dpi=150)"
   ]
  },
  {
   "cell_type": "code",
   "execution_count": 22,
   "metadata": {},
   "outputs": [],
   "source": [
    "#saving weights\n",
    "weights_first_layer = clf.layers[0].get_weights()[0]\n",
    "biases_first_layer = clf.layers[0].get_weights()[1]\n",
    "\n",
    "weights_second_layer = clf.layers[2].get_weights()[0]\n",
    "biases_second_layer = clf.layers[2].get_weights()[1]\n"
   ]
  },
  {
   "cell_type": "code",
   "execution_count": 23,
   "metadata": {},
   "outputs": [],
   "source": [
    "weights_first_layer = np.vstack([biases_first_layer, weights_first_layer])\n",
    "weights_second_layer = np.vstack([biases_second_layer, weights_second_layer])\n"
   ]
  },
  {
   "cell_type": "code",
   "execution_count": 24,
   "metadata": {},
   "outputs": [],
   "source": [
    "weights_first_layer_norm = weights_first_layer / abs(weights_first_layer).max()\n",
    "#biases_first_layer_norm = biases_first_layer / abs(biases_first_layer).max()\n",
    "\n",
    "weights_second_layer_norm = weights_second_layer / abs(weights_second_layer).max()\n",
    "#biases_second_layer_norm = biases_second_layer / abs(biases_second_layer).max()\n"
   ]
  },
  {
   "cell_type": "code",
   "execution_count": 26,
   "metadata": {},
   "outputs": [
    {
     "data": {
      "text/plain": [
       "((91, 46), (47, 2))"
      ]
     },
     "execution_count": 26,
     "metadata": {},
     "output_type": "execute_result"
    }
   ],
   "source": [
    "weights_first_layer_norm.shape, weights_second_layer_norm.shape"
   ]
  },
  {
   "cell_type": "code",
   "execution_count": 27,
   "metadata": {},
   "outputs": [
    {
     "data": {
      "text/plain": [
       "(110.46307, 1.9233706)"
      ]
     },
     "execution_count": 27,
     "metadata": {},
     "output_type": "execute_result"
    }
   ],
   "source": [
    "abs(weights_first_layer).max(), abs(weights_second_layer).max()"
   ]
  },
  {
   "cell_type": "code",
   "execution_count": 28,
   "metadata": {},
   "outputs": [],
   "source": [
    "np.savetxt('weights_first_layer_norm_NN_90-46-2_ownVoice.txt',\n",
    "           weights_first_layer_norm,delimiter= ',')\n",
    "np.savetxt('weights_second_layer_norm_NN_90-46-2_ownVoice.txt',\n",
    "           weights_second_layer_norm,delimiter= ',')\n"
   ]
  },
  {
   "cell_type": "code",
   "execution_count": 29,
   "metadata": {},
   "outputs": [],
   "source": [
    "#confusion matrix \n",
    "from sklearn.metrics import confusion_matrix\n",
    "import matplotlib.pyplot as plt\n",
    "\n",
    "cfm = confusion_matrix(testY,clf.predict_classes(testX)) "
   ]
  },
  {
   "cell_type": "code",
   "execution_count": 30,
   "metadata": {},
   "outputs": [],
   "source": [
    "a = [0 for x in range(2)]\n",
    "cfm_norm = np.zeros((2,2))#[[0 for x in range(5)] for y in range(5)]"
   ]
  },
  {
   "cell_type": "code",
   "execution_count": 31,
   "metadata": {},
   "outputs": [],
   "source": [
    "for idx in range(2):\n",
    "    cfm_norm[idx,:] = cfm[idx,:] / sum(cfm[idx,:]) #len(testY[testY == idx + 1])      "
   ]
  },
  {
   "cell_type": "code",
   "execution_count": 32,
   "metadata": {},
   "outputs": [],
   "source": [
    "cfm_norm = np.around(cfm_norm,decimals=3)"
   ]
  },
  {
   "cell_type": "code",
   "execution_count": 33,
   "metadata": {},
   "outputs": [
    {
     "data": {
      "image/png": "[encoded data removed]",
      "text/plain": [
       "<Figure size 432x432 with 1 Axes>"
      ]
     },
     "metadata": {},
     "output_type": "display_data"
    }
   ],
   "source": [
    "#nicer confusion matrix\n",
    "fig, ax = plt.subplots(figsize = (6, 6))\n",
    "ax.matshow(cfm_norm,cmap=plt.cm.Blues,alpha=0.7)\n",
    "\n",
    "for i in range(cfm_norm.shape[0]):\n",
    "    for j in range(cfm_norm.shape[1]):\n",
    "        ax.text(x=j,y=i, s=cfm_norm[i,j],va='center', ha= 'center',fontsize=15)\n",
    "  \n",
    "ax.set_xticks([0,1])\n",
    "ax.set_yticks([0,1])\n",
    "ax.set_xticklabels(['Other','Own-voice'])\n",
    "ax.set_yticklabels(['Other','Own-voice'])\n",
    "ax.yaxis.set_label_coords(1.1,0.5)\n",
    "ax.xaxis.set_label_coords(0.51,-0.07)\n",
    "ax.set_xlabel('Predicted Class',fontsize=13)\n",
    "ax.set_ylabel('True Class',fontsize=13)\n",
    "fig.savefig('Conf_Matrix_OwnVoice_bil.png',dpi=80)\n"
   ]
  },
  {
   "cell_type": "code",
   "execution_count": 34,
   "metadata": {},
   "outputs": [],
   "source": [
    "FP = cfm_norm.sum(axis=0) - np.diag(cfm_norm)  \n",
    "FN = cfm_norm.sum(axis=1) - np.diag(cfm_norm)\n",
    "TP = np.diag(cfm_norm)\n",
    "TN = cfm_norm.sum() - (FP + FN + TP)\n",
    "\n",
    "# Sensitivity, hit rate, recall, or true positive rate\n",
    "TPR = TP/(TP+FN)\n",
    "# Fall out or false positive rate\n",
    "FPR = FP/(FP+TN)\n",
    "\n",
    "# Overall accuracy\n",
    "ACC = (TP+TN)/(TP+FP+FN+TN)"
   ]
  },
  {
   "cell_type": "code",
   "execution_count": 35,
   "metadata": {},
   "outputs": [
    {
     "data": {
      "text/plain": [
       "(0.9159999999999999, 0.9159999999999999, 0.08400000000000002)"
      ]
     },
     "execution_count": 35,
     "metadata": {},
     "output_type": "execute_result"
    }
   ],
   "source": [
    "ACC.mean(),TPR.mean(), FPR.mean()"
   ]
  },
  {
   "cell_type": "code",
   "execution_count": null,
   "metadata": {},
   "outputs": [],
   "source": []
  }
 ],
 "metadata": {
  "kernelspec": {
   "display_name": "Python 3",
   "language": "python",
   "name": "python3"
  },
  "language_info": {
   "codemirror_mode": {
    "name": "ipython",
    "version": 3
   },
   "file_extension": ".py",
   "mimetype": "text/x-python",
   "name": "python",
   "nbconvert_exporter": "python",
   "pygments_lexer": "ipython3",
   "version": "3.6.5"
  }
 },
 "nbformat": 4,
 "nbformat_minor": 2
}
