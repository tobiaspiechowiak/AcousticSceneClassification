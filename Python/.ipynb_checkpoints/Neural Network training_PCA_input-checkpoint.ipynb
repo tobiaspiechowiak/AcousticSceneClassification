{
 "cells": [
  {
   "cell_type": "code",
   "execution_count": 6,
   "metadata": {},
   "outputs": [],
   "source": [
    "#import necessary packages\n",
    "import pandas as pd\n",
    "import numpy as np\n",
    "from sklearn.neural_network import MLPClassifier "
   ]
  },
  {
   "cell_type": "code",
   "execution_count": 12,
   "metadata": {},
   "outputs": [],
   "source": [
    "#import data \n",
    "path = '../../Recordings/Processed/'\n",
    "data = pd.read_csv(path + 'pca_train_data.csv') \n"
   ]
  },
  {
   "cell_type": "code",
   "execution_count": 13,
   "metadata": {},
   "outputs": [],
   "source": [
    "#make train and label data\n",
    "trainX = data.values[:,0:9]\n",
    "trainY = data.values[:,9:13]"
   ]
  },
  {
   "cell_type": "code",
   "execution_count": 16,
   "metadata": {},
   "outputs": [
    {
     "name": "stdout",
     "output_type": "stream",
     "text": [
      "Iteration 1, loss = 2.03538147\n",
      "Iteration 2, loss = 1.66109010\n",
      "Iteration 3, loss = 1.56828056\n",
      "Iteration 4, loss = 1.54677173\n",
      "Iteration 5, loss = 1.53937197\n",
      "Iteration 6, loss = 1.53601759\n",
      "Iteration 7, loss = 1.53410737\n",
      "Iteration 8, loss = 1.53291327\n",
      "Iteration 9, loss = 1.53205271\n",
      "Iteration 10, loss = 1.53134184\n",
      "Iteration 11, loss = 1.53081197\n",
      "Iteration 12, loss = 1.53032949\n",
      "Iteration 13, loss = 1.52994697\n",
      "Iteration 14, loss = 1.52955887\n",
      "Iteration 15, loss = 1.52920003\n",
      "Iteration 16, loss = 1.52877998\n",
      "Iteration 17, loss = 1.52819015\n",
      "Iteration 18, loss = 1.52723130\n",
      "Iteration 19, loss = 1.52547526\n",
      "Iteration 20, loss = 1.52282062\n",
      "Iteration 21, loss = 1.51942580\n",
      "Iteration 22, loss = 1.51546597\n",
      "Iteration 23, loss = 1.51096427\n",
      "Iteration 24, loss = 1.50522863\n",
      "Iteration 25, loss = 1.49616277\n",
      "Iteration 26, loss = 1.48314474\n",
      "Iteration 27, loss = 1.46748589\n",
      "Iteration 28, loss = 1.45120837\n",
      "Iteration 29, loss = 1.43605731\n",
      "Iteration 30, loss = 1.42307172\n",
      "Iteration 31, loss = 1.41277811\n",
      "Iteration 32, loss = 1.40502807\n",
      "Iteration 33, loss = 1.39921281\n",
      "Iteration 34, loss = 1.39512664\n",
      "Iteration 35, loss = 1.39227613\n",
      "Iteration 36, loss = 1.39019505\n",
      "Iteration 37, loss = 1.38864256\n",
      "Iteration 38, loss = 1.38753133\n",
      "Iteration 39, loss = 1.38666169\n",
      "Iteration 40, loss = 1.38598645\n",
      "Iteration 41, loss = 1.38547603\n",
      "Iteration 42, loss = 1.38507098\n",
      "Iteration 43, loss = 1.38471968\n",
      "Iteration 44, loss = 1.38441006\n",
      "Iteration 45, loss = 1.38417486\n",
      "Iteration 46, loss = 1.38397293\n",
      "Iteration 47, loss = 1.38375622\n",
      "Iteration 48, loss = 1.38362163\n",
      "Iteration 49, loss = 1.38349648\n",
      "Iteration 50, loss = 1.38333960\n",
      "Iteration 51, loss = 1.38321338\n",
      "Iteration 52, loss = 1.38310975\n",
      "Iteration 53, loss = 1.38297612\n",
      "Iteration 54, loss = 1.38289448\n",
      "Iteration 55, loss = 1.38278730\n",
      "Iteration 56, loss = 1.38268470\n",
      "Iteration 57, loss = 1.38257573\n",
      "Iteration 58, loss = 1.38245938\n",
      "Iteration 59, loss = 1.38238941\n",
      "Iteration 60, loss = 1.38228850\n",
      "Iteration 61, loss = 1.38222717\n",
      "Iteration 62, loss = 1.38211970\n",
      "Iteration 63, loss = 1.38206488\n",
      "Iteration 64, loss = 1.38197745\n",
      "Iteration 65, loss = 1.38189444\n",
      "Training loss did not improve more than tol=0.000100 for two consecutive epochs. Stopping.\n"
     ]
    }
   ],
   "source": [
    "#define neural net  9-7-4 \n",
    "clf = MLPClassifier(hidden_layer_sizes=(7,),solver='adam',\n",
    "                    activation='logistic',max_iter=400,verbose = True,\n",
    "                    random_state=0,tol = 1e-4).fit(trainX,trainY)"
   ]
  },
  {
   "cell_type": "code",
   "execution_count": 17,
   "metadata": {},
   "outputs": [
    {
     "data": {
      "text/plain": [
       "0.5823597008361266"
      ]
     },
     "execution_count": 17,
     "metadata": {},
     "output_type": "execute_result"
    }
   ],
   "source": [
    "clf.score(trainX,trainY)"
   ]
  },
  {
   "cell_type": "code",
   "execution_count": 18,
   "metadata": {},
   "outputs": [
    {
     "data": {
      "text/plain": [
       "array([[0, 0, 0, 1],\n",
       "       [0, 0, 0, 0],\n",
       "       [0, 0, 0, 1],\n",
       "       [0, 0, 0, 0],\n",
       "       [0, 0, 0, 1],\n",
       "       [0, 0, 0, 0],\n",
       "       [0, 0, 0, 0],\n",
       "       [0, 0, 0, 1],\n",
       "       [0, 0, 0, 0],\n",
       "       [0, 0, 0, 1],\n",
       "       [0, 0, 0, 0],\n",
       "       [0, 0, 0, 1],\n",
       "       [0, 0, 0, 0],\n",
       "       [0, 0, 0, 1],\n",
       "       [0, 0, 0, 1],\n",
       "       [0, 0, 0, 1],\n",
       "       [0, 0, 0, 0],\n",
       "       [0, 0, 0, 1],\n",
       "       [0, 0, 0, 1],\n",
       "       [0, 0, 0, 1],\n",
       "       [0, 0, 0, 1],\n",
       "       [0, 0, 0, 1],\n",
       "       [0, 0, 0, 1],\n",
       "       [0, 0, 0, 1],\n",
       "       [0, 0, 0, 0],\n",
       "       [0, 0, 0, 1],\n",
       "       [0, 0, 0, 1],\n",
       "       [0, 0, 0, 1],\n",
       "       [0, 0, 0, 1],\n",
       "       [0, 0, 0, 1],\n",
       "       [0, 0, 0, 1],\n",
       "       [0, 0, 0, 1],\n",
       "       [0, 0, 0, 1],\n",
       "       [0, 0, 0, 1],\n",
       "       [0, 0, 0, 1],\n",
       "       [0, 0, 0, 0],\n",
       "       [0, 0, 0, 1],\n",
       "       [0, 0, 0, 1],\n",
       "       [0, 0, 0, 1],\n",
       "       [0, 0, 0, 1],\n",
       "       [0, 0, 0, 1],\n",
       "       [0, 0, 0, 1],\n",
       "       [0, 0, 0, 0],\n",
       "       [0, 0, 0, 1],\n",
       "       [0, 0, 0, 0],\n",
       "       [0, 0, 0, 1],\n",
       "       [0, 0, 0, 1],\n",
       "       [0, 0, 0, 0],\n",
       "       [0, 0, 0, 1],\n",
       "       [0, 0, 0, 0],\n",
       "       [0, 0, 0, 1],\n",
       "       [0, 0, 0, 1],\n",
       "       [0, 0, 0, 1],\n",
       "       [0, 0, 0, 1],\n",
       "       [0, 0, 0, 1],\n",
       "       [0, 0, 0, 0],\n",
       "       [0, 0, 0, 1],\n",
       "       [0, 0, 0, 0],\n",
       "       [0, 0, 0, 1],\n",
       "       [0, 0, 0, 1],\n",
       "       [0, 0, 0, 1],\n",
       "       [0, 0, 0, 0],\n",
       "       [0, 0, 0, 1],\n",
       "       [0, 0, 0, 1],\n",
       "       [0, 0, 0, 1],\n",
       "       [0, 0, 0, 1],\n",
       "       [0, 0, 0, 0],\n",
       "       [0, 0, 0, 1],\n",
       "       [0, 0, 0, 1],\n",
       "       [0, 0, 0, 0],\n",
       "       [0, 0, 0, 1],\n",
       "       [0, 0, 0, 1],\n",
       "       [0, 0, 0, 0],\n",
       "       [0, 0, 0, 1],\n",
       "       [0, 0, 0, 0],\n",
       "       [0, 0, 0, 1],\n",
       "       [0, 0, 0, 1],\n",
       "       [0, 0, 0, 0],\n",
       "       [0, 0, 0, 1],\n",
       "       [0, 0, 0, 1],\n",
       "       [0, 0, 0, 0],\n",
       "       [0, 0, 0, 1],\n",
       "       [0, 0, 0, 0],\n",
       "       [0, 0, 0, 1],\n",
       "       [0, 0, 0, 1],\n",
       "       [0, 0, 0, 0],\n",
       "       [0, 0, 0, 1],\n",
       "       [0, 0, 0, 1],\n",
       "       [0, 0, 0, 0],\n",
       "       [0, 0, 0, 1],\n",
       "       [0, 0, 0, 0],\n",
       "       [0, 0, 0, 1],\n",
       "       [0, 0, 0, 1],\n",
       "       [0, 0, 0, 0],\n",
       "       [0, 0, 0, 1],\n",
       "       [0, 0, 0, 1],\n",
       "       [0, 0, 0, 0],\n",
       "       [0, 0, 0, 1],\n",
       "       [0, 0, 0, 0],\n",
       "       [0, 0, 0, 1]])"
      ]
     },
     "execution_count": 18,
     "metadata": {},
     "output_type": "execute_result"
    }
   ],
   "source": [
    "clf.predict(trainX[700000:700100,:])"
   ]
  },
  {
   "cell_type": "code",
   "execution_count": null,
   "metadata": {},
   "outputs": [],
   "source": []
  }
 ],
 "metadata": {
  "kernelspec": {
   "display_name": "Python 3",
   "language": "python",
   "name": "python3"
  },
  "language_info": {
   "codemirror_mode": {
    "name": "ipython",
    "version": 3
   },
   "file_extension": ".py",
   "mimetype": "text/x-python",
   "name": "python",
   "nbconvert_exporter": "python",
   "pygments_lexer": "ipython3",
   "version": "3.6.5"
  }
 },
 "nbformat": 4,
 "nbformat_minor": 2
}
