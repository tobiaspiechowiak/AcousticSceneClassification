{
 "cells": [
  {
   "cell_type": "code",
   "execution_count": 32,
   "metadata": {},
   "outputs": [],
   "source": [
    "#load packages\n",
    "import numpy as np\n",
    "import tensorflow as tf\n",
    "from tensorflow import keras \n",
    "import pandas as pd\n",
    "import soundfile as sf\n"
   ]
  },
  {
   "cell_type": "code",
   "execution_count": 33,
   "metadata": {},
   "outputs": [],
   "source": [
    "#import data \n",
    "path = 'e:/Processed/'     \n",
    "#'x:/Steering/Recordings/Processed/'\n",
    "data, fs = sf.read(path + 'ERB=2.wav')\n",
    "classes = pd.read_csv(path + 'Classes_2.csv')\n"
   ]
  },
  {
   "cell_type": "code",
   "execution_count": 34,
   "metadata": {},
   "outputs": [],
   "source": [
    "\n",
    "X = data[:len(data)-1,:data.shape[1]] #775361\n",
    "Y = classes.values[:,0]"
   ]
  },
  {
   "cell_type": "code",
   "execution_count": 35,
   "metadata": {},
   "outputs": [
    {
     "data": {
      "text/plain": [
       "array([1, 1, 1, ..., 5, 5, 5], dtype=int64)"
      ]
     },
     "execution_count": 35,
     "metadata": {},
     "output_type": "execute_result"
    }
   ],
   "source": [
    "Y"
   ]
  },
  {
   "cell_type": "code",
   "execution_count": 36,
   "metadata": {},
   "outputs": [],
   "source": [
    "#split into training and test set\n",
    "from sklearn.model_selection import train_test_split\n",
    "trainX, testX, trainY, testY = train_test_split(X,Y,test_size=0.2,random_state=0,stratify=classes)"
   ]
  },
  {
   "cell_type": "code",
   "execution_count": 37,
   "metadata": {},
   "outputs": [],
   "source": [
    "#do one-hot encoding\n",
    "from sklearn.preprocessing import OneHotEncoder \n",
    "from sklearn.preprocessing import LabelEncoder\n",
    "\n",
    "enc = OneHotEncoder(sparse=False)"
   ]
  },
  {
   "cell_type": "code",
   "execution_count": 38,
   "metadata": {},
   "outputs": [],
   "source": [
    "integer_encoded_train = trainY.reshape(len(trainY), 1)\n",
    "onehot_encoded_train = enc.fit_transform(integer_encoded_train)\n",
    "\n",
    "integer_encoded_test = testY.reshape(len(testY), 1)\n",
    "onehot_encoded_test = enc.fit_transform(integer_encoded_test)\n"
   ]
  },
  {
   "cell_type": "code",
   "execution_count": 39,
   "metadata": {},
   "outputs": [
    {
     "data": {
      "text/plain": [
       "array([[0., 0., 1., 0., 0.],\n",
       "       [1., 0., 0., 0., 0.],\n",
       "       [0., 1., 0., 0., 0.],\n",
       "       ...,\n",
       "       [0., 1., 0., 0., 0.],\n",
       "       [0., 0., 0., 0., 1.],\n",
       "       [0., 0., 0., 0., 1.]])"
      ]
     },
     "execution_count": 39,
     "metadata": {},
     "output_type": "execute_result"
    }
   ],
   "source": [
    "onehot_encoded_train \n"
   ]
  },
  {
   "cell_type": "code",
   "execution_count": 40,
   "metadata": {},
   "outputs": [],
   "source": [
    "#DC removal \n",
    "trainX -= (np.mean(trainX, axis=0) + 1e-8)\n",
    "testX -= (np.mean(testX, axis=0) + 1e-8)"
   ]
  },
  {
   "cell_type": "code",
   "execution_count": 41,
   "metadata": {},
   "outputs": [],
   "source": [
    "clf = keras.Sequential()\n",
    "opt = keras.optimizers.Adam(lr=0.05)"
   ]
  },
  {
   "cell_type": "code",
   "execution_count": 42,
   "metadata": {},
   "outputs": [
    {
     "data": {
      "text/plain": [
       "(5, 108, array([[0., 0., 1., 0., 0.],\n",
       "        [1., 0., 0., 0., 0.],\n",
       "        [0., 1., 0., 0., 0.],\n",
       "        ...,\n",
       "        [0., 1., 0., 0., 0.],\n",
       "        [0., 0., 0., 0., 1.],\n",
       "        [0., 0., 0., 0., 1.]]))"
      ]
     },
     "execution_count": 42,
     "metadata": {},
     "output_type": "execute_result"
    }
   ],
   "source": [
    "onehot_encoded_train.shape[1], X.shape[1],onehot_encoded_train\n"
   ]
  },
  {
   "cell_type": "code",
   "execution_count": 43,
   "metadata": {},
   "outputs": [],
   "source": [
    "\n",
    "\n",
    "clf.add(keras.layers.Dense(\n",
    "  units = 56,\n",
    "  input_dim = trainX.shape[1],     \n",
    "  activation = 'tanh'\n",
    "))\n",
    "\n",
    "clf.add(keras.layers.Dropout(0.2))\n",
    "\n",
    "clf.add(keras.layers.Dense(  \n",
    "    units = onehot_encoded_train.shape[1],           \n",
    "    input_dim = 56,\n",
    "    activation = 'softmax'\n",
    "))\n",
    "\n"
   ]
  },
  {
   "cell_type": "code",
   "execution_count": 44,
   "metadata": {},
   "outputs": [
    {
     "data": {
      "text/plain": [
       "5"
      ]
     },
     "execution_count": 44,
     "metadata": {},
     "output_type": "execute_result"
    }
   ],
   "source": [
    "onehot_encoded_train.shape[1]"
   ]
  },
  {
   "cell_type": "code",
   "execution_count": 45,
   "metadata": {},
   "outputs": [],
   "source": [
    "clf.compile(loss='mean_squared_error',\n",
    "    optimizer=opt,\n",
    "           metrics=['categorical_accuracy'])"
   ]
  },
  {
   "cell_type": "code",
   "execution_count": 46,
   "metadata": {},
   "outputs": [
    {
     "name": "stdout",
     "output_type": "stream",
     "text": [
      "Train on 678412 samples, validate on 169604 samples\n",
      "Epoch 1/20\n",
      "678412/678412 [==============================] - 9s 13us/step - loss: 0.1411 - categorical_accuracy: 0.4376 - val_loss: 0.1399 - val_categorical_accuracy: 0.4474\n",
      "Epoch 2/20\n",
      "678412/678412 [==============================] - 9s 13us/step - loss: 0.1396 - categorical_accuracy: 0.4482 - val_loss: 0.1383 - val_categorical_accuracy: 0.4691\n",
      "Epoch 3/20\n",
      "678412/678412 [==============================] - 9s 13us/step - loss: 0.1385 - categorical_accuracy: 0.4496 - val_loss: 0.1345 - val_categorical_accuracy: 0.4788\n",
      "Epoch 4/20\n",
      "678412/678412 [==============================] - 9s 14us/step - loss: 0.1368 - categorical_accuracy: 0.4580 - val_loss: 0.1330 - val_categorical_accuracy: 0.4867\n",
      "Epoch 5/20\n",
      "678412/678412 [==============================] - 9s 13us/step - loss: 0.1356 - categorical_accuracy: 0.4697 - val_loss: 0.1320 - val_categorical_accuracy: 0.5091\n",
      "Epoch 6/20\n",
      "678412/678412 [==============================] - 9s 14us/step - loss: 0.1350 - categorical_accuracy: 0.4725 - val_loss: 0.1328 - val_categorical_accuracy: 0.4767\n",
      "Epoch 7/20\n",
      "678412/678412 [==============================] - 7s 11us/step - loss: 0.1341 - categorical_accuracy: 0.4747 - val_loss: 0.1307 - val_categorical_accuracy: 0.4865\n",
      "Epoch 8/20\n",
      "678412/678412 [==============================] - 8s 12us/step - loss: 0.1263 - categorical_accuracy: 0.5057 - val_loss: 0.1116 - val_categorical_accuracy: 0.5521\n",
      "Epoch 9/20\n",
      "678412/678412 [==============================] - 10s 15us/step - loss: 0.1192 - categorical_accuracy: 0.5421 - val_loss: 0.1084 - val_categorical_accuracy: 0.6217\n",
      "Epoch 10/20\n",
      "678412/678412 [==============================] - 10s 14us/step - loss: 0.1162 - categorical_accuracy: 0.5554 - val_loss: 0.1032 - val_categorical_accuracy: 0.6088\n",
      "Epoch 11/20\n",
      "678412/678412 [==============================] - 12s 18us/step - loss: 0.1137 - categorical_accuracy: 0.5648 - val_loss: 0.0975 - val_categorical_accuracy: 0.6287\n",
      "Epoch 12/20\n",
      "678412/678412 [==============================] - 10s 15us/step - loss: 0.1113 - categorical_accuracy: 0.5766 - val_loss: 0.0986 - val_categorical_accuracy: 0.6211\n",
      "Epoch 13/20\n",
      "678412/678412 [==============================] - 9s 14us/step - loss: 0.1097 - categorical_accuracy: 0.5848 - val_loss: 0.0937 - val_categorical_accuracy: 0.6527\n",
      "Epoch 14/20\n",
      "678412/678412 [==============================] - 10s 14us/step - loss: 0.1086 - categorical_accuracy: 0.5915 - val_loss: 0.0897 - val_categorical_accuracy: 0.6792\n",
      "Epoch 15/20\n",
      "678412/678412 [==============================] - 10s 14us/step - loss: 0.1074 - categorical_accuracy: 0.5978 - val_loss: 0.0941 - val_categorical_accuracy: 0.6784\n",
      "Epoch 16/20\n",
      "678412/678412 [==============================] - 9s 14us/step - loss: 0.1066 - categorical_accuracy: 0.6018 - val_loss: 0.0945 - val_categorical_accuracy: 0.6496\n",
      "Epoch 17/20\n",
      "678412/678412 [==============================] - 9s 13us/step - loss: 0.1058 - categorical_accuracy: 0.6069 - val_loss: 0.0910 - val_categorical_accuracy: 0.6730\n",
      "Epoch 18/20\n",
      "678412/678412 [==============================] - 9s 13us/step - loss: 0.1056 - categorical_accuracy: 0.6081 - val_loss: 0.0907 - val_categorical_accuracy: 0.6995\n",
      "Epoch 19/20\n",
      "678412/678412 [==============================] - 9s 13us/step - loss: 0.1048 - categorical_accuracy: 0.6116 - val_loss: 0.0899 - val_categorical_accuracy: 0.6648\n",
      "Epoch 20/20\n",
      "678412/678412 [==============================] - 9s 13us/step - loss: 0.1043 - categorical_accuracy: 0.6146 - val_loss: 0.0874 - val_categorical_accuracy: 0.6798\n"
     ]
    }
   ],
   "source": [
    "history = clf.fit(trainX,onehot_encoded_train,\n",
    "                 batch_size = 100, epochs = 20,\n",
    "                 verbose = 1,\n",
    "                 validation_split = 0.2)"
   ]
  },
  {
   "cell_type": "code",
   "execution_count": 47,
   "metadata": {},
   "outputs": [
    {
     "name": "stdout",
     "output_type": "stream",
     "text": [
      "212005/212005 [==============================] - 2s 10us/step\n"
     ]
    },
    {
     "data": {
      "text/plain": [
       "[0.08717402327615192, 0.6812339331622349]"
      ]
     },
     "execution_count": 47,
     "metadata": {},
     "output_type": "execute_result"
    }
   ],
   "source": [
    "clf.evaluate(testX,onehot_encoded_test,verbose=1)"
   ]
  },
  {
   "cell_type": "code",
   "execution_count": 48,
   "metadata": {},
   "outputs": [],
   "source": [
    "# saving the model \n",
    "# save model and weights\n",
    "#clf_json = clf.to_json()\n",
    "#with open(\"NN_108-56-5.json\", \"w\") as json_file:\n",
    "    #json_file.write(clf_json)\n",
    "    \n",
    "#clf.save_weights(\"NN_108-56-5_weights.h5\")"
   ]
  },
  {
   "cell_type": "code",
   "execution_count": 49,
   "metadata": {},
   "outputs": [],
   "source": [
    "#np.save('TestX_NN_108-56-5',testX), np.save('TestY_NN_108-56-5',testY),\n",
    "#np.save('OneHot_testY_108-56-5',onehot_encoded_test)"
   ]
  },
  {
   "cell_type": "code",
   "execution_count": 50,
   "metadata": {},
   "outputs": [
    {
     "data": {
      "text/plain": [
       "[<tensorflow.python.keras.layers.core.Dense at 0x25ee39c5128>,\n",
       " <tensorflow.python.keras.layers.core.Dropout at 0x25ee39c5f60>,\n",
       " <tensorflow.python.keras.layers.core.Dense at 0x25ee39c55f8>]"
      ]
     },
     "execution_count": 50,
     "metadata": {},
     "output_type": "execute_result"
    }
   ],
   "source": [
    "clf.layers"
   ]
  },
  {
   "cell_type": "code",
   "execution_count": 51,
   "metadata": {},
   "outputs": [],
   "source": [
    "import matplotlib.pyplot as plt\n",
    "\n",
    "plt.plot(history.history['val_categorical_accuracy'])\n",
    "plt.plot(history.history['categorical_accuracy'])\n",
    "plt.title('Model accuracy')\n",
    "plt.ylabel('Accuracy')\n",
    "plt.xlabel('Epochs')\n",
    "plt.axis([0, 20, 0.5, 1])\n",
    "plt.legend(['Validation', 'Training'], loc='upper left')\n",
    "plt.savefig('Accuracy_ERB=2.png',dpi=150)\n"
   ]
  },
  {
   "cell_type": "code",
   "execution_count": 52,
   "metadata": {},
   "outputs": [],
   "source": [
    "#saving weights\n",
    "weights_first_layer = clf.layers[0].get_weights()[0]\n",
    "biases_first_layer = clf.layers[0].get_weights()[1]\n",
    "\n",
    "weights_second_layer = clf.layers[2].get_weights()[0]\n",
    "biases_second_layer = clf.layers[2].get_weights()[1]\n",
    "\n",
    "\n",
    "weights_first_layer = np.vstack([biases_first_layer, weights_first_layer])\n",
    "weights_second_layer = np.vstack([biases_second_layer, weights_second_layer])\n",
    "\n",
    "\n",
    "weights_first_layer_norm = weights_first_layer / abs(weights_first_layer).max()\n",
    "#biases_first_layer_norm = biases_first_layer / abs(biases_first_layer).max()\n",
    "\n",
    "weights_second_layer_norm = weights_second_layer / abs(weights_second_layer).max()\n",
    "#biases_second_layer_norm = biases_second_layer / abs(biases_second_layer).max()\n",
    "\n",
    "\n",
    "weights_first_layer_norm.shape, weights_second_layer_norm.shape\n",
    "\n",
    "abs(weights_first_layer).max(), abs(weights_second_layer).max()\n",
    "\n",
    "np.savetxt('weights_first_layer_norm_NN_108-56-5.txt',weights_first_layer_norm,delimiter= ',')\n",
    "np.savetxt('weights_second_layer_norm_NN_108-56-5.txt',weights_second_layer_norm,delimiter= ',')\n"
   ]
  },
  {
   "cell_type": "code",
   "execution_count": 53,
   "metadata": {},
   "outputs": [
    {
     "data": {
      "image/png": "[encoded data removed]",
      "text/plain": [
       "<Figure size 432x432 with 1 Axes>"
      ]
     },
     "metadata": {},
     "output_type": "display_data"
    }
   ],
   "source": [
    "#confusion matrix \n",
    "from sklearn.metrics import confusion_matrix\n",
    "import matplotlib.pyplot as plt\n",
    "\n",
    "cfm = confusion_matrix(testY,clf.predict_classes(testX)) \n",
    "\n",
    "a = [0 for x in range(5)]\n",
    "cfm_norm = np.zeros((5,5))#[[0 for x in range(5)] for y in range(5)]\n",
    "\n",
    "for idx in range(5):\n",
    "    cfm_norm[idx,:] = cfm[idx+1,:-1] / sum(cfm[idx+1,:-1]) #len(testY[testY == idx + 1])      \n",
    "\n",
    "cfm_norm = np.around(cfm_norm,decimals=3)\n",
    "\n",
    "#nicer confusion matrix\n",
    "fig, ax = plt.subplots(figsize = (6, 6))\n",
    "ax.matshow(cfm_norm,cmap=plt.cm.Blues,alpha=0.7)\n",
    "\n",
    "for i in range(cfm_norm.shape[0]):\n",
    "    for j in range(cfm_norm.shape[1]):\n",
    "        ax.text(x=j,y=i, s=cfm_norm[i,j],va='center', ha= 'center')\n",
    "\n",
    "ax.set_xticks([0,1,2,3,4])\n",
    "ax.set_yticks([0,1,2,3,4])\n",
    "ax.set_xticklabels(['Babble','Own-voice','Car','Speech','Traffic'])\n",
    "ax.set_yticklabels(['Babble','Own-voice','Car','Speech','Traffic'])\n",
    "ax.yaxis.set_label_coords(1.08,0.5)\n",
    "ax.xaxis.set_label_coords(0.51,-0.04)\n",
    "ax.set_xlabel('Predicted Class',fontsize=15)\n",
    "ax.set_ylabel('True Class',fontsize=15)\n",
    "fig.savefig('Conf_Matrix_ERB=2.png',dpi=100)\n"
   ]
  },
  {
   "cell_type": "code",
   "execution_count": 54,
   "metadata": {},
   "outputs": [
    {
     "data": {
      "text/plain": [
       "(0.85544, 0.638672900872901, 0.09035212973763312)"
      ]
     },
     "execution_count": 54,
     "metadata": {},
     "output_type": "execute_result"
    }
   ],
   "source": [
    "FP = cfm_norm.sum(axis=0) - np.diag(cfm_norm)  \n",
    "FN = cfm_norm.sum(axis=1) - np.diag(cfm_norm)\n",
    "TP = np.diag(cfm_norm)\n",
    "TN = cfm_norm.sum() - (FP + FN + TP)\n",
    "\n",
    "# Sensitivity, hit rate, recall, or true positive rate\n",
    "TPR = TP/(TP+FN)\n",
    "# Fall out or false positive rate\n",
    "FPR = FP/(FP+TN)\n",
    "\n",
    "# Overall accuracy\n",
    "ACC = (TP+TN)/(TP+FP+FN+TN)\n",
    "\n",
    "ACC.mean(),TPR.mean(), FPR.mean()"
   ]
  },
  {
   "cell_type": "code",
   "execution_count": null,
   "metadata": {},
   "outputs": [],
   "source": []
  }
 ],
 "metadata": {
  "kernelspec": {
   "display_name": "Python 3",
   "language": "python",
   "name": "python3"
  },
  "language_info": {
   "codemirror_mode": {
    "name": "ipython",
    "version": 3
   },
   "file_extension": ".py",
   "mimetype": "text/x-python",
   "name": "python",
   "nbconvert_exporter": "python",
   "pygments_lexer": "ipython3",
   "version": "3.6.5"
  }
 },
 "nbformat": 4,
 "nbformat_minor": 2
}
