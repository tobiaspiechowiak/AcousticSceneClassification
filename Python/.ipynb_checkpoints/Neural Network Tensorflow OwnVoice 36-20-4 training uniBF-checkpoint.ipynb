{
 "cells": [
  {
   "cell_type": "code",
   "execution_count": 1,
   "metadata": {},
   "outputs": [],
   "source": [
    "#load packages\n",
    "import numpy as np\n",
    "import tensorflow as tf\n",
    "from tensorflow import keras \n",
    "import pandas as pd\n",
    "import soundfile as sf\n",
    "import os\n",
    "import h5py"
   ]
  },
  {
   "cell_type": "code",
   "execution_count": 2,
   "metadata": {},
   "outputs": [],
   "source": [
    "#import data \n",
    "path = 'x:/Steering/Recordings/Processed/'\n",
    "data, fs = sf.read(path + 'ERB=2_uni_OwnVoice.wav')\n",
    "classes = pd.read_csv(path + 'Classes_2_uni_OwnVoice.csv')"
   ]
  },
  {
   "cell_type": "code",
   "execution_count": 3,
   "metadata": {},
   "outputs": [],
   "source": [
    "X = data[:len(data)-1,:data.shape[1]] \n",
    "Y = classes.values[:,0]"
   ]
  },
  {
   "cell_type": "code",
   "execution_count": 4,
   "metadata": {},
   "outputs": [
    {
     "data": {
      "text/plain": [
       "(889913, 889913)"
      ]
     },
     "execution_count": 4,
     "metadata": {},
     "output_type": "execute_result"
    }
   ],
   "source": [
    "len(Y),len(X)"
   ]
  },
  {
   "cell_type": "code",
   "execution_count": 5,
   "metadata": {},
   "outputs": [],
   "source": [
    "#split into training and test set\n",
    "from sklearn.model_selection import train_test_split\n",
    "trainX, testX, trainY, testY = train_test_split(X,Y,test_size=0.2,random_state=0)"
   ]
  },
  {
   "cell_type": "code",
   "execution_count": 6,
   "metadata": {},
   "outputs": [],
   "source": [
    "#do one-hot encoding\n",
    "from sklearn.preprocessing import OneHotEncoder \n",
    "from sklearn.preprocessing import LabelEncoder\n",
    "\n",
    "enc = OneHotEncoder(sparse=False)"
   ]
  },
  {
   "cell_type": "code",
   "execution_count": 7,
   "metadata": {},
   "outputs": [],
   "source": [
    "integer_encoded_train = trainY.reshape(len(trainY), 1)\n",
    "onehot_encoded_train = enc.fit_transform(integer_encoded_train)\n",
    "\n",
    "integer_encoded_test = testY.reshape(len(testY), 1)\n",
    "onehot_encoded_test = enc.fit_transform(integer_encoded_test)"
   ]
  },
  {
   "cell_type": "code",
   "execution_count": 8,
   "metadata": {},
   "outputs": [
    {
     "data": {
      "text/plain": [
       "array([[1., 0.],\n",
       "       [1., 0.],\n",
       "       [1., 0.],\n",
       "       ...,\n",
       "       [0., 1.],\n",
       "       [1., 0.],\n",
       "       [0., 1.]])"
      ]
     },
     "execution_count": 8,
     "metadata": {},
     "output_type": "execute_result"
    }
   ],
   "source": [
    "onehot_encoded_train"
   ]
  },
  {
   "cell_type": "code",
   "execution_count": 9,
   "metadata": {},
   "outputs": [],
   "source": [
    "#DC removal \n",
    "trainX -= (np.mean(trainX, axis=0) + 1e-8)\n",
    "testX -= (np.mean(testX, axis=0) + 1e-8)"
   ]
  },
  {
   "cell_type": "code",
   "execution_count": 10,
   "metadata": {},
   "outputs": [],
   "source": [
    "clf = keras.Sequential()"
   ]
  },
  {
   "cell_type": "code",
   "execution_count": 11,
   "metadata": {},
   "outputs": [],
   "source": [
    "clf.add(keras.layers.Dense(\n",
    "  units = 20,\n",
    "  input_dim = trainX.shape[1],   \n",
    "  activation = 'tanh'\n",
    "))\n",
    "\n",
    "clf.add(keras.layers.Dense(\n",
    "    units = onehot_encoded_train.shape[1],\n",
    "    input_dim = 20,\n",
    "    activation = 'softmax'\n",
    "))\n"
   ]
  },
  {
   "cell_type": "code",
   "execution_count": 12,
   "metadata": {},
   "outputs": [
    {
     "data": {
      "text/plain": [
       "(2, 36)"
      ]
     },
     "execution_count": 12,
     "metadata": {},
     "output_type": "execute_result"
    }
   ],
   "source": [
    "onehot_encoded_train.shape[1],trainX.shape[1]"
   ]
  },
  {
   "cell_type": "code",
   "execution_count": 13,
   "metadata": {},
   "outputs": [],
   "source": [
    "clf.compile(loss='mean_squared_error',\n",
    "    optimizer='Adam',\n",
    "           metrics=['categorical_accuracy'])"
   ]
  },
  {
   "cell_type": "code",
   "execution_count": 17,
   "metadata": {},
   "outputs": [
    {
     "name": "stdout",
     "output_type": "stream",
     "text": [
      "Train on 640737 samples, validate on 71193 samples\n",
      "Epoch 1/150\n",
      "640737/640737 [==============================] - 1s 2us/step - loss: 0.0970 - categorical_accuracy: 0.8660 - val_loss: 0.0974 - val_categorical_accuracy: 0.8632\n",
      "Epoch 2/150\n",
      "640737/640737 [==============================] - 1s 2us/step - loss: 0.0970 - categorical_accuracy: 0.8660 - val_loss: 0.0978 - val_categorical_accuracy: 0.8613\n",
      "Epoch 3/150\n",
      "640737/640737 [==============================] - 1s 2us/step - loss: 0.0969 - categorical_accuracy: 0.8659 - val_loss: 0.0974 - val_categorical_accuracy: 0.8636\n",
      "Epoch 4/150\n",
      "640737/640737 [==============================] - 1s 2us/step - loss: 0.0969 - categorical_accuracy: 0.8661 - val_loss: 0.0973 - val_categorical_accuracy: 0.8657\n",
      "Epoch 5/150\n",
      "640737/640737 [==============================] - 1s 2us/step - loss: 0.0968 - categorical_accuracy: 0.8663 - val_loss: 0.0972 - val_categorical_accuracy: 0.8648\n",
      "Epoch 6/150\n",
      "640737/640737 [==============================] - 1s 2us/step - loss: 0.0968 - categorical_accuracy: 0.8662 - val_loss: 0.0972 - val_categorical_accuracy: 0.8658\n",
      "Epoch 7/150\n",
      "640737/640737 [==============================] - 1s 2us/step - loss: 0.0968 - categorical_accuracy: 0.8662 - val_loss: 0.0973 - val_categorical_accuracy: 0.8630\n",
      "Epoch 8/150\n",
      "640737/640737 [==============================] - 1s 2us/step - loss: 0.0967 - categorical_accuracy: 0.8664 - val_loss: 0.0974 - val_categorical_accuracy: 0.8672\n",
      "Epoch 9/150\n",
      "640737/640737 [==============================] - 2s 2us/step - loss: 0.0967 - categorical_accuracy: 0.8663 - val_loss: 0.0971 - val_categorical_accuracy: 0.8663\n",
      "Epoch 10/150\n",
      "640737/640737 [==============================] - 1s 2us/step - loss: 0.0966 - categorical_accuracy: 0.8665 - val_loss: 0.0970 - val_categorical_accuracy: 0.8665\n",
      "Epoch 11/150\n",
      "640737/640737 [==============================] - 1s 2us/step - loss: 0.0966 - categorical_accuracy: 0.8666 - val_loss: 0.0975 - val_categorical_accuracy: 0.8679\n",
      "Epoch 12/150\n",
      "640737/640737 [==============================] - 2s 2us/step - loss: 0.0965 - categorical_accuracy: 0.8665 - val_loss: 0.0971 - val_categorical_accuracy: 0.8677\n",
      "Epoch 13/150\n",
      "640737/640737 [==============================] - 1s 2us/step - loss: 0.0965 - categorical_accuracy: 0.8666 - val_loss: 0.0969 - val_categorical_accuracy: 0.8669\n",
      "Epoch 14/150\n",
      "640737/640737 [==============================] - 1s 2us/step - loss: 0.0964 - categorical_accuracy: 0.8667 - val_loss: 0.0970 - val_categorical_accuracy: 0.8633\n",
      "Epoch 15/150\n",
      "640737/640737 [==============================] - 1s 2us/step - loss: 0.0964 - categorical_accuracy: 0.8668 - val_loss: 0.0969 - val_categorical_accuracy: 0.8678\n",
      "Epoch 16/150\n",
      "640737/640737 [==============================] - 1s 2us/step - loss: 0.0964 - categorical_accuracy: 0.8670 - val_loss: 0.0968 - val_categorical_accuracy: 0.8676\n",
      "Epoch 17/150\n",
      "640737/640737 [==============================] - 1s 2us/step - loss: 0.0963 - categorical_accuracy: 0.8671 - val_loss: 0.0966 - val_categorical_accuracy: 0.8654\n",
      "Epoch 18/150\n",
      "640737/640737 [==============================] - 1s 2us/step - loss: 0.0962 - categorical_accuracy: 0.8671 - val_loss: 0.0966 - val_categorical_accuracy: 0.8666\n",
      "Epoch 19/150\n",
      "640737/640737 [==============================] - 1s 2us/step - loss: 0.0962 - categorical_accuracy: 0.8672 - val_loss: 0.0965 - val_categorical_accuracy: 0.8660\n",
      "Epoch 20/150\n",
      "640737/640737 [==============================] - 1s 2us/step - loss: 0.0961 - categorical_accuracy: 0.8672 - val_loss: 0.0966 - val_categorical_accuracy: 0.8675\n",
      "Epoch 21/150\n",
      "640737/640737 [==============================] - 1s 2us/step - loss: 0.0961 - categorical_accuracy: 0.8675 - val_loss: 0.0965 - val_categorical_accuracy: 0.8677\n",
      "Epoch 22/150\n",
      "640737/640737 [==============================] - 1s 2us/step - loss: 0.0961 - categorical_accuracy: 0.8673 - val_loss: 0.0964 - val_categorical_accuracy: 0.8672\n",
      "Epoch 23/150\n",
      "640737/640737 [==============================] - 1s 2us/step - loss: 0.0960 - categorical_accuracy: 0.8675 - val_loss: 0.0963 - val_categorical_accuracy: 0.8669\n",
      "Epoch 24/150\n",
      "640737/640737 [==============================] - 1s 2us/step - loss: 0.0959 - categorical_accuracy: 0.8676 - val_loss: 0.0963 - val_categorical_accuracy: 0.8655\n",
      "Epoch 25/150\n",
      "640737/640737 [==============================] - 1s 2us/step - loss: 0.0959 - categorical_accuracy: 0.8676 - val_loss: 0.0962 - val_categorical_accuracy: 0.8671\n",
      "Epoch 26/150\n",
      "640737/640737 [==============================] - 1s 2us/step - loss: 0.0958 - categorical_accuracy: 0.8678 - val_loss: 0.0962 - val_categorical_accuracy: 0.8658\n",
      "Epoch 27/150\n",
      "640737/640737 [==============================] - 1s 2us/step - loss: 0.0958 - categorical_accuracy: 0.8680 - val_loss: 0.0962 - val_categorical_accuracy: 0.8683\n",
      "Epoch 28/150\n",
      "640737/640737 [==============================] - 1s 2us/step - loss: 0.0958 - categorical_accuracy: 0.8679 - val_loss: 0.0961 - val_categorical_accuracy: 0.8683\n",
      "Epoch 29/150\n",
      "640737/640737 [==============================] - 1s 2us/step - loss: 0.0957 - categorical_accuracy: 0.8679 - val_loss: 0.0960 - val_categorical_accuracy: 0.8664\n",
      "Epoch 30/150\n",
      "640737/640737 [==============================] - 1s 1us/step - loss: 0.0957 - categorical_accuracy: 0.8681 - val_loss: 0.0964 - val_categorical_accuracy: 0.8630\n",
      "Epoch 31/150\n",
      "640737/640737 [==============================] - 1s 2us/step - loss: 0.0956 - categorical_accuracy: 0.8680 - val_loss: 0.0959 - val_categorical_accuracy: 0.8679\n",
      "Epoch 32/150\n",
      "640737/640737 [==============================] - 1s 2us/step - loss: 0.0956 - categorical_accuracy: 0.8679 - val_loss: 0.0959 - val_categorical_accuracy: 0.8679\n",
      "Epoch 33/150\n",
      "640737/640737 [==============================] - 1s 2us/step - loss: 0.0955 - categorical_accuracy: 0.8683 - val_loss: 0.0959 - val_categorical_accuracy: 0.8660\n",
      "Epoch 34/150\n",
      "640737/640737 [==============================] - 1s 2us/step - loss: 0.0955 - categorical_accuracy: 0.8684 - val_loss: 0.0959 - val_categorical_accuracy: 0.8688\n",
      "Epoch 35/150\n",
      "640737/640737 [==============================] - 1s 2us/step - loss: 0.0954 - categorical_accuracy: 0.8684 - val_loss: 0.0957 - val_categorical_accuracy: 0.8662\n",
      "Epoch 36/150\n",
      "640737/640737 [==============================] - 1s 2us/step - loss: 0.0954 - categorical_accuracy: 0.8685 - val_loss: 0.0957 - val_categorical_accuracy: 0.8662\n",
      "Epoch 37/150\n",
      "640737/640737 [==============================] - 1s 2us/step - loss: 0.0953 - categorical_accuracy: 0.8687 - val_loss: 0.0961 - val_categorical_accuracy: 0.8636\n",
      "Epoch 38/150\n",
      "640737/640737 [==============================] - 1s 2us/step - loss: 0.0953 - categorical_accuracy: 0.8687 - val_loss: 0.0956 - val_categorical_accuracy: 0.8673\n",
      "Epoch 39/150\n",
      "640737/640737 [==============================] - 1s 2us/step - loss: 0.0953 - categorical_accuracy: 0.8686 - val_loss: 0.0955 - val_categorical_accuracy: 0.8685\n",
      "Epoch 40/150\n",
      "640737/640737 [==============================] - 1s 2us/step - loss: 0.0952 - categorical_accuracy: 0.8689 - val_loss: 0.0958 - val_categorical_accuracy: 0.8703\n",
      "Epoch 41/150\n",
      "640737/640737 [==============================] - 1s 2us/step - loss: 0.0952 - categorical_accuracy: 0.8689 - val_loss: 0.0954 - val_categorical_accuracy: 0.8690\n",
      "Epoch 42/150\n",
      "640737/640737 [==============================] - 1s 2us/step - loss: 0.0951 - categorical_accuracy: 0.8690 - val_loss: 0.0954 - val_categorical_accuracy: 0.8666\n",
      "Epoch 43/150\n",
      "640737/640737 [==============================] - 1s 2us/step - loss: 0.0951 - categorical_accuracy: 0.8689 - val_loss: 0.0955 - val_categorical_accuracy: 0.8701\n",
      "Epoch 44/150\n",
      "640737/640737 [==============================] - 1s 2us/step - loss: 0.0950 - categorical_accuracy: 0.8690 - val_loss: 0.0953 - val_categorical_accuracy: 0.8697\n",
      "Epoch 45/150\n",
      "640737/640737 [==============================] - 1s 2us/step - loss: 0.0950 - categorical_accuracy: 0.8691 - val_loss: 0.0952 - val_categorical_accuracy: 0.8679\n",
      "Epoch 46/150\n",
      "640737/640737 [==============================] - 1s 2us/step - loss: 0.0949 - categorical_accuracy: 0.8693 - val_loss: 0.0955 - val_categorical_accuracy: 0.8709\n",
      "Epoch 47/150\n",
      "640737/640737 [==============================] - 1s 1us/step - loss: 0.0949 - categorical_accuracy: 0.8692 - val_loss: 0.0951 - val_categorical_accuracy: 0.8684\n"
     ]
    },
    {
     "name": "stdout",
     "output_type": "stream",
     "text": [
      "Epoch 48/150\n",
      "640737/640737 [==============================] - 1s 2us/step - loss: 0.0948 - categorical_accuracy: 0.8694 - val_loss: 0.0952 - val_categorical_accuracy: 0.8700\n",
      "Epoch 49/150\n",
      "640737/640737 [==============================] - 1s 1us/step - loss: 0.0948 - categorical_accuracy: 0.8694 - val_loss: 0.0952 - val_categorical_accuracy: 0.8705\n",
      "Epoch 50/150\n",
      "640737/640737 [==============================] - 1s 2us/step - loss: 0.0948 - categorical_accuracy: 0.8693 - val_loss: 0.0949 - val_categorical_accuracy: 0.8685\n",
      "Epoch 51/150\n",
      "640737/640737 [==============================] - 1s 2us/step - loss: 0.0947 - categorical_accuracy: 0.8695 - val_loss: 0.0950 - val_categorical_accuracy: 0.8671\n",
      "Epoch 52/150\n",
      "640737/640737 [==============================] - 1s 2us/step - loss: 0.0946 - categorical_accuracy: 0.8695 - val_loss: 0.0949 - val_categorical_accuracy: 0.8690\n",
      "Epoch 53/150\n",
      "640737/640737 [==============================] - 1s 2us/step - loss: 0.0946 - categorical_accuracy: 0.8698 - val_loss: 0.0948 - val_categorical_accuracy: 0.8684\n",
      "Epoch 54/150\n",
      "640737/640737 [==============================] - 1s 2us/step - loss: 0.0946 - categorical_accuracy: 0.8697 - val_loss: 0.0950 - val_categorical_accuracy: 0.8711\n",
      "Epoch 55/150\n",
      "640737/640737 [==============================] - 1s 2us/step - loss: 0.0945 - categorical_accuracy: 0.8700 - val_loss: 0.0947 - val_categorical_accuracy: 0.8692\n",
      "Epoch 56/150\n",
      "640737/640737 [==============================] - 1s 2us/step - loss: 0.0945 - categorical_accuracy: 0.8699 - val_loss: 0.0949 - val_categorical_accuracy: 0.8667\n",
      "Epoch 57/150\n",
      "640737/640737 [==============================] - 1s 2us/step - loss: 0.0944 - categorical_accuracy: 0.8701 - val_loss: 0.0947 - val_categorical_accuracy: 0.8707\n",
      "Epoch 58/150\n",
      "640737/640737 [==============================] - 1s 2us/step - loss: 0.0944 - categorical_accuracy: 0.8701 - val_loss: 0.0946 - val_categorical_accuracy: 0.8692\n",
      "Epoch 59/150\n",
      "640737/640737 [==============================] - 1s 2us/step - loss: 0.0943 - categorical_accuracy: 0.8701 - val_loss: 0.0947 - val_categorical_accuracy: 0.8713\n",
      "Epoch 60/150\n",
      "640737/640737 [==============================] - 1s 2us/step - loss: 0.0943 - categorical_accuracy: 0.8702 - val_loss: 0.0945 - val_categorical_accuracy: 0.8694\n",
      "Epoch 61/150\n",
      "640737/640737 [==============================] - 1s 2us/step - loss: 0.0943 - categorical_accuracy: 0.8702 - val_loss: 0.0944 - val_categorical_accuracy: 0.8707\n",
      "Epoch 62/150\n",
      "640737/640737 [==============================] - 1s 2us/step - loss: 0.0942 - categorical_accuracy: 0.8704 - val_loss: 0.0944 - val_categorical_accuracy: 0.8691\n",
      "Epoch 63/150\n",
      "640737/640737 [==============================] - 2s 3us/step - loss: 0.0941 - categorical_accuracy: 0.8703 - val_loss: 0.0945 - val_categorical_accuracy: 0.8714\n",
      "Epoch 64/150\n",
      "640737/640737 [==============================] - 2s 3us/step - loss: 0.0941 - categorical_accuracy: 0.8704 - val_loss: 0.0943 - val_categorical_accuracy: 0.8698\n",
      "Epoch 65/150\n",
      "640737/640737 [==============================] - 1s 2us/step - loss: 0.0941 - categorical_accuracy: 0.8705 - val_loss: 0.0944 - val_categorical_accuracy: 0.8717\n",
      "Epoch 66/150\n",
      "640737/640737 [==============================] - 1s 2us/step - loss: 0.0940 - categorical_accuracy: 0.8706 - val_loss: 0.0942 - val_categorical_accuracy: 0.8703\n",
      "Epoch 67/150\n",
      "640737/640737 [==============================] - 1s 2us/step - loss: 0.0940 - categorical_accuracy: 0.8707 - val_loss: 0.0942 - val_categorical_accuracy: 0.8687\n",
      "Epoch 68/150\n",
      "640737/640737 [==============================] - 1s 2us/step - loss: 0.0939 - categorical_accuracy: 0.8708 - val_loss: 0.0944 - val_categorical_accuracy: 0.8674\n",
      "Epoch 69/150\n",
      "640737/640737 [==============================] - 2s 3us/step - loss: 0.0939 - categorical_accuracy: 0.8708 - val_loss: 0.0941 - val_categorical_accuracy: 0.8705\n",
      "Epoch 70/150\n",
      "640737/640737 [==============================] - 1s 2us/step - loss: 0.0939 - categorical_accuracy: 0.8710 - val_loss: 0.0940 - val_categorical_accuracy: 0.8711\n",
      "Epoch 71/150\n",
      "640737/640737 [==============================] - 1s 2us/step - loss: 0.0938 - categorical_accuracy: 0.8711 - val_loss: 0.0940 - val_categorical_accuracy: 0.8696\n",
      "Epoch 72/150\n",
      "640737/640737 [==============================] - 1s 2us/step - loss: 0.0937 - categorical_accuracy: 0.8711 - val_loss: 0.0940 - val_categorical_accuracy: 0.8716\n",
      "Epoch 73/150\n",
      "640737/640737 [==============================] - 1s 2us/step - loss: 0.0937 - categorical_accuracy: 0.8710 - val_loss: 0.0940 - val_categorical_accuracy: 0.8722\n",
      "Epoch 74/150\n",
      "640737/640737 [==============================] - 1s 2us/step - loss: 0.0937 - categorical_accuracy: 0.8711 - val_loss: 0.0939 - val_categorical_accuracy: 0.8724\n",
      "Epoch 75/150\n",
      "640737/640737 [==============================] - 1s 2us/step - loss: 0.0936 - categorical_accuracy: 0.8712 - val_loss: 0.0938 - val_categorical_accuracy: 0.8719\n",
      "Epoch 76/150\n",
      "640737/640737 [==============================] - 1s 2us/step - loss: 0.0936 - categorical_accuracy: 0.8715 - val_loss: 0.0937 - val_categorical_accuracy: 0.8709\n",
      "Epoch 77/150\n",
      "640737/640737 [==============================] - 1s 2us/step - loss: 0.0936 - categorical_accuracy: 0.8713 - val_loss: 0.0938 - val_categorical_accuracy: 0.8691\n",
      "Epoch 78/150\n",
      "640737/640737 [==============================] - 1s 2us/step - loss: 0.0935 - categorical_accuracy: 0.8715 - val_loss: 0.0937 - val_categorical_accuracy: 0.8725\n",
      "Epoch 79/150\n",
      "640737/640737 [==============================] - 1s 2us/step - loss: 0.0934 - categorical_accuracy: 0.8717 - val_loss: 0.0938 - val_categorical_accuracy: 0.8729\n",
      "Epoch 80/150\n",
      "640737/640737 [==============================] - 1s 2us/step - loss: 0.0934 - categorical_accuracy: 0.8717 - val_loss: 0.0935 - val_categorical_accuracy: 0.8716\n",
      "Epoch 81/150\n",
      "640737/640737 [==============================] - 1s 2us/step - loss: 0.0933 - categorical_accuracy: 0.8718 - val_loss: 0.0935 - val_categorical_accuracy: 0.8722\n",
      "Epoch 82/150\n",
      "640737/640737 [==============================] - 1s 2us/step - loss: 0.0933 - categorical_accuracy: 0.8718 - val_loss: 0.0934 - val_categorical_accuracy: 0.8719\n",
      "Epoch 83/150\n",
      "640737/640737 [==============================] - 1s 2us/step - loss: 0.0933 - categorical_accuracy: 0.8720 - val_loss: 0.0934 - val_categorical_accuracy: 0.8722\n",
      "Epoch 84/150\n",
      "640737/640737 [==============================] - 1s 2us/step - loss: 0.0932 - categorical_accuracy: 0.8720 - val_loss: 0.0934 - val_categorical_accuracy: 0.8708\n",
      "Epoch 85/150\n",
      "640737/640737 [==============================] - 1s 2us/step - loss: 0.0932 - categorical_accuracy: 0.8720 - val_loss: 0.0933 - val_categorical_accuracy: 0.8725\n",
      "Epoch 86/150\n",
      "640737/640737 [==============================] - 1s 2us/step - loss: 0.0931 - categorical_accuracy: 0.8722 - val_loss: 0.0934 - val_categorical_accuracy: 0.8697\n",
      "Epoch 87/150\n",
      "640737/640737 [==============================] - 1s 2us/step - loss: 0.0931 - categorical_accuracy: 0.8719 - val_loss: 0.0933 - val_categorical_accuracy: 0.8732\n",
      "Epoch 88/150\n",
      "640737/640737 [==============================] - 1s 2us/step - loss: 0.0930 - categorical_accuracy: 0.8722 - val_loss: 0.0932 - val_categorical_accuracy: 0.8715\n",
      "Epoch 89/150\n",
      "640737/640737 [==============================] - 1s 2us/step - loss: 0.0930 - categorical_accuracy: 0.8722 - val_loss: 0.0942 - val_categorical_accuracy: 0.8742\n",
      "Epoch 90/150\n",
      "640737/640737 [==============================] - 1s 2us/step - loss: 0.0930 - categorical_accuracy: 0.8723 - val_loss: 0.0932 - val_categorical_accuracy: 0.8697\n",
      "Epoch 91/150\n",
      "640737/640737 [==============================] - 1s 2us/step - loss: 0.0929 - categorical_accuracy: 0.8725 - val_loss: 0.0931 - val_categorical_accuracy: 0.8737\n",
      "Epoch 92/150\n",
      "640737/640737 [==============================] - 1s 2us/step - loss: 0.0929 - categorical_accuracy: 0.8726 - val_loss: 0.0933 - val_categorical_accuracy: 0.8740\n",
      "Epoch 93/150\n",
      "640737/640737 [==============================] - 1s 2us/step - loss: 0.0928 - categorical_accuracy: 0.8725 - val_loss: 0.0930 - val_categorical_accuracy: 0.8735\n",
      "Epoch 94/150\n",
      "640737/640737 [==============================] - 1s 2us/step - loss: 0.0928 - categorical_accuracy: 0.8727 - val_loss: 0.0929 - val_categorical_accuracy: 0.8727\n",
      "Epoch 95/150\n",
      "640737/640737 [==============================] - 1s 2us/step - loss: 0.0927 - categorical_accuracy: 0.8726 - val_loss: 0.0928 - val_categorical_accuracy: 0.8724\n",
      "Epoch 96/150\n",
      "640737/640737 [==============================] - 1s 2us/step - loss: 0.0927 - categorical_accuracy: 0.8727 - val_loss: 0.0932 - val_categorical_accuracy: 0.8748\n",
      "Epoch 97/150\n",
      "640737/640737 [==============================] - 1s 2us/step - loss: 0.0926 - categorical_accuracy: 0.8728 - val_loss: 0.0928 - val_categorical_accuracy: 0.8715\n",
      "Epoch 98/150\n",
      "640737/640737 [==============================] - 1s 2us/step - loss: 0.0926 - categorical_accuracy: 0.8730 - val_loss: 0.0928 - val_categorical_accuracy: 0.8712\n",
      "Epoch 99/150\n",
      "640737/640737 [==============================] - 1s 2us/step - loss: 0.0925 - categorical_accuracy: 0.8730 - val_loss: 0.0926 - val_categorical_accuracy: 0.8730\n",
      "Epoch 100/150\n",
      "640737/640737 [==============================] - 1s 2us/step - loss: 0.0925 - categorical_accuracy: 0.8733 - val_loss: 0.0930 - val_categorical_accuracy: 0.8694\n",
      "Epoch 101/150\n",
      "640737/640737 [==============================] - 1s 2us/step - loss: 0.0925 - categorical_accuracy: 0.8732 - val_loss: 0.0926 - val_categorical_accuracy: 0.8730\n",
      "Epoch 102/150\n",
      "640737/640737 [==============================] - 2s 2us/step - loss: 0.0924 - categorical_accuracy: 0.8733 - val_loss: 0.0925 - val_categorical_accuracy: 0.8732\n",
      "Epoch 103/150\n",
      "640737/640737 [==============================] - 1s 2us/step - loss: 0.0924 - categorical_accuracy: 0.8735 - val_loss: 0.0925 - val_categorical_accuracy: 0.8724\n",
      "Epoch 104/150\n",
      "640737/640737 [==============================] - 1s 2us/step - loss: 0.0924 - categorical_accuracy: 0.8734 - val_loss: 0.0925 - val_categorical_accuracy: 0.8743\n",
      "Epoch 105/150\n",
      "640737/640737 [==============================] - 1s 2us/step - loss: 0.0923 - categorical_accuracy: 0.8734 - val_loss: 0.0924 - val_categorical_accuracy: 0.8740\n",
      "Epoch 106/150\n",
      "640737/640737 [==============================] - 1s 2us/step - loss: 0.0922 - categorical_accuracy: 0.8735 - val_loss: 0.0926 - val_categorical_accuracy: 0.8751\n",
      "Epoch 107/150\n",
      "640737/640737 [==============================] - 1s 2us/step - loss: 0.0922 - categorical_accuracy: 0.8735 - val_loss: 0.0924 - val_categorical_accuracy: 0.8746\n",
      "Epoch 108/150\n",
      "640737/640737 [==============================] - 1s 2us/step - loss: 0.0921 - categorical_accuracy: 0.8735 - val_loss: 0.0922 - val_categorical_accuracy: 0.8732\n",
      "Epoch 109/150\n",
      "640737/640737 [==============================] - 1s 2us/step - loss: 0.0921 - categorical_accuracy: 0.8736 - val_loss: 0.0922 - val_categorical_accuracy: 0.8732\n",
      "Epoch 110/150\n",
      "640737/640737 [==============================] - 1s 2us/step - loss: 0.0921 - categorical_accuracy: 0.8736 - val_loss: 0.0922 - val_categorical_accuracy: 0.8731\n",
      "Epoch 111/150\n",
      "640737/640737 [==============================] - 1s 2us/step - loss: 0.0920 - categorical_accuracy: 0.8738 - val_loss: 0.0921 - val_categorical_accuracy: 0.8736\n",
      "Epoch 112/150\n",
      "640737/640737 [==============================] - 1s 2us/step - loss: 0.0920 - categorical_accuracy: 0.8739 - val_loss: 0.0923 - val_categorical_accuracy: 0.8757\n",
      "Epoch 113/150\n",
      "640737/640737 [==============================] - 1s 2us/step - loss: 0.0919 - categorical_accuracy: 0.8740 - val_loss: 0.0920 - val_categorical_accuracy: 0.8747\n",
      "Epoch 114/150\n",
      "640737/640737 [==============================] - 1s 2us/step - loss: 0.0919 - categorical_accuracy: 0.8741 - val_loss: 0.0920 - val_categorical_accuracy: 0.8752\n",
      "Epoch 115/150\n",
      "640737/640737 [==============================] - 1s 2us/step - loss: 0.0919 - categorical_accuracy: 0.8741 - val_loss: 0.0920 - val_categorical_accuracy: 0.8749\n",
      "Epoch 116/150\n",
      "640737/640737 [==============================] - 1s 2us/step - loss: 0.0918 - categorical_accuracy: 0.8742 - val_loss: 0.0919 - val_categorical_accuracy: 0.8733\n",
      "Epoch 117/150\n",
      "640737/640737 [==============================] - 1s 2us/step - loss: 0.0917 - categorical_accuracy: 0.8741 - val_loss: 0.0921 - val_categorical_accuracy: 0.8713\n",
      "Epoch 118/150\n",
      "640737/640737 [==============================] - 1s 2us/step - loss: 0.0917 - categorical_accuracy: 0.8743 - val_loss: 0.0919 - val_categorical_accuracy: 0.8726\n",
      "Epoch 119/150\n",
      "640737/640737 [==============================] - 1s 2us/step - loss: 0.0917 - categorical_accuracy: 0.8744 - val_loss: 0.0918 - val_categorical_accuracy: 0.8734\n",
      "Epoch 120/150\n",
      "640737/640737 [==============================] - 1s 2us/step - loss: 0.0916 - categorical_accuracy: 0.8745 - val_loss: 0.0917 - val_categorical_accuracy: 0.8745\n",
      "Epoch 121/150\n",
      "640737/640737 [==============================] - 1s 2us/step - loss: 0.0916 - categorical_accuracy: 0.8746 - val_loss: 0.0916 - val_categorical_accuracy: 0.8741\n",
      "Epoch 122/150\n",
      "640737/640737 [==============================] - 1s 2us/step - loss: 0.0915 - categorical_accuracy: 0.8746 - val_loss: 0.0916 - val_categorical_accuracy: 0.8736\n",
      "Epoch 123/150\n",
      "640737/640737 [==============================] - 2s 2us/step - loss: 0.0915 - categorical_accuracy: 0.8747 - val_loss: 0.0916 - val_categorical_accuracy: 0.8755\n",
      "Epoch 124/150\n",
      "640737/640737 [==============================] - 1s 2us/step - loss: 0.0914 - categorical_accuracy: 0.8747 - val_loss: 0.0916 - val_categorical_accuracy: 0.8758\n",
      "Epoch 125/150\n",
      "640737/640737 [==============================] - 1s 2us/step - loss: 0.0914 - categorical_accuracy: 0.8748 - val_loss: 0.0917 - val_categorical_accuracy: 0.8766\n",
      "Epoch 126/150\n",
      "640737/640737 [==============================] - 1s 2us/step - loss: 0.0913 - categorical_accuracy: 0.8749 - val_loss: 0.0914 - val_categorical_accuracy: 0.8744\n",
      "Epoch 127/150\n",
      "640737/640737 [==============================] - 1s 2us/step - loss: 0.0913 - categorical_accuracy: 0.8750 - val_loss: 0.0914 - val_categorical_accuracy: 0.8755\n",
      "Epoch 128/150\n",
      "640737/640737 [==============================] - 1s 2us/step - loss: 0.0913 - categorical_accuracy: 0.8749 - val_loss: 0.0919 - val_categorical_accuracy: 0.8766\n",
      "Epoch 129/150\n",
      "640737/640737 [==============================] - 1s 2us/step - loss: 0.0912 - categorical_accuracy: 0.8751 - val_loss: 0.0913 - val_categorical_accuracy: 0.8740\n",
      "Epoch 130/150\n",
      "640737/640737 [==============================] - 1s 2us/step - loss: 0.0912 - categorical_accuracy: 0.8752 - val_loss: 0.0913 - val_categorical_accuracy: 0.8741\n",
      "Epoch 131/150\n",
      "640737/640737 [==============================] - 1s 2us/step - loss: 0.0911 - categorical_accuracy: 0.8753 - val_loss: 0.0912 - val_categorical_accuracy: 0.8749\n",
      "Epoch 132/150\n",
      "640737/640737 [==============================] - 1s 2us/step - loss: 0.0911 - categorical_accuracy: 0.8754 - val_loss: 0.0911 - val_categorical_accuracy: 0.8757\n",
      "Epoch 133/150\n",
      "640737/640737 [==============================] - 1s 2us/step - loss: 0.0910 - categorical_accuracy: 0.8753 - val_loss: 0.0911 - val_categorical_accuracy: 0.8753\n",
      "Epoch 134/150\n",
      "640737/640737 [==============================] - 1s 2us/step - loss: 0.0910 - categorical_accuracy: 0.8755 - val_loss: 0.0913 - val_categorical_accuracy: 0.8729\n",
      "Epoch 135/150\n",
      "640737/640737 [==============================] - 1s 2us/step - loss: 0.0909 - categorical_accuracy: 0.8756 - val_loss: 0.0911 - val_categorical_accuracy: 0.8736\n",
      "Epoch 136/150\n",
      "640737/640737 [==============================] - 1s 2us/step - loss: 0.0909 - categorical_accuracy: 0.8757 - val_loss: 0.0912 - val_categorical_accuracy: 0.8771\n",
      "Epoch 137/150\n",
      "640737/640737 [==============================] - 1s 2us/step - loss: 0.0909 - categorical_accuracy: 0.8756 - val_loss: 0.0909 - val_categorical_accuracy: 0.8754\n",
      "Epoch 138/150\n",
      "640737/640737 [==============================] - 1s 2us/step - loss: 0.0908 - categorical_accuracy: 0.8757 - val_loss: 0.0912 - val_categorical_accuracy: 0.8772\n",
      "Epoch 139/150\n",
      "640737/640737 [==============================] - 1s 2us/step - loss: 0.0908 - categorical_accuracy: 0.8758 - val_loss: 0.0912 - val_categorical_accuracy: 0.8776\n",
      "Epoch 140/150\n",
      "640737/640737 [==============================] - 1s 2us/step - loss: 0.0907 - categorical_accuracy: 0.8758 - val_loss: 0.0908 - val_categorical_accuracy: 0.8767\n",
      "Epoch 141/150\n",
      "640737/640737 [==============================] - 1s 2us/step - loss: 0.0907 - categorical_accuracy: 0.8759 - val_loss: 0.0907 - val_categorical_accuracy: 0.8754\n"
     ]
    },
    {
     "name": "stdout",
     "output_type": "stream",
     "text": [
      "Epoch 142/150\n",
      "640737/640737 [==============================] - 1s 2us/step - loss: 0.0906 - categorical_accuracy: 0.8761 - val_loss: 0.0907 - val_categorical_accuracy: 0.8765\n",
      "Epoch 143/150\n",
      "640737/640737 [==============================] - 1s 2us/step - loss: 0.0906 - categorical_accuracy: 0.8762 - val_loss: 0.0906 - val_categorical_accuracy: 0.8753\n",
      "Epoch 144/150\n",
      "640737/640737 [==============================] - 1s 2us/step - loss: 0.0906 - categorical_accuracy: 0.8761 - val_loss: 0.0907 - val_categorical_accuracy: 0.8741\n",
      "Epoch 145/150\n",
      "640737/640737 [==============================] - 1s 2us/step - loss: 0.0905 - categorical_accuracy: 0.8763 - val_loss: 0.0906 - val_categorical_accuracy: 0.8771\n",
      "Epoch 146/150\n",
      "640737/640737 [==============================] - 1s 2us/step - loss: 0.0905 - categorical_accuracy: 0.8762 - val_loss: 0.0906 - val_categorical_accuracy: 0.8777\n",
      "Epoch 147/150\n",
      "640737/640737 [==============================] - 1s 2us/step - loss: 0.0904 - categorical_accuracy: 0.8763 - val_loss: 0.0910 - val_categorical_accuracy: 0.8779\n",
      "Epoch 148/150\n",
      "640737/640737 [==============================] - 1s 2us/step - loss: 0.0904 - categorical_accuracy: 0.8764 - val_loss: 0.0908 - val_categorical_accuracy: 0.8729\n",
      "Epoch 149/150\n",
      "640737/640737 [==============================] - 1s 2us/step - loss: 0.0903 - categorical_accuracy: 0.8765 - val_loss: 0.0905 - val_categorical_accuracy: 0.8774\n",
      "Epoch 150/150\n",
      "640737/640737 [==============================] - 1s 2us/step - loss: 0.0903 - categorical_accuracy: 0.8764 - val_loss: 0.0904 - val_categorical_accuracy: 0.8749\n"
     ]
    }
   ],
   "source": [
    "history = clf.fit(trainX,onehot_encoded_train,\n",
    "                 batch_size = 200, epochs = 150,\n",
    "                 verbose = 1,\n",
    "                 validation_split = 0.1)"
   ]
  },
  {
   "cell_type": "code",
   "execution_count": 18,
   "metadata": {},
   "outputs": [
    {
     "data": {
      "text/plain": [
       "(array([1, 1, 0, 0, 0, 0, 1, 1, 1, 1, 1, 0, 0, 1, 0, 0, 0, 0, 1, 0, 0, 0,\n",
       "        1, 0, 0, 1, 0, 0, 0, 1, 1, 0, 0, 0, 0, 1, 0, 0, 0, 0, 1, 0, 0, 1,\n",
       "        1, 0, 0, 0, 1, 0, 0, 0, 0, 0, 1, 0, 0, 1, 0, 0, 0, 1, 0, 0, 0, 0,\n",
       "        1, 0, 1, 0, 0, 0, 0, 1, 0, 1, 0, 1, 1, 0, 0, 0, 0, 0, 0, 0, 1, 0,\n",
       "        1, 0, 1, 0, 1, 0, 1, 0, 0, 0, 0], dtype=int64),\n",
       " array([1, 1, 0, 0, 0, 0, 1, 0, 1, 1, 1, 0, 0, 1, 0, 0, 0, 1, 1, 0, 0, 0,\n",
       "        1, 0, 0, 1, 1, 0, 1, 0, 1, 0, 0, 0, 0, 1, 0, 0, 0, 0, 1, 0, 0, 1,\n",
       "        1, 0, 0, 0, 1, 0, 1, 0, 0, 0, 1, 0, 0, 1, 0, 0, 0, 0, 0, 0, 0, 0,\n",
       "        1, 0, 1, 0, 0, 0, 1, 1, 0, 1, 1, 1, 1, 0, 0, 1, 0, 1, 0, 0, 1, 0,\n",
       "        1, 0, 1, 0, 0, 0, 1, 0, 0, 0, 0], dtype=int64))"
      ]
     },
     "execution_count": 18,
     "metadata": {},
     "output_type": "execute_result"
    }
   ],
   "source": [
    "\n",
    "testY[1:100], clf.predict_classes(testX[1:100,:])"
   ]
  },
  {
   "cell_type": "code",
   "execution_count": 19,
   "metadata": {},
   "outputs": [
    {
     "name": "stdout",
     "output_type": "stream",
     "text": [
      "177983/177983 [==============================] - 1s 8us/step\n"
     ]
    },
    {
     "data": {
      "text/plain": [
       "[0.0904881519544169, 0.8744936314155758]"
      ]
     },
     "execution_count": 19,
     "metadata": {},
     "output_type": "execute_result"
    }
   ],
   "source": [
    "clf.evaluate(testX,onehot_encoded_test,verbose=1)"
   ]
  },
  {
   "cell_type": "code",
   "execution_count": 20,
   "metadata": {},
   "outputs": [],
   "source": [
    "# save model and weights\n",
    "clf_json = clf.to_json()\n",
    "with open(\"NN_OwnVoice_36-20-4_inputs_uniBF.json\", \"w\") as json_file:\n",
    "    json_file.write(clf_json)\n",
    "    \n",
    "clf.save_weights(\"NN_OwnVoice_36-20-4_inputs_uniBF_weights.h5\")"
   ]
  },
  {
   "cell_type": "code",
   "execution_count": 21,
   "metadata": {},
   "outputs": [],
   "source": [
    "np.save('TestX_NN_OwnVoice_uniBF_separation',testX), np.save('TestY_NN_OwnVoice_uniBF_separation',testY),\n",
    "np.save('OneHot_testY_uniBF_separation',onehot_encoded_test)"
   ]
  },
  {
   "cell_type": "code",
   "execution_count": 22,
   "metadata": {},
   "outputs": [
    {
     "name": "stdout",
     "output_type": "stream",
     "text": [
      "177983/177983 [==============================] - 1s 7us/step\n"
     ]
    },
    {
     "data": {
      "text/plain": [
       "[0.0904881519544169, 0.8744936314155758]"
      ]
     },
     "execution_count": 22,
     "metadata": {},
     "output_type": "execute_result"
    }
   ],
   "source": [
    "clf.evaluate(testX,onehot_encoded_test,verbose=1)"
   ]
  },
  {
   "cell_type": "code",
   "execution_count": 38,
   "metadata": {},
   "outputs": [
    {
     "name": "stderr",
     "output_type": "stream",
     "text": [
      ".....................................................x...............................s...................................x....................................s...s......ss.ss..............................................................................ss....................ssssss...................................................................x....x.........................x......x.................................................ssss..................\n",
      "----------------------------------------------------------------------\n",
      "Ran 457 tests in 2.785s\n",
      "\n",
      "OK (skipped=19, expected failures=6)\n"
     ]
    },
    {
     "data": {
      "text/plain": [
       "<unittest.runner.TextTestResult run=457 errors=0 failures=0>"
      ]
     },
     "execution_count": 38,
     "metadata": {},
     "output_type": "execute_result"
    }
   ],
   "source": [
    "h5py.run_tests()"
   ]
  },
  {
   "cell_type": "code",
   "execution_count": 44,
   "metadata": {},
   "outputs": [
    {
     "data": {
      "text/plain": [
       "{'batch_size': 200,\n",
       " 'epochs': 150,\n",
       " 'steps': None,\n",
       " 'samples': 640737,\n",
       " 'verbose': 1,\n",
       " 'do_validation': True,\n",
       " 'metrics': ['loss',\n",
       "  'categorical_accuracy',\n",
       "  'val_loss',\n",
       "  'val_categorical_accuracy']}"
      ]
     },
     "execution_count": 44,
     "metadata": {},
     "output_type": "execute_result"
    }
   ],
   "source": [
    "history.params\n"
   ]
  },
  {
   "cell_type": "code",
   "execution_count": null,
   "metadata": {},
   "outputs": [],
   "source": []
  }
 ],
 "metadata": {
  "kernelspec": {
   "display_name": "Python 3",
   "language": "python",
   "name": "python3"
  },
  "language_info": {
   "codemirror_mode": {
    "name": "ipython",
    "version": 3
   },
   "file_extension": ".py",
   "mimetype": "text/x-python",
   "name": "python",
   "nbconvert_exporter": "python",
   "pygments_lexer": "ipython3",
   "version": "3.6.5"
  }
 },
 "nbformat": 4,
 "nbformat_minor": 2
}
