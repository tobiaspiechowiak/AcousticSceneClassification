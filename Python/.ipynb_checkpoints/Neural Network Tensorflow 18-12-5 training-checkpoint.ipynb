{
 "cells": [
  {
   "cell_type": "code",
   "execution_count": 1,
   "metadata": {},
   "outputs": [],
   "source": [
    "#load packages\n",
    "import numpy as np\n",
    "import tensorflow as tf\n",
    "from tensorflow import keras \n",
    "import pandas as pd\n",
    "import soundfile as sf\n"
   ]
  },
  {
   "cell_type": "code",
   "execution_count": 2,
   "metadata": {},
   "outputs": [],
   "source": [
    "#import data \n",
    "path = 'x:/Steering/Recordings/Processed/'\n",
    "data, fs = sf.read(path + 'ERB=2.wav')\n",
    "classes = pd.read_csv(path + 'Classes_2.csv')\n"
   ]
  },
  {
   "cell_type": "code",
   "execution_count": 3,
   "metadata": {},
   "outputs": [],
   "source": [
    "# front left and front right as predictors\n",
    "X = data[:len(data)-1,0*18:1*18] \n",
    "Y = classes.values[:,0] - 1"
   ]
  },
  {
   "cell_type": "code",
   "execution_count": 4,
   "metadata": {},
   "outputs": [],
   "source": [
    "#split into training and test set\n",
    "from sklearn.model_selection import train_test_split\n",
    "trainX, testX, trainY, testY = train_test_split(X,Y,test_size=0.2,random_state=0)"
   ]
  },
  {
   "cell_type": "code",
   "execution_count": 5,
   "metadata": {},
   "outputs": [],
   "source": [
    "onehot_encoded_train = keras.utils.to_categorical(trainY)\n",
    "onehot_encoded_test = keras.utils.to_categorical(testY)"
   ]
  },
  {
   "cell_type": "code",
   "execution_count": 6,
   "metadata": {},
   "outputs": [
    {
     "data": {
      "text/plain": [
       "array([[0., 0., 0., 1., 0.],\n",
       "       [0., 0., 0., 1., 0.],\n",
       "       [0., 0., 0., 1., 0.],\n",
       "       ...,\n",
       "       [0., 1., 0., 0., 0.],\n",
       "       [0., 0., 0., 1., 0.],\n",
       "       [0., 1., 0., 0., 0.]], dtype=float32)"
      ]
     },
     "execution_count": 6,
     "metadata": {},
     "output_type": "execute_result"
    }
   ],
   "source": [
    "onehot_encoded_test"
   ]
  },
  {
   "cell_type": "code",
   "execution_count": 7,
   "metadata": {},
   "outputs": [
    {
     "data": {
      "text/plain": [
       "array([[0., 0., 0., 1., 0.],\n",
       "       [0., 0., 0., 0., 1.],\n",
       "       [0., 0., 0., 0., 1.],\n",
       "       ...,\n",
       "       [0., 0., 0., 0., 1.],\n",
       "       [0., 1., 0., 0., 0.],\n",
       "       [0., 1., 0., 0., 0.]], dtype=float32)"
      ]
     },
     "execution_count": 7,
     "metadata": {},
     "output_type": "execute_result"
    }
   ],
   "source": [
    "onehot_encoded_train \n"
   ]
  },
  {
   "cell_type": "code",
   "execution_count": 8,
   "metadata": {},
   "outputs": [],
   "source": [
    "#DC removal \n",
    "trainX -= (np.mean(trainX, axis=0) + 1e-8)\n",
    "testX -= (np.mean(testX, axis=0) + 1e-8)"
   ]
  },
  {
   "cell_type": "code",
   "execution_count": 9,
   "metadata": {},
   "outputs": [],
   "source": [
    "clf = keras.Sequential()\n",
    "opt = keras.optimizers.Adam(lr=0.05)"
   ]
  },
  {
   "cell_type": "code",
   "execution_count": 10,
   "metadata": {},
   "outputs": [
    {
     "data": {
      "text/plain": [
       "(5, 18, array([[0., 0., 0., 1., 0.],\n",
       "        [0., 0., 0., 0., 1.],\n",
       "        [0., 0., 0., 0., 1.],\n",
       "        ...,\n",
       "        [0., 0., 0., 0., 1.],\n",
       "        [0., 1., 0., 0., 0.],\n",
       "        [0., 1., 0., 0., 0.]], dtype=float32))"
      ]
     },
     "execution_count": 10,
     "metadata": {},
     "output_type": "execute_result"
    }
   ],
   "source": [
    "onehot_encoded_train.shape[1], X.shape[1],onehot_encoded_train\n"
   ]
  },
  {
   "cell_type": "code",
   "execution_count": 11,
   "metadata": {},
   "outputs": [],
   "source": [
    "\n",
    "clf.add(keras.layers.Dense(\n",
    "  units = 12,\n",
    "  input_dim = trainX.shape[1], \n",
    "  activation = 'tanh'\n",
    "))\n",
    "\n",
    "clf.add(keras.layers.Dropout(0.2))\n",
    "\n",
    "clf.add(keras.layers.Dense(\n",
    "    units = onehot_encoded_train.shape[1],      \n",
    "    input_dim = 12,\n",
    "    activation = 'softmax'\n",
    "))\n",
    "\n",
    "#kernel_regularizer = keras.regularizers.l2(0.001),\n"
   ]
  },
  {
   "cell_type": "code",
   "execution_count": 12,
   "metadata": {},
   "outputs": [
    {
     "data": {
      "text/plain": [
       "(5, (848016, 18))"
      ]
     },
     "execution_count": 12,
     "metadata": {},
     "output_type": "execute_result"
    }
   ],
   "source": [
    "onehot_encoded_train.shape[1], trainX.shape"
   ]
  },
  {
   "cell_type": "code",
   "execution_count": 13,
   "metadata": {},
   "outputs": [],
   "source": [
    "clf.compile(loss='mean_squared_error',\n",
    "    optimizer=opt,\n",
    "           metrics=['categorical_accuracy'])"
   ]
  },
  {
   "cell_type": "code",
   "execution_count": 14,
   "metadata": {},
   "outputs": [
    {
     "name": "stdout",
     "output_type": "stream",
     "text": [
      "Train on 678412 samples, validate on 169604 samples\n",
      "Epoch 1/20\n",
      "678412/678412 [==============================] - 6s 9us/step - loss: 0.1485 - categorical_accuracy: 0.3843 - val_loss: 0.1471 - val_categorical_accuracy: 0.4097\n",
      "Epoch 2/20\n",
      "678412/678412 [==============================] - 8s 12us/step - loss: 0.1473 - categorical_accuracy: 0.4057 - val_loss: 0.1467 - val_categorical_accuracy: 0.4178\n",
      "Epoch 3/20\n",
      "678412/678412 [==============================] - 7s 10us/step - loss: 0.1469 - categorical_accuracy: 0.4097 - val_loss: 0.1461 - val_categorical_accuracy: 0.4146\n",
      "Epoch 4/20\n",
      "678412/678412 [==============================] - 6s 9us/step - loss: 0.1454 - categorical_accuracy: 0.4017 - val_loss: 0.1392 - val_categorical_accuracy: 0.4208\n",
      "Epoch 5/20\n",
      "678412/678412 [==============================] - 6s 8us/step - loss: 0.1397 - categorical_accuracy: 0.4088 - val_loss: 0.1332 - val_categorical_accuracy: 0.3983\n",
      "Epoch 6/20\n",
      "678412/678412 [==============================] - 6s 8us/step - loss: 0.1371 - categorical_accuracy: 0.4254 - val_loss: 0.1303 - val_categorical_accuracy: 0.4709\n",
      "Epoch 7/20\n",
      "678412/678412 [==============================] - 5s 8us/step - loss: 0.1366 - categorical_accuracy: 0.4296 - val_loss: 0.1320 - val_categorical_accuracy: 0.4557\n",
      "Epoch 8/20\n",
      "678412/678412 [==============================] - 6s 8us/step - loss: 0.1362 - categorical_accuracy: 0.4316 - val_loss: 0.1304 - val_categorical_accuracy: 0.4690\n",
      "Epoch 9/20\n",
      "678412/678412 [==============================] - 7s 10us/step - loss: 0.1359 - categorical_accuracy: 0.4333 - val_loss: 0.1303 - val_categorical_accuracy: 0.4872\n",
      "Epoch 10/20\n",
      "678412/678412 [==============================] - 6s 8us/step - loss: 0.1358 - categorical_accuracy: 0.4343 - val_loss: 0.1294 - val_categorical_accuracy: 0.4825\n",
      "Epoch 11/20\n",
      "678412/678412 [==============================] - 5s 8us/step - loss: 0.1357 - categorical_accuracy: 0.4347 - val_loss: 0.1286 - val_categorical_accuracy: 0.4772\n",
      "Epoch 12/20\n",
      "678412/678412 [==============================] - 6s 10us/step - loss: 0.1355 - categorical_accuracy: 0.4352 - val_loss: 0.1288 - val_categorical_accuracy: 0.4782\n",
      "Epoch 13/20\n",
      "678412/678412 [==============================] - 6s 9us/step - loss: 0.1353 - categorical_accuracy: 0.4362 - val_loss: 0.1283 - val_categorical_accuracy: 0.4879\n",
      "Epoch 14/20\n",
      "678412/678412 [==============================] - 6s 8us/step - loss: 0.1352 - categorical_accuracy: 0.4362 - val_loss: 0.1296 - val_categorical_accuracy: 0.4814\n",
      "Epoch 15/20\n",
      "678412/678412 [==============================] - 5s 8us/step - loss: 0.1350 - categorical_accuracy: 0.4366 - val_loss: 0.1304 - val_categorical_accuracy: 0.4620\n",
      "Epoch 16/20\n",
      "678412/678412 [==============================] - 6s 8us/step - loss: 0.1349 - categorical_accuracy: 0.4370 - val_loss: 0.1291 - val_categorical_accuracy: 0.4821\n",
      "Epoch 17/20\n",
      "678412/678412 [==============================] - 7s 10us/step - loss: 0.1348 - categorical_accuracy: 0.4370 - val_loss: 0.1283 - val_categorical_accuracy: 0.4695\n",
      "Epoch 18/20\n",
      "678412/678412 [==============================] - 8s 12us/step - loss: 0.1347 - categorical_accuracy: 0.4368 - val_loss: 0.1282 - val_categorical_accuracy: 0.4743\n",
      "Epoch 19/20\n",
      "678412/678412 [==============================] - 5s 8us/step - loss: 0.1344 - categorical_accuracy: 0.4392 - val_loss: 0.1336 - val_categorical_accuracy: 0.4616\n",
      "Epoch 20/20\n",
      "678412/678412 [==============================] - 6s 9us/step - loss: 0.1344 - categorical_accuracy: 0.4384 - val_loss: 0.1270 - val_categorical_accuracy: 0.4892\n"
     ]
    }
   ],
   "source": [
    "history = clf.fit(trainX,onehot_encoded_train,\n",
    "                 batch_size = 100, epochs = 20,\n",
    "                 verbose = 1,\n",
    "                 validation_split = 0.2)"
   ]
  },
  {
   "cell_type": "code",
   "execution_count": 15,
   "metadata": {},
   "outputs": [
    {
     "data": {
      "text/plain": [
       "(array([2, 4, 3, 3, 2, 2, 2, 2, 2, 3, 5, 2, 2, 2, 2, 4, 2, 4, 2, 2, 2, 2,\n",
       "        2, 2, 5, 2, 4, 2, 2, 2, 3, 3, 2, 2, 2, 2, 5, 3, 5, 4, 2, 2, 2, 2,\n",
       "        2, 4, 2, 2, 2, 2, 2, 2, 2, 4, 2, 5, 5, 4, 2, 5, 2, 5, 2, 4, 3, 2,\n",
       "        2, 2, 4, 2, 2, 4, 2, 2, 4, 2, 4, 4, 2, 4, 2, 2, 3, 5, 2, 5, 4, 2,\n",
       "        2, 2, 2, 2, 2, 4, 4, 2, 5, 4, 5], dtype=int64),\n",
       " array([3, 3, 2, 2, 1, 0, 3, 1, 4, 2, 3, 1, 2, 1, 4, 3, 1, 0, 4, 1, 3, 1,\n",
       "        1, 1, 1, 3, 0, 3, 4, 3, 2, 4, 3, 3, 1, 3, 2, 2, 2, 3, 0, 1, 1, 1,\n",
       "        0, 3, 1, 2, 4, 4, 3, 1, 1, 3, 1, 2, 4, 0, 3, 2, 0, 4, 1, 4, 2, 3,\n",
       "        1, 3, 3, 1, 0, 3, 3, 3, 3, 1, 2, 3, 1, 0, 1, 1, 4, 2, 3, 4, 1, 3,\n",
       "        0, 1, 3, 3, 1, 0, 3, 3, 4, 3, 3], dtype=int64))"
      ]
     },
     "execution_count": 15,
     "metadata": {},
     "output_type": "execute_result"
    }
   ],
   "source": [
    "clf.predict_classes(testX[1:100,:]) + 1,testY[1:100]"
   ]
  },
  {
   "cell_type": "code",
   "execution_count": 16,
   "metadata": {},
   "outputs": [
    {
     "name": "stdout",
     "output_type": "stream",
     "text": [
      "212005/212005 [==============================] - 2s 9us/step\n"
     ]
    },
    {
     "data": {
      "text/plain": [
       "[0.12729635664613817, 0.48803094266700886]"
      ]
     },
     "execution_count": 16,
     "metadata": {},
     "output_type": "execute_result"
    }
   ],
   "source": [
    "clf.evaluate(testX,onehot_encoded_test,verbose=1)"
   ]
  },
  {
   "cell_type": "code",
   "execution_count": 17,
   "metadata": {},
   "outputs": [],
   "source": [
    "# saving the model \n",
    "# save model and weights\n",
    "#clf_json = clf.to_json()\n",
    "#with open(\"NN_18-12-5.json\", \"w\") as json_file:\n",
    " #   json_file.write(clf_json)\n",
    "    \n",
    "#clf.save_weights(\"NN_18-12-5_weights.h5\")"
   ]
  },
  {
   "cell_type": "code",
   "execution_count": 18,
   "metadata": {},
   "outputs": [],
   "source": [
    "#np.save('TestX_NN_18-12-5',testX), np.save('TestY_NN_18-12-5',testY),\n",
    "#np.save('OneHot_testY_18-12-5',onehot_encoded_test)"
   ]
  },
  {
   "cell_type": "code",
   "execution_count": 19,
   "metadata": {},
   "outputs": [],
   "source": [
    "import matplotlib.pyplot as plt\n",
    "\n",
    "plt.plot(history.history['val_categorical_accuracy'])\n",
    "plt.plot(history.history['categorical_accuracy'])\n",
    "plt.title('Model accuracy')\n",
    "plt.ylabel('Accuracy')\n",
    "plt.xlabel('Epochs')\n",
    "plt.axis([0, 20, 0.3, 1])\n",
    "plt.legend(['Validation', 'Training'], loc='upper left')\n",
    "plt.savefig('Accuracy_left_ERB=2.png',dpi=100)"
   ]
  },
  {
   "cell_type": "code",
   "execution_count": 20,
   "metadata": {},
   "outputs": [],
   "source": [
    "#saving weights\n",
    "weights_first_layer = clf.layers[0].get_weights()[0]\n",
    "biases_first_layer = clf.layers[0].get_weights()[1]\n",
    "\n",
    "weights_second_layer = clf.layers[2].get_weights()[0]\n",
    "biases_second_layer = clf.layers[2].get_weights()[1]\n",
    "\n",
    "\n",
    "weights_first_layer = np.vstack([biases_first_layer, weights_first_layer])\n",
    "weights_second_layer = np.vstack([biases_second_layer, weights_second_layer])\n",
    "\n",
    "\n",
    "weights_first_layer_norm = weights_first_layer / abs(weights_first_layer).max()\n",
    "#biases_first_layer_norm = biases_first_layer / abs(biases_first_layer).max()\n",
    "\n",
    "weights_second_layer_norm = weights_second_layer / abs(weights_second_layer).max()\n",
    "#biases_second_layer_norm = biases_second_layer / abs(biases_second_layer).max()\n",
    "\n",
    "\n",
    "weights_first_layer_norm.shape, weights_second_layer_norm.shape\n",
    "\n",
    "abs(weights_first_layer).max(), abs(weights_second_layer).max()\n",
    "\n",
    "np.savetxt('weights_first_layer_norm_NN_18-12-5.txt',weights_first_layer_norm,delimiter= ',')\n",
    "np.savetxt('weights_second_layer_norm_NN_18-12-5.txt',weights_second_layer_norm,delimiter= ',')\n"
   ]
  },
  {
   "cell_type": "code",
   "execution_count": 22,
   "metadata": {},
   "outputs": [
    {
     "ename": "IndexError",
     "evalue": "index 5 is out of bounds for axis 0 with size 5",
     "output_type": "error",
     "traceback": [
      "\u001b[1;31m---------------------------------------------------------------------------\u001b[0m",
      "\u001b[1;31mIndexError\u001b[0m                                Traceback (most recent call last)",
      "\u001b[1;32m<ipython-input-22-09602a56066e>\u001b[0m in \u001b[0;36m<module>\u001b[1;34m()\u001b[0m\n\u001b[0;32m      9\u001b[0m \u001b[1;33m\u001b[0m\u001b[0m\n\u001b[0;32m     10\u001b[0m \u001b[1;32mfor\u001b[0m \u001b[0midx\u001b[0m \u001b[1;32min\u001b[0m \u001b[0mrange\u001b[0m\u001b[1;33m(\u001b[0m\u001b[1;36m5\u001b[0m\u001b[1;33m)\u001b[0m\u001b[1;33m:\u001b[0m\u001b[1;33m\u001b[0m\u001b[0m\n\u001b[1;32m---> 11\u001b[1;33m     \u001b[0mcfm_norm\u001b[0m\u001b[1;33m[\u001b[0m\u001b[0midx\u001b[0m\u001b[1;33m,\u001b[0m\u001b[1;33m:\u001b[0m\u001b[1;33m]\u001b[0m \u001b[1;33m=\u001b[0m \u001b[0mcfm\u001b[0m\u001b[1;33m[\u001b[0m\u001b[0midx\u001b[0m\u001b[1;33m,\u001b[0m\u001b[1;33m:\u001b[0m\u001b[1;33m]\u001b[0m \u001b[1;33m/\u001b[0m \u001b[0msum\u001b[0m\u001b[1;33m(\u001b[0m\u001b[0mcfm\u001b[0m\u001b[1;33m[\u001b[0m\u001b[0midx\u001b[0m\u001b[1;33m+\u001b[0m\u001b[1;36m1\u001b[0m\u001b[1;33m,\u001b[0m\u001b[1;33m:\u001b[0m\u001b[1;33m-\u001b[0m\u001b[1;36m1\u001b[0m\u001b[1;33m]\u001b[0m\u001b[1;33m)\u001b[0m \u001b[1;31m#len(testY[testY == idx + 1])\u001b[0m\u001b[1;33m\u001b[0m\u001b[0m\n\u001b[0m\u001b[0;32m     12\u001b[0m \u001b[1;33m\u001b[0m\u001b[0m\n\u001b[0;32m     13\u001b[0m \u001b[0mcfm_norm\u001b[0m \u001b[1;33m=\u001b[0m \u001b[0mnp\u001b[0m\u001b[1;33m.\u001b[0m\u001b[0maround\u001b[0m\u001b[1;33m(\u001b[0m\u001b[0mcfm_norm\u001b[0m\u001b[1;33m,\u001b[0m\u001b[0mdecimals\u001b[0m\u001b[1;33m=\u001b[0m\u001b[1;36m3\u001b[0m\u001b[1;33m)\u001b[0m\u001b[1;33m\u001b[0m\u001b[0m\n",
      "\u001b[1;31mIndexError\u001b[0m: index 5 is out of bounds for axis 0 with size 5"
     ]
    }
   ],
   "source": [
    "#confusion matrix \n",
    "from sklearn.metrics import confusion_matrix\n",
    "import matplotlib.pyplot as plt\n",
    "\n",
    "cfm = confusion_matrix(testY,clf.predict_classes(testX)) \n",
    "\n",
    "a = [0 for x in range(5)]\n",
    "cfm_norm = np.zeros((5,5))#[[0 for x in range(5)] for y in range(5)]\n",
    "\n",
    "for idx in range(5):\n",
    "    cfm_norm[idx,:] = cfm[idx+1,:-1] / sum(cfm[idx+1,:-1]) #len(testY[testY == idx + 1])      \n",
    "\n",
    "cfm_norm = np.around(cfm_norm,decimals=3)\n",
    "\n",
    "#nicer confusion matrix\n",
    "fig, ax = plt.subplots(figsize = (6, 6))\n",
    "ax.matshow(cfm_norm,cmap=plt.cm.Blues,alpha=0.7)\n",
    "\n",
    "for i in range(cfm_norm.shape[0]):\n",
    "    for j in range(cfm_norm.shape[1]):\n",
    "        ax.text(x=j,y=i, s=cfm_norm[i,j],va='center', ha= 'center')\n",
    "\n",
    "ax.set_xticks([0,1,2,3,4])\n",
    "ax.set_yticks([0,1,2,3,4])\n",
    "ax.set_xticklabels(['Babble','Own-voice','Car','Speech','Traffic'])\n",
    "ax.set_yticklabels(['Babble','Own-voice','Car','Speech','Traffic'])\n",
    "ax.yaxis.set_label_coords(1.08,0.5)\n",
    "ax.xaxis.set_label_coords(0.51,-0.04)\n",
    "ax.set_xlabel('Predicted Class',fontsize=15)\n",
    "ax.set_ylabel('True Class',fontsize=15)\n",
    "fig.savefig('Conf_Matrix_left_ERB=2.png',dpi=100)\n"
   ]
  },
  {
   "cell_type": "code",
   "execution_count": null,
   "metadata": {},
   "outputs": [],
   "source": []
  }
 ],
 "metadata": {
  "kernelspec": {
   "display_name": "Python 3",
   "language": "python",
   "name": "python3"
  },
  "language_info": {
   "codemirror_mode": {
    "name": "ipython",
    "version": 3
   },
   "file_extension": ".py",
   "mimetype": "text/x-python",
   "name": "python",
   "nbconvert_exporter": "python",
   "pygments_lexer": "ipython3",
   "version": "3.6.5"
  }
 },
 "nbformat": 4,
 "nbformat_minor": 2
}
