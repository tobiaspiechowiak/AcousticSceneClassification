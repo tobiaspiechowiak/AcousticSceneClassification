{
 "cells": [
  {
   "cell_type": "code",
   "execution_count": 1,
   "metadata": {},
   "outputs": [],
   "source": [
    "#load packages\n",
    "import numpy as np\n",
    "import tensorflow as tf\n",
    "from tensorflow import keras \n",
    "import pandas as pd\n",
    "import soundfile as sf\n"
   ]
  },
  {
   "cell_type": "code",
   "execution_count": 2,
   "metadata": {},
   "outputs": [],
   "source": [
    "#import data \n",
    "path = 'x:/Steering/Recordings/Processed/'\n",
    "data, fs = sf.read(path + 'ERB=2.wav')\n",
    "classes = pd.read_csv(path + 'Classes_2.csv')\n"
   ]
  },
  {
   "cell_type": "code",
   "execution_count": 3,
   "metadata": {},
   "outputs": [],
   "source": [
    "X = data[:len(data)-1,:data.shape[1]] #775361\n",
    "Y = classes.values[:,0] - 1"
   ]
  },
  {
   "cell_type": "code",
   "execution_count": 4,
   "metadata": {},
   "outputs": [
    {
     "data": {
      "text/plain": [
       "array([0, 0, 0, ..., 4, 4, 4], dtype=int64)"
      ]
     },
     "execution_count": 4,
     "metadata": {},
     "output_type": "execute_result"
    }
   ],
   "source": [
    "Y"
   ]
  },
  {
   "cell_type": "code",
   "execution_count": 5,
   "metadata": {},
   "outputs": [],
   "source": [
    "timeSteps = 60;\n",
    "features = X.shape[1];\n",
    "#reshape the taining set to (samples, timeSteps, features)\n",
    "tmp = X[:int(len(X)/timeSteps)*timeSteps]\n",
    "X = tmp.reshape(int(len(tmp)/timeSteps),timeSteps,features)\n",
    "\n",
    "tmp = Y[:int(len(Y)/timeSteps)*timeSteps]\n",
    "Y = tmp.reshape(int(len(tmp)/timeSteps),timeSteps,1)"
   ]
  },
  {
   "cell_type": "code",
   "execution_count": 6,
   "metadata": {},
   "outputs": [],
   "source": [
    "#split into training and test set\n",
    "from sklearn.model_selection import train_test_split\n",
    "trainX, testX, trainY, testY = train_test_split(X,Y,test_size=0.2,random_state=0)"
   ]
  },
  {
   "cell_type": "code",
   "execution_count": 7,
   "metadata": {},
   "outputs": [
    {
     "data": {
      "text/plain": [
       "(14133, 60, 1)"
      ]
     },
     "execution_count": 7,
     "metadata": {},
     "output_type": "execute_result"
    }
   ],
   "source": [
    "trainY.shape"
   ]
  },
  {
   "cell_type": "code",
   "execution_count": 8,
   "metadata": {},
   "outputs": [],
   "source": [
    "trainY_OHC = keras.utils.to_categorical(trainY)\n",
    "testY_OHC = keras.utils.to_categorical(testY)"
   ]
  },
  {
   "cell_type": "code",
   "execution_count": 9,
   "metadata": {},
   "outputs": [
    {
     "data": {
      "text/plain": [
       "(14133, 60, 5)"
      ]
     },
     "execution_count": 9,
     "metadata": {},
     "output_type": "execute_result"
    }
   ],
   "source": [
    "trainY_OHC.shape"
   ]
  },
  {
   "cell_type": "code",
   "execution_count": 10,
   "metadata": {},
   "outputs": [],
   "source": [
    "#DC removal \n",
    "trainX -= (np.mean(trainX, axis=0) + 1e-8)\n",
    "testX -= (np.mean(testX, axis=0) + 1e-8)"
   ]
  },
  {
   "cell_type": "code",
   "execution_count": 11,
   "metadata": {},
   "outputs": [
    {
     "name": "stdout",
     "output_type": "stream",
     "text": [
      "(14133, 60, 108) (14133, 60, 5)\n"
     ]
    }
   ],
   "source": [
    "print(trainX.shape, trainY_OHC.shape) "
   ]
  },
  {
   "cell_type": "code",
   "execution_count": 12,
   "metadata": {},
   "outputs": [
    {
     "data": {
      "text/plain": [
       "((14133, 60, 5), (14133, 60, 108))"
      ]
     },
     "execution_count": 12,
     "metadata": {},
     "output_type": "execute_result"
    }
   ],
   "source": [
    "trainY_OHC.shape, trainX.shape"
   ]
  },
  {
   "cell_type": "code",
   "execution_count": 14,
   "metadata": {},
   "outputs": [],
   "source": [
    "model = keras.Sequential()\n",
    "opt = keras.optimizers.Adam(lr=0.01)"
   ]
  },
  {
   "cell_type": "code",
   "execution_count": 15,
   "metadata": {},
   "outputs": [],
   "source": [
    "#design the net\n",
    "model.add(keras.layers.GRU(56,input_shape = (timeSteps, features),activation='tanh',\n",
    "                            return_sequences=True,dropout = 0.2))\n",
    "model.add(keras.layers.TimeDistributed(keras.layers.Dense(5,activation='softmax',\n",
    "                                                          kernel_regularizer=keras.regularizers.l2(0.001))))\n"
   ]
  },
  {
   "cell_type": "code",
   "execution_count": 16,
   "metadata": {},
   "outputs": [],
   "source": [
    "#compiling\n",
    "model.compile(loss='mean_squared_error',optimizer=opt ,metrics=['accuracy'])"
   ]
  },
  {
   "cell_type": "code",
   "execution_count": 17,
   "metadata": {},
   "outputs": [
    {
     "name": "stdout",
     "output_type": "stream",
     "text": [
      "Train on 11306 samples, validate on 2827 samples\n",
      "Epoch 1/20\n",
      "11306/11306 [==============================] - 10s 925us/step - loss: 0.1531 - acc: 0.3409 - val_loss: 0.1449 - val_acc: 0.4040\n",
      "Epoch 2/20\n",
      "11306/11306 [==============================] - 10s 885us/step - loss: 0.1361 - acc: 0.4143 - val_loss: 0.1390 - val_acc: 0.4229\n",
      "Epoch 3/20\n",
      "11306/11306 [==============================] - 10s 864us/step - loss: 0.1182 - acc: 0.5339 - val_loss: 0.1035 - val_acc: 0.6216\n",
      "Epoch 4/20\n",
      "11306/11306 [==============================] - 10s 882us/step - loss: 0.0944 - acc: 0.6660 - val_loss: 0.0846 - val_acc: 0.6951\n",
      "Epoch 5/20\n",
      "11306/11306 [==============================] - 10s 889us/step - loss: 0.0863 - acc: 0.6966 - val_loss: 0.0839 - val_acc: 0.7047\n",
      "Epoch 6/20\n",
      "11306/11306 [==============================] - 10s 915us/step - loss: 0.0827 - acc: 0.7111 - val_loss: 0.0795 - val_acc: 0.7323\n",
      "Epoch 7/20\n",
      "11306/11306 [==============================] - 10s 914us/step - loss: 0.0775 - acc: 0.7409 - val_loss: 0.0733 - val_acc: 0.7649\n",
      "Epoch 8/20\n",
      "11306/11306 [==============================] - 10s 916us/step - loss: 0.0717 - acc: 0.7655 - val_loss: 0.0679 - val_acc: 0.7843\n",
      "Epoch 9/20\n",
      "11306/11306 [==============================] - 11s 975us/step - loss: 0.0704 - acc: 0.7710 - val_loss: 0.0630 - val_acc: 0.7979\n",
      "Epoch 10/20\n",
      "11306/11306 [==============================] - 11s 987us/step - loss: 0.0679 - acc: 0.7782 - val_loss: 0.0652 - val_acc: 0.7935\n",
      "Epoch 11/20\n",
      "11306/11306 [==============================] - 11s 999us/step - loss: 0.0654 - acc: 0.7890 - val_loss: 0.0633 - val_acc: 0.7962\n",
      "Epoch 12/20\n",
      "11306/11306 [==============================] - 11s 994us/step - loss: 0.0651 - acc: 0.7892 - val_loss: 0.0605 - val_acc: 0.8069\n",
      "Epoch 13/20\n",
      "11306/11306 [==============================] - 11s 961us/step - loss: 0.0657 - acc: 0.7868 - val_loss: 0.0598 - val_acc: 0.8100\n",
      "Epoch 14/20\n",
      "11306/11306 [==============================] - 11s 974us/step - loss: 0.0646 - acc: 0.7895 - val_loss: 0.0587 - val_acc: 0.8172\n",
      "Epoch 15/20\n",
      "11306/11306 [==============================] - 11s 968us/step - loss: 0.0636 - acc: 0.7964 - val_loss: 0.0586 - val_acc: 0.8220\n",
      "Epoch 16/20\n",
      "11306/11306 [==============================] - 11s 941us/step - loss: 0.0625 - acc: 0.8037 - val_loss: 0.0582 - val_acc: 0.8179\n",
      "Epoch 17/20\n",
      "11306/11306 [==============================] - 11s 952us/step - loss: 0.0610 - acc: 0.8066 - val_loss: 0.0588 - val_acc: 0.8155\n",
      "Epoch 18/20\n",
      "11306/11306 [==============================] - 11s 969us/step - loss: 0.0601 - acc: 0.8081 - val_loss: 0.0555 - val_acc: 0.8303\n",
      "Epoch 19/20\n",
      "11306/11306 [==============================] - 10s 924us/step - loss: 0.0602 - acc: 0.8089 - val_loss: 0.0558 - val_acc: 0.8253\n",
      "Epoch 20/20\n",
      "11306/11306 [==============================] - 11s 958us/step - loss: 0.0598 - acc: 0.8104 - val_loss: 0.0901 - val_acc: 0.7215\n"
     ]
    }
   ],
   "source": [
    "#fit model\n",
    "history = model.fit(trainX,trainY_OHC, epochs = 20, batch_size=100,validation_split=0.2)"
   ]
  },
  {
   "cell_type": "code",
   "execution_count": 18,
   "metadata": {},
   "outputs": [
    {
     "name": "stdout",
     "output_type": "stream",
     "text": [
      "3534/3534 [==============================] - 2s 461us/step\n"
     ]
    },
    {
     "data": {
      "text/plain": [
       "[0.09835226459393882, 0.695208453970166]"
      ]
     },
     "execution_count": 18,
     "metadata": {},
     "output_type": "execute_result"
    }
   ],
   "source": [
    "model.evaluate(testX,testY_OHC,verbose=1)"
   ]
  },
  {
   "cell_type": "code",
   "execution_count": 19,
   "metadata": {},
   "outputs": [],
   "source": [
    "# save model and weights\n",
    "#model_json = model.to_json()\n",
    "#with open(\"GRU_56-60-5.json\", \"w\") as json_file:\n",
    "#    json_file.write(model_json)\n",
    "    \n",
    "#model.save_weights(\"GRU_56-60-5.h5\")"
   ]
  },
  {
   "cell_type": "code",
   "execution_count": 20,
   "metadata": {},
   "outputs": [],
   "source": [
    "#np.save('TestX_GRU_56-60-5',testX), np.save('TestY_GRU_56-60-5',testY),\n",
    "#np.save('OneHot_GRU_56-60-5',testY_OHC)"
   ]
  },
  {
   "cell_type": "code",
   "execution_count": 21,
   "metadata": {},
   "outputs": [],
   "source": [
    "import matplotlib.pyplot as plt\n",
    "\n",
    "plt.plot(history.history['val_acc'])\n",
    "plt.plot(history.history['acc'])\n",
    "plt.title('Model accuracy')\n",
    "plt.ylabel('Accuracy')\n",
    "plt.xlabel('Epochs')\n",
    "plt.legend(['Validation', 'Training'], loc='upper left')\n",
    "plt.savefig('Accuracy_GRU.png',dpi=150)"
   ]
  },
  {
   "cell_type": "code",
   "execution_count": 31,
   "metadata": {},
   "outputs": [
    {
     "data": {
      "image/png": "[encoded data removed]",
      "text/plain": [
       "<Figure size 432x432 with 1 Axes>"
      ]
     },
     "metadata": {},
     "output_type": "display_data"
    }
   ],
   "source": [
    "#confusion matrix \n",
    "from sklearn.metrics import confusion_matrix\n",
    "import matplotlib.pyplot as plt\n",
    "\n",
    "testY_1 = testY.reshape(3534*60,1)\n",
    "testX_1 = model.predict_classes(testX).reshape(3534*60)\n",
    "\n",
    "cfm = confusion_matrix(testY_1,testX_1)\n",
    "\n",
    "a = [0 for x in range(5)]\n",
    "cfm_norm = np.zeros((5,5))#[[0 for x in range(5)] for y in range(5)]\n",
    "\n",
    "for idx in range(5):\n",
    "    cfm_norm[idx,:] = cfm[idx,:] / sum(cfm[idx,:]) #len(testY[testY == idx + 1])      \n",
    "\n",
    "cfm_norm = np.around(cfm_norm,decimals=3)\n",
    "\n",
    "#nicer confusion matrix\n",
    "fig, ax = plt.subplots(figsize = (6, 6))\n",
    "ax.matshow(cfm_norm,cmap=plt.cm.Blues,alpha=0.7)\n",
    "\n",
    "for i in range(cfm_norm.shape[0]):\n",
    "    for j in range(cfm_norm.shape[1]):\n",
    "        ax.text(x=j,y=i, s=cfm_norm[i,j],va='center', ha= 'center')\n",
    "\n",
    "ax.set_xticks([0,1,2,3,4])\n",
    "ax.set_yticks([0,1,2,3,4])\n",
    "ax.set_xticklabels(['Babble','Own-voice','Car','Speech','Traffic'])\n",
    "ax.set_yticklabels(['Babble','Own-voice','Car','Speech','Traffic'])\n",
    "ax.yaxis.set_label_coords(1.08,0.5)\n",
    "ax.xaxis.set_label_coords(0.51,-0.04)\n",
    "ax.set_xlabel('Predicted Class',fontsize=15)\n",
    "ax.set_ylabel('True Class',fontsize=15)\n",
    "fig.savefig('Conf_Matrix_left_right_ERB=2.png',dpi=100)\n"
   ]
  },
  {
   "cell_type": "code",
   "execution_count": 32,
   "metadata": {},
   "outputs": [
    {
     "data": {
      "text/plain": [
       "(0.8944211157768447, 0.7360543456543457, 0.06598474131467133)"
      ]
     },
     "execution_count": 32,
     "metadata": {},
     "output_type": "execute_result"
    }
   ],
   "source": [
    "FP = cfm_norm.sum(axis=0) - np.diag(cfm_norm)  \n",
    "FN = cfm_norm.sum(axis=1) - np.diag(cfm_norm)\n",
    "TP = np.diag(cfm_norm)\n",
    "TN = cfm_norm.sum() - (FP + FN + TP)\n",
    "\n",
    "# Sensitivity, hit rate, recall, or true positive rate\n",
    "TPR = TP/(TP+FN)\n",
    "# Fall out or false positive rate\n",
    "FPR = FP/(FP+TN)\n",
    "\n",
    "# Overall accuracy\n",
    "ACC = (TP+TN)/(TP+FP+FN+TN)\n",
    "\n",
    "ACC.mean(),TPR.mean(), FPR.mean()"
   ]
  },
  {
   "cell_type": "code",
   "execution_count": null,
   "metadata": {},
   "outputs": [],
   "source": []
  }
 ],
 "metadata": {
  "kernelspec": {
   "display_name": "Python 3",
   "language": "python",
   "name": "python3"
  },
  "language_info": {
   "codemirror_mode": {
    "name": "ipython",
    "version": 3
   },
   "file_extension": ".py",
   "mimetype": "text/x-python",
   "name": "python",
   "nbconvert_exporter": "python",
   "pygments_lexer": "ipython3",
   "version": "3.6.5"
  }
 },
 "nbformat": 4,
 "nbformat_minor": 2
}
