{
 "cells": [
  {
   "cell_type": "code",
   "execution_count": 1,
   "metadata": {},
   "outputs": [],
   "source": [
    "#load packages\n",
    "import numpy as np\n",
    "import tensorflow as tf\n",
    "from tensorflow import keras \n",
    "import pandas as pd\n",
    "import soundfile as sf\n",
    "import os\n",
    "import h5py"
   ]
  },
  {
   "cell_type": "code",
   "execution_count": 2,
   "metadata": {},
   "outputs": [],
   "source": [
    "#import data \n",
    "path = 'e:/Processed/'    \n",
    "#'x:/Steering/Recordings/Processed/'\n",
    "data, fs = sf.read(path + 'ERB=2_MF_bilBF.wav')\n",
    "classes = pd.read_csv(path + 'Classes_MF_bilBF.csv')"
   ]
  },
  {
   "cell_type": "code",
   "execution_count": 3,
   "metadata": {},
   "outputs": [],
   "source": [
    "X = data[:len(data)-1,:data.shape[1]] \n",
    "Y = classes.values[:,0]"
   ]
  },
  {
   "cell_type": "code",
   "execution_count": 4,
   "metadata": {},
   "outputs": [
    {
     "name": "stdout",
     "output_type": "stream",
     "text": [
      "979352 979352 (979352, 90)\n"
     ]
    }
   ],
   "source": [
    "print(len(Y),len(X),X.shape)"
   ]
  },
  {
   "cell_type": "code",
   "execution_count": 5,
   "metadata": {},
   "outputs": [],
   "source": [
    "#split into training and test set\n",
    "from sklearn.model_selection import train_test_split\n",
    "trainX, testX, trainY, testY = train_test_split(X,Y,test_size=0.2,random_state=0,stratify=classes)"
   ]
  },
  {
   "cell_type": "code",
   "execution_count": 6,
   "metadata": {},
   "outputs": [],
   "source": [
    "#do one-hot encoding\n",
    "from sklearn.preprocessing import OneHotEncoder \n",
    "from sklearn.preprocessing import LabelEncoder\n",
    "\n",
    "enc = OneHotEncoder(sparse=False)"
   ]
  },
  {
   "cell_type": "code",
   "execution_count": 7,
   "metadata": {},
   "outputs": [
    {
     "name": "stderr",
     "output_type": "stream",
     "text": [
      "c:\\users\\tpiechowiak\\appdata\\local\\programs\\python\\python36\\lib\\site-packages\\sklearn\\preprocessing\\_encoders.py:363: FutureWarning: The handling of integer data will change in version 0.22. Currently, the categories are determined based on the range [0, max(values)], while in the future they will be determined based on the unique values.\n",
      "If you want the future behaviour and silence this warning, you can specify \"categories='auto'\".\n",
      "In case you used a LabelEncoder before this OneHotEncoder to convert the categories to integers, then you can now use the OneHotEncoder directly.\n",
      "  warnings.warn(msg, FutureWarning)\n",
      "c:\\users\\tpiechowiak\\appdata\\local\\programs\\python\\python36\\lib\\site-packages\\sklearn\\preprocessing\\_encoders.py:363: FutureWarning: The handling of integer data will change in version 0.22. Currently, the categories are determined based on the range [0, max(values)], while in the future they will be determined based on the unique values.\n",
      "If you want the future behaviour and silence this warning, you can specify \"categories='auto'\".\n",
      "In case you used a LabelEncoder before this OneHotEncoder to convert the categories to integers, then you can now use the OneHotEncoder directly.\n",
      "  warnings.warn(msg, FutureWarning)\n"
     ]
    }
   ],
   "source": [
    "integer_encoded_train = trainY.reshape(len(trainY), 1)\n",
    "onehot_encoded_train = enc.fit_transform(integer_encoded_train)\n",
    "\n",
    "integer_encoded_test = testY.reshape(len(testY), 1)\n",
    "onehot_encoded_test = enc.fit_transform(integer_encoded_test)"
   ]
  },
  {
   "cell_type": "code",
   "execution_count": 8,
   "metadata": {},
   "outputs": [
    {
     "data": {
      "text/plain": [
       "array([[1., 0.],\n",
       "       [1., 0.],\n",
       "       [1., 0.],\n",
       "       [0., 1.],\n",
       "       [1., 0.],\n",
       "       [0., 1.],\n",
       "       [1., 0.],\n",
       "       [0., 1.],\n",
       "       [1., 0.],\n",
       "       [1., 0.]])"
      ]
     },
     "execution_count": 8,
     "metadata": {},
     "output_type": "execute_result"
    }
   ],
   "source": [
    "onehot_encoded_train[:10,:]"
   ]
  },
  {
   "cell_type": "code",
   "execution_count": 9,
   "metadata": {},
   "outputs": [],
   "source": [
    "#DC removal \n",
    "trainX -= (np.mean(trainX, axis=0) + 1e-8)\n",
    "testX -= (np.mean(testX, axis=0) + 1e-8)"
   ]
  },
  {
   "cell_type": "code",
   "execution_count": 10,
   "metadata": {},
   "outputs": [],
   "source": [
    "clf = keras.Sequential()\n",
    "opt = keras.optimizers.Adam(lr=0.01)"
   ]
  },
  {
   "cell_type": "code",
   "execution_count": 11,
   "metadata": {},
   "outputs": [],
   "source": [
    "\n",
    "clf.add(keras.layers.Dense(\n",
    "  units = 46,\n",
    "  input_dim = trainX.shape[1],    \n",
    "  activation = 'tanh'\n",
    "))\n",
    "clf.add(keras.layers.Dropout(0.5))\n",
    "\n",
    "clf.add(keras.layers.Dense(\n",
    "    units = onehot_encoded_train.shape[1],  \n",
    "    input_dim = 46,\n",
    "    activation = 'softmax'\n",
    "))\n"
   ]
  },
  {
   "cell_type": "code",
   "execution_count": 12,
   "metadata": {},
   "outputs": [
    {
     "data": {
      "text/plain": [
       "(2, 90)"
      ]
     },
     "execution_count": 12,
     "metadata": {},
     "output_type": "execute_result"
    }
   ],
   "source": [
    "onehot_encoded_train.shape[1],trainX.shape[1]"
   ]
  },
  {
   "cell_type": "code",
   "execution_count": 13,
   "metadata": {},
   "outputs": [],
   "source": [
    "clf.compile(loss='mean_squared_error',\n",
    "    optimizer=opt,\n",
    "           metrics=['categorical_accuracy'])"
   ]
  },
  {
   "cell_type": "code",
   "execution_count": 14,
   "metadata": {},
   "outputs": [
    {
     "name": "stdout",
     "output_type": "stream",
     "text": [
      "Train on 626784 samples, validate on 156697 samples\n",
      "Epoch 1/20\n",
      "626784/626784 [==============================] - 11s 17us/step - loss: 0.1096 - categorical_accuracy: 0.8488 - val_loss: 0.0782 - val_categorical_accuracy: 0.8917\n",
      "Epoch 2/20\n",
      "626784/626784 [==============================] - 10s 17us/step - loss: 0.0685 - categorical_accuracy: 0.9053 - val_loss: 0.0605 - val_categorical_accuracy: 0.9170\n",
      "Epoch 3/20\n",
      "626784/626784 [==============================] - 10s 16us/step - loss: 0.0559 - categorical_accuracy: 0.9237 - val_loss: 0.0517 - val_categorical_accuracy: 0.9295\n",
      "Epoch 4/20\n",
      "626784/626784 [==============================] - 10s 16us/step - loss: 0.0505 - categorical_accuracy: 0.9315 - val_loss: 0.0495 - val_categorical_accuracy: 0.9324\n",
      "Epoch 5/20\n",
      "626784/626784 [==============================] - 10s 16us/step - loss: 0.0477 - categorical_accuracy: 0.9361 - val_loss: 0.0463 - val_categorical_accuracy: 0.9378\n",
      "Epoch 6/20\n",
      "626784/626784 [==============================] - 10s 16us/step - loss: 0.0460 - categorical_accuracy: 0.9387 - val_loss: 0.0461 - val_categorical_accuracy: 0.9389\n",
      "Epoch 7/20\n",
      "626784/626784 [==============================] - 10s 15us/step - loss: 0.0447 - categorical_accuracy: 0.9404 - val_loss: 0.0446 - val_categorical_accuracy: 0.9415\n",
      "Epoch 8/20\n",
      "626784/626784 [==============================] - 10s 16us/step - loss: 0.0437 - categorical_accuracy: 0.9425 - val_loss: 0.0431 - val_categorical_accuracy: 0.9434\n",
      "Epoch 9/20\n",
      "626784/626784 [==============================] - 10s 16us/step - loss: 0.0429 - categorical_accuracy: 0.9437 - val_loss: 0.0423 - val_categorical_accuracy: 0.9446\n",
      "Epoch 10/20\n",
      "626784/626784 [==============================] - 10s 15us/step - loss: 0.0424 - categorical_accuracy: 0.9444 - val_loss: 0.0429 - val_categorical_accuracy: 0.9432\n",
      "Epoch 11/20\n",
      "626784/626784 [==============================] - 10s 15us/step - loss: 0.0419 - categorical_accuracy: 0.9454 - val_loss: 0.0412 - val_categorical_accuracy: 0.9457\n",
      "Epoch 12/20\n",
      "626784/626784 [==============================] - 10s 15us/step - loss: 0.0415 - categorical_accuracy: 0.9458 - val_loss: 0.0411 - val_categorical_accuracy: 0.9459\n",
      "Epoch 13/20\n",
      "626784/626784 [==============================] - 10s 16us/step - loss: 0.0411 - categorical_accuracy: 0.9464 - val_loss: 0.0411 - val_categorical_accuracy: 0.9461\n",
      "Epoch 14/20\n",
      "626784/626784 [==============================] - 10s 15us/step - loss: 0.0410 - categorical_accuracy: 0.9466 - val_loss: 0.0407 - val_categorical_accuracy: 0.9467\n",
      "Epoch 15/20\n",
      "626784/626784 [==============================] - 10s 15us/step - loss: 0.0406 - categorical_accuracy: 0.9471 - val_loss: 0.0405 - val_categorical_accuracy: 0.9468\n",
      "Epoch 16/20\n",
      "626784/626784 [==============================] - 10s 15us/step - loss: 0.0403 - categorical_accuracy: 0.9476 - val_loss: 0.0400 - val_categorical_accuracy: 0.9475\n",
      "Epoch 17/20\n",
      "626784/626784 [==============================] - 10s 15us/step - loss: 0.0400 - categorical_accuracy: 0.9480 - val_loss: 0.0398 - val_categorical_accuracy: 0.9474\n",
      "Epoch 18/20\n",
      "626784/626784 [==============================] - 10s 15us/step - loss: 0.0398 - categorical_accuracy: 0.9483 - val_loss: 0.0402 - val_categorical_accuracy: 0.9473\n",
      "Epoch 19/20\n",
      "626784/626784 [==============================] - 10s 15us/step - loss: 0.0396 - categorical_accuracy: 0.9484 - val_loss: 0.0394 - val_categorical_accuracy: 0.9481\n",
      "Epoch 20/20\n",
      "626784/626784 [==============================] - 10s 16us/step - loss: 0.0394 - categorical_accuracy: 0.9485 - val_loss: 0.0412 - val_categorical_accuracy: 0.9449\n"
     ]
    }
   ],
   "source": [
    "history = clf.fit(trainX,onehot_encoded_train,\n",
    "                 batch_size = 100, epochs = 20,\n",
    "                 verbose = 1,\n",
    "                 validation_split = 0.2)"
   ]
  },
  {
   "cell_type": "code",
   "execution_count": 15,
   "metadata": {},
   "outputs": [
    {
     "data": {
      "text/plain": [
       "(array([1, 1, 1, 0, 1, 0, 0, 0, 0, 1, 0, 0, 1, 1, 0, 0, 1, 0, 0, 1, 1, 1,\n",
       "        1, 0, 0, 0, 1, 1, 0, 1, 1, 1, 0, 0, 1, 1, 1, 1, 1, 1, 1, 0, 0, 0,\n",
       "        0, 0, 0, 0, 1, 1, 0, 1, 0, 0, 0, 0, 0, 0, 0, 0, 1, 0, 0, 0, 0, 1,\n",
       "        0, 0, 0, 0, 0, 0, 0, 0, 0, 0, 1, 0, 0, 1, 0, 0, 0, 0, 0, 1, 0, 1,\n",
       "        0, 0, 1, 1, 0, 0, 0, 1, 0, 0, 0], dtype=int64),\n",
       " array([1, 1, 1, 0, 1, 0, 0, 0, 0, 0, 0, 0, 1, 1, 0, 0, 1, 0, 0, 1, 1, 1,\n",
       "        1, 1, 0, 0, 1, 1, 0, 1, 0, 1, 0, 0, 1, 1, 1, 1, 1, 1, 1, 0, 0, 0,\n",
       "        0, 0, 0, 0, 1, 1, 0, 1, 1, 0, 0, 0, 0, 0, 0, 0, 1, 0, 0, 0, 0, 1,\n",
       "        0, 0, 0, 0, 0, 0, 0, 0, 0, 0, 1, 0, 0, 1, 0, 1, 0, 0, 0, 1, 0, 1,\n",
       "        0, 0, 1, 1, 0, 0, 0, 1, 0, 0, 0], dtype=int64))"
      ]
     },
     "execution_count": 15,
     "metadata": {},
     "output_type": "execute_result"
    }
   ],
   "source": [
    "\n",
    "testY[1:100], clf.predict_classes(testX[1:100,:])"
   ]
  },
  {
   "cell_type": "code",
   "execution_count": 16,
   "metadata": {},
   "outputs": [
    {
     "name": "stdout",
     "output_type": "stream",
     "text": [
      "195871/195871 [==============================] - 3s 15us/step\n"
     ]
    },
    {
     "data": {
      "text/plain": [
       "[0.05177457154500032, 0.9395418413145347]"
      ]
     },
     "execution_count": 16,
     "metadata": {},
     "output_type": "execute_result"
    }
   ],
   "source": [
    "clf.evaluate(testX,onehot_encoded_test,verbose=1)"
   ]
  },
  {
   "cell_type": "code",
   "execution_count": 17,
   "metadata": {},
   "outputs": [],
   "source": [
    "# save model and weights\n",
    "#clf_json = clf.to_json()\n",
    "#with open(\"NN_OwnVoice_90-46-2_inputs_bilBF.json\", \"w\") as json_file:\n",
    "   # json_file.write(clf_json)\n",
    "    \n",
    "#clf.save_weights(\"NN_OwnVoice_90-46-2_inputs_bilBF_weights.h5\")"
   ]
  },
  {
   "cell_type": "code",
   "execution_count": 18,
   "metadata": {},
   "outputs": [],
   "source": [
    "#np.save('TestX_NN_OwnVoice_bilBF',testX), np.save('TestY_NN_OwnVoice_bilBF',testY),\n",
    "#np.save('OneHot_testY_bilBF',onehot_encoded_test)"
   ]
  },
  {
   "cell_type": "code",
   "execution_count": 21,
   "metadata": {},
   "outputs": [],
   "source": [
    "import matplotlib.pyplot as plt"
   ]
  },
  {
   "cell_type": "code",
   "execution_count": 24,
   "metadata": {},
   "outputs": [
    {
     "data": {
      "image/png": "[encoded data removed]",
      "text/plain": [
       "<Figure size 432x288 with 1 Axes>"
      ]
     },
     "metadata": {
      "needs_background": "light"
     },
     "output_type": "display_data"
    }
   ],
   "source": [
    "plt.plot(history.history['val_categorical_accuracy'])\n",
    "plt.plot(history.history['categorical_accuracy'])\n",
    "plt.title('Model accuracy')\n",
    "plt.ylabel('Accuracy')\n",
    "plt.xlabel('Epochs')\n",
    "plt.axis([0, 20, 0.5, 1])\n",
    "plt.legend(['Validation', 'Training'], loc='upper left')\n",
    "plt.savefig('Accuracy_MF_bilBF.png',dpi=150)"
   ]
  },
  {
   "cell_type": "code",
   "execution_count": 29,
   "metadata": {},
   "outputs": [
    {
     "data": {
      "text/plain": [
       "<Figure size 432x288 with 0 Axes>"
      ]
     },
     "metadata": {},
     "output_type": "display_data"
    }
   ],
   "source": [
    "#saving weights\n",
    "weights_first_layer = clf.layers[0].get_weights()[0]\n",
    "biases_first_layer = clf.layers[0].get_weights()[1]\n",
    "\n",
    "weights_second_layer = clf.layers[2].get_weights()[0]\n",
    "biases_second_layer = clf.layers[2].get_weights()[1]\n"
   ]
  },
  {
   "cell_type": "code",
   "execution_count": null,
   "metadata": {},
   "outputs": [],
   "source": [
    "weights_first_layer = np.vstack([biases_first_layer, weights_first_layer])\n",
    "weights_second_layer = np.vstack([biases_second_layer, weights_second_layer])\n"
   ]
  },
  {
   "cell_type": "code",
   "execution_count": null,
   "metadata": {},
   "outputs": [],
   "source": [
    "weights_first_layer_norm = weights_first_layer / abs(weights_first_layer).max()\n",
    "#biases_first_layer_norm = biases_first_layer / abs(biases_first_layer).max()\n",
    "\n",
    "weights_second_layer_norm = weights_second_layer / abs(weights_second_layer).max()\n",
    "#biases_second_layer_norm = biases_second_layer / abs(biases_second_layer).max()\n"
   ]
  },
  {
   "cell_type": "code",
   "execution_count": null,
   "metadata": {},
   "outputs": [],
   "source": [
    "weights_first_layer_norm.shape, weights_second_layer_norm.shapeb"
   ]
  },
  {
   "cell_type": "code",
   "execution_count": null,
   "metadata": {},
   "outputs": [],
   "source": [
    "abs(weights_first_layer).max(), abs(weights_second_layer).max()"
   ]
  },
  {
   "cell_type": "code",
   "execution_count": null,
   "metadata": {},
   "outputs": [],
   "source": [
    "np.savetxt('weights_first_layer_norm_NN_90-46-2_ownVoice.txt',\n",
    "           weights_first_layer_norm,delimiter= ',')\n",
    "np.savetxt('weights_second_layer_norm_NN_90-46-2_ownVoice.txt',\n",
    "           weights_second_layer_norm,delimiter= ',')\n"
   ]
  }
 ],
 "metadata": {
  "kernelspec": {
   "display_name": "Python 3",
   "language": "python",
   "name": "python3"
  },
  "language_info": {
   "codemirror_mode": {
    "name": "ipython",
    "version": 3
   },
   "file_extension": ".py",
   "mimetype": "text/x-python",
   "name": "python",
   "nbconvert_exporter": "python",
   "pygments_lexer": "ipython3",
   "version": "3.6.5"
  }
 },
 "nbformat": 4,
 "nbformat_minor": 2
}
