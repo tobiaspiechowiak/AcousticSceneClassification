{
 "cells": [
  {
   "cell_type": "code",
   "execution_count": 1,
   "metadata": {},
   "outputs": [],
   "source": [
    "#load packages\n",
    "import numpy as np\n",
    "import tensorflow as tf\n",
    "from tensorflow import keras \n",
    "import pandas as pd\n",
    "import soundfile as sf\n"
   ]
  },
  {
   "cell_type": "code",
   "execution_count": 2,
   "metadata": {},
   "outputs": [],
   "source": [
    "#import data \n",
    "path = 'x:/Steering/Recordings/Processed/'\n",
    "data, fs = sf.read(path + 'ERB=1.wav')\n",
    "classes = pd.read_csv(path + 'Classes_1.csv')"
   ]
  },
  {
   "cell_type": "code",
   "execution_count": 3,
   "metadata": {},
   "outputs": [],
   "source": [
    "X = data[:len(data)-1,:data.shape[1]] #775361\n",
    "Y = classes.values[:,0]"
   ]
  },
  {
   "cell_type": "code",
   "execution_count": 4,
   "metadata": {},
   "outputs": [],
   "source": [
    "#split into training and test set\n",
    "from sklearn.model_selection import train_test_split\n",
    "trainX, testX, trainY, testY = train_test_split(X,Y,test_size=0.2,random_state=0)"
   ]
  },
  {
   "cell_type": "code",
   "execution_count": 5,
   "metadata": {},
   "outputs": [],
   "source": [
    "#do one-hot encoding\n",
    "from sklearn.preprocessing import OneHotEncoder \n",
    "from sklearn.preprocessing import LabelEncoder\n",
    "\n",
    "enc = OneHotEncoder(sparse=False)"
   ]
  },
  {
   "cell_type": "code",
   "execution_count": 6,
   "metadata": {},
   "outputs": [],
   "source": [
    "integer_encoded_train = trainY.reshape(len(trainY), 1)\n",
    "onehot_encoded_train = enc.fit_transform(integer_encoded_train)\n",
    "\n",
    "integer_encoded_test = testY.reshape(len(testY), 1)\n",
    "onehot_encoded_test = enc.fit_transform(integer_encoded_test)"
   ]
  },
  {
   "cell_type": "code",
   "execution_count": 7,
   "metadata": {},
   "outputs": [
    {
     "data": {
      "text/plain": [
       "array([[0., 1., 0., 0., 0.],\n",
       "       [0., 0., 0., 0., 1.],\n",
       "       [0., 0., 0., 0., 1.],\n",
       "       ...,\n",
       "       [0., 1., 0., 0., 0.],\n",
       "       [0., 0., 1., 0., 0.],\n",
       "       [0., 1., 0., 0., 0.]])"
      ]
     },
     "execution_count": 7,
     "metadata": {},
     "output_type": "execute_result"
    }
   ],
   "source": [
    "onehot_encoded_train \n"
   ]
  },
  {
   "cell_type": "code",
   "execution_count": 8,
   "metadata": {},
   "outputs": [],
   "source": [
    "#DC removal \n",
    "trainX -= (np.mean(trainX, axis=0) + 1e-8)\n",
    "testX -= (np.mean(testX, axis=0) + 1e-8)"
   ]
  },
  {
   "cell_type": "code",
   "execution_count": 9,
   "metadata": {},
   "outputs": [],
   "source": [
    "clf = keras.Sequential()"
   ]
  },
  {
   "cell_type": "code",
   "execution_count": 10,
   "metadata": {},
   "outputs": [
    {
     "data": {
      "text/plain": [
       "(5, 216, array([[0., 1., 0., 0., 0.],\n",
       "        [0., 0., 0., 0., 1.],\n",
       "        [0., 0., 0., 0., 1.],\n",
       "        ...,\n",
       "        [0., 1., 0., 0., 0.],\n",
       "        [0., 0., 1., 0., 0.],\n",
       "        [0., 1., 0., 0., 0.]]))"
      ]
     },
     "execution_count": 10,
     "metadata": {},
     "output_type": "execute_result"
    }
   ],
   "source": [
    "onehot_encoded_train.shape[1], X.shape[1],onehot_encoded_train"
   ]
  },
  {
   "cell_type": "code",
   "execution_count": 11,
   "metadata": {},
   "outputs": [],
   "source": [
    "clf.add(keras.layers.Dense(\n",
    "  units = 110,\n",
    "  input_dim = trainX.shape[1],   \n",
    "  activation = 'tanh'\n",
    "))\n",
    "\n",
    "clf.add(keras.layers.Dense(\n",
    "    units = onehot_encoded_train.shape[1],\n",
    "    input_dim = 110,\n",
    "    activation = 'softmax'\n",
    "))\n"
   ]
  },
  {
   "cell_type": "code",
   "execution_count": 12,
   "metadata": {},
   "outputs": [
    {
     "data": {
      "text/plain": [
       "5"
      ]
     },
     "execution_count": 12,
     "metadata": {},
     "output_type": "execute_result"
    }
   ],
   "source": [
    "onehot_encoded_train.shape[1]"
   ]
  },
  {
   "cell_type": "code",
   "execution_count": 13,
   "metadata": {},
   "outputs": [],
   "source": [
    "clf.compile(loss='mean_squared_error',\n",
    "    optimizer='Adam',\n",
    "           metrics=['categorical_accuracy'])"
   ]
  },
  {
   "cell_type": "code",
   "execution_count": null,
   "metadata": {},
   "outputs": [
    {
     "name": "stdout",
     "output_type": "stream",
     "text": [
      "Train on 698819 samples, validate on 77647 samples\n",
      "Epoch 1/150\n",
      "698819/698819 [==============================] - 15s 22us/step - loss: 0.1436 - categorical_accuracy: 0.4021 - val_loss: 0.1392 - val_categorical_accuracy: 0.4332\n",
      "Epoch 2/150\n",
      "698819/698819 [==============================] - 14s 21us/step - loss: 0.1385 - categorical_accuracy: 0.4367 - val_loss: 0.1372 - val_categorical_accuracy: 0.4366\n",
      "Epoch 3/150\n",
      "698819/698819 [==============================] - 13s 19us/step - loss: 0.1367 - categorical_accuracy: 0.4440 - val_loss: 0.1361 - val_categorical_accuracy: 0.4357\n",
      "Epoch 4/150\n",
      "698819/698819 [==============================] - 13s 18us/step - loss: 0.1334 - categorical_accuracy: 0.4741 - val_loss: 0.1296 - val_categorical_accuracy: 0.5008\n",
      "Epoch 5/150\n",
      "698819/698819 [==============================] - 13s 19us/step - loss: 0.1274 - categorical_accuracy: 0.5143 - val_loss: 0.1255 - val_categorical_accuracy: 0.5227\n",
      "Epoch 6/150\n",
      "698819/698819 [==============================] - 14s 20us/step - loss: 0.1239 - categorical_accuracy: 0.5263 - val_loss: 0.1210 - val_categorical_accuracy: 0.5325\n",
      "Epoch 7/150\n",
      "698819/698819 [==============================] - 14s 20us/step - loss: 0.1185 - categorical_accuracy: 0.5441 - val_loss: 0.1159 - val_categorical_accuracy: 0.5553\n",
      "Epoch 8/150\n",
      "698819/698819 [==============================] - 14s 20us/step - loss: 0.1142 - categorical_accuracy: 0.5607 - val_loss: 0.1125 - val_categorical_accuracy: 0.5713\n",
      "Epoch 9/150\n",
      "698819/698819 [==============================] - 13s 19us/step - loss: 0.1117 - categorical_accuracy: 0.5741 - val_loss: 0.1105 - val_categorical_accuracy: 0.5756\n",
      "Epoch 10/150\n",
      "698819/698819 [==============================] - 13s 19us/step - loss: 0.1100 - categorical_accuracy: 0.5817 - val_loss: 0.1096 - val_categorical_accuracy: 0.5837\n",
      "Epoch 11/150\n",
      "698819/698819 [==============================] - 13s 19us/step - loss: 0.1086 - categorical_accuracy: 0.5868 - val_loss: 0.1077 - val_categorical_accuracy: 0.5883\n",
      "Epoch 12/150\n",
      "698819/698819 [==============================] - 13s 18us/step - loss: 0.1075 - categorical_accuracy: 0.5920 - val_loss: 0.1069 - val_categorical_accuracy: 0.5919\n",
      "Epoch 13/150\n",
      "698819/698819 [==============================] - 13s 18us/step - loss: 0.1064 - categorical_accuracy: 0.5967 - val_loss: 0.1057 - val_categorical_accuracy: 0.5925\n",
      "Epoch 14/150\n",
      "698819/698819 [==============================] - 14s 20us/step - loss: 0.1054 - categorical_accuracy: 0.6017 - val_loss: 0.1048 - val_categorical_accuracy: 0.6061\n",
      "Epoch 15/150\n",
      "698819/698819 [==============================] - 15s 22us/step - loss: 0.1045 - categorical_accuracy: 0.6066 - val_loss: 0.1038 - val_categorical_accuracy: 0.6145\n",
      "Epoch 16/150\n",
      "698819/698819 [==============================] - 14s 19us/step - loss: 0.1037 - categorical_accuracy: 0.6118 - val_loss: 0.1030 - val_categorical_accuracy: 0.6136\n",
      "Epoch 17/150\n",
      "698819/698819 [==============================] - 13s 18us/step - loss: 0.1029 - categorical_accuracy: 0.6160 - val_loss: 0.1030 - val_categorical_accuracy: 0.6018\n",
      "Epoch 18/150\n",
      "698819/698819 [==============================] - 13s 18us/step - loss: 0.1021 - categorical_accuracy: 0.6206 - val_loss: 0.1018 - val_categorical_accuracy: 0.6351\n",
      "Epoch 19/150\n",
      "698819/698819 [==============================] - 13s 18us/step - loss: 0.1014 - categorical_accuracy: 0.6248 - val_loss: 0.1008 - val_categorical_accuracy: 0.6307\n",
      "Epoch 20/150\n",
      "698819/698819 [==============================] - 13s 19us/step - loss: 0.1007 - categorical_accuracy: 0.6290 - val_loss: 0.1001 - val_categorical_accuracy: 0.6323\n",
      "Epoch 21/150\n",
      "698819/698819 [==============================] - 14s 20us/step - loss: 0.0999 - categorical_accuracy: 0.6333 - val_loss: 0.0993 - val_categorical_accuracy: 0.6416\n",
      "Epoch 22/150\n",
      "698819/698819 [==============================] - 15s 21us/step - loss: 0.0992 - categorical_accuracy: 0.6377 - val_loss: 0.0988 - val_categorical_accuracy: 0.6246\n",
      "Epoch 23/150\n",
      "698819/698819 [==============================] - 13s 19us/step - loss: 0.0984 - categorical_accuracy: 0.6416 - val_loss: 0.0983 - val_categorical_accuracy: 0.6527\n",
      "Epoch 24/150\n",
      "698819/698819 [==============================] - 13s 18us/step - loss: 0.0976 - categorical_accuracy: 0.6463 - val_loss: 0.0968 - val_categorical_accuracy: 0.6569\n",
      "Epoch 25/150\n",
      "698819/698819 [==============================] - 13s 18us/step - loss: 0.0966 - categorical_accuracy: 0.6511 - val_loss: 0.0969 - val_categorical_accuracy: 0.6432\n",
      "Epoch 26/150\n",
      "698819/698819 [==============================] - 13s 18us/step - loss: 0.0950 - categorical_accuracy: 0.6575 - val_loss: 0.0939 - val_categorical_accuracy: 0.6700\n",
      "Epoch 27/150\n",
      "698819/698819 [==============================] - 13s 19us/step - loss: 0.0893 - categorical_accuracy: 0.6783 - val_loss: 0.0839 - val_categorical_accuracy: 0.6984\n",
      "Epoch 28/150\n",
      "698819/698819 [==============================] - 13s 19us/step - loss: 0.0814 - categorical_accuracy: 0.7088 - val_loss: 0.0803 - val_categorical_accuracy: 0.7006\n",
      "Epoch 29/150\n",
      "698819/698819 [==============================] - 13s 19us/step - loss: 0.0787 - categorical_accuracy: 0.7208 - val_loss: 0.0792 - val_categorical_accuracy: 0.7080\n",
      "Epoch 30/150\n",
      "698819/698819 [==============================] - 13s 18us/step - loss: 0.0770 - categorical_accuracy: 0.7279 - val_loss: 0.0776 - val_categorical_accuracy: 0.7132\n",
      "Epoch 31/150\n",
      "698819/698819 [==============================] - 13s 19us/step - loss: 0.0756 - categorical_accuracy: 0.7343 - val_loss: 0.0755 - val_categorical_accuracy: 0.7287\n",
      "Epoch 32/150\n",
      "698819/698819 [==============================] - 13s 18us/step - loss: 0.0744 - categorical_accuracy: 0.7386 - val_loss: 0.0739 - val_categorical_accuracy: 0.7482\n",
      "Epoch 33/150\n",
      "698819/698819 [==============================] - 19s 27us/step - loss: 0.0730 - categorical_accuracy: 0.7445 - val_loss: 0.0726 - val_categorical_accuracy: 0.7486\n",
      "Epoch 34/150\n",
      "698819/698819 [==============================] - 13s 19us/step - loss: 0.0717 - categorical_accuracy: 0.7493 - val_loss: 0.0711 - val_categorical_accuracy: 0.7529\n",
      "Epoch 35/150\n",
      "698819/698819 [==============================] - 17s 24us/step - loss: 0.0701 - categorical_accuracy: 0.7547 - val_loss: 0.0695 - val_categorical_accuracy: 0.7596\n",
      "Epoch 36/150\n",
      "698819/698819 [==============================] - 15s 22us/step - loss: 0.0684 - categorical_accuracy: 0.7609 - val_loss: 0.0683 - val_categorical_accuracy: 0.7517\n",
      "Epoch 37/150\n",
      "698819/698819 [==============================] - 16s 23us/step - loss: 0.0668 - categorical_accuracy: 0.7665 - val_loss: 0.0663 - val_categorical_accuracy: 0.7616\n",
      "Epoch 38/150\n",
      "698819/698819 [==============================] - 17s 24us/step - loss: 0.0655 - categorical_accuracy: 0.7724 - val_loss: 0.0651 - val_categorical_accuracy: 0.7783\n",
      "Epoch 39/150\n",
      "698819/698819 [==============================] - 15s 21us/step - loss: 0.0643 - categorical_accuracy: 0.7776 - val_loss: 0.0638 - val_categorical_accuracy: 0.7804\n",
      "Epoch 40/150\n",
      "698819/698819 [==============================] - 16s 23us/step - loss: 0.0633 - categorical_accuracy: 0.7815 - val_loss: 0.0630 - val_categorical_accuracy: 0.7830\n",
      "Epoch 41/150\n",
      "698819/698819 [==============================] - 15s 22us/step - loss: 0.0623 - categorical_accuracy: 0.7862 - val_loss: 0.0620 - val_categorical_accuracy: 0.7882\n",
      "Epoch 42/150\n",
      "698819/698819 [==============================] - 14s 21us/step - loss: 0.0613 - categorical_accuracy: 0.7906 - val_loss: 0.0615 - val_categorical_accuracy: 0.7940\n",
      "Epoch 43/150\n",
      "698819/698819 [==============================] - 14s 21us/step - loss: 0.0604 - categorical_accuracy: 0.7943 - val_loss: 0.0605 - val_categorical_accuracy: 0.7988\n",
      "Epoch 44/150\n",
      "698819/698819 [==============================] - 14s 21us/step - loss: 0.0596 - categorical_accuracy: 0.7977 - val_loss: 0.0595 - val_categorical_accuracy: 0.8007\n",
      "Epoch 45/150\n",
      "698819/698819 [==============================] - 15s 21us/step - loss: 0.0587 - categorical_accuracy: 0.8015 - val_loss: 0.0587 - val_categorical_accuracy: 0.8001\n",
      "Epoch 46/150\n",
      "698819/698819 [==============================] - 15s 22us/step - loss: 0.0578 - categorical_accuracy: 0.8050 - val_loss: 0.0582 - val_categorical_accuracy: 0.8009\n",
      "Epoch 47/150\n"
     ]
    },
    {
     "name": "stdout",
     "output_type": "stream",
     "text": [
      "698819/698819 [==============================] - 15s 21us/step - loss: 0.0570 - categorical_accuracy: 0.8083 - val_loss: 0.0576 - val_categorical_accuracy: 0.8054\n",
      "Epoch 48/150\n",
      "698819/698819 [==============================] - 14s 19us/step - loss: 0.0562 - categorical_accuracy: 0.8111 - val_loss: 0.0562 - val_categorical_accuracy: 0.8101\n",
      "Epoch 49/150\n",
      "698819/698819 [==============================] - 14s 19us/step - loss: 0.0554 - categorical_accuracy: 0.8142 - val_loss: 0.0554 - val_categorical_accuracy: 0.8157\n",
      "Epoch 50/150\n",
      "698819/698819 [==============================] - 14s 20us/step - loss: 0.0547 - categorical_accuracy: 0.8168 - val_loss: 0.0557 - val_categorical_accuracy: 0.8099\n",
      "Epoch 51/150\n",
      "698819/698819 [==============================] - 14s 20us/step - loss: 0.0541 - categorical_accuracy: 0.8191 - val_loss: 0.0545 - val_categorical_accuracy: 0.8201\n",
      "Epoch 52/150\n",
      "698819/698819 [==============================] - 16s 23us/step - loss: 0.0534 - categorical_accuracy: 0.8215 - val_loss: 0.0537 - val_categorical_accuracy: 0.8246\n",
      "Epoch 53/150\n",
      "698819/698819 [==============================] - 16s 23us/step - loss: 0.0528 - categorical_accuracy: 0.8239 - val_loss: 0.0537 - val_categorical_accuracy: 0.8236\n",
      "Epoch 54/150\n",
      "698819/698819 [==============================] - 15s 21us/step - loss: 0.0523 - categorical_accuracy: 0.8257 - val_loss: 0.0526 - val_categorical_accuracy: 0.8230\n",
      "Epoch 55/150\n",
      "698819/698819 [==============================] - 14s 21us/step - loss: 0.0517 - categorical_accuracy: 0.8277 - val_loss: 0.0532 - val_categorical_accuracy: 0.8171\n",
      "Epoch 56/150\n",
      "698819/698819 [==============================] - 15s 21us/step - loss: 0.0512 - categorical_accuracy: 0.8295 - val_loss: 0.0516 - val_categorical_accuracy: 0.8258\n",
      "Epoch 57/150\n",
      "698819/698819 [==============================] - 15s 22us/step - loss: 0.0508 - categorical_accuracy: 0.8310 - val_loss: 0.0522 - val_categorical_accuracy: 0.8259\n",
      "Epoch 58/150\n",
      "698819/698819 [==============================] - 15s 22us/step - loss: 0.0503 - categorical_accuracy: 0.8327 - val_loss: 0.0516 - val_categorical_accuracy: 0.8296\n",
      "Epoch 59/150\n",
      "698819/698819 [==============================] - 14s 21us/step - loss: 0.0498 - categorical_accuracy: 0.8346 - val_loss: 0.0503 - val_categorical_accuracy: 0.8375\n",
      "Epoch 60/150\n",
      "698819/698819 [==============================] - 15s 21us/step - loss: 0.0494 - categorical_accuracy: 0.8358 - val_loss: 0.0497 - val_categorical_accuracy: 0.8377\n",
      "Epoch 61/150\n",
      "698819/698819 [==============================] - 14s 20us/step - loss: 0.0490 - categorical_accuracy: 0.8376 - val_loss: 0.0492 - val_categorical_accuracy: 0.8346\n",
      "Epoch 62/150\n",
      "698819/698819 [==============================] - 15s 21us/step - loss: 0.0486 - categorical_accuracy: 0.8386 - val_loss: 0.0493 - val_categorical_accuracy: 0.8409\n",
      "Epoch 63/150\n",
      "698819/698819 [==============================] - 15s 21us/step - loss: 0.0483 - categorical_accuracy: 0.8401 - val_loss: 0.0489 - val_categorical_accuracy: 0.8349\n",
      "Epoch 64/150\n",
      "698819/698819 [==============================] - 15s 22us/step - loss: 0.0479 - categorical_accuracy: 0.8411 - val_loss: 0.0497 - val_categorical_accuracy: 0.8377\n",
      "Epoch 65/150\n",
      "698819/698819 [==============================] - 15s 22us/step - loss: 0.0476 - categorical_accuracy: 0.8427 - val_loss: 0.0484 - val_categorical_accuracy: 0.8344\n",
      "Epoch 66/150\n",
      "698819/698819 [==============================] - 16s 23us/step - loss: 0.0473 - categorical_accuracy: 0.8435 - val_loss: 0.0484 - val_categorical_accuracy: 0.8432\n",
      "Epoch 67/150\n",
      "698819/698819 [==============================] - 13s 19us/step - loss: 0.0469 - categorical_accuracy: 0.8448 - val_loss: 0.0472 - val_categorical_accuracy: 0.8429\n",
      "Epoch 68/150\n",
      "698819/698819 [==============================] - 14s 21us/step - loss: 0.0467 - categorical_accuracy: 0.8458 - val_loss: 0.0480 - val_categorical_accuracy: 0.8444\n",
      "Epoch 69/150\n",
      "698819/698819 [==============================] - 14s 21us/step - loss: 0.0463 - categorical_accuracy: 0.8469 - val_loss: 0.0469 - val_categorical_accuracy: 0.8420\n",
      "Epoch 70/150\n",
      "698819/698819 [==============================] - 16s 23us/step - loss: 0.0461 - categorical_accuracy: 0.8478 - val_loss: 0.0467 - val_categorical_accuracy: 0.8448\n",
      "Epoch 71/150\n",
      "698819/698819 [==============================] - 16s 22us/step - loss: 0.0458 - categorical_accuracy: 0.8491 - val_loss: 0.0485 - val_categorical_accuracy: 0.8335\n",
      "Epoch 72/150\n",
      "698819/698819 [==============================] - 16s 22us/step - loss: 0.0455 - categorical_accuracy: 0.8496 - val_loss: 0.0460 - val_categorical_accuracy: 0.8489\n",
      "Epoch 73/150\n",
      "698819/698819 [==============================] - 16s 22us/step - loss: 0.0452 - categorical_accuracy: 0.8509 - val_loss: 0.0460 - val_categorical_accuracy: 0.8494\n",
      "Epoch 74/150\n",
      "698819/698819 [==============================] - 17s 24us/step - loss: 0.0450 - categorical_accuracy: 0.8516 - val_loss: 0.0455 - val_categorical_accuracy: 0.8462\n",
      "Epoch 75/150\n",
      "698819/698819 [==============================] - 17s 24us/step - loss: 0.0447 - categorical_accuracy: 0.8523 - val_loss: 0.0452 - val_categorical_accuracy: 0.8510\n",
      "Epoch 76/150\n",
      "698819/698819 [==============================] - 16s 22us/step - loss: 0.0445 - categorical_accuracy: 0.8533 - val_loss: 0.0452 - val_categorical_accuracy: 0.8479\n",
      "Epoch 77/150\n",
      "698819/698819 [==============================] - 16s 23us/step - loss: 0.0443 - categorical_accuracy: 0.8538 - val_loss: 0.0449 - val_categorical_accuracy: 0.8526\n",
      "Epoch 78/150\n",
      "698819/698819 [==============================] - 18s 25us/step - loss: 0.0440 - categorical_accuracy: 0.8548 - val_loss: 0.0446 - val_categorical_accuracy: 0.8524\n",
      "Epoch 79/150\n",
      "698819/698819 [==============================] - 15s 22us/step - loss: 0.0438 - categorical_accuracy: 0.8556 - val_loss: 0.0444 - val_categorical_accuracy: 0.8542\n",
      "Epoch 80/150\n",
      "698819/698819 [==============================] - 15s 22us/step - loss: 0.0436 - categorical_accuracy: 0.8565 - val_loss: 0.0453 - val_categorical_accuracy: 0.8552\n",
      "Epoch 81/150\n",
      "698819/698819 [==============================] - 16s 22us/step - loss: 0.0434 - categorical_accuracy: 0.8571 - val_loss: 0.0440 - val_categorical_accuracy: 0.8557\n",
      "Epoch 82/150\n",
      "698819/698819 [==============================] - 15s 22us/step - loss: 0.0432 - categorical_accuracy: 0.8578 - val_loss: 0.0437 - val_categorical_accuracy: 0.8573\n",
      "Epoch 83/150\n",
      "698819/698819 [==============================] - 16s 23us/step - loss: 0.0429 - categorical_accuracy: 0.8585 - val_loss: 0.0437 - val_categorical_accuracy: 0.8562\n",
      "Epoch 84/150\n",
      "698819/698819 [==============================] - 16s 22us/step - loss: 0.0427 - categorical_accuracy: 0.8593 - val_loss: 0.0436 - val_categorical_accuracy: 0.8561\n",
      "Epoch 85/150\n",
      "698819/698819 [==============================] - 17s 24us/step - loss: 0.0425 - categorical_accuracy: 0.8601 - val_loss: 0.0434 - val_categorical_accuracy: 0.8580\n",
      "Epoch 86/150\n",
      "698819/698819 [==============================] - 15s 22us/step - loss: 0.0423 - categorical_accuracy: 0.8607 - val_loss: 0.0431 - val_categorical_accuracy: 0.8558\n",
      "Epoch 87/150\n",
      "698819/698819 [==============================] - 16s 23us/step - loss: 0.0422 - categorical_accuracy: 0.8610 - val_loss: 0.0429 - val_categorical_accuracy: 0.8554\n",
      "Epoch 88/150\n",
      "698819/698819 [==============================] - 16s 23us/step - loss: 0.0420 - categorical_accuracy: 0.8618 - val_loss: 0.0430 - val_categorical_accuracy: 0.8552\n",
      "Epoch 89/150\n",
      "698819/698819 [==============================] - 17s 24us/step - loss: 0.0418 - categorical_accuracy: 0.8627 - val_loss: 0.0425 - val_categorical_accuracy: 0.8588\n",
      "Epoch 90/150\n",
      "698819/698819 [==============================] - 16s 23us/step - loss: 0.0416 - categorical_accuracy: 0.8633 - val_loss: 0.0430 - val_categorical_accuracy: 0.8536\n",
      "Epoch 91/150\n",
      "698819/698819 [==============================] - 16s 23us/step - loss: 0.0414 - categorical_accuracy: 0.8639 - val_loss: 0.0444 - val_categorical_accuracy: 0.8513\n",
      "Epoch 92/150\n",
      "698819/698819 [==============================] - 16s 23us/step - loss: 0.0413 - categorical_accuracy: 0.8640 - val_loss: 0.0426 - val_categorical_accuracy: 0.8641\n",
      "Epoch 93/150\n"
     ]
    },
    {
     "name": "stdout",
     "output_type": "stream",
     "text": [
      "698819/698819 [==============================] - 16s 23us/step - loss: 0.0411 - categorical_accuracy: 0.8648 - val_loss: 0.0418 - val_categorical_accuracy: 0.8618\n",
      "Epoch 94/150\n",
      "698819/698819 [==============================] - 14s 20us/step - loss: 0.0410 - categorical_accuracy: 0.8654 - val_loss: 0.0423 - val_categorical_accuracy: 0.8636\n",
      "Epoch 95/150\n",
      "698819/698819 [==============================] - 16s 23us/step - loss: 0.0408 - categorical_accuracy: 0.8659 - val_loss: 0.0419 - val_categorical_accuracy: 0.8587\n",
      "Epoch 96/150\n",
      "698819/698819 [==============================] - 15s 21us/step - loss: 0.0406 - categorical_accuracy: 0.8665 - val_loss: 0.0433 - val_categorical_accuracy: 0.8610\n",
      "Epoch 97/150\n",
      "698819/698819 [==============================] - 14s 20us/step - loss: 0.0405 - categorical_accuracy: 0.8671 - val_loss: 0.0416 - val_categorical_accuracy: 0.8600\n",
      "Epoch 98/150\n",
      "698819/698819 [==============================] - 14s 20us/step - loss: 0.0404 - categorical_accuracy: 0.8675 - val_loss: 0.0419 - val_categorical_accuracy: 0.8581\n",
      "Epoch 99/150\n",
      "698819/698819 [==============================] - 14s 20us/step - loss: 0.0402 - categorical_accuracy: 0.8679 - val_loss: 0.0415 - val_categorical_accuracy: 0.8667\n",
      "Epoch 100/150\n",
      "698819/698819 [==============================] - 16s 23us/step - loss: 0.0401 - categorical_accuracy: 0.8686 - val_loss: 0.0409 - val_categorical_accuracy: 0.8656\n",
      "Epoch 101/150\n",
      "698819/698819 [==============================] - 17s 24us/step - loss: 0.0399 - categorical_accuracy: 0.8687 - val_loss: 0.0416 - val_categorical_accuracy: 0.8592\n",
      "Epoch 102/150\n",
      "698819/698819 [==============================] - 15s 22us/step - loss: 0.0398 - categorical_accuracy: 0.8693 - val_loss: 0.0410 - val_categorical_accuracy: 0.8620\n",
      "Epoch 103/150\n",
      "698819/698819 [==============================] - 14s 20us/step - loss: 0.0397 - categorical_accuracy: 0.8698 - val_loss: 0.0417 - val_categorical_accuracy: 0.8673\n",
      "Epoch 104/150\n",
      "698819/698819 [==============================] - 14s 20us/step - loss: 0.0395 - categorical_accuracy: 0.8703 - val_loss: 0.0412 - val_categorical_accuracy: 0.8611\n",
      "Epoch 105/150\n",
      "698819/698819 [==============================] - 19s 27us/step - loss: 0.0394 - categorical_accuracy: 0.8705 - val_loss: 0.0403 - val_categorical_accuracy: 0.8689\n",
      "Epoch 106/150\n",
      "698819/698819 [==============================] - 17s 25us/step - loss: 0.0392 - categorical_accuracy: 0.8712 - val_loss: 0.0406 - val_categorical_accuracy: 0.8677\n",
      "Epoch 107/150\n",
      "698819/698819 [==============================] - 15s 21us/step - loss: 0.0391 - categorical_accuracy: 0.8716 - val_loss: 0.0420 - val_categorical_accuracy: 0.8586\n",
      "Epoch 108/150\n",
      "698819/698819 [==============================] - 15s 21us/step - loss: 0.0390 - categorical_accuracy: 0.8721 - val_loss: 0.0400 - val_categorical_accuracy: 0.8697\n",
      "Epoch 109/150\n",
      "698819/698819 [==============================] - 15s 22us/step - loss: 0.0389 - categorical_accuracy: 0.8726 - val_loss: 0.0403 - val_categorical_accuracy: 0.8651\n",
      "Epoch 110/150\n",
      "698819/698819 [==============================] - 15s 21us/step - loss: 0.0387 - categorical_accuracy: 0.8730 - val_loss: 0.0397 - val_categorical_accuracy: 0.8696\n",
      "Epoch 111/150\n",
      "698819/698819 [==============================] - 17s 24us/step - loss: 0.0386 - categorical_accuracy: 0.8732 - val_loss: 0.0397 - val_categorical_accuracy: 0.8670\n",
      "Epoch 112/150\n",
      "698819/698819 [==============================] - 15s 22us/step - loss: 0.0385 - categorical_accuracy: 0.8735 - val_loss: 0.0394 - val_categorical_accuracy: 0.8695\n",
      "Epoch 113/150\n",
      "698819/698819 [==============================] - 15s 21us/step - loss: 0.0384 - categorical_accuracy: 0.8741 - val_loss: 0.0394 - val_categorical_accuracy: 0.8701\n",
      "Epoch 114/150\n",
      "698819/698819 [==============================] - 15s 22us/step - loss: 0.0383 - categorical_accuracy: 0.8744 - val_loss: 0.0398 - val_categorical_accuracy: 0.8673\n",
      "Epoch 115/150\n",
      "698819/698819 [==============================] - 16s 24us/step - loss: 0.0381 - categorical_accuracy: 0.8748 - val_loss: 0.0394 - val_categorical_accuracy: 0.8705\n",
      "Epoch 116/150\n",
      "698819/698819 [==============================] - 16s 24us/step - loss: 0.0380 - categorical_accuracy: 0.8754 - val_loss: 0.0399 - val_categorical_accuracy: 0.8663\n",
      "Epoch 117/150\n",
      "698819/698819 [==============================] - 18s 25us/step - loss: 0.0379 - categorical_accuracy: 0.8758 - val_loss: 0.0389 - val_categorical_accuracy: 0.8726\n",
      "Epoch 118/150\n",
      "698819/698819 [==============================] - 17s 24us/step - loss: 0.0378 - categorical_accuracy: 0.8762 - val_loss: 0.0393 - val_categorical_accuracy: 0.8719\n",
      "Epoch 119/150\n",
      "698819/698819 [==============================] - 17s 24us/step - loss: 0.0377 - categorical_accuracy: 0.8764 - val_loss: 0.0387 - val_categorical_accuracy: 0.8744\n",
      "Epoch 120/150\n",
      "698819/698819 [==============================] - 16s 22us/step - loss: 0.0376 - categorical_accuracy: 0.8767 - val_loss: 0.0386 - val_categorical_accuracy: 0.8705\n",
      "Epoch 121/150\n",
      "698819/698819 [==============================] - 16s 23us/step - loss: 0.0374 - categorical_accuracy: 0.8771 - val_loss: 0.0393 - val_categorical_accuracy: 0.8760\n",
      "Epoch 122/150\n",
      "698819/698819 [==============================] - 14s 21us/step - loss: 0.0374 - categorical_accuracy: 0.8776 - val_loss: 0.0385 - val_categorical_accuracy: 0.8758\n",
      "Epoch 123/150\n",
      "698819/698819 [==============================] - 16s 23us/step - loss: 0.0372 - categorical_accuracy: 0.8780 - val_loss: 0.0386 - val_categorical_accuracy: 0.8728\n",
      "Epoch 124/150\n",
      "698819/698819 [==============================] - 16s 24us/step - loss: 0.0371 - categorical_accuracy: 0.8782 - val_loss: 0.0382 - val_categorical_accuracy: 0.8752\n",
      "Epoch 125/150\n",
      "698819/698819 [==============================] - 16s 23us/step - loss: 0.0370 - categorical_accuracy: 0.8787 - val_loss: 0.0389 - val_categorical_accuracy: 0.8675\n",
      "Epoch 126/150\n",
      "698819/698819 [==============================] - 16s 24us/step - loss: 0.0369 - categorical_accuracy: 0.8790 - val_loss: 0.0379 - val_categorical_accuracy: 0.8750\n",
      "Epoch 127/150\n",
      "698819/698819 [==============================] - 21s 30us/step - loss: 0.0368 - categorical_accuracy: 0.8796 - val_loss: 0.0383 - val_categorical_accuracy: 0.8705\n",
      "Epoch 128/150\n",
      "698819/698819 [==============================] - 17s 24us/step - loss: 0.0367 - categorical_accuracy: 0.8796 - val_loss: 0.0378 - val_categorical_accuracy: 0.8765\n",
      "Epoch 129/150\n",
      "698819/698819 [==============================] - 16s 23us/step - loss: 0.0366 - categorical_accuracy: 0.8800 - val_loss: 0.0382 - val_categorical_accuracy: 0.8743\n",
      "Epoch 130/150\n",
      "698819/698819 [==============================] - 15s 22us/step - loss: 0.0365 - categorical_accuracy: 0.8806 - val_loss: 0.0379 - val_categorical_accuracy: 0.8731\n",
      "Epoch 131/150\n",
      "698819/698819 [==============================] - 16s 22us/step - loss: 0.0364 - categorical_accuracy: 0.8809 - val_loss: 0.0378 - val_categorical_accuracy: 0.8731\n",
      "Epoch 132/150\n",
      "698819/698819 [==============================] - 16s 22us/step - loss: 0.0363 - categorical_accuracy: 0.8814 - val_loss: 0.0380 - val_categorical_accuracy: 0.8718\n",
      "Epoch 133/150\n",
      "698819/698819 [==============================] - 16s 23us/step - loss: 0.0362 - categorical_accuracy: 0.8815 - val_loss: 0.0374 - val_categorical_accuracy: 0.8736\n",
      "Epoch 134/150\n",
      "698819/698819 [==============================] - 16s 23us/step - loss: 0.0361 - categorical_accuracy: 0.8818 - val_loss: 0.0371 - val_categorical_accuracy: 0.8773\n",
      "Epoch 135/150\n",
      "698819/698819 [==============================] - 16s 23us/step - loss: 0.0360 - categorical_accuracy: 0.8822 - val_loss: 0.0374 - val_categorical_accuracy: 0.8762\n",
      "Epoch 136/150\n",
      "698819/698819 [==============================] - 13s 19us/step - loss: 0.0359 - categorical_accuracy: 0.8827 - val_loss: 0.0369 - val_categorical_accuracy: 0.8786\n",
      "Epoch 137/150\n",
      "698819/698819 [==============================] - 13s 18us/step - loss: 0.0358 - categorical_accuracy: 0.8831 - val_loss: 0.0372 - val_categorical_accuracy: 0.8750\n",
      "Epoch 138/150\n",
      "698819/698819 [==============================] - 13s 18us/step - loss: 0.0357 - categorical_accuracy: 0.8833 - val_loss: 0.0372 - val_categorical_accuracy: 0.8749\n",
      "Epoch 139/150\n"
     ]
    },
    {
     "name": "stdout",
     "output_type": "stream",
     "text": [
      "698819/698819 [==============================] - 14s 20us/step - loss: 0.0356 - categorical_accuracy: 0.8835 - val_loss: 0.0372 - val_categorical_accuracy: 0.8743\n",
      "Epoch 140/150\n",
      "698819/698819 [==============================] - 14s 20us/step - loss: 0.0355 - categorical_accuracy: 0.8837 - val_loss: 0.0366 - val_categorical_accuracy: 0.8778\n",
      "Epoch 141/150\n",
      "698819/698819 [==============================] - 14s 20us/step - loss: 0.0354 - categorical_accuracy: 0.8842 - val_loss: 0.0388 - val_categorical_accuracy: 0.8759\n",
      "Epoch 142/150\n",
      "698819/698819 [==============================] - 14s 20us/step - loss: 0.0353 - categorical_accuracy: 0.8844 - val_loss: 0.0365 - val_categorical_accuracy: 0.8808\n",
      "Epoch 143/150\n",
      "698819/698819 [==============================] - 15s 21us/step - loss: 0.0352 - categorical_accuracy: 0.8850 - val_loss: 0.0366 - val_categorical_accuracy: 0.8813\n",
      "Epoch 144/150\n",
      "479552/698819 [===================>..........] - ETA: 4s - loss: 0.0352 - categorical_accuracy: 0.8849"
     ]
    }
   ],
   "source": [
    "history = clf.fit(trainX,onehot_encoded_train,\n",
    "                 batch_size = 64, epochs = 150,\n",
    "                 verbose = 1,\n",
    "                 validation_split = 0.1)"
   ]
  },
  {
   "cell_type": "code",
   "execution_count": 18,
   "metadata": {},
   "outputs": [
    {
     "data": {
      "text/plain": [
       "216"
      ]
     },
     "execution_count": 18,
     "metadata": {},
     "output_type": "execute_result"
    }
   ],
   "source": [
    "data.shape[1]    "
   ]
  },
  {
   "cell_type": "code",
   "execution_count": 19,
   "metadata": {},
   "outputs": [
    {
     "data": {
      "text/plain": [
       "(array([2, 2, 5, 1, 5, 2, 4, 1, 2, 4, 4, 3, 2, 3, 4, 3, 3, 2, 4, 3, 4, 2,\n",
       "        4, 4, 2, 5, 4, 2, 5, 2, 2, 5, 4, 4, 1, 4, 4, 2, 2, 5, 2, 4, 4, 5,\n",
       "        3, 1, 3, 5, 5, 3, 2, 2, 5, 4, 5, 5, 4, 4, 4, 4, 2, 2, 2, 5, 2, 2,\n",
       "        1, 2, 2, 1, 2, 2, 1, 4, 2, 1, 5, 3, 4, 5, 4, 3, 4, 2, 5, 4, 2, 2,\n",
       "        2, 5, 4, 5, 4, 4, 4, 4, 2, 2, 1, 1], dtype=int64),\n",
       " array([2, 2, 5, 1, 5, 2, 4, 4, 2, 4, 4, 3, 2, 3, 1, 3, 3, 2, 4, 3, 4, 2,\n",
       "        4, 4, 2, 5, 5, 4, 5, 2, 4, 5, 4, 4, 1, 5, 4, 2, 2, 5, 2, 4, 4, 5,\n",
       "        3, 1, 3, 5, 5, 3, 2, 4, 5, 1, 5, 5, 4, 5, 4, 4, 2, 2, 2, 1, 4, 2,\n",
       "        1, 2, 2, 1, 4, 2, 1, 4, 2, 1, 5, 3, 4, 5, 4, 3, 5, 2, 5, 4, 2, 2,\n",
       "        2, 4, 5, 5, 4, 4, 2, 4, 5, 2, 1, 1], dtype=int64))"
      ]
     },
     "execution_count": 19,
     "metadata": {},
     "output_type": "execute_result"
    }
   ],
   "source": [
    "clf.predict_classes(testX[:100,:]) + 1,testY[:100]"
   ]
  },
  {
   "cell_type": "code",
   "execution_count": null,
   "metadata": {},
   "outputs": [],
   "source": []
  },
  {
   "cell_type": "code",
   "execution_count": 20,
   "metadata": {},
   "outputs": [
    {
     "data": {
      "text/plain": [
       "array([2, 2, 5, 1, 5, 2, 4, 4, 2, 4, 4, 3, 2, 3, 1, 3, 3, 2, 4, 3, 4, 2,\n",
       "       4, 4, 2, 5, 5, 4, 5, 2, 4, 5, 4, 4, 1, 5, 4, 2, 2, 5, 2, 4, 4, 5,\n",
       "       3, 1, 3, 5, 5, 3, 2, 4, 5, 1, 5, 5, 4, 5, 4, 4, 2, 2, 2, 1, 4, 2,\n",
       "       1, 2, 2, 1, 4, 2, 1, 4, 2, 1, 5, 3, 4, 5, 4, 3, 5, 2, 5, 4, 2, 2,\n",
       "       2, 4, 5, 5, 4, 4, 2, 4, 5, 2, 1, 1], dtype=int64)"
      ]
     },
     "execution_count": 20,
     "metadata": {},
     "output_type": "execute_result"
    }
   ],
   "source": [
    "testY[:100]"
   ]
  },
  {
   "cell_type": "code",
   "execution_count": 21,
   "metadata": {},
   "outputs": [],
   "source": [
    "# saving the model \n",
    "# save model and weights\n",
    "clf_json = clf.to_json()\n",
    "with open(\"NN_216-110-5.json\", \"w\") as json_file:\n",
    "    json_file.write(clf_json)\n",
    "    \n",
    "clf.save_weights(\"NN_216-110-5_weights.h5\")"
   ]
  },
  {
   "cell_type": "code",
   "execution_count": 22,
   "metadata": {},
   "outputs": [],
   "source": [
    "np.save('TestX_NN_216-110-5',testX), np.save('TestY_NN_216-110-5',testY),\n",
    "np.save('OneHot_testY_216-110-5',onehot_encoded_test)"
   ]
  },
  {
   "cell_type": "code",
   "execution_count": null,
   "metadata": {},
   "outputs": [],
   "source": []
  }
 ],
 "metadata": {
  "kernelspec": {
   "display_name": "Python 3",
   "language": "python",
   "name": "python3"
  },
  "language_info": {
   "codemirror_mode": {
    "name": "ipython",
    "version": 3
   },
   "file_extension": ".py",
   "mimetype": "text/x-python",
   "name": "python",
   "nbconvert_exporter": "python",
   "pygments_lexer": "ipython3",
   "version": "3.6.5"
  }
 },
 "nbformat": 4,
 "nbformat_minor": 2
}
