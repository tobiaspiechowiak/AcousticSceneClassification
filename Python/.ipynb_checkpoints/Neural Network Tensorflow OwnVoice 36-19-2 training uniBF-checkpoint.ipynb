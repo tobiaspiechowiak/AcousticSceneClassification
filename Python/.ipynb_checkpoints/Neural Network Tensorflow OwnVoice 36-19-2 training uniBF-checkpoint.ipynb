{
 "cells": [
  {
   "cell_type": "code",
   "execution_count": 1,
   "metadata": {},
   "outputs": [],
   "source": [
    "#load packages\n",
    "import numpy as np\n",
    "import tensorflow as tf\n",
    "from tensorflow import keras \n",
    "import pandas as pd\n",
    "import soundfile as sf\n",
    "import os\n",
    "import h5py"
   ]
  },
  {
   "cell_type": "code",
   "execution_count": 2,
   "metadata": {},
   "outputs": [],
   "source": [
    "#import data \n",
    "path = 'x:/Steering/Recordings/Processed/'\n",
    "data, fs = sf.read(path + 'ERB=2uni_BF.wav')\n",
    "classes = pd.read_csv(path + 'Classes_2uni_BF.csv')"
   ]
  },
  {
   "cell_type": "code",
   "execution_count": 3,
   "metadata": {},
   "outputs": [],
   "source": [
    "X = data[:len(data)-1,:data.shape[1]] \n",
    "Y = classes.values[:,0]"
   ]
  },
  {
   "cell_type": "code",
   "execution_count": 4,
   "metadata": {},
   "outputs": [
    {
     "data": {
      "text/plain": [
       "(889913, 889913)"
      ]
     },
     "execution_count": 4,
     "metadata": {},
     "output_type": "execute_result"
    }
   ],
   "source": [
    "len(Y),len(X)"
   ]
  },
  {
   "cell_type": "code",
   "execution_count": 5,
   "metadata": {},
   "outputs": [],
   "source": [
    "#split into training and test set\n",
    "from sklearn.model_selection import train_test_split\n",
    "trainX, testX, trainY, testY = train_test_split(X,Y,test_size=0.2,random_state=0)"
   ]
  },
  {
   "cell_type": "code",
   "execution_count": 6,
   "metadata": {},
   "outputs": [],
   "source": [
    "#do one-hot encoding\n",
    "from sklearn.preprocessing import OneHotEncoder \n",
    "from sklearn.preprocessing import LabelEncoder\n",
    "\n",
    "enc = OneHotEncoder(sparse=False)"
   ]
  },
  {
   "cell_type": "code",
   "execution_count": 7,
   "metadata": {},
   "outputs": [],
   "source": [
    "integer_encoded_train = trainY.reshape(len(trainY), 1)\n",
    "onehot_encoded_train = enc.fit_transform(integer_encoded_train)\n",
    "\n",
    "integer_encoded_test = testY.reshape(len(testY), 1)\n",
    "onehot_encoded_test = enc.fit_transform(integer_encoded_test)"
   ]
  },
  {
   "cell_type": "code",
   "execution_count": 8,
   "metadata": {},
   "outputs": [
    {
     "data": {
      "text/plain": [
       "array([[1., 0.],\n",
       "       [1., 0.],\n",
       "       [1., 0.],\n",
       "       ...,\n",
       "       [0., 1.],\n",
       "       [1., 0.],\n",
       "       [0., 1.]])"
      ]
     },
     "execution_count": 8,
     "metadata": {},
     "output_type": "execute_result"
    }
   ],
   "source": [
    "onehot_encoded_train"
   ]
  },
  {
   "cell_type": "code",
   "execution_count": 9,
   "metadata": {},
   "outputs": [],
   "source": [
    "#DC removal \n",
    "trainX -= (np.mean(trainX, axis=0) + 1e-8)\n",
    "testX -= (np.mean(testX, axis=0) + 1e-8)"
   ]
  },
  {
   "cell_type": "code",
   "execution_count": 10,
   "metadata": {},
   "outputs": [],
   "source": [
    "clf = keras.Sequential()"
   ]
  },
  {
   "cell_type": "code",
   "execution_count": 11,
   "metadata": {},
   "outputs": [],
   "source": [
    "clf.add(keras.layers.Dense(\n",
    "  units = 19,\n",
    "  input_dim = trainX.shape[1],   \n",
    "  activation = 'tanh'\n",
    "))\n",
    "\n",
    "clf.add(keras.layers.Dense(\n",
    "    units = onehot_encoded_train.shape[1],\n",
    "    input_dim = 19,\n",
    "    activation = 'softmax'\n",
    "))\n"
   ]
  },
  {
   "cell_type": "code",
   "execution_count": 12,
   "metadata": {},
   "outputs": [
    {
     "data": {
      "text/plain": [
       "(2, 36)"
      ]
     },
     "execution_count": 12,
     "metadata": {},
     "output_type": "execute_result"
    }
   ],
   "source": [
    "onehot_encoded_train.shape[1],trainX.shape[1]"
   ]
  },
  {
   "cell_type": "code",
   "execution_count": 13,
   "metadata": {},
   "outputs": [],
   "source": [
    "clf.compile(loss='mean_squared_error',\n",
    "    optimizer='Adam',\n",
    "           metrics=['categorical_accuracy'])"
   ]
  },
  {
   "cell_type": "code",
   "execution_count": 19,
   "metadata": {},
   "outputs": [
    {
     "name": "stdout",
     "output_type": "stream",
     "text": [
      "Train on 640737 samples, validate on 71193 samples\n",
      "Epoch 1/20\n",
      "640737/640737 [==============================] - 3s 5us/step - loss: 0.0869 - categorical_accuracy: 0.8817 - val_loss: 0.0869 - val_categorical_accuracy: 0.8810\n",
      "Epoch 2/20\n",
      "640737/640737 [==============================] - 3s 5us/step - loss: 0.0868 - categorical_accuracy: 0.8819 - val_loss: 0.0869 - val_categorical_accuracy: 0.8821\n",
      "Epoch 3/20\n",
      "640737/640737 [==============================] - 4s 7us/step - loss: 0.0868 - categorical_accuracy: 0.8819 - val_loss: 0.0868 - val_categorical_accuracy: 0.8803\n",
      "Epoch 4/20\n",
      "640737/640737 [==============================] - 4s 6us/step - loss: 0.0867 - categorical_accuracy: 0.8820 - val_loss: 0.0869 - val_categorical_accuracy: 0.8831\n",
      "Epoch 5/20\n",
      "640737/640737 [==============================] - 4s 6us/step - loss: 0.0866 - categorical_accuracy: 0.8822 - val_loss: 0.0871 - val_categorical_accuracy: 0.8789\n",
      "Epoch 6/20\n",
      "640737/640737 [==============================] - 3s 5us/step - loss: 0.0866 - categorical_accuracy: 0.8824 - val_loss: 0.0866 - val_categorical_accuracy: 0.8826\n",
      "Epoch 7/20\n",
      "640737/640737 [==============================] - 3s 5us/step - loss: 0.0865 - categorical_accuracy: 0.8824 - val_loss: 0.0865 - val_categorical_accuracy: 0.8826\n",
      "Epoch 8/20\n",
      "640737/640737 [==============================] - 4s 6us/step - loss: 0.0864 - categorical_accuracy: 0.8826 - val_loss: 0.0866 - val_categorical_accuracy: 0.8831\n",
      "Epoch 9/20\n",
      "640737/640737 [==============================] - 3s 5us/step - loss: 0.0863 - categorical_accuracy: 0.8825 - val_loss: 0.0866 - val_categorical_accuracy: 0.8833\n",
      "Epoch 10/20\n",
      "640737/640737 [==============================] - 4s 6us/step - loss: 0.0863 - categorical_accuracy: 0.8826 - val_loss: 0.0880 - val_categorical_accuracy: 0.8754\n",
      "Epoch 11/20\n",
      "640737/640737 [==============================] - 4s 6us/step - loss: 0.0862 - categorical_accuracy: 0.8827 - val_loss: 0.0871 - val_categorical_accuracy: 0.8844\n",
      "Epoch 12/20\n",
      "640737/640737 [==============================] - 4s 7us/step - loss: 0.0861 - categorical_accuracy: 0.8829 - val_loss: 0.0863 - val_categorical_accuracy: 0.8838\n",
      "Epoch 13/20\n",
      "640737/640737 [==============================] - 7s 11us/step - loss: 0.0861 - categorical_accuracy: 0.8829 - val_loss: 0.0861 - val_categorical_accuracy: 0.8826\n",
      "Epoch 14/20\n",
      "640737/640737 [==============================] - 5s 8us/step - loss: 0.0860 - categorical_accuracy: 0.8831 - val_loss: 0.0862 - val_categorical_accuracy: 0.8806\n",
      "Epoch 15/20\n",
      "640737/640737 [==============================] - 5s 8us/step - loss: 0.0860 - categorical_accuracy: 0.8832 - val_loss: 0.0860 - val_categorical_accuracy: 0.8822\n",
      "Epoch 16/20\n",
      "640737/640737 [==============================] - 4s 7us/step - loss: 0.0859 - categorical_accuracy: 0.8832 - val_loss: 0.0863 - val_categorical_accuracy: 0.8847\n",
      "Epoch 17/20\n",
      "640737/640737 [==============================] - 4s 7us/step - loss: 0.0858 - categorical_accuracy: 0.8833 - val_loss: 0.0859 - val_categorical_accuracy: 0.8826\n",
      "Epoch 18/20\n",
      "640737/640737 [==============================] - 4s 7us/step - loss: 0.0858 - categorical_accuracy: 0.8833 - val_loss: 0.0858 - val_categorical_accuracy: 0.8833\n",
      "Epoch 19/20\n",
      "640737/640737 [==============================] - 4s 7us/step - loss: 0.0857 - categorical_accuracy: 0.8836 - val_loss: 0.0859 - val_categorical_accuracy: 0.8839\n",
      "Epoch 20/20\n",
      "640737/640737 [==============================] - 6s 9us/step - loss: 0.0856 - categorical_accuracy: 0.8835 - val_loss: 0.0858 - val_categorical_accuracy: 0.8820\n"
     ]
    }
   ],
   "source": [
    "history = clf.fit(trainX,onehot_encoded_train,\n",
    "                 batch_size = 200, epochs = 20,\n",
    "                 verbose = 1,\n",
    "                 validation_split = 0.1)"
   ]
  },
  {
   "cell_type": "code",
   "execution_count": 20,
   "metadata": {},
   "outputs": [
    {
     "data": {
      "text/plain": [
       "(array([1, 1, 0, 0, 0, 0, 1, 1, 1, 1, 1, 0, 0, 1, 0, 0, 0, 0, 1, 0, 0, 0,\n",
       "        1, 0, 0, 1, 0, 0, 0, 1, 1, 0, 0, 0, 0, 1, 0, 0, 0, 0, 1, 0, 0, 1,\n",
       "        1, 0, 0, 0, 1, 0, 0, 0, 0, 0, 1, 0, 0, 1, 0, 0, 0, 1, 0, 0, 0, 0,\n",
       "        1, 0, 1, 0, 0, 0, 0, 1, 0, 1, 0, 1, 1, 0, 0, 0, 0, 0, 0, 0, 1, 0,\n",
       "        1, 0, 1, 0, 1, 0, 1, 0, 0, 0, 0], dtype=int64),\n",
       " array([1, 1, 0, 0, 0, 0, 1, 0, 1, 1, 1, 0, 0, 1, 0, 0, 0, 1, 1, 0, 0, 0,\n",
       "        1, 0, 0, 1, 0, 0, 1, 0, 1, 0, 0, 0, 0, 1, 0, 0, 0, 0, 1, 0, 0, 1,\n",
       "        1, 0, 0, 0, 1, 0, 1, 0, 0, 0, 1, 0, 0, 1, 0, 0, 0, 0, 0, 0, 0, 0,\n",
       "        1, 0, 1, 0, 0, 0, 1, 1, 0, 1, 0, 1, 1, 0, 0, 1, 0, 1, 0, 0, 1, 0,\n",
       "        1, 0, 1, 0, 0, 0, 1, 0, 0, 0, 0], dtype=int64))"
      ]
     },
     "execution_count": 20,
     "metadata": {},
     "output_type": "execute_result"
    }
   ],
   "source": [
    "\n",
    "testY[1:100], clf.predict_classes(testX[1:100,:])"
   ]
  },
  {
   "cell_type": "code",
   "execution_count": 21,
   "metadata": {},
   "outputs": [
    {
     "name": "stdout",
     "output_type": "stream",
     "text": [
      "177983/177983 [==============================] - 2s 11us/step\n"
     ]
    },
    {
     "data": {
      "text/plain": [
       "[0.08602587855843674, 0.8811178595665043]"
      ]
     },
     "execution_count": 21,
     "metadata": {},
     "output_type": "execute_result"
    }
   ],
   "source": [
    "clf.evaluate(testX,onehot_encoded_test,verbose=1)"
   ]
  },
  {
   "cell_type": "code",
   "execution_count": 22,
   "metadata": {},
   "outputs": [],
   "source": [
    "# save model and weights\n",
    "clf_json = clf.to_json()\n",
    "with open(\"NN_OwnVoice_36-19-2_inputs_uniBF.json\", \"w\") as json_file:\n",
    "    json_file.write(clf_json)\n",
    "    \n",
    "clf.save_weights(\"NN_OwnVoice_36-19-2_inputs_uniBF_weights.h5\")"
   ]
  },
  {
   "cell_type": "code",
   "execution_count": 23,
   "metadata": {},
   "outputs": [],
   "source": [
    "np.save('TestX_NN_OwnVoice_uniBF',testX), np.save('TestY_NN_OwnVoice_uniBF',testY),\n",
    "np.save('OneHot_testY_uniBF',onehot_encoded_test)"
   ]
  },
  {
   "cell_type": "code",
   "execution_count": 24,
   "metadata": {},
   "outputs": [
    {
     "name": "stdout",
     "output_type": "stream",
     "text": [
      "177983/177983 [==============================] - 2s 9us/step\n"
     ]
    },
    {
     "data": {
      "text/plain": [
       "[0.08602587855843674, 0.8811178595665043]"
      ]
     },
     "execution_count": 24,
     "metadata": {},
     "output_type": "execute_result"
    }
   ],
   "source": [
    "clf.evaluate(testX,onehot_encoded_test,verbose=1)"
   ]
  },
  {
   "cell_type": "code",
   "execution_count": 38,
   "metadata": {},
   "outputs": [
    {
     "name": "stderr",
     "output_type": "stream",
     "text": [
      ".....................................................x...............................s...................................x....................................s...s......ss.ss..............................................................................ss....................ssssss...................................................................x....x.........................x......x.................................................ssss..................\n",
      "----------------------------------------------------------------------\n",
      "Ran 457 tests in 2.785s\n",
      "\n",
      "OK (skipped=19, expected failures=6)\n"
     ]
    },
    {
     "data": {
      "text/plain": [
       "<unittest.runner.TextTestResult run=457 errors=0 failures=0>"
      ]
     },
     "execution_count": 38,
     "metadata": {},
     "output_type": "execute_result"
    }
   ],
   "source": [
    "h5py.run_tests()"
   ]
  },
  {
   "cell_type": "code",
   "execution_count": 44,
   "metadata": {},
   "outputs": [
    {
     "data": {
      "text/plain": [
       "{'batch_size': 200,\n",
       " 'epochs': 150,\n",
       " 'steps': None,\n",
       " 'samples': 640737,\n",
       " 'verbose': 1,\n",
       " 'do_validation': True,\n",
       " 'metrics': ['loss',\n",
       "  'categorical_accuracy',\n",
       "  'val_loss',\n",
       "  'val_categorical_accuracy']}"
      ]
     },
     "execution_count": 44,
     "metadata": {},
     "output_type": "execute_result"
    }
   ],
   "source": [
    "history.params\n"
   ]
  },
  {
   "cell_type": "code",
   "execution_count": null,
   "metadata": {},
   "outputs": [],
   "source": []
  }
 ],
 "metadata": {
  "kernelspec": {
   "display_name": "Python 3",
   "language": "python",
   "name": "python3"
  },
  "language_info": {
   "codemirror_mode": {
    "name": "ipython",
    "version": 3
   },
   "file_extension": ".py",
   "mimetype": "text/x-python",
   "name": "python",
   "nbconvert_exporter": "python",
   "pygments_lexer": "ipython3",
   "version": "3.6.5"
  }
 },
 "nbformat": 4,
 "nbformat_minor": 2
}
