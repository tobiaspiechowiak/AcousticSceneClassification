{
 "cells": [
  {
   "cell_type": "code",
   "execution_count": 1,
   "metadata": {},
   "outputs": [],
   "source": [
    "#load packages\n",
    "import numpy as np\n",
    "import tensorflow as tf\n",
    "from tensorflow import keras \n",
    "import pandas as pd\n",
    "import soundfile as sf\n"
   ]
  },
  {
   "cell_type": "code",
   "execution_count": 2,
   "metadata": {},
   "outputs": [],
   "source": [
    "#import data \n",
    "path = 'x:/Steering/Recordings/Processed/'\n",
    "data, fs = sf.read(path + 'ERB=2.wav')\n",
    "classes = pd.read_csv(path + 'Classes_2.csv')\n"
   ]
  },
  {
   "cell_type": "code",
   "execution_count": 3,
   "metadata": {},
   "outputs": [],
   "source": [
    "# front left and front right as predictors\n",
    "X_1 = data[:len(data)-1,0*18:1*18] \n",
    "X_2 = data[:len(data)-1,3*18:4*18] \n",
    "X = np.hstack([X_1,X_2])\n",
    "Y = classes.values[:,0] "
   ]
  },
  {
   "cell_type": "code",
   "execution_count": 4,
   "metadata": {},
   "outputs": [
    {
     "data": {
      "text/plain": [
       "array([1, 1, 1, ..., 5, 5, 5], dtype=int64)"
      ]
     },
     "execution_count": 4,
     "metadata": {},
     "output_type": "execute_result"
    }
   ],
   "source": [
    "Y"
   ]
  },
  {
   "cell_type": "code",
   "execution_count": 5,
   "metadata": {},
   "outputs": [],
   "source": [
    "a = np.array(range(1,108,1))"
   ]
  },
  {
   "cell_type": "code",
   "execution_count": 6,
   "metadata": {},
   "outputs": [
    {
     "data": {
      "text/plain": [
       "(array([ 1,  2,  3,  4,  5,  6,  7,  8,  9, 10, 11, 12, 13, 14, 15, 16, 17,\n",
       "        18]),\n",
       " array([55, 56, 57, 58, 59, 60, 61, 62, 63, 64, 65, 66, 67, 68, 69, 70, 71,\n",
       "        72]))"
      ]
     },
     "execution_count": 6,
     "metadata": {},
     "output_type": "execute_result"
    }
   ],
   "source": [
    "a[0:18], a[3*18:4*18]"
   ]
  },
  {
   "cell_type": "code",
   "execution_count": null,
   "metadata": {},
   "outputs": [],
   "source": [
    "#split into training and test set\n",
    "from sklearn.model_selection import train_test_split\n",
    "trainX, testX, trainY, testY = train_test_split(X,Y,test_size=0.2,random_state=0)"
   ]
  },
  {
   "cell_type": "code",
   "execution_count": null,
   "metadata": {},
   "outputs": [],
   "source": [
    "#do one-hot encoding\n",
    "from sklearn.preprocessing import OneHotEncoder \n",
    "from sklearn.preprocessing import LabelEncoder\n",
    "\n",
    "enc = OneHotEncoder(sparse=False)"
   ]
  },
  {
   "cell_type": "code",
   "execution_count": null,
   "metadata": {},
   "outputs": [],
   "source": [
    "integer_encoded_train = trainY.reshape(len(trainY), 1)\n",
    "onehot_encoded_train = enc.fit_transform(integer_encoded_train)\n",
    "\n",
    "integer_encoded_test = testY.reshape(len(testY), 1)\n",
    "onehot_encoded_test = enc.fit_transform(integer_encoded_test)\n"
   ]
  },
  {
   "cell_type": "code",
   "execution_count": null,
   "metadata": {},
   "outputs": [],
   "source": [
    "onehot_encoded_train \n"
   ]
  },
  {
   "cell_type": "code",
   "execution_count": null,
   "metadata": {},
   "outputs": [],
   "source": [
    "#DC removal \n",
    "trainX -= (np.mean(trainX, axis=0) + 1e-8)\n",
    "testX -= (np.mean(testX, axis=0) + 1e-8)"
   ]
  },
  {
   "cell_type": "code",
   "execution_count": null,
   "metadata": {},
   "outputs": [],
   "source": [
    "clf = keras.Sequential()\n",
    "opt = keras.optimizers.Adam(lr=0.05)"
   ]
  },
  {
   "cell_type": "code",
   "execution_count": null,
   "metadata": {},
   "outputs": [],
   "source": [
    "onehot_encoded_train.shape[1], X.shape[1],onehot_encoded_train\n"
   ]
  },
  {
   "cell_type": "code",
   "execution_count": null,
   "metadata": {},
   "outputs": [],
   "source": [
    "\n",
    "clf.add(keras.layers.Dense(\n",
    "  units = 21,\n",
    "  input_dim = trainX.shape[1],   \n",
    "  activation = 'tanh'\n",
    "))\n",
    "\n",
    "clf.add(keras.layers.Dropout(0.2))\n",
    "\n",
    "clf.add(keras.layers.Dense(\n",
    "    units = onehot_encoded_train.shape[1],    \n",
    "    input_dim = 21,\n",
    "    activation = 'softmax'\n",
    "))\n",
    "\n"
   ]
  },
  {
   "cell_type": "code",
   "execution_count": 15,
   "metadata": {},
   "outputs": [
    {
     "data": {
      "text/plain": [
       "5"
      ]
     },
     "execution_count": 15,
     "metadata": {},
     "output_type": "execute_result"
    }
   ],
   "source": [
    "onehot_encoded_train.shape[1]"
   ]
  },
  {
   "cell_type": "code",
   "execution_count": 16,
   "metadata": {},
   "outputs": [],
   "source": [
    "clf.compile(loss='mean_squared_error',\n",
    "    optimizer=opt,\n",
    "           metrics=['categorical_accuracy'])"
   ]
  },
  {
   "cell_type": "code",
   "execution_count": 17,
   "metadata": {},
   "outputs": [
    {
     "name": "stdout",
     "output_type": "stream",
     "text": [
      "Train on 678412 samples, validate on 169604 samples\n",
      "Epoch 1/20\n",
      "678412/678412 [==============================] - 8s 12us/step - loss: 0.1447 - categorical_accuracy: 0.4162 - val_loss: 0.1427 - val_categorical_accuracy: 0.4471\n",
      "Epoch 2/20\n",
      "678412/678412 [==============================] - 7s 10us/step - loss: 0.1398 - categorical_accuracy: 0.4364 - val_loss: 0.1293 - val_categorical_accuracy: 0.4833\n",
      "Epoch 3/20\n",
      "678412/678412 [==============================] - 7s 11us/step - loss: 0.1334 - categorical_accuracy: 0.4654 - val_loss: 0.1253 - val_categorical_accuracy: 0.5032\n",
      "Epoch 4/20\n",
      "678412/678412 [==============================] - 7s 11us/step - loss: 0.1313 - categorical_accuracy: 0.4781 - val_loss: 0.1242 - val_categorical_accuracy: 0.5146\n",
      "Epoch 5/20\n",
      "678412/678412 [==============================] - 8s 12us/step - loss: 0.1303 - categorical_accuracy: 0.4833 - val_loss: 0.1241 - val_categorical_accuracy: 0.5071\n",
      "Epoch 6/20\n",
      "678412/678412 [==============================] - 8s 12us/step - loss: 0.1298 - categorical_accuracy: 0.4852 - val_loss: 0.1239 - val_categorical_accuracy: 0.5171\n",
      "Epoch 7/20\n",
      "678412/678412 [==============================] - 8s 12us/step - loss: 0.1295 - categorical_accuracy: 0.4860 - val_loss: 0.1230 - val_categorical_accuracy: 0.5281\n",
      "Epoch 8/20\n",
      "678412/678412 [==============================] - 8s 12us/step - loss: 0.1293 - categorical_accuracy: 0.4881 - val_loss: 0.1231 - val_categorical_accuracy: 0.5198\n",
      "Epoch 9/20\n",
      "678412/678412 [==============================] - 8s 11us/step - loss: 0.1292 - categorical_accuracy: 0.4883 - val_loss: 0.1221 - val_categorical_accuracy: 0.5193\n",
      "Epoch 10/20\n",
      "678412/678412 [==============================] - 7s 10us/step - loss: 0.1290 - categorical_accuracy: 0.4893 - val_loss: 0.1239 - val_categorical_accuracy: 0.5258\n",
      "Epoch 11/20\n",
      "678412/678412 [==============================] - 7s 10us/step - loss: 0.1288 - categorical_accuracy: 0.4895 - val_loss: 0.1236 - val_categorical_accuracy: 0.5160\n",
      "Epoch 12/20\n",
      "678412/678412 [==============================] - 7s 10us/step - loss: 0.1288 - categorical_accuracy: 0.4907 - val_loss: 0.1254 - val_categorical_accuracy: 0.5064\n",
      "Epoch 13/20\n",
      "678412/678412 [==============================] - 8s 11us/step - loss: 0.1286 - categorical_accuracy: 0.4905 - val_loss: 0.1231 - val_categorical_accuracy: 0.5281\n",
      "Epoch 14/20\n",
      "678412/678412 [==============================] - 9s 13us/step - loss: 0.1286 - categorical_accuracy: 0.4912 - val_loss: 0.1214 - val_categorical_accuracy: 0.5259\n",
      "Epoch 15/20\n",
      "678412/678412 [==============================] - 7s 11us/step - loss: 0.1285 - categorical_accuracy: 0.4912 - val_loss: 0.1228 - val_categorical_accuracy: 0.5258\n",
      "Epoch 16/20\n",
      "678412/678412 [==============================] - 8s 12us/step - loss: 0.1284 - categorical_accuracy: 0.4918 - val_loss: 0.1225 - val_categorical_accuracy: 0.5161\n",
      "Epoch 17/20\n",
      "678412/678412 [==============================] - 9s 13us/step - loss: 0.1284 - categorical_accuracy: 0.4917 - val_loss: 0.1217 - val_categorical_accuracy: 0.5300\n",
      "Epoch 18/20\n",
      "678412/678412 [==============================] - 8s 12us/step - loss: 0.1283 - categorical_accuracy: 0.4925 - val_loss: 0.1225 - val_categorical_accuracy: 0.5330\n",
      "Epoch 19/20\n",
      "678412/678412 [==============================] - 9s 13us/step - loss: 0.1282 - categorical_accuracy: 0.4928 - val_loss: 0.1221 - val_categorical_accuracy: 0.5306\n",
      "Epoch 20/20\n",
      "678412/678412 [==============================] - 8s 12us/step - loss: 0.1281 - categorical_accuracy: 0.4929 - val_loss: 0.1229 - val_categorical_accuracy: 0.5238\n"
     ]
    }
   ],
   "source": [
    "history = clf.fit(trainX,onehot_encoded_train,\n",
    "                 batch_size = 100, epochs = 20,\n",
    "                 verbose = 1,\n",
    "                 validation_split = 0.2)"
   ]
  },
  {
   "cell_type": "code",
   "execution_count": 18,
   "metadata": {},
   "outputs": [
    {
     "data": {
      "text/plain": [
       "(array([2, 4, 5, 4, 2, 4, 2, 2, 4, 5, 4, 2, 3, 2, 4, 4, 2, 2, 2, 2, 2, 2,\n",
       "        2, 2, 2, 2, 2, 4, 4, 2, 5, 3, 5, 2, 2, 2, 3, 3, 4, 4, 4, 2, 2, 2,\n",
       "        4, 4, 2, 5, 5, 4, 4, 4, 2, 2, 2, 2, 5, 4, 2, 5, 4, 5, 4, 2, 4, 5,\n",
       "        2, 5, 4, 2, 2, 2, 5, 2, 5, 2, 5, 2, 4, 4, 2, 2, 5, 3, 2, 4, 2, 4,\n",
       "        2, 2, 2, 2, 2, 4, 2, 2, 4, 4, 4], dtype=int64),\n",
       " array([4, 4, 3, 3, 2, 1, 4, 2, 5, 3, 4, 2, 3, 2, 5, 4, 2, 1, 5, 2, 4, 2,\n",
       "        2, 2, 2, 4, 1, 4, 5, 4, 3, 5, 4, 4, 2, 4, 3, 3, 3, 4, 1, 2, 2, 2,\n",
       "        1, 4, 2, 3, 5, 5, 4, 2, 2, 4, 2, 3, 5, 1, 4, 3, 1, 5, 2, 5, 3, 4,\n",
       "        2, 4, 4, 2, 1, 4, 4, 4, 4, 2, 3, 4, 2, 1, 2, 2, 5, 3, 4, 5, 2, 4,\n",
       "        1, 2, 4, 4, 2, 1, 4, 4, 5, 4, 4], dtype=int64))"
      ]
     },
     "execution_count": 18,
     "metadata": {},
     "output_type": "execute_result"
    }
   ],
   "source": [
    "clf.predict_classes(testX[1:100,:]) + 1,testY[1:100]"
   ]
  },
  {
   "cell_type": "code",
   "execution_count": 19,
   "metadata": {},
   "outputs": [
    {
     "name": "stdout",
     "output_type": "stream",
     "text": [
      "212005/212005 [==============================] - 2s 9us/step\n"
     ]
    },
    {
     "data": {
      "text/plain": [
       "[0.12289455891255065, 0.5234640692442122]"
      ]
     },
     "execution_count": 19,
     "metadata": {},
     "output_type": "execute_result"
    }
   ],
   "source": [
    "clf.evaluate(testX,onehot_encoded_test,verbose=1)"
   ]
  },
  {
   "cell_type": "code",
   "execution_count": 20,
   "metadata": {},
   "outputs": [],
   "source": [
    "# saving the model \n",
    "# save model and weights\n",
    "#clf_json = clf.to_json()\n",
    "#with open(\"NN_36-21-5.json\", \"w\") as json_file:\n",
    "#    json_file.write(clf_json)\n",
    "    \n",
    "#clf.save_weights(\"NN_36-21-5_weights.h5\")"
   ]
  },
  {
   "cell_type": "code",
   "execution_count": 21,
   "metadata": {},
   "outputs": [],
   "source": [
    "#np.save('TestX_NN_36-21-5',testX), np.save('TestY_NN_36-21-5',testY),\n",
    "#np.save('OneHot_testY_36-21-5',onehot_encoded_test)"
   ]
  },
  {
   "cell_type": "code",
   "execution_count": 22,
   "metadata": {},
   "outputs": [],
   "source": [
    "import matplotlib.pyplot as plt\n",
    "\n",
    "plt.plot(history.history['val_categorical_accuracy'])\n",
    "plt.plot(history.history['categorical_accuracy'])\n",
    "plt.title('Model accuracy')\n",
    "plt.ylabel('Accuracy')\n",
    "plt.xlabel('Epochs')\n",
    "plt.axis([0, 20, 0.5, 1])\n",
    "plt.legend(['Validation', 'Training'], loc='upper left')\n",
    "plt.savefig('Accuracy_left_right_ERB=2.png',dpi=100)"
   ]
  },
  {
   "cell_type": "code",
   "execution_count": 23,
   "metadata": {},
   "outputs": [],
   "source": [
    "#saving weights\n",
    "weights_first_layer = clf.layers[0].get_weights()[0]\n",
    "biases_first_layer = clf.layers[0].get_weights()[1]\n",
    "\n",
    "weights_second_layer = clf.layers[2].get_weights()[0]\n",
    "biases_second_layer = clf.layers[2].get_weights()[1]\n",
    "\n",
    "\n",
    "weights_first_layer = np.vstack([biases_first_layer, weights_first_layer])\n",
    "weights_second_layer = np.vstack([biases_second_layer, weights_second_layer])\n",
    "\n",
    "\n",
    "weights_first_layer_norm = weights_first_layer / abs(weights_first_layer).max()\n",
    "#biases_first_layer_norm = biases_first_layer / abs(biases_first_layer).max()\n",
    "\n",
    "weights_second_layer_norm = weights_second_layer / abs(weights_second_layer).max()\n",
    "#biases_second_layer_norm = biases_second_layer / abs(biases_second_layer).max()\n",
    "\n",
    "\n",
    "weights_first_layer_norm.shape, weights_second_layer_norm.shape\n",
    "\n",
    "abs(weights_first_layer).max(), abs(weights_second_layer).max()\n",
    "\n",
    "np.savetxt('weights_first_layer_norm_NN_36-21-5.txt',weights_first_layer_norm,delimiter= ',')\n",
    "np.savetxt('weights_second_layer_norm_NN_36-21-5.txt',weights_second_layer_norm,delimiter= ',')\n"
   ]
  },
  {
   "cell_type": "code",
   "execution_count": 24,
   "metadata": {},
   "outputs": [
    {
     "data": {
      "image/png": "[encoded data removed]",
      "text/plain": [
       "<Figure size 432x432 with 1 Axes>"
      ]
     },
     "metadata": {},
     "output_type": "display_data"
    }
   ],
   "source": [
    "#confusion matrix \n",
    "from sklearn.metrics import confusion_matrix\n",
    "import matplotlib.pyplot as plt\n",
    "\n",
    "cfm = confusion_matrix(testY,clf.predict_classes(testX)) \n",
    "\n",
    "a = [0 for x in range(5)]\n",
    "cfm_norm = np.zeros((5,5))#[[0 for x in range(5)] for y in range(5)]\n",
    "\n",
    "for idx in range(5):\n",
    "    cfm_norm[idx,:] = cfm[idx+1,:-1] / sum(cfm[idx+1,:-1]) #len(testY[testY == idx + 1])      \n",
    "\n",
    "cfm_norm = np.around(cfm_norm,decimals=3)\n",
    "\n",
    "#nicer confusion matrix\n",
    "fig, ax = plt.subplots(figsize = (6, 6))\n",
    "ax.matshow(cfm_norm,cmap=plt.cm.Blues,alpha=0.7)\n",
    "\n",
    "for i in range(cfm_norm.shape[0]):\n",
    "    for j in range(cfm_norm.shape[1]):\n",
    "        ax.text(x=j,y=i, s=cfm_norm[i,j],va='center', ha= 'center')\n",
    "\n",
    "ax.set_xticks([0,1,2,3,4])\n",
    "ax.set_yticks([0,1,2,3,4])\n",
    "ax.set_xticklabels(['Babble','Own-voice','Car','Speech','Traffic'])\n",
    "ax.set_yticklabels(['Babble','Own-voice','Car','Speech','Traffic'])\n",
    "ax.yaxis.set_label_coords(1.08,0.5)\n",
    "ax.xaxis.set_label_coords(0.51,-0.04)\n",
    "ax.set_xlabel('Predicted Class',fontsize=15)\n",
    "ax.set_ylabel('True Class',fontsize=15)\n",
    "fig.savefig('Conf_Matrix_left_right_ERB=2.png',dpi=100)\n"
   ]
  },
  {
   "cell_type": "code",
   "execution_count": 26,
   "metadata": {},
   "outputs": [
    {
     "data": {
      "text/plain": [
       "(0.7655062024809924, 0.413776976976977, 0.14656481779274239)"
      ]
     },
     "execution_count": 26,
     "metadata": {},
     "output_type": "execute_result"
    }
   ],
   "source": [
    "FP = cfm_norm.sum(axis=0) - np.diag(cfm_norm)  \n",
    "FN = cfm_norm.sum(axis=1) - np.diag(cfm_norm)\n",
    "TP = np.diag(cfm_norm)\n",
    "TN = cfm_norm.sum() - (FP + FN + TP)\n",
    "\n",
    "# Sensitivity, hit rate, recall, or true positive rate\n",
    "TPR = TP/(TP+FN)\n",
    "# Fall out or false positive rate\n",
    "FPR = FP/(FP+TN)\n",
    "\n",
    "# Overall accuracy\n",
    "ACC = (TP+TN)/(TP+FP+FN+TN)\n",
    "\n",
    "ACC.mean(),TPR.mean(), FPR.mean()"
   ]
  },
  {
   "cell_type": "code",
   "execution_count": null,
   "metadata": {},
   "outputs": [],
   "source": []
  }
 ],
 "metadata": {
  "kernelspec": {
   "display_name": "Python 3",
   "language": "python",
   "name": "python3"
  },
  "language_info": {
   "codemirror_mode": {
    "name": "ipython",
    "version": 3
   },
   "file_extension": ".py",
   "mimetype": "text/x-python",
   "name": "python",
   "nbconvert_exporter": "python",
   "pygments_lexer": "ipython3",
   "version": "3.6.5"
  }
 },
 "nbformat": 4,
 "nbformat_minor": 2
}
