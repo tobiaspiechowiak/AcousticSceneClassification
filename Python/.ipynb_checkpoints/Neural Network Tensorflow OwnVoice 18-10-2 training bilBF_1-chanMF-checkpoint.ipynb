{
 "cells": [
  {
   "cell_type": "code",
   "execution_count": 1,
   "metadata": {},
   "outputs": [],
   "source": [
    "#load packages\n",
    "import numpy as np\n",
    "import tensorflow as tf\n",
    "from tensorflow import keras \n",
    "import pandas as pd\n",
    "import soundfile as sf\n"
   ]
  },
  {
   "cell_type": "code",
   "execution_count": 2,
   "metadata": {},
   "outputs": [],
   "source": [
    "#import data \n",
    "path = 'e:/Processed/'     \n",
    "#'x:/Steering/Recordings/Processed/'\n",
    "data, fs = sf.read(path + 'ERB=2_MF_4Hz_bilBF.wav')\n",
    "classes = pd.read_csv(path + 'Classes_MF_4Hz_bilBF.csv')"
   ]
  },
  {
   "cell_type": "code",
   "execution_count": 3,
   "metadata": {},
   "outputs": [],
   "source": [
    "X = data[:len(data)-1,:data.shape[1]] \n",
    "Y = classes.values[:,0]"
   ]
  },
  {
   "cell_type": "code",
   "execution_count": 4,
   "metadata": {},
   "outputs": [
    {
     "data": {
      "text/plain": [
       "(979352, 979352, (979352, 18))"
      ]
     },
     "execution_count": 4,
     "metadata": {},
     "output_type": "execute_result"
    }
   ],
   "source": [
    "len(Y),len(X), X.shape"
   ]
  },
  {
   "cell_type": "code",
   "execution_count": 5,
   "metadata": {},
   "outputs": [],
   "source": [
    "#split into training and test set\n",
    "from sklearn.model_selection import train_test_split\n",
    "trainX, testX, trainY, testY = train_test_split(X,Y,test_size=0.2,random_state=0)"
   ]
  },
  {
   "cell_type": "code",
   "execution_count": 6,
   "metadata": {},
   "outputs": [],
   "source": [
    "#do one-hot encoding\n",
    "from sklearn.preprocessing import OneHotEncoder \n",
    "from sklearn.preprocessing import LabelEncoder\n",
    "\n",
    "enc = OneHotEncoder(sparse=False)"
   ]
  },
  {
   "cell_type": "code",
   "execution_count": 7,
   "metadata": {},
   "outputs": [
    {
     "name": "stderr",
     "output_type": "stream",
     "text": [
      "c:\\users\\tpiechowiak\\appdata\\local\\programs\\python\\python36\\lib\\site-packages\\sklearn\\preprocessing\\_encoders.py:363: FutureWarning: The handling of integer data will change in version 0.22. Currently, the categories are determined based on the range [0, max(values)], while in the future they will be determined based on the unique values.\n",
      "If you want the future behaviour and silence this warning, you can specify \"categories='auto'\".\n",
      "In case you used a LabelEncoder before this OneHotEncoder to convert the categories to integers, then you can now use the OneHotEncoder directly.\n",
      "  warnings.warn(msg, FutureWarning)\n",
      "c:\\users\\tpiechowiak\\appdata\\local\\programs\\python\\python36\\lib\\site-packages\\sklearn\\preprocessing\\_encoders.py:363: FutureWarning: The handling of integer data will change in version 0.22. Currently, the categories are determined based on the range [0, max(values)], while in the future they will be determined based on the unique values.\n",
      "If you want the future behaviour and silence this warning, you can specify \"categories='auto'\".\n",
      "In case you used a LabelEncoder before this OneHotEncoder to convert the categories to integers, then you can now use the OneHotEncoder directly.\n",
      "  warnings.warn(msg, FutureWarning)\n"
     ]
    }
   ],
   "source": [
    "integer_encoded_train = trainY.reshape(len(trainY), 1)\n",
    "onehot_encoded_train = enc.fit_transform(integer_encoded_train)\n",
    "\n",
    "integer_encoded_test = testY.reshape(len(testY), 1)\n",
    "onehot_encoded_test = enc.fit_transform(integer_encoded_test)"
   ]
  },
  {
   "cell_type": "code",
   "execution_count": 8,
   "metadata": {},
   "outputs": [
    {
     "data": {
      "text/plain": [
       "array([[0., 1.],\n",
       "       [1., 0.],\n",
       "       [0., 1.],\n",
       "       ...,\n",
       "       [0., 1.],\n",
       "       [0., 1.],\n",
       "       [0., 1.]])"
      ]
     },
     "execution_count": 8,
     "metadata": {},
     "output_type": "execute_result"
    }
   ],
   "source": [
    "onehot_encoded_train"
   ]
  },
  {
   "cell_type": "code",
   "execution_count": 9,
   "metadata": {},
   "outputs": [],
   "source": [
    "#DC removal \n",
    "trainX -= (np.mean(trainX, axis=0) + 1e-8)\n",
    "testX -= (np.mean(testX, axis=0) + 1e-8)"
   ]
  },
  {
   "cell_type": "code",
   "execution_count": 10,
   "metadata": {},
   "outputs": [],
   "source": [
    "clf = keras.Sequential()\n",
    "opt = keras.optimizers.Adam(lr=0.01)"
   ]
  },
  {
   "cell_type": "code",
   "execution_count": 11,
   "metadata": {},
   "outputs": [],
   "source": [
    "\n",
    "clf.add(keras.layers.Dense(\n",
    "  units = 11,\n",
    "  input_dim = trainX.shape[1],     \n",
    "  activation = 'tanh'\n",
    "))\n",
    "\n",
    "clf.add(keras.layers.Dropout(0.5))\n",
    "\n",
    "clf.add(keras.layers.Dense(\n",
    "    units = onehot_encoded_train.shape[1],    \n",
    "    input_dim = 11,\n",
    "    activation = 'softmax'\n",
    "))\n"
   ]
  },
  {
   "cell_type": "code",
   "execution_count": 12,
   "metadata": {},
   "outputs": [
    {
     "data": {
      "text/plain": [
       "(2, 18)"
      ]
     },
     "execution_count": 12,
     "metadata": {},
     "output_type": "execute_result"
    }
   ],
   "source": [
    "onehot_encoded_train.shape[1],trainX.shape[1]"
   ]
  },
  {
   "cell_type": "code",
   "execution_count": 13,
   "metadata": {},
   "outputs": [],
   "source": [
    "clf.compile(loss='mean_squared_error',\n",
    "    optimizer=opt,\n",
    "           metrics=['categorical_accuracy'])"
   ]
  },
  {
   "cell_type": "code",
   "execution_count": 14,
   "metadata": {},
   "outputs": [
    {
     "name": "stdout",
     "output_type": "stream",
     "text": [
      "Train on 626784 samples, validate on 156697 samples\n",
      "Epoch 1/20\n",
      "626784/626784 [==============================] - 9s 14us/step - loss: 0.1658 - categorical_accuracy: 0.7646 - val_loss: 0.1516 - val_categorical_accuracy: 0.7906\n",
      "Epoch 2/20\n",
      "626784/626784 [==============================] - 8s 13us/step - loss: 0.1482 - categorical_accuracy: 0.7963 - val_loss: 0.1463 - val_categorical_accuracy: 0.7999\n",
      "Epoch 3/20\n",
      "626784/626784 [==============================] - 8s 13us/step - loss: 0.1459 - categorical_accuracy: 0.8003 - val_loss: 0.1466 - val_categorical_accuracy: 0.7997\n",
      "Epoch 4/20\n",
      "626784/626784 [==============================] - 8s 13us/step - loss: 0.1454 - categorical_accuracy: 0.8009 - val_loss: 0.1460 - val_categorical_accuracy: 0.8011\n",
      "Epoch 5/20\n",
      "626784/626784 [==============================] - 8s 13us/step - loss: 0.1450 - categorical_accuracy: 0.8013 - val_loss: 0.1453 - val_categorical_accuracy: 0.8012\n",
      "Epoch 6/20\n",
      "626784/626784 [==============================] - 8s 13us/step - loss: 0.1447 - categorical_accuracy: 0.8018 - val_loss: 0.1454 - val_categorical_accuracy: 0.8013\n",
      "Epoch 7/20\n",
      "626784/626784 [==============================] - 8s 13us/step - loss: 0.1446 - categorical_accuracy: 0.8020 - val_loss: 0.1445 - val_categorical_accuracy: 0.8018\n",
      "Epoch 8/20\n",
      "626784/626784 [==============================] - 8s 13us/step - loss: 0.1445 - categorical_accuracy: 0.8023 - val_loss: 0.1442 - val_categorical_accuracy: 0.8027\n",
      "Epoch 9/20\n",
      "626784/626784 [==============================] - 8s 13us/step - loss: 0.1444 - categorical_accuracy: 0.8020 - val_loss: 0.1444 - val_categorical_accuracy: 0.8026\n",
      "Epoch 10/20\n",
      "626784/626784 [==============================] - 8s 13us/step - loss: 0.1443 - categorical_accuracy: 0.8025 - val_loss: 0.1443 - val_categorical_accuracy: 0.8024\n",
      "Epoch 11/20\n",
      "626784/626784 [==============================] - 8s 13us/step - loss: 0.1443 - categorical_accuracy: 0.8023 - val_loss: 0.1442 - val_categorical_accuracy: 0.8025\n",
      "Epoch 12/20\n",
      "626784/626784 [==============================] - 8s 13us/step - loss: 0.1442 - categorical_accuracy: 0.8025 - val_loss: 0.1445 - val_categorical_accuracy: 0.8024\n",
      "Epoch 13/20\n",
      "626784/626784 [==============================] - 8s 13us/step - loss: 0.1442 - categorical_accuracy: 0.8023 - val_loss: 0.1448 - val_categorical_accuracy: 0.8026\n",
      "Epoch 14/20\n",
      "626784/626784 [==============================] - 8s 13us/step - loss: 0.1442 - categorical_accuracy: 0.8025 - val_loss: 0.1445 - val_categorical_accuracy: 0.8028\n",
      "Epoch 15/20\n",
      "626784/626784 [==============================] - 8s 13us/step - loss: 0.1441 - categorical_accuracy: 0.8027 - val_loss: 0.1441 - val_categorical_accuracy: 0.8027\n",
      "Epoch 16/20\n",
      "626784/626784 [==============================] - 8s 13us/step - loss: 0.1437 - categorical_accuracy: 0.8030 - val_loss: 0.1432 - val_categorical_accuracy: 0.8038\n",
      "Epoch 17/20\n",
      "626784/626784 [==============================] - 8s 13us/step - loss: 0.1427 - categorical_accuracy: 0.8045 - val_loss: 0.1421 - val_categorical_accuracy: 0.8060\n",
      "Epoch 18/20\n",
      "626784/626784 [==============================] - 8s 13us/step - loss: 0.1423 - categorical_accuracy: 0.8054 - val_loss: 0.1421 - val_categorical_accuracy: 0.8065\n",
      "Epoch 19/20\n",
      "626784/626784 [==============================] - 8s 13us/step - loss: 0.1420 - categorical_accuracy: 0.8059 - val_loss: 0.1419 - val_categorical_accuracy: 0.8065\n",
      "Epoch 20/20\n",
      "626784/626784 [==============================] - 8s 13us/step - loss: 0.1418 - categorical_accuracy: 0.8063 - val_loss: 0.1415 - val_categorical_accuracy: 0.8074\n"
     ]
    }
   ],
   "source": [
    "history = clf.fit(trainX,onehot_encoded_train,\n",
    "                 batch_size = 100, epochs = 20,\n",
    "                 verbose = 1,\n",
    "                 validation_split = 0.2)"
   ]
  },
  {
   "cell_type": "code",
   "execution_count": 15,
   "metadata": {},
   "outputs": [
    {
     "data": {
      "text/plain": [
       "(array([1, 0, 0, 1, 0, 0, 0, 0, 1, 0, 1, 1, 1, 0, 0, 0, 1, 1, 0, 0, 0, 1,\n",
       "        0, 1, 0, 1, 0, 0, 0, 0, 0, 1, 1, 1, 0, 0, 0, 0, 0, 0, 0, 0, 0, 1,\n",
       "        1, 0, 1, 0, 0, 0, 1, 0, 0, 0, 1, 0, 0, 1, 0, 1, 0, 1, 0, 1, 0, 0,\n",
       "        0, 0, 0, 0, 0, 1, 0, 0, 0, 1, 0, 1, 1, 0, 1, 0, 0, 1, 1, 0, 0, 0,\n",
       "        0, 1, 0, 1, 0, 0, 0, 0, 1, 0, 1], dtype=int64),\n",
       " array([1, 0, 1, 0, 0, 0, 0, 0, 1, 0, 1, 1, 1, 0, 0, 0, 1, 0, 0, 0, 0, 1,\n",
       "        0, 1, 0, 1, 0, 1, 0, 0, 0, 0, 0, 1, 0, 1, 0, 0, 0, 0, 0, 0, 0, 1,\n",
       "        1, 0, 0, 1, 0, 0, 0, 0, 0, 0, 1, 0, 0, 1, 0, 1, 1, 1, 0, 1, 0, 0,\n",
       "        0, 0, 0, 0, 0, 1, 0, 0, 0, 0, 0, 0, 1, 0, 0, 0, 0, 1, 1, 0, 0, 0,\n",
       "        0, 0, 0, 0, 0, 0, 0, 0, 0, 1, 0], dtype=int64))"
      ]
     },
     "execution_count": 15,
     "metadata": {},
     "output_type": "execute_result"
    }
   ],
   "source": [
    "testY[1:100], clf.predict_classes(testX[1:100,:])"
   ]
  },
  {
   "cell_type": "code",
   "execution_count": 16,
   "metadata": {},
   "outputs": [
    {
     "data": {
      "text/plain": [
       "[0.14100275668471712, 0.8084861975447347]"
      ]
     },
     "execution_count": 16,
     "metadata": {},
     "output_type": "execute_result"
    }
   ],
   "source": [
    "clf.evaluate(testX,onehot_encoded_test,verbose=0)"
   ]
  },
  {
   "cell_type": "code",
   "execution_count": 17,
   "metadata": {},
   "outputs": [],
   "source": [
    "#clf_json = clf.to_json()\n",
    "#with open(\"NN_OwnVoice_18-10-2_inputs_bilBF_1-chanMF.json\", \"w\") as json_file:\n",
    "    #json_file.write(clf_json)\n",
    "    \n",
    "#clf.save_weights(\"NN_OwnVoice_18-10-2_inputs_bilBF_1-chanMF_weights.h5\")"
   ]
  },
  {
   "cell_type": "code",
   "execution_count": 18,
   "metadata": {},
   "outputs": [],
   "source": [
    "#np.save('TestX_NN_OwnVoice_bilateral_1-chanM',testX), np.save('TestY_NN_OwnVoice_bilateral_1-chanM',testY),\n",
    "#np.save('OneHot_testY_bilateral_1-chanM',onehot_encoded_test)"
   ]
  },
  {
   "cell_type": "code",
   "execution_count": 19,
   "metadata": {},
   "outputs": [],
   "source": [
    "import matplotlib.pyplot as plt"
   ]
  },
  {
   "cell_type": "code",
   "execution_count": 20,
   "metadata": {},
   "outputs": [
    {
     "data": {
      "image/png": "[encoded data removed]",
      "text/plain": [
       "<Figure size 432x288 with 1 Axes>"
      ]
     },
     "metadata": {
      "needs_background": "light"
     },
     "output_type": "display_data"
    }
   ],
   "source": [
    "plt.plot(history.history['val_categorical_accuracy'])\n",
    "plt.plot(history.history['categorical_accuracy'])\n",
    "plt.title('Model accuracy')\n",
    "plt.ylabel('Accuracy')\n",
    "plt.xlabel('Epochs')\n",
    "plt.axis([0, 20, 0.5, 1])\n",
    "plt.legend(['Validation', 'Training'], loc='upper left')\n",
    "plt.savefig('Accuracy_ERB=2_MF_1-chan_bilBF.png',dpi=150)"
   ]
  },
  {
   "cell_type": "code",
   "execution_count": null,
   "metadata": {},
   "outputs": [],
   "source": [
    "#saving weights\n",
    "weights_first_layer = clf.layers[0].get_weights()[0]\n",
    "biases_first_layer = clf.layers[0].get_weights()[1]\n",
    "\n",
    "weights_second_layer = clf.layers[2].get_weights()[0]\n",
    "biases_second_layer = clf.layers[2].get_weights()[1]\n",
    "\n",
    "\n",
    "weights_first_layer = np.vstack([biases_first_layer, weights_first_layer])\n",
    "weights_second_layer = np.vstack([biases_second_layer, weights_second_layer])\n",
    "\n",
    "\n",
    "weights_first_layer_norm = weights_first_layer / abs(weights_first_layer).max()\n",
    "#biases_first_layer_norm = biases_first_layer / abs(biases_first_layer).max()\n",
    "\n",
    "weights_second_layer_norm = weights_second_layer / abs(weights_second_layer).max()\n",
    "#biases_second_layer_norm = biases_second_layer / abs(biases_second_layer).max()\n",
    "\n",
    "\n",
    "weights_first_layer_norm.shape, weights_second_layer_norm.shape\n",
    "\n",
    "abs(weights_first_layer).max(), abs(weights_second_layer).max()\n",
    "\n",
    "np.savetxt('weights_first_layer_norm_NN_18-10-2_ownVoice_1-chan_MF.txt',\n",
    "           weights_first_layer_norm,delimiter= ',')\n",
    "np.savetxt('weights_second_layer_norm_NN_18-10-2_ownVoice_1-chan_MF.txt',\n",
    "           weights_second_layer_norm,delimiter= ',')\n"
   ]
  },
  {
   "cell_type": "code",
   "execution_count": null,
   "metadata": {},
   "outputs": [],
   "source": [
    "#confusion matrix \n",
    "from sklearn.metrics import confusion_matrix\n",
    "import matplotlib.pyplot as plt\n",
    "\n",
    "cfm = confusion_matrix(testY,clf.predict_classes(testX)) \n",
    "\n",
    "a = [0 for x in range(2)]\n",
    "cfm_norm = np.zeros((2,2))#[[0 for x in range(5)] for y in range(5)]\n",
    "\n",
    "for idx in range(2):\n",
    "    cfm_norm[idx,:] = cfm[idx,:] / sum(cfm[idx,:]) #len(testY[testY == idx + 1])      \n",
    "\n",
    "cfm_norm = np.around(cfm_norm,decimals=3)\n",
    "\n",
    "#nicer confusion matrix\n",
    "fig, ax = plt.subplots(figsize = (6, 6))\n",
    "ax.matshow(cfm_norm,cmap=plt.cm.Blues,alpha=0.7)\n",
    "\n",
    "for i in range(cfm_norm.shape[0]):\n",
    "    for j in range(cfm_norm.shape[1]):\n",
    "        ax.text(x=j,y=i, s=cfm_norm[i,j],va='center', ha= 'center',fontsize=15)\n",
    "  \n",
    "ax.set_xticks([0,1])\n",
    "ax.set_yticks([0,1])\n",
    "ax.set_xticklabels(['Other','Own-voice'])\n",
    "ax.set_yticklabels(['Other','Own-voice'])\n",
    "ax.yaxis.set_label_coords(1.1,0.5)\n",
    "ax.xaxis.set_label_coords(0.51,-0.07)\n",
    "ax.set_xlabel('Predicted Class',fontsize=13)\n",
    "ax.set_ylabel('True Class',fontsize=13)\n",
    "fig.savefig('Conf_Matrix_OwnVoice_bilBF_1-chan_MF.png',dpi=100)\n"
   ]
  },
  {
   "cell_type": "code",
   "execution_count": null,
   "metadata": {},
   "outputs": [],
   "source": [
    "FP = cfm_norm.sum(axis=0) - np.diag(cfm_norm)  \n",
    "FN = cfm_norm.sum(axis=1) - np.diag(cfm_norm)\n",
    "TP = np.diag(cfm_norm)\n",
    "TN = cfm_norm.sum() - (FP + FN + TP)\n",
    "\n",
    "# Sensitivity, hit rate, recall, or true positive rate\n",
    "TPR = TP/(TP+FN)\n",
    "# Fall out or false positive rate\n",
    "FPR = FP/(FP+TN)\n",
    "\n",
    "# Overall accuracy\n",
    "ACC = (TP+TN)/(TP+FP+FN+TN)\n",
    "\n",
    "ACC.mean(),TPR.mean(), FPR.mean()"
   ]
  }
 ],
 "metadata": {
  "kernelspec": {
   "display_name": "Python 3",
   "language": "python",
   "name": "python3"
  },
  "language_info": {
   "codemirror_mode": {
    "name": "ipython",
    "version": 3
   },
   "file_extension": ".py",
   "mimetype": "text/x-python",
   "name": "python",
   "nbconvert_exporter": "python",
   "pygments_lexer": "ipython3",
   "version": "3.6.5"
  }
 },
 "nbformat": 4,
 "nbformat_minor": 2
}
