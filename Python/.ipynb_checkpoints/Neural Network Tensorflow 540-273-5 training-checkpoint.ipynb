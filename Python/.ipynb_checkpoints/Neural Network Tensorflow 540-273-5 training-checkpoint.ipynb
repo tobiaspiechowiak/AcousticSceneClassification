{
 "cells": [
  {
   "cell_type": "code",
   "execution_count": 1,
   "metadata": {},
   "outputs": [],
   "source": [
    "#load packages\n",
    "import numpy as np\n",
    "import tensorflow as tf\n",
    "from tensorflow import keras \n",
    "import pandas as pd\n",
    "import soundfile as sf\n"
   ]
  },
  {
   "cell_type": "code",
   "execution_count": 2,
   "metadata": {},
   "outputs": [],
   "source": [
    "#import data \n",
    "path = 'x:/Steering/Recordings/Processed/'\n",
    "data1,_ = sf.read(path + 'ERB=2_MF_01.wav')\n",
    "data2,_ = sf.read(path + 'ERB=2_MF_02.wav')\n",
    "data3,_ = sf.read(path + 'ERB=2_MF_03.wav')\n",
    "\n",
    "classes = pd.read_csv(path + 'Classes_2_MF.csv')\n",
    "\n",
    "data = np.hstack([data1, data2, data3])"
   ]
  },
  {
   "cell_type": "code",
   "execution_count": 3,
   "metadata": {},
   "outputs": [
    {
     "data": {
      "text/plain": [
       "(1060022, 540)"
      ]
     },
     "execution_count": 3,
     "metadata": {},
     "output_type": "execute_result"
    }
   ],
   "source": [
    "data.shape"
   ]
  },
  {
   "cell_type": "code",
   "execution_count": 4,
   "metadata": {},
   "outputs": [],
   "source": [
    "X = data[:len(data)-1,:data.shape[1]] #775361\n",
    "Y = classes.values[:,0]"
   ]
  },
  {
   "cell_type": "code",
   "execution_count": 5,
   "metadata": {},
   "outputs": [
    {
     "data": {
      "text/plain": [
       "((1060021, 540), (1060021,))"
      ]
     },
     "execution_count": 5,
     "metadata": {},
     "output_type": "execute_result"
    }
   ],
   "source": [
    "X.shape, Y.shape"
   ]
  },
  {
   "cell_type": "code",
   "execution_count": 6,
   "metadata": {},
   "outputs": [],
   "source": [
    "#split into training and test set\n",
    "from sklearn.model_selection import train_test_split\n",
    "trainX, testX, trainY, testY = train_test_split(X,Y,test_size=0.2,random_state=0)"
   ]
  },
  {
   "cell_type": "code",
   "execution_count": 7,
   "metadata": {},
   "outputs": [],
   "source": [
    "#do one-hot encoding\n",
    "from sklearn.preprocessing import OneHotEncoder \n",
    "from sklearn.preprocessing import LabelEncoder\n",
    "\n",
    "enc = OneHotEncoder(sparse=False)"
   ]
  },
  {
   "cell_type": "code",
   "execution_count": 8,
   "metadata": {},
   "outputs": [],
   "source": [
    "integer_encoded_train = trainY.reshape(len(trainY), 1)\n",
    "onehot_encoded_train = enc.fit_transform(integer_encoded_train)\n",
    "\n",
    "integer_encoded_test = testY.reshape(len(testY), 1)\n",
    "onehot_encoded_test = enc.fit_transform(integer_encoded_test)"
   ]
  },
  {
   "cell_type": "code",
   "execution_count": 9,
   "metadata": {},
   "outputs": [
    {
     "data": {
      "text/plain": [
       "array([[0., 0., 0., 1., 0.],\n",
       "       [0., 0., 0., 0., 1.],\n",
       "       [0., 0., 0., 0., 1.],\n",
       "       ...,\n",
       "       [0., 0., 0., 0., 1.],\n",
       "       [0., 1., 0., 0., 0.],\n",
       "       [0., 1., 0., 0., 0.]])"
      ]
     },
     "execution_count": 9,
     "metadata": {},
     "output_type": "execute_result"
    }
   ],
   "source": [
    "onehot_encoded_train \n"
   ]
  },
  {
   "cell_type": "code",
   "execution_count": 10,
   "metadata": {},
   "outputs": [],
   "source": [
    "#DC removal \n",
    "trainX -= (np.mean(trainX, axis=0) + 1e-8)\n",
    "testX -= (np.mean(testX, axis=0) + 1e-8)"
   ]
  },
  {
   "cell_type": "code",
   "execution_count": 11,
   "metadata": {},
   "outputs": [],
   "source": [
    "clf = keras.Sequential()\n",
    "opt = keras.optimizers.Adam(lr=0.05)"
   ]
  },
  {
   "cell_type": "code",
   "execution_count": 12,
   "metadata": {},
   "outputs": [
    {
     "data": {
      "text/plain": [
       "((848016, 540), (848016, 5))"
      ]
     },
     "execution_count": 12,
     "metadata": {},
     "output_type": "execute_result"
    }
   ],
   "source": [
    "trainX.shape, onehot_encoded_train.shape"
   ]
  },
  {
   "cell_type": "code",
   "execution_count": 13,
   "metadata": {},
   "outputs": [],
   "source": [
    "\n",
    "clf.add(keras.layers.Dense(\n",
    "  units = 273,\n",
    "  input_dim = trainX.shape[1], \n",
    "  activation = 'tanh'\n",
    "))\n",
    "\n",
    "clf.add(keras.layers.Dropout(0.2))\n",
    "\n",
    "clf.add(keras.layers.Dense(\n",
    "    units = onehot_encoded_train.shape[1],    \n",
    "    input_dim = 273,\n",
    "    activation = 'softmax'\n",
    "))\n"
   ]
  },
  {
   "cell_type": "code",
   "execution_count": 14,
   "metadata": {},
   "outputs": [],
   "source": [
    "clf.compile(loss='mean_squared_error',\n",
    "    optimizer=opt,\n",
    "           metrics=['categorical_accuracy'])"
   ]
  },
  {
   "cell_type": "code",
   "execution_count": 15,
   "metadata": {},
   "outputs": [
    {
     "name": "stdout",
     "output_type": "stream",
     "text": [
      "Train on 678412 samples, validate on 169604 samples\n",
      "Epoch 1/20\n",
      "678412/678412 [==============================] - 133s 195us/step - loss: 0.1131 - categorical_accuracy: 0.7112 - val_loss: 0.1003 - val_categorical_accuracy: 0.7469\n",
      "Epoch 2/20\n",
      "678412/678412 [==============================] - 35s 52us/step - loss: 0.0991 - categorical_accuracy: 0.7502 - val_loss: 0.0944 - val_categorical_accuracy: 0.7624\n",
      "Epoch 3/20\n",
      "678412/678412 [==============================] - 35s 51us/step - loss: 0.0956 - categorical_accuracy: 0.7596 - val_loss: 0.0872 - val_categorical_accuracy: 0.7806\n",
      "Epoch 4/20\n",
      "678412/678412 [==============================] - 34s 50us/step - loss: 0.0940 - categorical_accuracy: 0.7636 - val_loss: 0.0857 - val_categorical_accuracy: 0.7846\n",
      "Epoch 5/20\n",
      "678412/678412 [==============================] - 34s 50us/step - loss: 0.0925 - categorical_accuracy: 0.7677 - val_loss: 0.0809 - val_categorical_accuracy: 0.7966\n",
      "Epoch 6/20\n",
      "678412/678412 [==============================] - 34s 50us/step - loss: 0.0923 - categorical_accuracy: 0.7680 - val_loss: 0.0841 - val_categorical_accuracy: 0.7888\n",
      "Epoch 7/20\n",
      "678412/678412 [==============================] - 34s 50us/step - loss: 0.0905 - categorical_accuracy: 0.7727 - val_loss: 0.0810 - val_categorical_accuracy: 0.7966\n",
      "Epoch 8/20\n",
      "678412/678412 [==============================] - 34s 50us/step - loss: 0.0910 - categorical_accuracy: 0.7714 - val_loss: 0.0799 - val_categorical_accuracy: 0.7993\n",
      "Epoch 9/20\n",
      "678412/678412 [==============================] - 33s 49us/step - loss: 0.0894 - categorical_accuracy: 0.7756 - val_loss: 0.0834 - val_categorical_accuracy: 0.7906\n",
      "Epoch 10/20\n",
      "678412/678412 [==============================] - 33s 49us/step - loss: 0.0889 - categorical_accuracy: 0.7768 - val_loss: 0.0796 - val_categorical_accuracy: 0.8002\n",
      "Epoch 11/20\n",
      "678412/678412 [==============================] - 34s 50us/step - loss: 0.0877 - categorical_accuracy: 0.7800 - val_loss: 0.0791 - val_categorical_accuracy: 0.8015\n",
      "Epoch 12/20\n",
      "678412/678412 [==============================] - 33s 49us/step - loss: 0.0884 - categorical_accuracy: 0.7782 - val_loss: 0.0795 - val_categorical_accuracy: 0.8007\n",
      "Epoch 13/20\n",
      "678412/678412 [==============================] - 34s 49us/step - loss: 0.0875 - categorical_accuracy: 0.7805 - val_loss: 0.0799 - val_categorical_accuracy: 0.7996\n",
      "Epoch 14/20\n",
      "678412/678412 [==============================] - 33s 49us/step - loss: 0.0865 - categorical_accuracy: 0.7831 - val_loss: 0.0773 - val_categorical_accuracy: 0.8060\n",
      "Epoch 15/20\n",
      "678412/678412 [==============================] - 34s 50us/step - loss: 0.0858 - categorical_accuracy: 0.7849 - val_loss: 0.0729 - val_categorical_accuracy: 0.8171\n",
      "Epoch 16/20\n",
      "678412/678412 [==============================] - 34s 51us/step - loss: 0.0856 - categorical_accuracy: 0.7854 - val_loss: 0.0789 - val_categorical_accuracy: 0.8021\n",
      "Epoch 17/20\n",
      "678412/678412 [==============================] - 34s 50us/step - loss: 0.0853 - categorical_accuracy: 0.7861 - val_loss: 0.0756 - val_categorical_accuracy: 0.8106\n",
      "Epoch 18/20\n",
      "678412/678412 [==============================] - 35s 52us/step - loss: 0.0861 - categorical_accuracy: 0.7842 - val_loss: 0.0755 - val_categorical_accuracy: 0.8108\n",
      "Epoch 19/20\n",
      "678412/678412 [==============================] - 35s 51us/step - loss: 0.0857 - categorical_accuracy: 0.7853 - val_loss: 0.0751 - val_categorical_accuracy: 0.8117\n",
      "Epoch 20/20\n",
      "678412/678412 [==============================] - 36s 53us/step - loss: 0.0860 - categorical_accuracy: 0.7844 - val_loss: 0.0759 - val_categorical_accuracy: 0.8097\n"
     ]
    }
   ],
   "source": [
    "history = clf.fit(trainX,onehot_encoded_train,\n",
    "                 batch_size = 100, epochs = 20,\n",
    "                 verbose = 1,\n",
    "                 validation_split = 0.2)"
   ]
  },
  {
   "cell_type": "code",
   "execution_count": 16,
   "metadata": {},
   "outputs": [
    {
     "data": {
      "text/plain": [
       "540"
      ]
     },
     "execution_count": 16,
     "metadata": {},
     "output_type": "execute_result"
    }
   ],
   "source": [
    "data.shape[1]"
   ]
  },
  {
   "cell_type": "code",
   "execution_count": 17,
   "metadata": {},
   "outputs": [
    {
     "data": {
      "text/plain": [
       "(array([4, 4, 3, 3, 2, 1, 4, 2, 5, 3, 5, 2, 3, 2, 4, 4, 2, 1, 2, 2, 4, 2,\n",
       "        2, 2, 2, 4, 1, 4, 4, 4, 3, 5, 4, 2, 2, 4, 3, 3, 3, 4, 1, 2, 2, 2,\n",
       "        1, 4, 2, 3, 4, 4, 4, 2, 2, 4, 1, 3, 5, 1, 4, 3, 1, 4, 2, 1, 3, 5,\n",
       "        2, 4, 4, 2, 1, 4, 1, 2, 4, 2, 3, 4, 2, 1, 2, 2, 1, 3, 2, 5, 2, 4,\n",
       "        1, 2, 4, 2, 4, 1, 4, 4, 4, 4, 4], dtype=int64),\n",
       " array([4, 4, 4, 3, 3, 2, 1, 4, 2, 5, 3, 4, 2, 3, 2, 5, 4, 2, 1, 5, 2, 4,\n",
       "        2, 2, 2, 2, 4, 1, 4, 5, 4, 3, 5, 4, 4, 2, 4, 3, 3, 3, 4, 1, 2, 2,\n",
       "        2, 1, 4, 2, 3, 5, 5, 4, 2, 2, 4, 2, 3, 5, 1, 4, 3, 1, 5, 2, 5, 3,\n",
       "        4, 2, 4, 4, 2, 1, 4, 4, 4, 4, 2, 3, 4, 2, 1, 2, 2, 5, 3, 4, 5, 2,\n",
       "        4, 1, 2, 4, 4, 2, 1, 4, 4, 5, 4, 4], dtype=int64))"
      ]
     },
     "execution_count": 17,
     "metadata": {},
     "output_type": "execute_result"
    }
   ],
   "source": [
    "clf.predict_classes(testX[1:100,:]) +1 ,testY[:100]"
   ]
  },
  {
   "cell_type": "code",
   "execution_count": 18,
   "metadata": {},
   "outputs": [],
   "source": [
    "# saving the model \n",
    "# save model and weights\n",
    "#clf_json = clf.to_json()\n",
    "#with open(\"NN_540-273-5.json\", \"w\") as json_file:\n",
    "#    json_file.write(clf_json)\n",
    "    \n",
    "#clf.save_weights(\"NN_540-273-5_weights.h5\")"
   ]
  },
  {
   "cell_type": "code",
   "execution_count": 19,
   "metadata": {},
   "outputs": [],
   "source": [
    "#np.save('TestX_NN_540-273-5',testX), np.save('TestY_NN_540-273-5',testY),\n",
    "#np.save('OneHot_testY_540-273-5',onehot_encoded_test)"
   ]
  },
  {
   "cell_type": "code",
   "execution_count": 20,
   "metadata": {},
   "outputs": [
    {
     "name": "stdout",
     "output_type": "stream",
     "text": [
      "212005/212005 [==============================] - 11s 52us/step\n"
     ]
    },
    {
     "data": {
      "text/plain": [
       "[0.07667294247575628, 0.8078111365297989]"
      ]
     },
     "execution_count": 20,
     "metadata": {},
     "output_type": "execute_result"
    }
   ],
   "source": [
    "clf.evaluate(testX,onehot_encoded_test)"
   ]
  },
  {
   "cell_type": "code",
   "execution_count": 21,
   "metadata": {},
   "outputs": [],
   "source": [
    "import matplotlib.pyplot as plt\n",
    "\n",
    "plt.plot(history.history['val_categorical_accuracy'])\n",
    "plt.plot(history.history['categorical_accuracy'])\n",
    "plt.title('Model accuracy')\n",
    "plt.ylabel('accuracy')\n",
    "plt.xlabel('epoch')\n",
    "plt.axis([0, 20, 0.5, 1])\n",
    "plt.legend(['Validation', 'Training'], loc='upper left')\n",
    "plt.savefig('Accuracy_ERB=2_MF.png',dpi=100)\n"
   ]
  },
  {
   "cell_type": "code",
   "execution_count": 22,
   "metadata": {},
   "outputs": [],
   "source": [
    "#saving weights\n",
    "weights_first_layer = clf.layers[0].get_weights()[0]\n",
    "biases_first_layer = clf.layers[0].get_weights()[1]\n",
    "\n",
    "weights_second_layer = clf.layers[2].get_weights()[0]\n",
    "biases_second_layer = clf.layers[2].get_weights()[1]\n",
    "\n",
    "\n",
    "weights_first_layer = np.vstack([biases_first_layer, weights_first_layer])\n",
    "weights_second_layer = np.vstack([biases_second_layer, weights_second_layer])\n",
    "\n",
    "\n",
    "weights_first_layer_norm = weights_first_layer / abs(weights_first_layer).max()\n",
    "#biases_first_layer_norm = biases_first_layer / abs(biases_first_layer).max()\n",
    "\n",
    "weights_second_layer_norm = weights_second_layer / abs(weights_second_layer).max()\n",
    "#biases_second_layer_norm = biases_second_layer / abs(biases_second_layer).max()\n",
    "\n",
    "\n",
    "weights_first_layer_norm.shape, weights_second_layer_norm.shape\n",
    "\n",
    "abs(weights_first_layer).max(), abs(weights_second_layer).max()\n",
    "\n",
    "np.savetxt('weights_first_layer_norm_NN_540-273-5.txt',weights_first_layer_norm,delimiter= ',')\n",
    "np.savetxt('weights_second_layer_norm_NN_540-273-5.txt',weights_second_layer_norm,delimiter= ',')\n"
   ]
  },
  {
   "cell_type": "code",
   "execution_count": 23,
   "metadata": {},
   "outputs": [
    {
     "data": {
      "image/png": "[encoded data removed]",
      "text/plain": [
       "<Figure size 432x432 with 1 Axes>"
      ]
     },
     "metadata": {},
     "output_type": "display_data"
    }
   ],
   "source": [
    "#confusion matrix \n",
    "from sklearn.metrics import confusion_matrix\n",
    "import matplotlib.pyplot as plt\n",
    "\n",
    "cfm = confusion_matrix(testY,clf.predict_classes(testX)) \n",
    "\n",
    "a = [0 for x in range(5)]\n",
    "cfm_norm = np.zeros((5,5))#[[0 for x in range(5)] for y in range(5)]\n",
    "\n",
    "for idx in range(5):\n",
    "    cfm_norm[idx,:] = cfm[idx+1,:-1] / sum(cfm[idx+1,:-1]) #len(testY[testY == idx + 1])      \n",
    "\n",
    "cfm_norm = np.around(cfm_norm,decimals=3)\n",
    "\n",
    "#nicer confusion matrix\n",
    "fig, ax = plt.subplots(figsize = (6, 6))\n",
    "ax.matshow(cfm_norm,cmap=plt.cm.Blues,alpha=0.7)\n",
    "\n",
    "for i in range(cfm_norm.shape[0]):\n",
    "    for j in range(cfm_norm.shape[1]):\n",
    "        ax.text(x=j,y=i, s=cfm_norm[i,j],va='center', ha= 'center')\n",
    "\n",
    "ax.set_xticks([0,1,2,3,4])\n",
    "ax.set_yticks([0,1,2,3,4])\n",
    "ax.set_xticklabels(['Babble','Own-voice','Car','Speech','Traffic'])\n",
    "ax.set_yticklabels(['Babble','Own-voice','Car','Speech','Traffic'])\n",
    "ax.yaxis.set_label_coords(1.08,0.5)\n",
    "ax.xaxis.set_label_coords(0.51,-0.04)\n",
    "ax.set_xlabel('Predicted Class',fontsize=15)\n",
    "ax.set_ylabel('True Class',fontsize=15)\n",
    "fig.savefig('Conf_Matrix_ERB=2_MF.png',dpi=100)\n"
   ]
  },
  {
   "cell_type": "code",
   "execution_count": 24,
   "metadata": {},
   "outputs": [
    {
     "data": {
      "text/plain": [
       "(0.929157494496698, 0.8229177177177178, 0.04427482693060316)"
      ]
     },
     "execution_count": 24,
     "metadata": {},
     "output_type": "execute_result"
    }
   ],
   "source": [
    "FP = cfm_norm.sum(axis=0) - np.diag(cfm_norm)  \n",
    "FN = cfm_norm.sum(axis=1) - np.diag(cfm_norm)\n",
    "TP = np.diag(cfm_norm)\n",
    "TN = cfm_norm.sum() - (FP + FN + TP)\n",
    "\n",
    "# Sensitivity, hit rate, recall, or true positive rate\n",
    "TPR = TP/(TP+FN)\n",
    "# Fall out or false positive rate\n",
    "FPR = FP/(FP+TN)\n",
    "\n",
    "# Overall accuracy\n",
    "ACC = (TP+TN)/(TP+FP+FN+TN)\n",
    "\n",
    "ACC.mean(),TPR.mean(), FPR.mean()"
   ]
  },
  {
   "cell_type": "code",
   "execution_count": null,
   "metadata": {},
   "outputs": [],
   "source": []
  }
 ],
 "metadata": {
  "kernelspec": {
   "display_name": "Python 3",
   "language": "python",
   "name": "python3"
  },
  "language_info": {
   "codemirror_mode": {
    "name": "ipython",
    "version": 3
   },
   "file_extension": ".py",
   "mimetype": "text/x-python",
   "name": "python",
   "nbconvert_exporter": "python",
   "pygments_lexer": "ipython3",
   "version": "3.6.5"
  }
 },
 "nbformat": 4,
 "nbformat_minor": 2
}
