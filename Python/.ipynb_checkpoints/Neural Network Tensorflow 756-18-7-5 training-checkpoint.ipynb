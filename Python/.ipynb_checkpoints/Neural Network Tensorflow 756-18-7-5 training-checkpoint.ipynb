{
 "cells": [
  {
   "cell_type": "code",
   "execution_count": 25,
   "metadata": {},
   "outputs": [],
   "source": [
    "#load packages\n",
    "import numpy as np\n",
    "import tensorflow as tf\n",
    "from tensorflow import keras \n",
    "import pandas as pd\n",
    "import soundfile as sf\n"
   ]
  },
  {
   "cell_type": "code",
   "execution_count": 26,
   "metadata": {},
   "outputs": [],
   "source": [
    "#import data \n",
    "path = 'x:/Steering/Recordings/Processed/'\n",
    "data1,_ = sf.read(path + 'ERB=2_MF_01.wav')\n",
    "data2,_ = sf.read(path + 'ERB=2_MF_02.wav')\n",
    "data3,_ = sf.read(path + 'ERB=2_MF_03.wav')\n",
    "\n",
    "classes = pd.read_csv(path + 'Classes_2_MF.csv')\n",
    "\n",
    "data = np.hstack([data1, data2, data3])"
   ]
  },
  {
   "cell_type": "code",
   "execution_count": 27,
   "metadata": {},
   "outputs": [
    {
     "data": {
      "text/plain": [
       "(970584, 756)"
      ]
     },
     "execution_count": 27,
     "metadata": {},
     "output_type": "execute_result"
    }
   ],
   "source": [
    "data.shape"
   ]
  },
  {
   "cell_type": "code",
   "execution_count": 28,
   "metadata": {},
   "outputs": [],
   "source": [
    "X = data[:len(data)-1,:data.shape[1]] #775361\n",
    "Y = classes.values[:,0]"
   ]
  },
  {
   "cell_type": "code",
   "execution_count": 29,
   "metadata": {},
   "outputs": [
    {
     "data": {
      "text/plain": [
       "((970583, 756), (970583,))"
      ]
     },
     "execution_count": 29,
     "metadata": {},
     "output_type": "execute_result"
    }
   ],
   "source": [
    "X.shape, Y.shape"
   ]
  },
  {
   "cell_type": "code",
   "execution_count": 30,
   "metadata": {},
   "outputs": [],
   "source": [
    "#split into training and test set\n",
    "from sklearn.model_selection import train_test_split\n",
    "trainX, testX, trainY, testY = train_test_split(X,Y,test_size=0.2,random_state=0)"
   ]
  },
  {
   "cell_type": "code",
   "execution_count": 31,
   "metadata": {},
   "outputs": [],
   "source": [
    "#do one-hot encoding\n",
    "from sklearn.preprocessing import OneHotEncoder \n",
    "from sklearn.preprocessing import LabelEncoder\n",
    "\n",
    "enc = OneHotEncoder(sparse=False)"
   ]
  },
  {
   "cell_type": "code",
   "execution_count": 32,
   "metadata": {},
   "outputs": [],
   "source": [
    "integer_encoded_train = trainY.reshape(len(trainY), 1)\n",
    "onehot_encoded_train = enc.fit_transform(integer_encoded_train)\n",
    "\n",
    "integer_encoded_test = testY.reshape(len(testY), 1)\n",
    "onehot_encoded_test = enc.fit_transform(integer_encoded_test)"
   ]
  },
  {
   "cell_type": "code",
   "execution_count": 33,
   "metadata": {},
   "outputs": [
    {
     "data": {
      "text/plain": [
       "array([[0., 1., 0., 0., 0.],\n",
       "       [0., 0., 0., 0., 1.],\n",
       "       [0., 0., 0., 0., 1.],\n",
       "       ...,\n",
       "       [0., 1., 0., 0., 0.],\n",
       "       [0., 0., 1., 0., 0.],\n",
       "       [0., 1., 0., 0., 0.]])"
      ]
     },
     "execution_count": 33,
     "metadata": {},
     "output_type": "execute_result"
    }
   ],
   "source": [
    "onehot_encoded_train \n"
   ]
  },
  {
   "cell_type": "code",
   "execution_count": 34,
   "metadata": {},
   "outputs": [],
   "source": [
    "#DC removal \n",
    "trainX -= (np.mean(trainX, axis=0) + 1e-8)\n",
    "testX -= (np.mean(testX, axis=0) + 1e-8)"
   ]
  },
  {
   "cell_type": "code",
   "execution_count": 35,
   "metadata": {},
   "outputs": [],
   "source": [
    "clf = keras.Sequential()"
   ]
  },
  {
   "cell_type": "code",
   "execution_count": 36,
   "metadata": {},
   "outputs": [
    {
     "data": {
      "text/plain": [
       "((776466, 756), (776466, 5))"
      ]
     },
     "execution_count": 36,
     "metadata": {},
     "output_type": "execute_result"
    }
   ],
   "source": [
    "trainX.shape, onehot_encoded_train.shape"
   ]
  },
  {
   "cell_type": "code",
   "execution_count": 37,
   "metadata": {},
   "outputs": [],
   "source": [
    "clf.add(keras.layers.Dense(\n",
    "  units = 18,\n",
    "  input_dim = trainX.shape[1],   \n",
    "  activation = 'tanh'\n",
    "))\n",
    "\n",
    "clf.add (keras.layers.Dense(\n",
    "    units = 7,\n",
    "    input_dim = 18,\n",
    "    activation = 'tanh'\n",
    "))\n",
    "\n",
    "clf.add(keras.layers.Dense(\n",
    "    units = onehot_encoded_train.shape[1],\n",
    "    input_dim = 7,\n",
    "    activation = 'softmax'\n",
    "))\n"
   ]
  },
  {
   "cell_type": "code",
   "execution_count": 38,
   "metadata": {},
   "outputs": [
    {
     "data": {
      "text/plain": [
       "5"
      ]
     },
     "execution_count": 38,
     "metadata": {},
     "output_type": "execute_result"
    }
   ],
   "source": [
    "onehot_encoded_train.shape[1]"
   ]
  },
  {
   "cell_type": "code",
   "execution_count": 39,
   "metadata": {},
   "outputs": [],
   "source": [
    "clf.compile(loss='mean_squared_error',\n",
    "    optimizer='Adam',\n",
    "           metrics=['categorical_accuracy'])"
   ]
  },
  {
   "cell_type": "code",
   "execution_count": 40,
   "metadata": {},
   "outputs": [
    {
     "name": "stdout",
     "output_type": "stream",
     "text": [
      "Train on 698819 samples, validate on 77647 samples\n",
      "Epoch 1/20\n",
      "698819/698819 [==============================] - 136s 195us/step - loss: 0.0479 - categorical_accuracy: 0.8483 - val_loss: 0.0303 - val_categorical_accuracy: 0.9012\n",
      "Epoch 2/20\n",
      "698819/698819 [==============================] - 120s 171us/step - loss: 0.0228 - categorical_accuracy: 0.9321 - val_loss: 0.0178 - val_categorical_accuracy: 0.9414\n",
      "Epoch 3/20\n",
      "698819/698819 [==============================] - 38s 54us/step - loss: 0.0148 - categorical_accuracy: 0.9575 - val_loss: 0.0131 - val_categorical_accuracy: 0.9650\n",
      "Epoch 4/20\n",
      "698819/698819 [==============================] - 34s 48us/step - loss: 0.0108 - categorical_accuracy: 0.9706 - val_loss: 0.0096 - val_categorical_accuracy: 0.9728\n",
      "Epoch 5/20\n",
      "698819/698819 [==============================] - 33s 47us/step - loss: 0.0088 - categorical_accuracy: 0.9758 - val_loss: 0.0088 - val_categorical_accuracy: 0.9712\n",
      "Epoch 6/20\n",
      "698819/698819 [==============================] - 33s 47us/step - loss: 0.0078 - categorical_accuracy: 0.9779 - val_loss: 0.0092 - val_categorical_accuracy: 0.9737\n",
      "Epoch 7/20\n",
      "698819/698819 [==============================] - 33s 47us/step - loss: 0.0072 - categorical_accuracy: 0.9790 - val_loss: 0.0063 - val_categorical_accuracy: 0.9831\n",
      "Epoch 8/20\n",
      "698819/698819 [==============================] - 35s 50us/step - loss: 0.0068 - categorical_accuracy: 0.9800 - val_loss: 0.0060 - val_categorical_accuracy: 0.9828\n",
      "Epoch 9/20\n",
      "698819/698819 [==============================] - 34s 48us/step - loss: 0.0066 - categorical_accuracy: 0.9805 - val_loss: 0.0071 - val_categorical_accuracy: 0.9802\n",
      "Epoch 10/20\n",
      "698819/698819 [==============================] - 33s 47us/step - loss: 0.0064 - categorical_accuracy: 0.9808 - val_loss: 0.0056 - val_categorical_accuracy: 0.9846\n",
      "Epoch 11/20\n",
      "698819/698819 [==============================] - 33s 47us/step - loss: 0.0062 - categorical_accuracy: 0.9811 - val_loss: 0.0089 - val_categorical_accuracy: 0.9725\n",
      "Epoch 12/20\n",
      "698819/698819 [==============================] - 33s 47us/step - loss: 0.0061 - categorical_accuracy: 0.9815 - val_loss: 0.0101 - val_categorical_accuracy: 0.9645\n",
      "Epoch 13/20\n",
      "698819/698819 [==============================] - 33s 48us/step - loss: 0.0060 - categorical_accuracy: 0.9818 - val_loss: 0.0059 - val_categorical_accuracy: 0.9807\n",
      "Epoch 14/20\n",
      "698819/698819 [==============================] - 33s 47us/step - loss: 0.0058 - categorical_accuracy: 0.9822 - val_loss: 0.0076 - val_categorical_accuracy: 0.9762\n",
      "Epoch 15/20\n",
      "698819/698819 [==============================] - 33s 47us/step - loss: 0.0058 - categorical_accuracy: 0.9822 - val_loss: 0.0197 - val_categorical_accuracy: 0.9279\n",
      "Epoch 16/20\n",
      "698819/698819 [==============================] - 33s 47us/step - loss: 0.0058 - categorical_accuracy: 0.9822 - val_loss: 0.0066 - val_categorical_accuracy: 0.9778\n",
      "Epoch 17/20\n",
      "698819/698819 [==============================] - 33s 47us/step - loss: 0.0057 - categorical_accuracy: 0.9824 - val_loss: 0.0050 - val_categorical_accuracy: 0.9854\n",
      "Epoch 18/20\n",
      "698819/698819 [==============================] - 33s 47us/step - loss: 0.0056 - categorical_accuracy: 0.9825 - val_loss: 0.0050 - val_categorical_accuracy: 0.9849\n",
      "Epoch 19/20\n",
      "698819/698819 [==============================] - 34s 48us/step - loss: 0.0056 - categorical_accuracy: 0.9828 - val_loss: 0.0049 - val_categorical_accuracy: 0.9851\n",
      "Epoch 20/20\n",
      "698819/698819 [==============================] - 33s 48us/step - loss: 0.0055 - categorical_accuracy: 0.9827 - val_loss: 0.0062 - val_categorical_accuracy: 0.9791\n"
     ]
    }
   ],
   "source": [
    "history = clf.fit(trainX,onehot_encoded_train,\n",
    "                 batch_size = 64, epochs = 20,\n",
    "                 verbose = 1,\n",
    "                 validation_split = 0.1)"
   ]
  },
  {
   "cell_type": "code",
   "execution_count": 41,
   "metadata": {},
   "outputs": [
    {
     "data": {
      "text/plain": [
       "756"
      ]
     },
     "execution_count": 41,
     "metadata": {},
     "output_type": "execute_result"
    }
   ],
   "source": [
    "data.shape[1]"
   ]
  },
  {
   "cell_type": "code",
   "execution_count": 42,
   "metadata": {},
   "outputs": [
    {
     "data": {
      "text/plain": [
       "(array([2, 5, 1, 5, 2, 4, 4, 2, 4, 4, 3, 2, 3, 1, 3, 3, 2, 4, 3, 4, 2, 4,\n",
       "        4, 2, 5, 5, 4, 5, 2, 2, 5, 4, 4, 1, 5, 4, 2, 2, 5, 2, 4, 4, 5, 3,\n",
       "        1, 3, 5, 5, 3, 2, 2, 5, 1, 5, 5, 4, 5, 4, 4, 2, 2, 2, 1, 4, 2, 1,\n",
       "        2, 2, 1, 4, 2, 1, 4, 2, 1, 5, 3, 4, 5, 4, 3, 5, 2, 5, 2, 2, 2, 2,\n",
       "        5, 5, 5, 4, 4, 2, 4, 5, 2, 1, 1], dtype=int64),\n",
       " array([2, 2, 5, 1, 5, 2, 4, 4, 2, 4, 4, 3, 2, 3, 1, 3, 3, 2, 4, 3, 4, 2,\n",
       "        4, 4, 2, 5, 5, 4, 5, 2, 4, 5, 4, 4, 1, 5, 4, 2, 2, 5, 2, 4, 4, 5,\n",
       "        3, 1, 3, 5, 5, 3, 2, 4, 5, 1, 5, 5, 4, 5, 4, 4, 2, 2, 2, 1, 4, 2,\n",
       "        1, 2, 2, 1, 4, 2, 1, 4, 2, 1, 5, 3, 4, 5, 4, 3, 5, 2, 5, 4, 2, 2,\n",
       "        2, 4, 5, 5, 4, 4, 2, 4, 5, 2, 1, 1], dtype=int64))"
      ]
     },
     "execution_count": 42,
     "metadata": {},
     "output_type": "execute_result"
    }
   ],
   "source": [
    "clf.predict_classes(testX[1:100,:]) + 1,testY[:100]"
   ]
  },
  {
   "cell_type": "code",
   "execution_count": 43,
   "metadata": {},
   "outputs": [],
   "source": [
    "# saving the model \n",
    "# save model and weights\n",
    "clf_json = clf.to_json()\n",
    "with open(\"NN_756-126-5.json\", \"w\") as json_file:\n",
    "    json_file.write(clf_json)\n",
    "    \n",
    "clf.save_weights(\"NN_756-126-5_weights.h5\")"
   ]
  },
  {
   "cell_type": "code",
   "execution_count": 44,
   "metadata": {},
   "outputs": [],
   "source": [
    "np.save('TestX_NN_756-126-5',testX), np.save('TestY_NN_756-126-5',testY),\n",
    "np.save('OneHot_testY_756-126-5',onehot_encoded_test)"
   ]
  },
  {
   "cell_type": "code",
   "execution_count": 45,
   "metadata": {},
   "outputs": [
    {
     "name": "stdout",
     "output_type": "stream",
     "text": [
      "194117/194117 [==============================] - 4s 23us/step\n"
     ]
    },
    {
     "data": {
      "text/plain": [
       "[0.005374179273272508, 0.9824332747775826]"
      ]
     },
     "execution_count": 45,
     "metadata": {},
     "output_type": "execute_result"
    }
   ],
   "source": [
    "clf.evaluate(testX,onehot_encoded_test)"
   ]
  },
  {
   "cell_type": "code",
   "execution_count": null,
   "metadata": {},
   "outputs": [],
   "source": []
  }
 ],
 "metadata": {
  "kernelspec": {
   "display_name": "Python 3",
   "language": "python",
   "name": "python3"
  },
  "language_info": {
   "codemirror_mode": {
    "name": "ipython",
    "version": 3
   },
   "file_extension": ".py",
   "mimetype": "text/x-python",
   "name": "python",
   "nbconvert_exporter": "python",
   "pygments_lexer": "ipython3",
   "version": "3.6.5"
  }
 },
 "nbformat": 4,
 "nbformat_minor": 2
}
