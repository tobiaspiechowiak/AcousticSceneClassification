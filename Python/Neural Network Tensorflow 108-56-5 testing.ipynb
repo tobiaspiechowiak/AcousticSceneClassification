{
 "cells": [
  {
   "cell_type": "code",
   "execution_count": 1,
   "metadata": {},
   "outputs": [],
   "source": [
    "#load packages\n",
    "import numpy as np\n",
    "import tensorflow as tf\n",
    "from tensorflow import keras \n",
    "import pandas as pd\n",
    "import soundfile as sf"
   ]
  },
  {
   "cell_type": "code",
   "execution_count": 16,
   "metadata": {},
   "outputs": [],
   "source": [
    "#load the saved model \n",
    "json_file = open('NN_108-56-5.json', 'r')\n",
    "loaded_model_json = json_file.read()\n",
    "loaded_model = keras.models.model_from_json(loaded_model_json)\n",
    "\n",
    "#load weights\n",
    "loaded_model.load_weights(\"NN_108-56-5_weights.h5\")"
   ]
  },
  {
   "cell_type": "code",
   "execution_count": 17,
   "metadata": {},
   "outputs": [],
   "source": [
    "#load test data\n",
    "path = 'x:/Steering/Recordings/Processed/'\n",
    "testX = np.load(path + 'TestX_NN_108-56-5.npy')\n",
    "testY = np.load(path + 'TestY_NN_108-56-5.npy')\n",
    "one_hot_test = np.load(path + 'OneHot_testY_108-56-5.npy')"
   ]
  },
  {
   "cell_type": "code",
   "execution_count": 9,
   "metadata": {},
   "outputs": [],
   "source": []
  },
  {
   "cell_type": "code",
   "execution_count": 18,
   "metadata": {},
   "outputs": [
    {
     "ename": "AttributeError",
     "evalue": "'Sequential' object has no attribute 'output_names'",
     "output_type": "error",
     "traceback": [
      "\u001b[1;31m---------------------------------------------------------------------------\u001b[0m",
      "\u001b[1;31mAttributeError\u001b[0m                            Traceback (most recent call last)",
      "\u001b[1;32m<ipython-input-18-785945c1762f>\u001b[0m in \u001b[0;36m<module>\u001b[1;34m\u001b[0m\n\u001b[0;32m      1\u001b[0m loaded_model.compile(loss='mean_squared_error',\n\u001b[0;32m      2\u001b[0m     \u001b[0moptimizer\u001b[0m\u001b[1;33m=\u001b[0m\u001b[1;34m'Adam'\u001b[0m\u001b[1;33m,\u001b[0m\u001b[1;33m\u001b[0m\u001b[0m\n\u001b[1;32m----> 3\u001b[1;33m            metrics=['categorical_accuracy'])\n\u001b[0m",
      "\u001b[1;32mc:\\users\\tpiechowiak\\appdata\\local\\programs\\python\\python36\\lib\\site-packages\\tensorflow\\python\\training\\checkpointable\\base.py\u001b[0m in \u001b[0;36m_method_wrapper\u001b[1;34m(self, *args, **kwargs)\u001b[0m\n\u001b[0;32m    424\u001b[0m     \u001b[0mself\u001b[0m\u001b[1;33m.\u001b[0m\u001b[0m_setattr_tracking\u001b[0m \u001b[1;33m=\u001b[0m \u001b[1;32mFalse\u001b[0m  \u001b[1;31m# pylint: disable=protected-access\u001b[0m\u001b[1;33m\u001b[0m\u001b[0m\n\u001b[0;32m    425\u001b[0m     \u001b[1;32mtry\u001b[0m\u001b[1;33m:\u001b[0m\u001b[1;33m\u001b[0m\u001b[0m\n\u001b[1;32m--> 426\u001b[1;33m       \u001b[0mmethod\u001b[0m\u001b[1;33m(\u001b[0m\u001b[0mself\u001b[0m\u001b[1;33m,\u001b[0m \u001b[1;33m*\u001b[0m\u001b[0margs\u001b[0m\u001b[1;33m,\u001b[0m \u001b[1;33m**\u001b[0m\u001b[0mkwargs\u001b[0m\u001b[1;33m)\u001b[0m\u001b[1;33m\u001b[0m\u001b[0m\n\u001b[0m\u001b[0;32m    427\u001b[0m     \u001b[1;32mfinally\u001b[0m\u001b[1;33m:\u001b[0m\u001b[1;33m\u001b[0m\u001b[0m\n\u001b[0;32m    428\u001b[0m       \u001b[0mself\u001b[0m\u001b[1;33m.\u001b[0m\u001b[0m_setattr_tracking\u001b[0m \u001b[1;33m=\u001b[0m \u001b[0mprevious_value\u001b[0m  \u001b[1;31m# pylint: disable=protected-access\u001b[0m\u001b[1;33m\u001b[0m\u001b[0m\n",
      "\u001b[1;32mc:\\users\\tpiechowiak\\appdata\\local\\programs\\python\\python36\\lib\\site-packages\\tensorflow\\python\\keras\\engine\\training.py\u001b[0m in \u001b[0;36mcompile\u001b[1;34m(self, optimizer, loss, metrics, loss_weights, sample_weight_mode, weighted_metrics, target_tensors, distribute, **kwargs)\u001b[0m\n\u001b[0;32m    523\u001b[0m     \u001b[1;31m# One list per output of the model.\u001b[0m\u001b[1;33m\u001b[0m\u001b[1;33m\u001b[0m\u001b[0m\n\u001b[0;32m    524\u001b[0m     self.nested_metrics = training_utils.collect_metrics(\n\u001b[1;32m--> 525\u001b[1;33m         metrics, self.output_names)\n\u001b[0m\u001b[0;32m    526\u001b[0m     self.nested_weighted_metrics = training_utils.collect_metrics(\n\u001b[0;32m    527\u001b[0m         weighted_metrics, self.output_names)\n",
      "\u001b[1;31mAttributeError\u001b[0m: 'Sequential' object has no attribute 'output_names'"
     ]
    }
   ],
   "source": [
    "loaded_model.compile(loss='mean_squared_error',\n",
    "    optimizer='Adam',\n",
    "           metrics=['categorical_accuracy'])"
   ]
  },
  {
   "cell_type": "code",
   "execution_count": 6,
   "metadata": {},
   "outputs": [
    {
     "name": "stdout",
     "output_type": "stream",
     "text": [
      "212005/212005 [==============================] - 3s 16us/step\n"
     ]
    },
    {
     "data": {
      "text/plain": [
       "[0.0849876436410441, 0.7518030235141586]"
      ]
     },
     "execution_count": 6,
     "metadata": {},
     "output_type": "execute_result"
    }
   ],
   "source": [
    "loaded_model.evaluate(testX,one_hot_test,verbose=1)"
   ]
  },
  {
   "cell_type": "code",
   "execution_count": null,
   "metadata": {},
   "outputs": [],
   "source": []
  },
  {
   "cell_type": "code",
   "execution_count": 7,
   "metadata": {},
   "outputs": [],
   "source": [
    "#process weights\n",
    "weights_first_layer = loaded_model.layers[0].get_weights()[0]\n",
    "biases_first_layer = loaded_model.layers[0].get_weights()[1]\n",
    "\n",
    "weights_second_layer = loaded_model.layers[1].get_weights()[0]\n",
    "biases_second_layer = loaded_model.layers[1].get_weights()[1]\n"
   ]
  },
  {
   "cell_type": "code",
   "execution_count": 8,
   "metadata": {},
   "outputs": [],
   "source": [
    "weights_first_layer = np.vstack([biases_first_layer, weights_first_layer])\n",
    "weights_second_layer = np.vstack([biases_second_layer, weights_second_layer])\n"
   ]
  },
  {
   "cell_type": "code",
   "execution_count": 9,
   "metadata": {},
   "outputs": [],
   "source": [
    "weights_first_layer_norm = weights_first_layer / abs(weights_first_layer).max()\n",
    "#biases_first_layer_norm = biases_first_layer / abs(biases_first_layer).max()\n",
    "\n",
    "weights_second_layer_norm = weights_second_layer / abs(weights_second_layer).max()\n",
    "#biases_second_layer_norm = biases_second_layer / abs(biases_second_layer).max()\n"
   ]
  },
  {
   "cell_type": "code",
   "execution_count": 10,
   "metadata": {},
   "outputs": [
    {
     "data": {
      "text/plain": [
       "((109, 56), (57, 5))"
      ]
     },
     "execution_count": 10,
     "metadata": {},
     "output_type": "execute_result"
    }
   ],
   "source": [
    "weights_first_layer_norm.shape, weights_second_layer_norm.shape"
   ]
  },
  {
   "cell_type": "code",
   "execution_count": 11,
   "metadata": {},
   "outputs": [
    {
     "data": {
      "text/plain": [
       "(276.33685, 3.7798572)"
      ]
     },
     "execution_count": 11,
     "metadata": {},
     "output_type": "execute_result"
    }
   ],
   "source": [
    "abs(weights_first_layer).max(), abs(weights_second_layer).max()"
   ]
  },
  {
   "cell_type": "code",
   "execution_count": 12,
   "metadata": {},
   "outputs": [],
   "source": [
    "np.savetxt('weights_first_layer_norm_NN_108-56-5.txt',weights_first_layer_norm,delimiter= ',')\n",
    "np.savetxt('weights_second_layer_norm_NN_108-56-5.txt',weights_second_layer_norm,delimiter= ',')\n"
   ]
  },
  {
   "cell_type": "code",
   "execution_count": 13,
   "metadata": {},
   "outputs": [],
   "source": [
    "#confusion matrix \n",
    "from sklearn.metrics import confusion_matrix\n",
    "import matplotlib.pyplot as plt\n",
    "\n",
    "cfm = confusion_matrix(testY,loaded_model.predict_classes(testX)) "
   ]
  },
  {
   "cell_type": "code",
   "execution_count": 14,
   "metadata": {},
   "outputs": [
    {
     "data": {
      "text/plain": [
       "array([[    0,     0,     0,     0,     0,     0],\n",
       "       [10066,  2101,     2,  7144,  1598,     0],\n",
       "       [  164, 69145,     4,  3752,   285,     0],\n",
       "       [  195,   289, 21871,   396,   769,     0],\n",
       "       [ 2088, 16107,    22, 30461,  6502,     0],\n",
       "       [  715,  2711,   256,  7519, 27843,     0]], dtype=int64)"
      ]
     },
     "execution_count": 14,
     "metadata": {},
     "output_type": "execute_result"
    }
   ],
   "source": [
    "cfm"
   ]
  },
  {
   "cell_type": "code",
   "execution_count": 15,
   "metadata": {},
   "outputs": [
    {
     "data": {
      "text/plain": [
       "<matplotlib.image.AxesImage at 0x799d5a20>"
      ]
     },
     "execution_count": 15,
     "metadata": {},
     "output_type": "execute_result"
    },
    {
     "data": {
      "image/png": "[encoded data removed]",
      "text/plain": [
       "<Figure size 432x288 with 1 Axes>"
      ]
     },
     "metadata": {
      "needs_background": "light"
     },
     "output_type": "display_data"
    }
   ],
   "source": [
    "plt.imshow(cfm[1:,:-1])"
   ]
  },
  {
   "cell_type": "code",
   "execution_count": 16,
   "metadata": {},
   "outputs": [],
   "source": [
    "a = [0 for x in range(5)]\n",
    "cfm_norm = np.zeros((5,5))#[[0 for x in range(5)] for y in range(5)]"
   ]
  },
  {
   "cell_type": "code",
   "execution_count": null,
   "metadata": {},
   "outputs": [],
   "source": []
  },
  {
   "cell_type": "code",
   "execution_count": 17,
   "metadata": {},
   "outputs": [],
   "source": [
    "for idx in range(5):\n",
    "    cfm_norm[idx,:] = cfm[idx+1,:-1] / sum(cfm[idx+1,:-1]) #len(testY[testY == idx + 1])      "
   ]
  },
  {
   "cell_type": "code",
   "execution_count": 18,
   "metadata": {},
   "outputs": [
    {
     "data": {
      "text/plain": [
       "(array([[4.81373440e-01, 1.00473435e-01, 9.56434413e-05, 3.41638372e-01,\n",
       "         7.64191096e-02],\n",
       "        [2.23585549e-03, 9.42672120e-01, 5.45330607e-05, 5.11520109e-02,\n",
       "         3.88548057e-03],\n",
       "        [8.29081633e-03, 1.22874150e-02, 9.29889456e-01, 1.68367347e-02,\n",
       "         3.26955782e-02],\n",
       "        [3.78397970e-02, 2.91899239e-01, 3.98695179e-04, 5.52029721e-01,\n",
       "         1.17832548e-01],\n",
       "        [1.83126729e-02, 6.94344842e-02, 6.55670526e-03, 1.92577605e-01,\n",
       "         7.13118533e-01]]), [0, 0, 0, 0, 0])"
      ]
     },
     "execution_count": 18,
     "metadata": {},
     "output_type": "execute_result"
    }
   ],
   "source": [
    "cfm_norm, a"
   ]
  },
  {
   "cell_type": "code",
   "execution_count": 19,
   "metadata": {},
   "outputs": [],
   "source": [
    "cfm_norm = np.around(cfm_norm,decimals=3)"
   ]
  },
  {
   "cell_type": "code",
   "execution_count": 20,
   "metadata": {
    "scrolled": true
   },
   "outputs": [
    {
     "data": {
      "image/png": "[encoded data removed]",
      "text/plain": [
       "<Figure size 432x432 with 1 Axes>"
      ]
     },
     "metadata": {
      "needs_background": "light"
     },
     "output_type": "display_data"
    }
   ],
   "source": [
    "#nicer confusion matrix\n",
    "fig, ax = plt.subplots(figsize = (6, 6))\n",
    "ax.matshow(cfm_norm,cmap=plt.cm.Blues,alpha=0.7)\n",
    "\n",
    "for i in range(cfm_norm.shape[0]):\n",
    "    for j in range(cfm_norm.shape[1]):\n",
    "        ax.text(x=j,y=i, s=cfm_norm[i,j],va='center', ha= 'center')\n",
    "\n",
    "ax.set_xticks([0,1,2,3,4])\n",
    "ax.set_yticks([0,1,2,3,4])\n",
    "ax.set_xticklabels(['Babble','Own-voice','Car','Speech','Traffic'])\n",
    "ax.set_yticklabels(['Babble','Own-voice','Car','Speech','Traffic'])\n",
    "ax.yaxis.set_label_coords(1.08,0.5)\n",
    "ax.xaxis.set_label_coords(0.51,-0.04)\n",
    "ax.set_xlabel('Predicted Class',fontsize=15)\n",
    "ax.set_ylabel('True Class',fontsize=15)\n",
    "fig.savefig('Conf_Matrix_ERB=2.png',dpi=100)\n"
   ]
  },
  {
   "cell_type": "code",
   "execution_count": 23,
   "metadata": {},
   "outputs": [],
   "source": [
    "FP = cfm_norm.sum(axis=0) - np.diag(cfm_norm)  \n",
    "FN = cfm_norm.sum(axis=1) - np.diag(cfm_norm)\n",
    "TP = np.diag(cfm_norm)\n",
    "TN = cfm_norm.sum() - (FP + FN + TP)\n",
    "\n",
    "# Sensitivity, hit rate, recall, or true positive rate\n",
    "TPR = TP/(TP+FN)\n",
    "# Fall out or false positive rate\n",
    "FPR = FP/(FP+TN)\n",
    "\n",
    "# Overall accuracy\n",
    "ACC = (TP+TN)/(TP+FP+FN+TN)"
   ]
  },
  {
   "cell_type": "code",
   "execution_count": 31,
   "metadata": {},
   "outputs": [
    {
     "data": {
      "text/plain": [
       "(0.8895779155831167, 0.7238962962962964, 0.06901642910727682)"
      ]
     },
     "execution_count": 31,
     "metadata": {},
     "output_type": "execute_result"
    }
   ],
   "source": [
    "ACC.mean(),TPR.mean(), FPR.mean()"
   ]
  },
  {
   "cell_type": "code",
   "execution_count": null,
   "metadata": {},
   "outputs": [],
   "source": []
  }
 ],
 "metadata": {
  "kernelspec": {
   "display_name": "Python 3",
   "language": "python",
   "name": "python3"
  },
  "language_info": {
   "codemirror_mode": {
    "name": "ipython",
    "version": 3
   },
   "file_extension": ".py",
   "mimetype": "text/x-python",
   "name": "python",
   "nbconvert_exporter": "python",
   "pygments_lexer": "ipython3",
   "version": "3.6.6rc1"
  }
 },
 "nbformat": 4,
 "nbformat_minor": 2
}
