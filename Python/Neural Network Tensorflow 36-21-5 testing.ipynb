{
 "cells": [
  {
   "cell_type": "code",
   "execution_count": 1,
   "metadata": {},
   "outputs": [],
   "source": [
    "#load packages\n",
    "import numpy as np\n",
    "import tensorflow as tf\n",
    "from tensorflow import keras \n",
    "import pandas as pd\n",
    "import soundfile as sf"
   ]
  },
  {
   "cell_type": "code",
   "execution_count": 2,
   "metadata": {},
   "outputs": [],
   "source": [
    "#load the saved model \n",
    "json_file = open('NN_36-21-5.json', 'r')\n",
    "loaded_model_json = json_file.read()\n",
    "loaded_model = keras.models.model_from_json(loaded_model_json)\n",
    "\n",
    "#load weights\n",
    "loaded_model.load_weights(\"NN_36-21-5_weights.h5\")"
   ]
  },
  {
   "cell_type": "code",
   "execution_count": 3,
   "metadata": {},
   "outputs": [],
   "source": [
    "#load test data\n",
    "path = 'x:/Steering/Recordings/Processed/'\n",
    "testX = np.load(path + 'TestX_NN_36-21-5.npy')\n",
    "testY = np.load(path + 'TestY_NN_36-21-5.npy')\n",
    "one_hot_test = np.load(path + 'OneHot_testY_36-21-5.npy')"
   ]
  },
  {
   "cell_type": "code",
   "execution_count": 4,
   "metadata": {},
   "outputs": [
    {
     "data": {
      "text/plain": [
       "array([4, 4, 4, ..., 2, 4, 2], dtype=int64)"
      ]
     },
     "execution_count": 4,
     "metadata": {},
     "output_type": "execute_result"
    }
   ],
   "source": [
    "testY"
   ]
  },
  {
   "cell_type": "code",
   "execution_count": 5,
   "metadata": {},
   "outputs": [],
   "source": [
    "loaded_model.compile(loss='mean_squared_error',\n",
    "    optimizer='Adam',\n",
    "           metrics=['categorical_accuracy'])"
   ]
  },
  {
   "cell_type": "code",
   "execution_count": 6,
   "metadata": {},
   "outputs": [
    {
     "name": "stdout",
     "output_type": "stream",
     "text": [
      "212005/212005 [==============================] - 3s 15us/step\n"
     ]
    },
    {
     "data": {
      "text/plain": [
       "[0.1116035651289158, 0.6078960401880126]"
      ]
     },
     "execution_count": 6,
     "metadata": {},
     "output_type": "execute_result"
    }
   ],
   "source": [
    "loaded_model.evaluate(testX,one_hot_test,verbose=1)"
   ]
  },
  {
   "cell_type": "code",
   "execution_count": 7,
   "metadata": {},
   "outputs": [],
   "source": [
    "#process weights\n",
    "weights_first_layer = loaded_model.layers[0].get_weights()[0]\n",
    "biases_first_layer = loaded_model.layers[0].get_weights()[1]\n",
    "\n",
    "weights_second_layer = loaded_model.layers[1].get_weights()[0]\n",
    "biases_second_layer = loaded_model.layers[1].get_weights()[1]\n"
   ]
  },
  {
   "cell_type": "code",
   "execution_count": null,
   "metadata": {},
   "outputs": [],
   "source": []
  },
  {
   "cell_type": "code",
   "execution_count": 8,
   "metadata": {},
   "outputs": [],
   "source": [
    "weights_first_layer = np.vstack([biases_first_layer, weights_first_layer])\n",
    "weights_second_layer = np.vstack([biases_second_layer, weights_second_layer])\n"
   ]
  },
  {
   "cell_type": "code",
   "execution_count": 9,
   "metadata": {},
   "outputs": [],
   "source": [
    "weights_first_layer_norm = weights_first_layer / abs(weights_first_layer).max()\n",
    "#biases_first_layer_norm = biases_first_layer / abs(biases_first_layer).max()\n",
    "\n",
    "weights_second_layer_norm = weights_second_layer / abs(weights_second_layer).max()\n",
    "#biases_second_layer_norm = biases_second_layer / abs(biases_second_layer).max()\n"
   ]
  },
  {
   "cell_type": "code",
   "execution_count": 10,
   "metadata": {},
   "outputs": [
    {
     "data": {
      "text/plain": [
       "((37, 21), (22, 5))"
      ]
     },
     "execution_count": 10,
     "metadata": {},
     "output_type": "execute_result"
    }
   ],
   "source": [
    "weights_first_layer_norm.shape, weights_second_layer_norm.shape"
   ]
  },
  {
   "cell_type": "code",
   "execution_count": 11,
   "metadata": {},
   "outputs": [
    {
     "data": {
      "text/plain": [
       "(347.49802, 3.6773713)"
      ]
     },
     "execution_count": 11,
     "metadata": {},
     "output_type": "execute_result"
    }
   ],
   "source": [
    "abs(weights_first_layer).max(), abs(weights_second_layer).max()"
   ]
  },
  {
   "cell_type": "code",
   "execution_count": 12,
   "metadata": {},
   "outputs": [],
   "source": [
    "np.savetxt('weights_first_layer_norm_NN_36-21-5.txt',weights_first_layer_norm,delimiter= ',')\n",
    "np.savetxt('weights_second_layer_norm_NN_36-21-5.txt',weights_second_layer_norm,delimiter= ',')\n"
   ]
  },
  {
   "cell_type": "code",
   "execution_count": 13,
   "metadata": {},
   "outputs": [],
   "source": [
    "#plot confusion matrix \n",
    "#confusion matrix\n",
    "from sklearn.metrics import confusion_matrix\n",
    "import matplotlib.pyplot as plt\n",
    "\n",
    "cfm = confusion_matrix(testY,loaded_model.predict_classes(testX))"
   ]
  },
  {
   "cell_type": "code",
   "execution_count": 14,
   "metadata": {},
   "outputs": [],
   "source": [
    "cfm_norm = np.zeros((5,5))#[[0 for x in range(5)] for y in range(5)]"
   ]
  },
  {
   "cell_type": "code",
   "execution_count": 15,
   "metadata": {},
   "outputs": [],
   "source": [
    "for idx in range(5):\n",
    "    cfm_norm[idx,:] = cfm[idx+1,:-1] / sum(cfm[idx+1,:-1]) #len(testY[testY == idx + 1])      "
   ]
  },
  {
   "cell_type": "code",
   "execution_count": 16,
   "metadata": {},
   "outputs": [],
   "source": [
    "cfm_norm = np.around(cfm_norm,decimals=3)"
   ]
  },
  {
   "cell_type": "code",
   "execution_count": 17,
   "metadata": {},
   "outputs": [
    {
     "data": {
      "image/png": "[encoded data removed]",
      "text/plain": [
       "<Figure size 432x432 with 1 Axes>"
      ]
     },
     "metadata": {
      "needs_background": "light"
     },
     "output_type": "display_data"
    }
   ],
   "source": [
    "#nicer confusion matrix\n",
    "fig, ax = plt.subplots(figsize = (6, 6))\n",
    "ax.matshow(cfm_norm,cmap=plt.cm.Blues,alpha=0.7)\n",
    "\n",
    "for i in range(cfm_norm.shape[0]):\n",
    "    for j in range(cfm_norm.shape[1]):\n",
    "        ax.text(x=j,y=i, s=cfm_norm[i,j],va='center', ha= 'center')\n",
    "\n",
    "ax.set_xticks([0,1,2,3,4])\n",
    "ax.set_yticks([0,1,2,3,4])\n",
    "ax.set_xticklabels(['Babble','Own-voice','Car','Speech','Traffic'])\n",
    "ax.set_yticklabels(['Babble','Own-voice','Car','Speech','Traffic'])\n",
    "ax.yaxis.set_label_coords(1.08,0.5)\n",
    "ax.xaxis.set_label_coords(0.51,-0.04)\n",
    "ax.set_xlabel('Predicted Class',fontsize=15)\n",
    "ax.set_ylabel('True Class',fontsize=15)\n",
    "plt.show()\n"
   ]
  },
  {
   "cell_type": "code",
   "execution_count": 18,
   "metadata": {},
   "outputs": [],
   "source": [
    "fig.savefig('Conf_Matrix_left_right_ERB=2.png',dpi=100)"
   ]
  },
  {
   "cell_type": "code",
   "execution_count": 19,
   "metadata": {},
   "outputs": [],
   "source": [
    "FP = cfm_norm.sum(axis=0) - np.diag(cfm_norm)  \n",
    "FN = cfm_norm.sum(axis=1) - np.diag(cfm_norm)\n",
    "TP = np.diag(cfm_norm)\n",
    "TN = cfm_norm.sum() - (FP + FN + TP)\n",
    "\n",
    "# Sensitivity, hit rate, recall, or true positive rate\n",
    "TPR = TP/(TP+FN)\n",
    "# Fall out or false positive rate\n",
    "FPR = FP/(FP+TN)\n",
    "\n",
    "# Overall accuracy\n",
    "ACC = (TP+TN)/(TP+FP+FN+TN)"
   ]
  },
  {
   "cell_type": "code",
   "execution_count": 20,
   "metadata": {},
   "outputs": [
    {
     "data": {
      "text/plain": [
       "(0.8127199999999999, 0.5317999999999999, 0.11705000000000002)"
      ]
     },
     "execution_count": 20,
     "metadata": {},
     "output_type": "execute_result"
    }
   ],
   "source": [
    "ACC.mean(),TPR.mean(), FPR.mean()"
   ]
  },
  {
   "cell_type": "code",
   "execution_count": null,
   "metadata": {},
   "outputs": [],
   "source": []
  }
 ],
 "metadata": {
  "kernelspec": {
   "display_name": "Python 3",
   "language": "python",
   "name": "python3"
  },
  "language_info": {
   "codemirror_mode": {
    "name": "ipython",
    "version": 3
   },
   "file_extension": ".py",
   "mimetype": "text/x-python",
   "name": "python",
   "nbconvert_exporter": "python",
   "pygments_lexer": "ipython3",
   "version": "3.6.6rc1"
  }
 },
 "nbformat": 4,
 "nbformat_minor": 2
}
