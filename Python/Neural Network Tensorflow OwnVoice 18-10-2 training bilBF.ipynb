{
 "cells": [
  {
   "cell_type": "code",
   "execution_count": 1,
   "metadata": {},
   "outputs": [],
   "source": [
    "#load packages\n",
    "import numpy as np\n",
    "import tensorflow as tf\n",
    "from tensorflow import keras \n",
    "import pandas as pd\n",
    "import soundfile as sf\n"
   ]
  },
  {
   "cell_type": "code",
   "execution_count": 2,
   "metadata": {},
   "outputs": [],
   "source": [
    "#import data \n",
    "path = 'x:/Steering/Recordings/Processed/'\n",
    "data, fs = sf.read(path + 'ERB=2bil_BF.wav')\n",
    "classes = pd.read_csv(path + 'Classes_2bil_BF.csv')"
   ]
  },
  {
   "cell_type": "code",
   "execution_count": 9,
   "metadata": {},
   "outputs": [],
   "source": [
    "X = data[:len(data)-1,:data.shape[1]] \n",
    "Y = classes.values[:,0]"
   ]
  },
  {
   "cell_type": "code",
   "execution_count": 10,
   "metadata": {},
   "outputs": [
    {
     "data": {
      "text/plain": [
       "(889913, 889913, (889913, 18))"
      ]
     },
     "execution_count": 10,
     "metadata": {},
     "output_type": "execute_result"
    }
   ],
   "source": [
    "len(Y),len(X), X.shape"
   ]
  },
  {
   "cell_type": "code",
   "execution_count": 11,
   "metadata": {},
   "outputs": [],
   "source": [
    "#split into training and test set\n",
    "from sklearn.model_selection import train_test_split\n",
    "trainX, testX, trainY, testY = train_test_split(X,Y,test_size=0.2,random_state=0)"
   ]
  },
  {
   "cell_type": "code",
   "execution_count": 12,
   "metadata": {},
   "outputs": [],
   "source": [
    "#do one-hot encoding\n",
    "from sklearn.preprocessing import OneHotEncoder \n",
    "from sklearn.preprocessing import LabelEncoder\n",
    "\n",
    "enc = OneHotEncoder(sparse=False)"
   ]
  },
  {
   "cell_type": "code",
   "execution_count": 13,
   "metadata": {},
   "outputs": [],
   "source": [
    "integer_encoded_train = trainY.reshape(len(trainY), 1)\n",
    "onehot_encoded_train = enc.fit_transform(integer_encoded_train)\n",
    "\n",
    "integer_encoded_test = testY.reshape(len(testY), 1)\n",
    "onehot_encoded_test = enc.fit_transform(integer_encoded_test)"
   ]
  },
  {
   "cell_type": "code",
   "execution_count": 14,
   "metadata": {},
   "outputs": [
    {
     "data": {
      "text/plain": [
       "array([[1., 0.],\n",
       "       [1., 0.],\n",
       "       [1., 0.],\n",
       "       ...,\n",
       "       [0., 1.],\n",
       "       [1., 0.],\n",
       "       [0., 1.]])"
      ]
     },
     "execution_count": 14,
     "metadata": {},
     "output_type": "execute_result"
    }
   ],
   "source": [
    "onehot_encoded_train"
   ]
  },
  {
   "cell_type": "code",
   "execution_count": 15,
   "metadata": {},
   "outputs": [],
   "source": [
    "#DC removal \n",
    "trainX -= (np.mean(trainX, axis=0) + 1e-8)\n",
    "testX -= (np.mean(testX, axis=0) + 1e-8)"
   ]
  },
  {
   "cell_type": "code",
   "execution_count": 16,
   "metadata": {},
   "outputs": [],
   "source": [
    "clf = keras.Sequential()"
   ]
  },
  {
   "cell_type": "code",
   "execution_count": 17,
   "metadata": {},
   "outputs": [],
   "source": [
    "clf.add(keras.layers.Dense(\n",
    "  units = 10,\n",
    "  input_dim = trainX.shape[1],   \n",
    "  activation = 'tanh'\n",
    "))\n",
    "\n",
    "clf.add(keras.layers.Dense(\n",
    "    units = onehot_encoded_train.shape[1],\n",
    "    input_dim = 10,\n",
    "    activation = 'softmax'\n",
    "))\n"
   ]
  },
  {
   "cell_type": "code",
   "execution_count": 18,
   "metadata": {},
   "outputs": [
    {
     "data": {
      "text/plain": [
       "(2, 18)"
      ]
     },
     "execution_count": 18,
     "metadata": {},
     "output_type": "execute_result"
    }
   ],
   "source": [
    "onehot_encoded_train.shape[1],trainX.shape[1]"
   ]
  },
  {
   "cell_type": "code",
   "execution_count": 19,
   "metadata": {},
   "outputs": [],
   "source": [
    "clf.compile(loss='mean_squared_error',\n",
    "    optimizer='Adam',\n",
    "           metrics=['categorical_accuracy'])"
   ]
  },
  {
   "cell_type": "code",
   "execution_count": 20,
   "metadata": {},
   "outputs": [
    {
     "name": "stdout",
     "output_type": "stream",
     "text": [
      "Train on 640737 samples, validate on 71193 samples\n",
      "Epoch 1/150\n",
      "640737/640737 [==============================] - 4s 6us/step - loss: 0.2148 - categorical_accuracy: 0.6886 - val_loss: 0.2156 - val_categorical_accuracy: 0.6856\n",
      "Epoch 2/150\n",
      "640737/640737 [==============================] - 3s 5us/step - loss: 0.2144 - categorical_accuracy: 0.6888 - val_loss: 0.2156 - val_categorical_accuracy: 0.6856\n",
      "Epoch 3/150\n",
      "640737/640737 [==============================] - 3s 5us/step - loss: 0.2144 - categorical_accuracy: 0.6888 - val_loss: 0.2156 - val_categorical_accuracy: 0.6856\n",
      "Epoch 4/150\n",
      "640737/640737 [==============================] - 3s 5us/step - loss: 0.2144 - categorical_accuracy: 0.6888 - val_loss: 0.2157 - val_categorical_accuracy: 0.6856\n",
      "Epoch 5/150\n",
      "640737/640737 [==============================] - 4s 6us/step - loss: 0.2144 - categorical_accuracy: 0.6888 - val_loss: 0.2156 - val_categorical_accuracy: 0.6856\n",
      "Epoch 6/150\n",
      "640737/640737 [==============================] - 4s 6us/step - loss: 0.2144 - categorical_accuracy: 0.6888 - val_loss: 0.2156 - val_categorical_accuracy: 0.6856\n",
      "Epoch 7/150\n",
      "640737/640737 [==============================] - 3s 5us/step - loss: 0.2144 - categorical_accuracy: 0.6888 - val_loss: 0.2156 - val_categorical_accuracy: 0.6856\n",
      "Epoch 8/150\n",
      "640737/640737 [==============================] - 3s 4us/step - loss: 0.2144 - categorical_accuracy: 0.6888 - val_loss: 0.2156 - val_categorical_accuracy: 0.6856\n",
      "Epoch 9/150\n",
      "640737/640737 [==============================] - 3s 5us/step - loss: 0.2144 - categorical_accuracy: 0.6888 - val_loss: 0.2156 - val_categorical_accuracy: 0.6856\n",
      "Epoch 10/150\n",
      "640737/640737 [==============================] - 4s 5us/step - loss: 0.2144 - categorical_accuracy: 0.6888 - val_loss: 0.2157 - val_categorical_accuracy: 0.6856\n",
      "Epoch 11/150\n",
      "640737/640737 [==============================] - 3s 5us/step - loss: 0.2144 - categorical_accuracy: 0.6888 - val_loss: 0.2157 - val_categorical_accuracy: 0.6856\n",
      "Epoch 12/150\n",
      "640737/640737 [==============================] - 3s 4us/step - loss: 0.2144 - categorical_accuracy: 0.6888 - val_loss: 0.2156 - val_categorical_accuracy: 0.6856\n",
      "Epoch 13/150\n",
      "640737/640737 [==============================] - 3s 4us/step - loss: 0.2144 - categorical_accuracy: 0.6888 - val_loss: 0.2156 - val_categorical_accuracy: 0.6856\n",
      "Epoch 14/150\n",
      "640737/640737 [==============================] - 3s 4us/step - loss: 0.2144 - categorical_accuracy: 0.6888 - val_loss: 0.2157 - val_categorical_accuracy: 0.6856\n",
      "Epoch 15/150\n",
      "640737/640737 [==============================] - 3s 4us/step - loss: 0.2144 - categorical_accuracy: 0.6888 - val_loss: 0.2157 - val_categorical_accuracy: 0.6856\n",
      "Epoch 16/150\n",
      "640737/640737 [==============================] - 3s 4us/step - loss: 0.2144 - categorical_accuracy: 0.6888 - val_loss: 0.2156 - val_categorical_accuracy: 0.6856\n",
      "Epoch 17/150\n",
      "640737/640737 [==============================] - 3s 4us/step - loss: 0.2144 - categorical_accuracy: 0.6888 - val_loss: 0.2156 - val_categorical_accuracy: 0.6856\n",
      "Epoch 18/150\n",
      "640737/640737 [==============================] - 3s 4us/step - loss: 0.2144 - categorical_accuracy: 0.6888 - val_loss: 0.2156 - val_categorical_accuracy: 0.6856\n",
      "Epoch 19/150\n",
      "640737/640737 [==============================] - 3s 5us/step - loss: 0.2144 - categorical_accuracy: 0.6888 - val_loss: 0.2156 - val_categorical_accuracy: 0.6856\n",
      "Epoch 20/150\n",
      "640737/640737 [==============================] - 4s 7us/step - loss: 0.2144 - categorical_accuracy: 0.6888 - val_loss: 0.2156 - val_categorical_accuracy: 0.6856\n",
      "Epoch 21/150\n",
      "640737/640737 [==============================] - 4s 6us/step - loss: 0.2144 - categorical_accuracy: 0.6888 - val_loss: 0.2156 - val_categorical_accuracy: 0.6856\n",
      "Epoch 22/150\n",
      "640737/640737 [==============================] - 3s 5us/step - loss: 0.2144 - categorical_accuracy: 0.6888 - val_loss: 0.2156 - val_categorical_accuracy: 0.6856\n",
      "Epoch 23/150\n",
      "640737/640737 [==============================] - 3s 5us/step - loss: 0.2144 - categorical_accuracy: 0.6888 - val_loss: 0.2156 - val_categorical_accuracy: 0.6856\n",
      "Epoch 24/150\n",
      "640737/640737 [==============================] - 3s 5us/step - loss: 0.2144 - categorical_accuracy: 0.6888 - val_loss: 0.2156 - val_categorical_accuracy: 0.6856\n",
      "Epoch 25/150\n",
      "640737/640737 [==============================] - 3s 5us/step - loss: 0.2144 - categorical_accuracy: 0.6888 - val_loss: 0.2156 - val_categorical_accuracy: 0.6856\n",
      "Epoch 26/150\n",
      "640737/640737 [==============================] - 4s 6us/step - loss: 0.2144 - categorical_accuracy: 0.6888 - val_loss: 0.2156 - val_categorical_accuracy: 0.6856\n",
      "Epoch 27/150\n",
      "640737/640737 [==============================] - 3s 5us/step - loss: 0.2144 - categorical_accuracy: 0.6888 - val_loss: 0.2156 - val_categorical_accuracy: 0.6856\n",
      "Epoch 28/150\n",
      "640737/640737 [==============================] - 3s 5us/step - loss: 0.2144 - categorical_accuracy: 0.6888 - val_loss: 0.2156 - val_categorical_accuracy: 0.6856\n",
      "Epoch 29/150\n",
      "640737/640737 [==============================] - 3s 4us/step - loss: 0.2144 - categorical_accuracy: 0.6888 - val_loss: 0.2156 - val_categorical_accuracy: 0.6856\n",
      "Epoch 30/150\n",
      "640737/640737 [==============================] - 3s 5us/step - loss: 0.2144 - categorical_accuracy: 0.6888 - val_loss: 0.2156 - val_categorical_accuracy: 0.6856\n",
      "Epoch 31/150\n",
      "640737/640737 [==============================] - 4s 7us/step - loss: 0.2144 - categorical_accuracy: 0.6888 - val_loss: 0.2156 - val_categorical_accuracy: 0.6856\n",
      "Epoch 32/150\n",
      "640737/640737 [==============================] - 4s 6us/step - loss: 0.2144 - categorical_accuracy: 0.6888 - val_loss: 0.2156 - val_categorical_accuracy: 0.6856\n",
      "Epoch 33/150\n",
      "640737/640737 [==============================] - 4s 6us/step - loss: 0.2143 - categorical_accuracy: 0.6888 - val_loss: 0.2155 - val_categorical_accuracy: 0.6856\n",
      "Epoch 34/150\n",
      "640737/640737 [==============================] - 3s 4us/step - loss: 0.2143 - categorical_accuracy: 0.6888 - val_loss: 0.2155 - val_categorical_accuracy: 0.6856\n",
      "Epoch 35/150\n",
      "640737/640737 [==============================] - 3s 5us/step - loss: 0.2143 - categorical_accuracy: 0.6888 - val_loss: 0.2155 - val_categorical_accuracy: 0.6855\n",
      "Epoch 36/150\n",
      "640737/640737 [==============================] - 3s 5us/step - loss: 0.2143 - categorical_accuracy: 0.6888 - val_loss: 0.2155 - val_categorical_accuracy: 0.6855\n",
      "Epoch 37/150\n",
      "640737/640737 [==============================] - 3s 5us/step - loss: 0.2142 - categorical_accuracy: 0.6887 - val_loss: 0.2154 - val_categorical_accuracy: 0.6855\n",
      "Epoch 38/150\n",
      "640737/640737 [==============================] - 4s 6us/step - loss: 0.2141 - categorical_accuracy: 0.6887 - val_loss: 0.2152 - val_categorical_accuracy: 0.6853\n",
      "Epoch 39/150\n",
      "640737/640737 [==============================] - 5s 8us/step - loss: 0.2139 - categorical_accuracy: 0.6886 - val_loss: 0.2149 - val_categorical_accuracy: 0.6852\n",
      "Epoch 40/150\n",
      "640737/640737 [==============================] - 3s 5us/step - loss: 0.2136 - categorical_accuracy: 0.6884 - val_loss: 0.2148 - val_categorical_accuracy: 0.6851\n",
      "Epoch 41/150\n",
      "640737/640737 [==============================] - 5s 7us/step - loss: 0.2132 - categorical_accuracy: 0.6886 - val_loss: 0.2142 - val_categorical_accuracy: 0.6860\n",
      "Epoch 42/150\n",
      "640737/640737 [==============================] - 4s 6us/step - loss: 0.2129 - categorical_accuracy: 0.6900 - val_loss: 0.2139 - val_categorical_accuracy: 0.6873\n",
      "Epoch 43/150\n",
      "640737/640737 [==============================] - 6s 9us/step - loss: 0.2125 - categorical_accuracy: 0.6914 - val_loss: 0.2137 - val_categorical_accuracy: 0.6884\n",
      "Epoch 44/150\n",
      "640737/640737 [==============================] - 7s 11us/step - loss: 0.2123 - categorical_accuracy: 0.6925 - val_loss: 0.2135 - val_categorical_accuracy: 0.6896\n",
      "Epoch 45/150\n",
      "640737/640737 [==============================] - 5s 7us/step - loss: 0.2122 - categorical_accuracy: 0.6932 - val_loss: 0.2132 - val_categorical_accuracy: 0.6905\n",
      "Epoch 46/150\n",
      "640737/640737 [==============================] - 7s 11us/step - loss: 0.2121 - categorical_accuracy: 0.6935 - val_loss: 0.2132 - val_categorical_accuracy: 0.6910\n",
      "Epoch 47/150\n",
      "640737/640737 [==============================] - 6s 9us/step - loss: 0.2120 - categorical_accuracy: 0.6938 - val_loss: 0.2132 - val_categorical_accuracy: 0.6907\n"
     ]
    },
    {
     "name": "stdout",
     "output_type": "stream",
     "text": [
      "Epoch 48/150\n",
      "640737/640737 [==============================] - 5s 8us/step - loss: 0.2120 - categorical_accuracy: 0.6939 - val_loss: 0.2132 - val_categorical_accuracy: 0.6908\n",
      "Epoch 49/150\n",
      "640737/640737 [==============================] - 5s 7us/step - loss: 0.2119 - categorical_accuracy: 0.6939 - val_loss: 0.2130 - val_categorical_accuracy: 0.6911\n",
      "Epoch 50/150\n",
      "640737/640737 [==============================] - 5s 8us/step - loss: 0.2119 - categorical_accuracy: 0.6939 - val_loss: 0.2129 - val_categorical_accuracy: 0.6913\n",
      "Epoch 51/150\n",
      "640737/640737 [==============================] - 5s 8us/step - loss: 0.2118 - categorical_accuracy: 0.6939 - val_loss: 0.2129 - val_categorical_accuracy: 0.6910\n",
      "Epoch 52/150\n",
      "640737/640737 [==============================] - 4s 6us/step - loss: 0.2118 - categorical_accuracy: 0.6938 - val_loss: 0.2129 - val_categorical_accuracy: 0.6909\n",
      "Epoch 53/150\n",
      "640737/640737 [==============================] - 4s 7us/step - loss: 0.2117 - categorical_accuracy: 0.6939 - val_loss: 0.2128 - val_categorical_accuracy: 0.6910\n",
      "Epoch 54/150\n",
      "640737/640737 [==============================] - 7s 10us/step - loss: 0.2116 - categorical_accuracy: 0.6938 - val_loss: 0.2127 - val_categorical_accuracy: 0.6914\n",
      "Epoch 55/150\n",
      "640737/640737 [==============================] - 7s 11us/step - loss: 0.2115 - categorical_accuracy: 0.6937 - val_loss: 0.2126 - val_categorical_accuracy: 0.6911\n",
      "Epoch 56/150\n",
      "640737/640737 [==============================] - 5s 8us/step - loss: 0.2115 - categorical_accuracy: 0.6936 - val_loss: 0.2126 - val_categorical_accuracy: 0.6913\n",
      "Epoch 57/150\n",
      "640737/640737 [==============================] - 5s 8us/step - loss: 0.2114 - categorical_accuracy: 0.6937 - val_loss: 0.2125 - val_categorical_accuracy: 0.6911\n",
      "Epoch 58/150\n",
      "640737/640737 [==============================] - 6s 9us/step - loss: 0.2113 - categorical_accuracy: 0.6936 - val_loss: 0.2124 - val_categorical_accuracy: 0.6911\n",
      "Epoch 59/150\n",
      "640737/640737 [==============================] - 5s 8us/step - loss: 0.2111 - categorical_accuracy: 0.6937 - val_loss: 0.2123 - val_categorical_accuracy: 0.6910\n",
      "Epoch 60/150\n",
      "640737/640737 [==============================] - 5s 8us/step - loss: 0.2109 - categorical_accuracy: 0.6939 - val_loss: 0.2119 - val_categorical_accuracy: 0.6919\n",
      "Epoch 61/150\n",
      "640737/640737 [==============================] - 5s 8us/step - loss: 0.2106 - categorical_accuracy: 0.6940 - val_loss: 0.2115 - val_categorical_accuracy: 0.6927\n",
      "Epoch 62/150\n",
      "640737/640737 [==============================] - 5s 7us/step - loss: 0.2101 - categorical_accuracy: 0.6946 - val_loss: 0.2110 - val_categorical_accuracy: 0.6929\n",
      "Epoch 63/150\n",
      "640737/640737 [==============================] - 4s 7us/step - loss: 0.2094 - categorical_accuracy: 0.6952 - val_loss: 0.2102 - val_categorical_accuracy: 0.6936\n",
      "Epoch 64/150\n",
      "640737/640737 [==============================] - 3s 5us/step - loss: 0.2087 - categorical_accuracy: 0.6959 - val_loss: 0.2094 - val_categorical_accuracy: 0.6941\n",
      "Epoch 65/150\n",
      "640737/640737 [==============================] - 4s 6us/step - loss: 0.2079 - categorical_accuracy: 0.6966 - val_loss: 0.2085 - val_categorical_accuracy: 0.6955\n",
      "Epoch 66/150\n",
      "640737/640737 [==============================] - 4s 6us/step - loss: 0.2072 - categorical_accuracy: 0.6974 - val_loss: 0.2079 - val_categorical_accuracy: 0.6957\n",
      "Epoch 67/150\n",
      "640737/640737 [==============================] - 5s 7us/step - loss: 0.2066 - categorical_accuracy: 0.6980 - val_loss: 0.2075 - val_categorical_accuracy: 0.6961\n",
      "Epoch 68/150\n",
      "640737/640737 [==============================] - 6s 9us/step - loss: 0.2062 - categorical_accuracy: 0.6987 - val_loss: 0.2069 - val_categorical_accuracy: 0.6974\n",
      "Epoch 69/150\n",
      "640737/640737 [==============================] - 6s 10us/step - loss: 0.2058 - categorical_accuracy: 0.6992 - val_loss: 0.2066 - val_categorical_accuracy: 0.6977\n",
      "Epoch 70/150\n",
      "640737/640737 [==============================] - 6s 10us/step - loss: 0.2055 - categorical_accuracy: 0.6996 - val_loss: 0.2063 - val_categorical_accuracy: 0.6980\n",
      "Epoch 71/150\n",
      "640737/640737 [==============================] - 5s 7us/step - loss: 0.2052 - categorical_accuracy: 0.7001 - val_loss: 0.2061 - val_categorical_accuracy: 0.6987\n",
      "Epoch 72/150\n",
      "640737/640737 [==============================] - 5s 7us/step - loss: 0.2049 - categorical_accuracy: 0.7005 - val_loss: 0.2058 - val_categorical_accuracy: 0.6986\n",
      "Epoch 73/150\n",
      "640737/640737 [==============================] - 5s 8us/step - loss: 0.2047 - categorical_accuracy: 0.7009 - val_loss: 0.2056 - val_categorical_accuracy: 0.6988\n",
      "Epoch 74/150\n",
      "640737/640737 [==============================] - 5s 7us/step - loss: 0.2044 - categorical_accuracy: 0.7014 - val_loss: 0.2054 - val_categorical_accuracy: 0.7000\n",
      "Epoch 75/150\n",
      "640737/640737 [==============================] - 5s 8us/step - loss: 0.2042 - categorical_accuracy: 0.7017 - val_loss: 0.2049 - val_categorical_accuracy: 0.6996\n",
      "Epoch 76/150\n",
      "640737/640737 [==============================] - 4s 7us/step - loss: 0.2038 - categorical_accuracy: 0.7020 - val_loss: 0.2046 - val_categorical_accuracy: 0.7000\n",
      "Epoch 77/150\n",
      "640737/640737 [==============================] - 4s 7us/step - loss: 0.2034 - categorical_accuracy: 0.7023 - val_loss: 0.2042 - val_categorical_accuracy: 0.7010\n",
      "Epoch 78/150\n",
      "640737/640737 [==============================] - 4s 6us/step - loss: 0.2031 - categorical_accuracy: 0.7028 - val_loss: 0.2038 - val_categorical_accuracy: 0.7007\n",
      "Epoch 79/150\n",
      "640737/640737 [==============================] - 4s 7us/step - loss: 0.2026 - categorical_accuracy: 0.7031 - val_loss: 0.2035 - val_categorical_accuracy: 0.7007\n",
      "Epoch 80/150\n",
      "640737/640737 [==============================] - 4s 6us/step - loss: 0.2020 - categorical_accuracy: 0.7036 - val_loss: 0.2029 - val_categorical_accuracy: 0.7010\n",
      "Epoch 81/150\n",
      "640737/640737 [==============================] - 3s 5us/step - loss: 0.2014 - categorical_accuracy: 0.7040 - val_loss: 0.2022 - val_categorical_accuracy: 0.7015\n",
      "Epoch 82/150\n",
      "640737/640737 [==============================] - 3s 5us/step - loss: 0.2007 - categorical_accuracy: 0.7046 - val_loss: 0.2013 - val_categorical_accuracy: 0.7019\n",
      "Epoch 83/150\n",
      "640737/640737 [==============================] - 4s 6us/step - loss: 0.1999 - categorical_accuracy: 0.7051 - val_loss: 0.2003 - val_categorical_accuracy: 0.7032\n",
      "Epoch 84/150\n",
      "640737/640737 [==============================] - 4s 6us/step - loss: 0.1990 - categorical_accuracy: 0.7057 - val_loss: 0.1996 - val_categorical_accuracy: 0.7038\n",
      "Epoch 85/150\n",
      "640737/640737 [==============================] - 8s 12us/step - loss: 0.1981 - categorical_accuracy: 0.7062 - val_loss: 0.1987 - val_categorical_accuracy: 0.7034\n",
      "Epoch 86/150\n",
      "640737/640737 [==============================] - 8s 12us/step - loss: 0.1971 - categorical_accuracy: 0.7070 - val_loss: 0.1975 - val_categorical_accuracy: 0.7043\n",
      "Epoch 87/150\n",
      "640737/640737 [==============================] - 6s 10us/step - loss: 0.1960 - categorical_accuracy: 0.7078 - val_loss: 0.1963 - val_categorical_accuracy: 0.7050\n",
      "Epoch 88/150\n",
      "640737/640737 [==============================] - 7s 11us/step - loss: 0.1948 - categorical_accuracy: 0.7084 - val_loss: 0.1952 - val_categorical_accuracy: 0.7057\n",
      "Epoch 89/150\n",
      "640737/640737 [==============================] - 7s 10us/step - loss: 0.1937 - categorical_accuracy: 0.7093 - val_loss: 0.1939 - val_categorical_accuracy: 0.7076\n",
      "Epoch 90/150\n",
      "640737/640737 [==============================] - 6s 10us/step - loss: 0.1925 - categorical_accuracy: 0.7102 - val_loss: 0.1928 - val_categorical_accuracy: 0.7089\n",
      "Epoch 91/150\n",
      "640737/640737 [==============================] - 7s 11us/step - loss: 0.1913 - categorical_accuracy: 0.7110 - val_loss: 0.1915 - val_categorical_accuracy: 0.7087\n",
      "Epoch 92/150\n",
      "640737/640737 [==============================] - 4s 7us/step - loss: 0.1902 - categorical_accuracy: 0.7119 - val_loss: 0.1903 - val_categorical_accuracy: 0.7098\n",
      "Epoch 93/150\n",
      "640737/640737 [==============================] - 4s 6us/step - loss: 0.1890 - categorical_accuracy: 0.7127 - val_loss: 0.1892 - val_categorical_accuracy: 0.7098\n",
      "Epoch 94/150\n",
      "640737/640737 [==============================] - 5s 7us/step - loss: 0.1879 - categorical_accuracy: 0.7135 - val_loss: 0.1881 - val_categorical_accuracy: 0.7113\n",
      "Epoch 95/150\n"
     ]
    },
    {
     "name": "stdout",
     "output_type": "stream",
     "text": [
      "640737/640737 [==============================] - 6s 9us/step - loss: 0.1868 - categorical_accuracy: 0.7143 - val_loss: 0.1869 - val_categorical_accuracy: 0.7137\n",
      "Epoch 96/150\n",
      "640737/640737 [==============================] - 4s 7us/step - loss: 0.1857 - categorical_accuracy: 0.7153 - val_loss: 0.1864 - val_categorical_accuracy: 0.7103\n",
      "Epoch 97/150\n",
      "640737/640737 [==============================] - 4s 7us/step - loss: 0.1846 - categorical_accuracy: 0.7161 - val_loss: 0.1852 - val_categorical_accuracy: 0.7124\n",
      "Epoch 98/150\n",
      "640737/640737 [==============================] - 4s 6us/step - loss: 0.1836 - categorical_accuracy: 0.7169 - val_loss: 0.1838 - val_categorical_accuracy: 0.7163\n",
      "Epoch 99/150\n",
      "640737/640737 [==============================] - 4s 6us/step - loss: 0.1826 - categorical_accuracy: 0.7178 - val_loss: 0.1828 - val_categorical_accuracy: 0.7166\n",
      "Epoch 100/150\n",
      "640737/640737 [==============================] - 4s 7us/step - loss: 0.1817 - categorical_accuracy: 0.7187 - val_loss: 0.1819 - val_categorical_accuracy: 0.7178\n",
      "Epoch 101/150\n",
      "640737/640737 [==============================] - 5s 7us/step - loss: 0.1808 - categorical_accuracy: 0.7196 - val_loss: 0.1810 - val_categorical_accuracy: 0.7179\n",
      "Epoch 102/150\n",
      "640737/640737 [==============================] - 4s 7us/step - loss: 0.1799 - categorical_accuracy: 0.7204 - val_loss: 0.1802 - val_categorical_accuracy: 0.7190\n",
      "Epoch 103/150\n",
      "640737/640737 [==============================] - 4s 6us/step - loss: 0.1791 - categorical_accuracy: 0.7214 - val_loss: 0.1793 - val_categorical_accuracy: 0.7206\n",
      "Epoch 104/150\n",
      "640737/640737 [==============================] - 3s 5us/step - loss: 0.1783 - categorical_accuracy: 0.7222 - val_loss: 0.1785 - val_categorical_accuracy: 0.7201\n",
      "Epoch 105/150\n",
      "640737/640737 [==============================] - 5s 7us/step - loss: 0.1775 - categorical_accuracy: 0.7229 - val_loss: 0.1779 - val_categorical_accuracy: 0.7204\n",
      "Epoch 106/150\n",
      "640737/640737 [==============================] - 5s 7us/step - loss: 0.1767 - categorical_accuracy: 0.7239 - val_loss: 0.1776 - val_categorical_accuracy: 0.7197\n",
      "Epoch 107/150\n",
      "640737/640737 [==============================] - 5s 8us/step - loss: 0.1760 - categorical_accuracy: 0.7247 - val_loss: 0.1763 - val_categorical_accuracy: 0.7235\n",
      "Epoch 108/150\n",
      "640737/640737 [==============================] - 6s 9us/step - loss: 0.1753 - categorical_accuracy: 0.7258 - val_loss: 0.1756 - val_categorical_accuracy: 0.7253\n",
      "Epoch 109/150\n",
      "640737/640737 [==============================] - 6s 10us/step - loss: 0.1747 - categorical_accuracy: 0.7267 - val_loss: 0.1749 - val_categorical_accuracy: 0.7250\n",
      "Epoch 110/150\n",
      "640737/640737 [==============================] - 4s 7us/step - loss: 0.1740 - categorical_accuracy: 0.7275 - val_loss: 0.1744 - val_categorical_accuracy: 0.7248\n",
      "Epoch 111/150\n",
      "640737/640737 [==============================] - 4s 6us/step - loss: 0.1734 - categorical_accuracy: 0.7284 - val_loss: 0.1738 - val_categorical_accuracy: 0.7272\n",
      "Epoch 112/150\n",
      "640737/640737 [==============================] - 5s 8us/step - loss: 0.1729 - categorical_accuracy: 0.7292 - val_loss: 0.1742 - val_categorical_accuracy: 0.7325\n",
      "Epoch 113/150\n",
      "640737/640737 [==============================] - 5s 7us/step - loss: 0.1723 - categorical_accuracy: 0.7303 - val_loss: 0.1727 - val_categorical_accuracy: 0.7302\n",
      "Epoch 114/150\n",
      "640737/640737 [==============================] - 4s 6us/step - loss: 0.1718 - categorical_accuracy: 0.7311 - val_loss: 0.1722 - val_categorical_accuracy: 0.7302\n",
      "Epoch 115/150\n",
      "640737/640737 [==============================] - 4s 7us/step - loss: 0.1713 - categorical_accuracy: 0.7320 - val_loss: 0.1716 - val_categorical_accuracy: 0.7303\n",
      "Epoch 116/150\n",
      "640737/640737 [==============================] - 5s 7us/step - loss: 0.1708 - categorical_accuracy: 0.7328 - val_loss: 0.1713 - val_categorical_accuracy: 0.7300\n",
      "Epoch 117/150\n",
      "640737/640737 [==============================] - 5s 7us/step - loss: 0.1704 - categorical_accuracy: 0.7335 - val_loss: 0.1708 - val_categorical_accuracy: 0.7312\n",
      "Epoch 118/150\n",
      "640737/640737 [==============================] - 5s 8us/step - loss: 0.1699 - categorical_accuracy: 0.7344 - val_loss: 0.1707 - val_categorical_accuracy: 0.7298\n",
      "Epoch 119/150\n",
      "640737/640737 [==============================] - 5s 7us/step - loss: 0.1695 - categorical_accuracy: 0.7349 - val_loss: 0.1702 - val_categorical_accuracy: 0.7360\n",
      "Epoch 120/150\n",
      "640737/640737 [==============================] - 5s 7us/step - loss: 0.1692 - categorical_accuracy: 0.7357 - val_loss: 0.1696 - val_categorical_accuracy: 0.7333\n",
      "Epoch 121/150\n",
      "640737/640737 [==============================] - 5s 8us/step - loss: 0.1688 - categorical_accuracy: 0.7364 - val_loss: 0.1693 - val_categorical_accuracy: 0.7342\n",
      "Epoch 122/150\n",
      "640737/640737 [==============================] - 4s 7us/step - loss: 0.1684 - categorical_accuracy: 0.7371 - val_loss: 0.1690 - val_categorical_accuracy: 0.7372\n",
      "Epoch 123/150\n",
      "640737/640737 [==============================] - 5s 8us/step - loss: 0.1681 - categorical_accuracy: 0.7376 - val_loss: 0.1686 - val_categorical_accuracy: 0.7375\n",
      "Epoch 124/150\n",
      "640737/640737 [==============================] - 5s 8us/step - loss: 0.1678 - categorical_accuracy: 0.7381 - val_loss: 0.1683 - val_categorical_accuracy: 0.7377\n",
      "Epoch 125/150\n",
      "640737/640737 [==============================] - 7s 10us/step - loss: 0.1675 - categorical_accuracy: 0.7387 - val_loss: 0.1681 - val_categorical_accuracy: 0.7359\n",
      "Epoch 126/150\n",
      "640737/640737 [==============================] - 6s 9us/step - loss: 0.1672 - categorical_accuracy: 0.7392 - val_loss: 0.1677 - val_categorical_accuracy: 0.7381\n",
      "Epoch 127/150\n",
      "640737/640737 [==============================] - 5s 7us/step - loss: 0.1670 - categorical_accuracy: 0.7399 - val_loss: 0.1675 - val_categorical_accuracy: 0.7397\n",
      "Epoch 128/150\n",
      "640737/640737 [==============================] - 5s 7us/step - loss: 0.1667 - categorical_accuracy: 0.7401 - val_loss: 0.1672 - val_categorical_accuracy: 0.7390\n",
      "Epoch 129/150\n",
      "640737/640737 [==============================] - 4s 6us/step - loss: 0.1665 - categorical_accuracy: 0.7406 - val_loss: 0.1670 - val_categorical_accuracy: 0.7397\n",
      "Epoch 130/150\n",
      "640737/640737 [==============================] - 3s 5us/step - loss: 0.1663 - categorical_accuracy: 0.7412 - val_loss: 0.1670 - val_categorical_accuracy: 0.7381\n",
      "Epoch 131/150\n",
      "640737/640737 [==============================] - 5s 8us/step - loss: 0.1661 - categorical_accuracy: 0.7414 - val_loss: 0.1666 - val_categorical_accuracy: 0.7406\n",
      "Epoch 132/150\n",
      "640737/640737 [==============================] - 5s 8us/step - loss: 0.1659 - categorical_accuracy: 0.7418 - val_loss: 0.1664 - val_categorical_accuracy: 0.7410\n",
      "Epoch 133/150\n",
      "640737/640737 [==============================] - 4s 6us/step - loss: 0.1657 - categorical_accuracy: 0.7421 - val_loss: 0.1663 - val_categorical_accuracy: 0.7422\n",
      "Epoch 134/150\n",
      "640737/640737 [==============================] - 5s 7us/step - loss: 0.1655 - categorical_accuracy: 0.7424 - val_loss: 0.1661 - val_categorical_accuracy: 0.7423\n",
      "Epoch 135/150\n",
      "640737/640737 [==============================] - 4s 6us/step - loss: 0.1653 - categorical_accuracy: 0.7428 - val_loss: 0.1659 - val_categorical_accuracy: 0.7414\n",
      "Epoch 136/150\n",
      "640737/640737 [==============================] - 4s 7us/step - loss: 0.1652 - categorical_accuracy: 0.7430 - val_loss: 0.1658 - val_categorical_accuracy: 0.7413\n",
      "Epoch 137/150\n",
      "640737/640737 [==============================] - 3s 5us/step - loss: 0.1650 - categorical_accuracy: 0.7433 - val_loss: 0.1659 - val_categorical_accuracy: 0.7426\n",
      "Epoch 138/150\n",
      "640737/640737 [==============================] - 3s 5us/step - loss: 0.1649 - categorical_accuracy: 0.7432 - val_loss: 0.1655 - val_categorical_accuracy: 0.7424\n",
      "Epoch 139/150\n",
      "640737/640737 [==============================] - 4s 6us/step - loss: 0.1648 - categorical_accuracy: 0.7434 - val_loss: 0.1654 - val_categorical_accuracy: 0.7418\n",
      "Epoch 140/150\n",
      "640737/640737 [==============================] - 5s 8us/step - loss: 0.1646 - categorical_accuracy: 0.7435 - val_loss: 0.1660 - val_categorical_accuracy: 0.7392\n",
      "Epoch 141/150\n",
      "640737/640737 [==============================] - 5s 8us/step - loss: 0.1646 - categorical_accuracy: 0.7438 - val_loss: 0.1652 - val_categorical_accuracy: 0.7427\n"
     ]
    },
    {
     "name": "stdout",
     "output_type": "stream",
     "text": [
      "Epoch 142/150\n",
      "640737/640737 [==============================] - 4s 7us/step - loss: 0.1644 - categorical_accuracy: 0.7440 - val_loss: 0.1651 - val_categorical_accuracy: 0.7427\n",
      "Epoch 143/150\n",
      "640737/640737 [==============================] - 5s 7us/step - loss: 0.1643 - categorical_accuracy: 0.7442 - val_loss: 0.1649 - val_categorical_accuracy: 0.7425\n",
      "Epoch 144/150\n",
      "640737/640737 [==============================] - 5s 7us/step - loss: 0.1642 - categorical_accuracy: 0.7441 - val_loss: 0.1652 - val_categorical_accuracy: 0.7412\n",
      "Epoch 145/150\n",
      "640737/640737 [==============================] - 4s 7us/step - loss: 0.1641 - categorical_accuracy: 0.7441 - val_loss: 0.1648 - val_categorical_accuracy: 0.7426\n",
      "Epoch 146/150\n",
      "640737/640737 [==============================] - 4s 6us/step - loss: 0.1640 - categorical_accuracy: 0.7443 - val_loss: 0.1646 - val_categorical_accuracy: 0.7434\n",
      "Epoch 147/150\n",
      "640737/640737 [==============================] - 5s 8us/step - loss: 0.1640 - categorical_accuracy: 0.7443 - val_loss: 0.1645 - val_categorical_accuracy: 0.7433\n",
      "Epoch 148/150\n",
      "640737/640737 [==============================] - 5s 8us/step - loss: 0.1639 - categorical_accuracy: 0.7442 - val_loss: 0.1645 - val_categorical_accuracy: 0.7432\n",
      "Epoch 149/150\n",
      "640737/640737 [==============================] - 5s 8us/step - loss: 0.1638 - categorical_accuracy: 0.7445 - val_loss: 0.1644 - val_categorical_accuracy: 0.7435\n",
      "Epoch 150/150\n",
      "640737/640737 [==============================] - 5s 8us/step - loss: 0.1637 - categorical_accuracy: 0.7445 - val_loss: 0.1646 - val_categorical_accuracy: 0.7421\n"
     ]
    }
   ],
   "source": [
    "history = clf.fit(trainX,onehot_encoded_train,\n",
    "                 batch_size = 200, epochs = 150,\n",
    "                 verbose = 1,\n",
    "                 validation_split = 0.1)"
   ]
  },
  {
   "cell_type": "code",
   "execution_count": 21,
   "metadata": {},
   "outputs": [
    {
     "data": {
      "text/plain": [
       "(array([1, 1, 0, 0, 0, 0, 1, 1, 1, 1, 1, 0, 0, 1, 0, 0, 0, 0, 1, 0, 0, 0,\n",
       "        1, 0, 0, 1, 0, 0, 0, 1, 1, 0, 0, 0, 0, 1, 0, 0, 0, 0, 1, 0, 0, 1,\n",
       "        1, 0, 0, 0, 1, 0, 0, 0, 0, 0, 1, 0, 0, 1, 0, 0, 0, 1, 0, 0, 0, 0,\n",
       "        1, 0, 1, 0, 0, 0, 0, 1, 0, 1, 0, 1, 1, 0, 0, 0, 0, 0, 0, 0, 1, 0,\n",
       "        1, 0, 1, 0, 1, 0, 1, 0, 0, 0, 0], dtype=int64),\n",
       " array([0, 0, 0, 0, 0, 1, 0, 0, 1, 1, 1, 0, 0, 1, 0, 0, 1, 0, 0, 0, 0, 0,\n",
       "        0, 0, 0, 1, 0, 0, 0, 1, 1, 0, 0, 0, 0, 0, 0, 0, 0, 0, 0, 0, 0, 0,\n",
       "        0, 0, 0, 0, 1, 0, 0, 0, 0, 0, 1, 0, 0, 0, 0, 0, 0, 0, 0, 0, 0, 0,\n",
       "        1, 0, 0, 0, 0, 0, 0, 1, 0, 0, 0, 1, 0, 0, 0, 0, 0, 0, 0, 0, 1, 0,\n",
       "        1, 0, 0, 0, 0, 0, 0, 0, 1, 0, 0], dtype=int64))"
      ]
     },
     "execution_count": 21,
     "metadata": {},
     "output_type": "execute_result"
    }
   ],
   "source": [
    "testY[1:100], clf.predict_classes(testX[1:100,:])"
   ]
  },
  {
   "cell_type": "code",
   "execution_count": 22,
   "metadata": {},
   "outputs": [
    {
     "data": {
      "text/plain": [
       "[0.16398050307153883, 0.7431215340754137]"
      ]
     },
     "execution_count": 22,
     "metadata": {},
     "output_type": "execute_result"
    }
   ],
   "source": [
    "clf.evaluate(testX,onehot_encoded_test,verbose=0)"
   ]
  },
  {
   "cell_type": "code",
   "execution_count": 25,
   "metadata": {},
   "outputs": [],
   "source": [
    "clf_json = clf.to_json()\n",
    "with open(\"NN_OwnVoice_108-10-2_inputs_bilBF.json\", \"w\") as json_file:\n",
    "    json_file.write(clf_json)\n",
    "    \n",
    "clf.save_weights(\"NN_OwnVoice_108-10-2_inputs_bilBF_weights.h5\")"
   ]
  },
  {
   "cell_type": "code",
   "execution_count": 26,
   "metadata": {},
   "outputs": [],
   "source": [
    "np.save('TestX_NN_OwnVoice_bilateral',testX), np.save('TestY_NN_OwnVoice_bilateral',testY),\n",
    "np.save('OneHot_testY_bilateral',onehot_encoded_test)"
   ]
  },
  {
   "cell_type": "code",
   "execution_count": null,
   "metadata": {},
   "outputs": [],
   "source": []
  }
 ],
 "metadata": {
  "kernelspec": {
   "display_name": "Python 3",
   "language": "python",
   "name": "python3"
  },
  "language_info": {
   "codemirror_mode": {
    "name": "ipython",
    "version": 3
   },
   "file_extension": ".py",
   "mimetype": "text/x-python",
   "name": "python",
   "nbconvert_exporter": "python",
   "pygments_lexer": "ipython3",
   "version": "3.6.5"
  }
 },
 "nbformat": 4,
 "nbformat_minor": 2
}
