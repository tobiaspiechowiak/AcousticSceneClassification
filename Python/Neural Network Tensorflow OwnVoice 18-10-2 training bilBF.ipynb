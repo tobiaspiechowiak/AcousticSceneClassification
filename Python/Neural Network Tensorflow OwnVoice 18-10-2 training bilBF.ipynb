{
 "cells": [
  {
   "cell_type": "code",
   "execution_count": 1,
   "metadata": {},
   "outputs": [],
   "source": [
    "#load packages\n",
    "import numpy as np\n",
    "import tensorflow as tf\n",
    "from tensorflow import keras \n",
    "import pandas as pd\n",
    "import soundfile as sf\n"
   ]
  },
  {
   "cell_type": "code",
   "execution_count": 2,
   "metadata": {},
   "outputs": [],
   "source": [
    "#import data \n",
    "path = 'x:/Steering/Recordings/Processed/'\n",
    "data, fs = sf.read(path + 'ERB=2bil_BF.wav')\n",
    "classes = pd.read_csv(path + 'Classes_2bil_BF.csv')"
   ]
  },
  {
   "cell_type": "code",
   "execution_count": 3,
   "metadata": {},
   "outputs": [],
   "source": [
    "X = data[:len(data)-1,:data.shape[1]] \n",
    "Y = classes.values[:,0]"
   ]
  },
  {
   "cell_type": "code",
   "execution_count": 4,
   "metadata": {},
   "outputs": [
    {
     "data": {
      "text/plain": [
       "(889913, 889913, (889913, 18))"
      ]
     },
     "execution_count": 4,
     "metadata": {},
     "output_type": "execute_result"
    }
   ],
   "source": [
    "len(Y),len(X), X.shape"
   ]
  },
  {
   "cell_type": "code",
   "execution_count": 5,
   "metadata": {},
   "outputs": [],
   "source": [
    "#split into training and test set\n",
    "from sklearn.model_selection import train_test_split\n",
    "trainX, testX, trainY, testY = train_test_split(X,Y,test_size=0.2,random_state=0)"
   ]
  },
  {
   "cell_type": "code",
   "execution_count": 6,
   "metadata": {},
   "outputs": [],
   "source": [
    "#do one-hot encoding\n",
    "from sklearn.preprocessing import OneHotEncoder \n",
    "from sklearn.preprocessing import LabelEncoder\n",
    "\n",
    "enc = OneHotEncoder(sparse=False)"
   ]
  },
  {
   "cell_type": "code",
   "execution_count": 7,
   "metadata": {},
   "outputs": [],
   "source": [
    "integer_encoded_train = trainY.reshape(len(trainY), 1)\n",
    "onehot_encoded_train = enc.fit_transform(integer_encoded_train)\n",
    "\n",
    "integer_encoded_test = testY.reshape(len(testY), 1)\n",
    "onehot_encoded_test = enc.fit_transform(integer_encoded_test)"
   ]
  },
  {
   "cell_type": "code",
   "execution_count": 8,
   "metadata": {},
   "outputs": [
    {
     "data": {
      "text/plain": [
       "array([[1., 0.],\n",
       "       [1., 0.],\n",
       "       [1., 0.],\n",
       "       ...,\n",
       "       [0., 1.],\n",
       "       [1., 0.],\n",
       "       [0., 1.]])"
      ]
     },
     "execution_count": 8,
     "metadata": {},
     "output_type": "execute_result"
    }
   ],
   "source": [
    "onehot_encoded_train"
   ]
  },
  {
   "cell_type": "code",
   "execution_count": 9,
   "metadata": {},
   "outputs": [],
   "source": [
    "#DC removal \n",
    "trainX -= (np.mean(trainX, axis=0) + 1e-8)\n",
    "testX -= (np.mean(testX, axis=0) + 1e-8)"
   ]
  },
  {
   "cell_type": "code",
   "execution_count": 10,
   "metadata": {},
   "outputs": [],
   "source": [
    "clf = keras.Sequential()"
   ]
  },
  {
   "cell_type": "code",
   "execution_count": 11,
   "metadata": {},
   "outputs": [],
   "source": [
    "clf.add(keras.layers.Dense(\n",
    "  units = 10,\n",
    "  input_dim = trainX.shape[1],   \n",
    "  activation = 'tanh'\n",
    "))\n",
    "\n",
    "clf.add(keras.layers.Dense(\n",
    "    units = onehot_encoded_train.shape[1],\n",
    "    input_dim = 10,\n",
    "    activation = 'softmax'\n",
    "))\n"
   ]
  },
  {
   "cell_type": "code",
   "execution_count": 12,
   "metadata": {},
   "outputs": [
    {
     "data": {
      "text/plain": [
       "(2, 18)"
      ]
     },
     "execution_count": 12,
     "metadata": {},
     "output_type": "execute_result"
    }
   ],
   "source": [
    "onehot_encoded_train.shape[1],trainX.shape[1]"
   ]
  },
  {
   "cell_type": "code",
   "execution_count": 13,
   "metadata": {},
   "outputs": [],
   "source": [
    "clf.compile(loss='mean_squared_error',\n",
    "    optimizer='Adam',\n",
    "           metrics=['categorical_accuracy'])"
   ]
  },
  {
   "cell_type": "code",
   "execution_count": 15,
   "metadata": {},
   "outputs": [
    {
     "name": "stdout",
     "output_type": "stream",
     "text": [
      "Train on 640737 samples, validate on 71193 samples\n",
      "Epoch 1/10\n",
      "640737/640737 [==============================] - 3s 4us/step - loss: 0.1631 - categorical_accuracy: 0.7444 - val_loss: 0.1636 - val_categorical_accuracy: 0.7437\n",
      "Epoch 2/10\n",
      "640737/640737 [==============================] - 3s 4us/step - loss: 0.1630 - categorical_accuracy: 0.7446 - val_loss: 0.1635 - val_categorical_accuracy: 0.7433\n",
      "Epoch 3/10\n",
      "640737/640737 [==============================] - 3s 4us/step - loss: 0.1629 - categorical_accuracy: 0.7449 - val_loss: 0.1644 - val_categorical_accuracy: 0.7404\n",
      "Epoch 4/10\n",
      "640737/640737 [==============================] - 3s 4us/step - loss: 0.1628 - categorical_accuracy: 0.7449 - val_loss: 0.1633 - val_categorical_accuracy: 0.7435\n",
      "Epoch 5/10\n",
      "640737/640737 [==============================] - 3s 5us/step - loss: 0.1626 - categorical_accuracy: 0.7448 - val_loss: 0.1631 - val_categorical_accuracy: 0.7441\n",
      "Epoch 6/10\n",
      "640737/640737 [==============================] - 3s 5us/step - loss: 0.1626 - categorical_accuracy: 0.7450 - val_loss: 0.1632 - val_categorical_accuracy: 0.7431\n",
      "Epoch 7/10\n",
      "640737/640737 [==============================] - 3s 4us/step - loss: 0.1625 - categorical_accuracy: 0.7448 - val_loss: 0.1630 - val_categorical_accuracy: 0.7436\n",
      "Epoch 8/10\n",
      "640737/640737 [==============================] - 3s 5us/step - loss: 0.1624 - categorical_accuracy: 0.7453 - val_loss: 0.1630 - val_categorical_accuracy: 0.7443\n",
      "Epoch 9/10\n",
      "640737/640737 [==============================] - 3s 4us/step - loss: 0.1623 - categorical_accuracy: 0.7453 - val_loss: 0.1640 - val_categorical_accuracy: 0.7419\n",
      "Epoch 10/10\n",
      "640737/640737 [==============================] - 3s 4us/step - loss: 0.1622 - categorical_accuracy: 0.7455 - val_loss: 0.1629 - val_categorical_accuracy: 0.7443\n"
     ]
    }
   ],
   "source": [
    "history = clf.fit(trainX,onehot_encoded_train,\n",
    "                 batch_size = 200, epochs = 10,\n",
    "                 verbose = 1,\n",
    "                 validation_split = 0.1)"
   ]
  },
  {
   "cell_type": "code",
   "execution_count": 16,
   "metadata": {},
   "outputs": [
    {
     "data": {
      "text/plain": [
       "(array([1, 1, 0, 0, 0, 0, 1, 1, 1, 1, 1, 0, 0, 1, 0, 0, 0, 0, 1, 0, 0, 0,\n",
       "        1, 0, 0, 1, 0, 0, 0, 1, 1, 0, 0, 0, 0, 1, 0, 0, 0, 0, 1, 0, 0, 1,\n",
       "        1, 0, 0, 0, 1, 0, 0, 0, 0, 0, 1, 0, 0, 1, 0, 0, 0, 1, 0, 0, 0, 0,\n",
       "        1, 0, 1, 0, 0, 0, 0, 1, 0, 1, 0, 1, 1, 0, 0, 0, 0, 0, 0, 0, 1, 0,\n",
       "        1, 0, 1, 0, 1, 0, 1, 0, 0, 0, 0], dtype=int64),\n",
       " array([0, 0, 0, 0, 0, 1, 0, 0, 1, 1, 1, 0, 0, 1, 0, 0, 1, 0, 0, 0, 0, 0,\n",
       "        0, 0, 0, 1, 0, 0, 0, 1, 1, 0, 0, 0, 0, 0, 0, 0, 0, 0, 0, 0, 0, 0,\n",
       "        0, 0, 0, 0, 1, 0, 0, 0, 0, 0, 1, 0, 0, 0, 0, 0, 0, 1, 0, 0, 0, 0,\n",
       "        1, 0, 0, 0, 0, 0, 0, 1, 0, 0, 0, 1, 0, 0, 0, 0, 0, 0, 0, 0, 1, 0,\n",
       "        0, 0, 0, 0, 0, 0, 0, 0, 1, 0, 0], dtype=int64))"
      ]
     },
     "execution_count": 16,
     "metadata": {},
     "output_type": "execute_result"
    }
   ],
   "source": [
    "testY[1:100], clf.predict_classes(testX[1:100,:])"
   ]
  },
  {
   "cell_type": "code",
   "execution_count": 17,
   "metadata": {},
   "outputs": [
    {
     "data": {
      "text/plain": [
       "[0.1623313312188046, 0.7454475989243037]"
      ]
     },
     "execution_count": 17,
     "metadata": {},
     "output_type": "execute_result"
    }
   ],
   "source": [
    "clf.evaluate(testX,onehot_encoded_test,verbose=0)"
   ]
  },
  {
   "cell_type": "code",
   "execution_count": 18,
   "metadata": {},
   "outputs": [],
   "source": [
    "clf_json = clf.to_json()\n",
    "with open(\"NN_OwnVoice_18-10-2_inputs_bilBF.json\", \"w\") as json_file:\n",
    "    json_file.write(clf_json)\n",
    "    \n",
    "clf.save_weights(\"NN_OwnVoice_18-10-2_inputs_bilBF_weights.h5\")"
   ]
  },
  {
   "cell_type": "code",
   "execution_count": 19,
   "metadata": {},
   "outputs": [],
   "source": [
    "np.save('TestX_NN_OwnVoice_bilateral',testX), np.save('TestY_NN_OwnVoice_bilateral',testY),\n",
    "np.save('OneHot_testY_bilateral',onehot_encoded_test)"
   ]
  },
  {
   "cell_type": "code",
   "execution_count": null,
   "metadata": {},
   "outputs": [],
   "source": []
  }
 ],
 "metadata": {
  "kernelspec": {
   "display_name": "Python 3",
   "language": "python",
   "name": "python3"
  },
  "language_info": {
   "codemirror_mode": {
    "name": "ipython",
    "version": 3
   },
   "file_extension": ".py",
   "mimetype": "text/x-python",
   "name": "python",
   "nbconvert_exporter": "python",
   "pygments_lexer": "ipython3",
   "version": "3.6.5"
  }
 },
 "nbformat": 4,
 "nbformat_minor": 2
}
